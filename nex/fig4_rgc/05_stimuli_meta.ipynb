{
 "cells": [
  {
   "cell_type": "code",
   "execution_count": 1,
   "id": "9342462e-796b-4a86-946e-23d32c808922",
   "metadata": {},
   "outputs": [],
   "source": [
    "%load_ext autoreload\n",
    "%autoreload 2\n",
    "%matplotlib inline"
   ]
  },
  {
   "cell_type": "code",
   "execution_count": 2,
   "id": "8553e015-7005-4253-8103-288e929fe218",
   "metadata": {},
   "outputs": [],
   "source": [
    "from jax import config\n",
    "\n",
    "config.update(\"jax_enable_x64\", True)\n",
    "config.update(\"jax_platform_name\", \"cpu\")\n",
    "\n",
    "import os\n",
    "os.environ[\"XLA_PYTHON_CLIENT_MEM_FRACTION\"] = \".8\""
   ]
  },
  {
   "cell_type": "code",
   "execution_count": 3,
   "id": "10714d30-899a-4c38-950f-973d12e8d277",
   "metadata": {},
   "outputs": [],
   "source": [
    "import numpy as np\n",
    "import matplotlib.pyplot as plt\n",
    "import h5py\n",
    "import pandas as pd\n",
    "import matplotlib as mpl\n",
    "\n",
    "import jaxley as jx"
   ]
  },
  {
   "cell_type": "code",
   "execution_count": 17,
   "id": "d0a68cf5-5507-428a-a126-caa5666e3c34",
   "metadata": {},
   "outputs": [],
   "source": [
    "cell_id = \"20170610_1\"\n",
    "rec_id = 1  # Can pick any here."
   ]
  },
  {
   "cell_type": "code",
   "execution_count": 18,
   "id": "775d2c16-37fb-46c3-8963-6001eb7be72e",
   "metadata": {},
   "outputs": [],
   "source": [
    "cell = jx.read_swc(f\"morphologies/{cell_id}.swc\", nseg=4, max_branch_len=300.0, min_radius=5.0)"
   ]
  },
  {
   "cell_type": "code",
   "execution_count": 19,
   "id": "58cd89c2-2f37-4ed1-94ec-3694a456adc6",
   "metadata": {},
   "outputs": [],
   "source": [
    "bc_output_df = pd.read_pickle(f\"results/data/off_bc_output_{cell_id}.pkl\")"
   ]
  },
  {
   "cell_type": "code",
   "execution_count": 20,
   "id": "70fce154-090e-429c-9519-e0374828c785",
   "metadata": {},
   "outputs": [],
   "source": [
    "stim = bc_output_df[bc_output_df[\"cell_id\"] == cell_id]\n",
    "stim = stim[stim[\"rec_id\"] == rec_id]"
   ]
  },
  {
   "cell_type": "code",
   "execution_count": 21,
   "id": "427bc7a9-2449-4137-813c-d715581c785a",
   "metadata": {},
   "outputs": [],
   "source": [
    "def compute_jaxley_stim_locations(x, y):\n",
    "    \"\"\"For a given (x,y) location, return all branch and compartment inds within a specified distance.\"\"\"\n",
    "    min_dists = []\n",
    "    min_comps = []\n",
    "    branch_inds_in_pixel = []\n",
    "    comps_in_pixel = []\n",
    "    min_dist_of_branch_in_pixel = []\n",
    "\n",
    "    for i, xyzr in enumerate(cell.xyzr):\n",
    "        dists = np.sqrt((x - xyzr[:, 0])**2 + (y - xyzr[:, 1])**2)\n",
    "        is_in_reach = np.min(dists) < 20  # 20 um\n",
    "\n",
    "        if is_in_reach:\n",
    "            branch_inds_in_pixel.append(i)\n",
    "            min_dist_of_branch_in_pixel.append(np.min(dists))\n",
    "            \n",
    "            argmin_dist = np.argmin(dists)\n",
    "            if len(dists) > 1:\n",
    "                comp = argmin_dist / (len(dists) - 1)\n",
    "            else:\n",
    "                comp = 0.5\n",
    "            comps_in_pixel.append(comp)\n",
    "            \n",
    "    return branch_inds_in_pixel, comps_in_pixel, min_dist_of_branch_in_pixel"
   ]
  },
  {
   "cell_type": "code",
   "execution_count": 22,
   "id": "83f2b85b-5e52-4e3f-9d02-5c6928d57a7f",
   "metadata": {},
   "outputs": [],
   "source": [
    "bc_loc_x = stim[\"x_loc\"].to_numpy()\n",
    "bc_loc_y = stim[\"y_loc\"].to_numpy()\n",
    "bc_ids = stim[\"bc_id\"].to_numpy()"
   ]
  },
  {
   "cell_type": "code",
   "execution_count": 23,
   "id": "546569bb-0ed7-435c-b64e-403fea340ab1",
   "metadata": {},
   "outputs": [],
   "source": [
    "bcs_which_stimulate = 0\n",
    "\n",
    "branch_inds_for_every_bc = []\n",
    "comp_inds_for_every_bc = []\n",
    "mind_dists_of_branches_for_every_bc = []\n",
    "bc_ids_per_stim = []\n",
    "\n",
    "for x, y, id in zip(bc_loc_x, bc_loc_y, bc_ids):\n",
    "    branches, comps, min_dist_of_branch_in_pixel = compute_jaxley_stim_locations(x, y)\n",
    "    branch_inds_for_every_bc += branches\n",
    "    comp_inds_for_every_bc += comps\n",
    "    mind_dists_of_branches_for_every_bc += min_dist_of_branch_in_pixel\n",
    "    bc_ids_per_stim += [id] * len(branches)"
   ]
  },
  {
   "cell_type": "code",
   "execution_count": 24,
   "id": "a29d66fb-0bce-4abd-aa66-802de926e505",
   "metadata": {},
   "outputs": [
    {
     "data": {
      "text/plain": [
       "'20170610_1'"
      ]
     },
     "execution_count": 24,
     "metadata": {},
     "output_type": "execute_result"
    }
   ],
   "source": [
    "cell_id"
   ]
  },
  {
   "cell_type": "code",
   "execution_count": 25,
   "id": "4564bbf4-c83f-4f46-9787-65ac9d1a855f",
   "metadata": {},
   "outputs": [],
   "source": [
    "stim_df = pd.DataFrame().from_dict(\n",
    "    {\n",
    "        \"cell_id\": cell_id, \n",
    "        \"bc_id\": bc_ids_per_stim, \n",
    "        \"branch_ind\": branch_inds_for_every_bc, \n",
    "        \"comp\": comp_inds_for_every_bc, \n",
    "        \"dist_from_bc\": mind_dists_of_branches_for_every_bc\n",
    "    }\n",
    ")"
   ]
  },
  {
   "cell_type": "code",
   "execution_count": 26,
   "id": "0178c66c-c7a9-41da-9271-68b3bffb01b3",
   "metadata": {},
   "outputs": [
    {
     "data": {
      "text/html": [
       "<div>\n",
       "<style scoped>\n",
       "    .dataframe tbody tr th:only-of-type {\n",
       "        vertical-align: middle;\n",
       "    }\n",
       "\n",
       "    .dataframe tbody tr th {\n",
       "        vertical-align: top;\n",
       "    }\n",
       "\n",
       "    .dataframe thead th {\n",
       "        text-align: right;\n",
       "    }\n",
       "</style>\n",
       "<table border=\"1\" class=\"dataframe\">\n",
       "  <thead>\n",
       "    <tr style=\"text-align: right;\">\n",
       "      <th></th>\n",
       "      <th>cell_id</th>\n",
       "      <th>bc_id</th>\n",
       "      <th>branch_ind</th>\n",
       "      <th>comp</th>\n",
       "      <th>dist_from_bc</th>\n",
       "    </tr>\n",
       "  </thead>\n",
       "  <tbody>\n",
       "    <tr>\n",
       "      <th>0</th>\n",
       "      <td>20170610_1</td>\n",
       "      <td>25</td>\n",
       "      <td>73</td>\n",
       "      <td>1.000000</td>\n",
       "      <td>18.656333</td>\n",
       "    </tr>\n",
       "    <tr>\n",
       "      <th>1</th>\n",
       "      <td>20170610_1</td>\n",
       "      <td>36</td>\n",
       "      <td>67</td>\n",
       "      <td>1.000000</td>\n",
       "      <td>18.021363</td>\n",
       "    </tr>\n",
       "    <tr>\n",
       "      <th>2</th>\n",
       "      <td>20170610_1</td>\n",
       "      <td>36</td>\n",
       "      <td>68</td>\n",
       "      <td>1.000000</td>\n",
       "      <td>18.384294</td>\n",
       "    </tr>\n",
       "    <tr>\n",
       "      <th>3</th>\n",
       "      <td>20170610_1</td>\n",
       "      <td>36</td>\n",
       "      <td>69</td>\n",
       "      <td>0.700000</td>\n",
       "      <td>13.410218</td>\n",
       "    </tr>\n",
       "    <tr>\n",
       "      <th>4</th>\n",
       "      <td>20170610_1</td>\n",
       "      <td>36</td>\n",
       "      <td>70</td>\n",
       "      <td>0.854545</td>\n",
       "      <td>1.202681</td>\n",
       "    </tr>\n",
       "    <tr>\n",
       "      <th>...</th>\n",
       "      <td>...</td>\n",
       "      <td>...</td>\n",
       "      <td>...</td>\n",
       "      <td>...</td>\n",
       "      <td>...</td>\n",
       "    </tr>\n",
       "    <tr>\n",
       "      <th>231</th>\n",
       "      <td>20170610_1</td>\n",
       "      <td>78</td>\n",
       "      <td>23</td>\n",
       "      <td>1.000000</td>\n",
       "      <td>13.104314</td>\n",
       "    </tr>\n",
       "    <tr>\n",
       "      <th>232</th>\n",
       "      <td>20170610_1</td>\n",
       "      <td>78</td>\n",
       "      <td>28</td>\n",
       "      <td>1.000000</td>\n",
       "      <td>19.774721</td>\n",
       "    </tr>\n",
       "    <tr>\n",
       "      <th>233</th>\n",
       "      <td>20170610_1</td>\n",
       "      <td>78</td>\n",
       "      <td>95</td>\n",
       "      <td>1.000000</td>\n",
       "      <td>11.906523</td>\n",
       "    </tr>\n",
       "    <tr>\n",
       "      <th>234</th>\n",
       "      <td>20170610_1</td>\n",
       "      <td>84</td>\n",
       "      <td>148</td>\n",
       "      <td>0.581633</td>\n",
       "      <td>11.011436</td>\n",
       "    </tr>\n",
       "    <tr>\n",
       "      <th>235</th>\n",
       "      <td>20170610_1</td>\n",
       "      <td>85</td>\n",
       "      <td>147</td>\n",
       "      <td>0.724490</td>\n",
       "      <td>2.690823</td>\n",
       "    </tr>\n",
       "  </tbody>\n",
       "</table>\n",
       "<p>236 rows × 5 columns</p>\n",
       "</div>"
      ],
      "text/plain": [
       "        cell_id  bc_id  branch_ind      comp  dist_from_bc\n",
       "0    20170610_1     25          73  1.000000     18.656333\n",
       "1    20170610_1     36          67  1.000000     18.021363\n",
       "2    20170610_1     36          68  1.000000     18.384294\n",
       "3    20170610_1     36          69  0.700000     13.410218\n",
       "4    20170610_1     36          70  0.854545      1.202681\n",
       "..          ...    ...         ...       ...           ...\n",
       "231  20170610_1     78          23  1.000000     13.104314\n",
       "232  20170610_1     78          28  1.000000     19.774721\n",
       "233  20170610_1     78          95  1.000000     11.906523\n",
       "234  20170610_1     84         148  0.581633     11.011436\n",
       "235  20170610_1     85         147  0.724490      2.690823\n",
       "\n",
       "[236 rows x 5 columns]"
      ]
     },
     "execution_count": 26,
     "metadata": {},
     "output_type": "execute_result"
    }
   ],
   "source": [
    "stim_df"
   ]
  },
  {
   "cell_type": "code",
   "execution_count": 14,
   "id": "c7354872-4f60-42c3-84fd-5ced8b0e5c59",
   "metadata": {},
   "outputs": [],
   "source": [
    "stim_df[\"num_synapses_of_bc\"] = stim_df.groupby(\"bc_id\").bc_id.transform(len)"
   ]
  },
  {
   "cell_type": "code",
   "execution_count": 15,
   "id": "8c9f4d6b-c78e-4836-9738-58802e6f0492",
   "metadata": {},
   "outputs": [],
   "source": [
    "stim_df.to_pickle(f\"results/data/stimuli_meta_{cell_id}.pkl\")"
   ]
  },
  {
   "cell_type": "code",
   "execution_count": null,
   "id": "49c6dc6f-ab40-4026-b1a0-15ccfec365c0",
   "metadata": {},
   "outputs": [],
   "source": []
  }
 ],
 "metadata": {
  "kernelspec": {
   "display_name": "Python 3 (ipykernel)",
   "language": "python",
   "name": "python3"
  },
  "language_info": {
   "codemirror_mode": {
    "name": "ipython",
    "version": 3
   },
   "file_extension": ".py",
   "mimetype": "text/x-python",
   "name": "python",
   "nbconvert_exporter": "python",
   "pygments_lexer": "ipython3",
   "version": "3.11.8"
  }
 },
 "nbformat": 4,
 "nbformat_minor": 5
}
