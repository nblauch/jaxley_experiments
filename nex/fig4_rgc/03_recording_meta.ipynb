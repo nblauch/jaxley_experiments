{
 "cells": [
  {
   "cell_type": "code",
   "execution_count": 1,
   "id": "f296f36a-f7f8-4315-b22a-1f2a4021799f",
   "metadata": {},
   "outputs": [],
   "source": [
    "%load_ext autoreload\n",
    "%autoreload 2"
   ]
  },
  {
   "cell_type": "code",
   "execution_count": 1,
   "id": "69fb9496-ec3f-413a-8f59-b59f99bfdd93",
   "metadata": {},
   "outputs": [],
   "source": [
    "from jax import config\n",
    "\n",
    "config.update(\"jax_enable_x64\", True)\n",
    "config.update(\"jax_platform_name\", \"cpu\")\n",
    "\n",
    "import os\n",
    "os.environ[\"XLA_PYTHON_CLIENT_MEM_FRACTION\"] = \".8\""
   ]
  },
  {
   "cell_type": "code",
   "execution_count": 2,
   "id": "6ca21435-9c5a-4eaa-80f4-54708739329b",
   "metadata": {},
   "outputs": [],
   "source": [
    "import jax.numpy as jnp\n",
    "from jax import jit, vmap\n",
    "import numpy as np\n",
    "import matplotlib.pyplot as plt\n",
    "import pickle\n",
    "import h5py\n",
    "import pandas as pd\n",
    "import matplotlib as mpl\n",
    "from scipy.ndimage import rotate\n",
    "\n",
    "import jaxley as jx\n",
    "from jaxley.channels import HH"
   ]
  },
  {
   "cell_type": "code",
   "execution_count": 3,
   "id": "15adea2c-f74e-4c77-acd7-c0aaa26722e4",
   "metadata": {},
   "outputs": [],
   "source": [
    "def compute_jaxley_branch(roi_pos):\n",
    "    min_dists = []\n",
    "    min_comps = []\n",
    "    for xyzr in cell.xyzr:\n",
    "        dists = np.sum((roi_pos[:3] - xyzr[:, :3])**2, axis=1)\n",
    "        min_dist = np.min(dists)\n",
    "        argmin_dist = np.argmin(dists)\n",
    "        if len(xyzr) > 1:\n",
    "            comp_of_min = argmin_dist / (len(xyzr) - 1)\n",
    "        else:\n",
    "            comp_of_min = 0.5\n",
    "        min_dists.append(min_dist)\n",
    "        min_comps.append(comp_of_min)\n",
    "        \n",
    "    return np.argmin(min_dists), min_comps[np.argmin(min_dists)]"
   ]
  },
  {
   "cell_type": "code",
   "execution_count": 4,
   "id": "62314bbb-284b-4870-8057-79e7fc9418a8",
   "metadata": {},
   "outputs": [],
   "source": [
    "fnames = []\n",
    "for (dirpath, dirnames, filenames) in os.walk(\"morphologies\"):\n",
    "    fnames.extend(filenames)\n",
    "\n",
    "setup_df = pd.read_pickle(\"results/data/setup.pkl\")"
   ]
  },
  {
   "cell_type": "code",
   "execution_count": 5,
   "id": "fb613960-59ee-4fa0-ab40-269c0f2e69b2",
   "metadata": {},
   "outputs": [
    {
     "name": "stderr",
     "output_type": "stream",
     "text": [
      "/Users/michaeldeistler/Documents/phd/jaxley/jaxley/utils/swc.py:32: UserWarning: Found a segment with length 0. Clipping it to 1.0\n",
      "  warn(\"Found a segment with length 0. Clipping it to 1.0\")\n"
     ]
    }
   ],
   "source": [
    "write_dfs = []\n",
    "\n",
    "for morph_full in fnames:\n",
    "    cell_id = morph_full[:-4]\n",
    "    df = setup_df[setup_df[\"cell_id\"] == cell_id]\n",
    "    cell = jx.read_swc(f\"morphologies/{morph_full}\", nseg=4, max_branch_len=300.0, min_radius=1.0)\n",
    "    \n",
    "    for index, pos in df[[\"roi_x\", \"roi_y\", \"roi_z\", \"cell_id\", \"rec_id\", \"roi_id\"]].iterrows():\n",
    "        write_df = pd.DataFrame()\n",
    "        jaxley_branch, jaxley_compartment = compute_jaxley_branch(pos.to_numpy())\n",
    "        write_df[\"cell_id\"] = [pos[\"cell_id\"]]\n",
    "        write_df[\"rec_id\"] = [pos[\"rec_id\"]]\n",
    "        write_df[\"roi_id\"] = [pos[\"roi_id\"]]\n",
    "        write_df[\"roi_x\"] = [pos[\"roi_x\"]]\n",
    "        write_df[\"roi_y\"] = [pos[\"roi_y\"]]\n",
    "        write_df[\"roi_z\"] = [pos[\"roi_z\"]]\n",
    "        write_df[\"branch_ind\"] = [int(jaxley_branch)]\n",
    "        write_df[\"comp\"] = [jaxley_compartment]\n",
    "\n",
    "        write_dfs.append(write_df)\n",
    "    \n",
    "write_dfs = pd.concat(write_dfs).reset_index(drop=True)"
   ]
  },
  {
   "cell_type": "code",
   "execution_count": 6,
   "id": "d72c68c9-2d90-4981-8350-1fa865efe03d",
   "metadata": {},
   "outputs": [],
   "source": [
    "write_dfs.to_pickle(\"results/data/recording_meta.pkl\")"
   ]
  },
  {
   "cell_type": "code",
   "execution_count": null,
   "id": "185e839a-5be4-4340-a3ea-890cfa2b093f",
   "metadata": {},
   "outputs": [],
   "source": []
  }
 ],
 "metadata": {
  "kernelspec": {
   "display_name": "Python 3 (ipykernel)",
   "language": "python",
   "name": "python3"
  },
  "language_info": {
   "codemirror_mode": {
    "name": "ipython",
    "version": 3
   },
   "file_extension": ".py",
   "mimetype": "text/x-python",
   "name": "python",
   "nbconvert_exporter": "python",
   "pygments_lexer": "ipython3",
   "version": "3.11.7"
  }
 },
 "nbformat": 4,
 "nbformat_minor": 5
}
