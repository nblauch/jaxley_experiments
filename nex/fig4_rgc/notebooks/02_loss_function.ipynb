{
 "cells": [
  {
   "cell_type": "markdown",
   "id": "e3f30546-5d1a-45ac-abb2-53095c14e7c6",
   "metadata": {},
   "source": [
    "# Generate traces for illustration\n",
    "\n",
    "This notebook generates the voltage and calcium traces shown in panel b."
   ]
  },
  {
   "cell_type": "code",
   "execution_count": 1,
   "id": "094a29c0-e854-4e5e-8f53-34a30e27bb2f",
   "metadata": {},
   "outputs": [],
   "source": [
    "%load_ext autoreload\n",
    "%autoreload 2"
   ]
  },
  {
   "cell_type": "code",
   "execution_count": 2,
   "id": "27fa14c5-3fcb-4249-9ebc-67869b6319fb",
   "metadata": {},
   "outputs": [],
   "source": [
    "from jax import config\n",
    "\n",
    "config.update(\"jax_enable_x64\", True)\n",
    "config.update(\"jax_platform_name\", \"cpu\")\n",
    "\n",
    "import os\n",
    "os.environ[\"XLA_PYTHON_CLIENT_MEM_FRACTION\"] = \".8\""
   ]
  },
  {
   "cell_type": "code",
   "execution_count": 3,
   "id": "f9aca8c0-9cea-42ee-8bbb-e0badb3d4da9",
   "metadata": {},
   "outputs": [],
   "source": [
    "import time\n",
    "\n",
    "import jax.numpy as jnp\n",
    "from jax import jit, vmap, value_and_grad\n",
    "import numpy as np\n",
    "import matplotlib.pyplot as plt\n",
    "import pickle\n",
    "import matplotlib as mpl\n",
    "import h5py\n",
    "\n",
    "import jaxley as jx\n",
    "\n",
    "from nex.rgc.utils.data_utils import (\n",
    "    read_data,\n",
    "    build_avg_recordings,\n",
    "    build_training_data,\n",
    ")\n",
    "from nex.rgc.utils.utils import (\n",
    "    build_cell,\n",
    "    build_kernel,\n",
    ")"
   ]
  },
  {
   "cell_type": "code",
   "execution_count": 4,
   "id": "51893275-7fc0-474d-8ae7-83bc32b67364",
   "metadata": {},
   "outputs": [],
   "source": [
    "import pandas as pd\n",
    "from warnings import simplefilter\n",
    "simplefilter(action=\"ignore\", category=pd.errors.PerformanceWarning)"
   ]
  },
  {
   "cell_type": "code",
   "execution_count": 14,
   "id": "2eedaaee-8cc4-46bd-ba2d-825a2644eb4e",
   "metadata": {},
   "outputs": [],
   "source": [
    "path_prefix = \"../../../nex/rgc\"\n",
    "results_prefix = \"results/train_runs/2024_05_30__10_55_30/0\""
   ]
  },
  {
   "cell_type": "code",
   "execution_count": 6,
   "id": "82ed1166-eb7b-4809-8133-3644e29c0b18",
   "metadata": {},
   "outputs": [],
   "source": [
    "start_n_scan = 0\n",
    "num_datapoints_per_scanfield = 128 * 8\n",
    "nseg = 4\n",
    "cell_id = \"20161028_1\"\n",
    "rec_ids = [1,2,3,4,5,6,7,8,9,10,11,12,13,14,15]"
   ]
  },
  {
   "cell_type": "code",
   "execution_count": 7,
   "id": "0aa7e977-dc95-46f6-8d04-220572035914",
   "metadata": {},
   "outputs": [],
   "source": [
    "stimuli, recordings, setup, noise_full = read_data(\n",
    "    start_n_scan,\n",
    "    num_datapoints_per_scanfield,\n",
    "    cell_id,\n",
    "    rec_ids,\n",
    "    \"noise\",\n",
    "    \"..\"\n",
    ")\n",
    "\n",
    "# avg_recordings = build_avg_recordings(\n",
    "#     recordings, rec_ids, nseg, num_datapoints_per_scanfield\n",
    "# )\n",
    "# with open(\"../results/intermediate/avg_recordings.pkl\", \"wb\") as handle:\n",
    "#     pickle.dump(avg_recordings, handle)\n",
    "with open(f\"{path_prefix}/results/intermediate/avg_recordings.pkl\", \"rb\") as handle:\n",
    "    avg_recordings = pickle.load(handle)\n",
    "\n",
    "number_of_recordings_each_scanfield = list(avg_recordings.groupby(\"rec_id\").size())"
   ]
  },
  {
   "cell_type": "code",
   "execution_count": 8,
   "id": "59756945-d412-43d0-8c45-7e69438d40a1",
   "metadata": {},
   "outputs": [],
   "source": [
    "def value_from_parameters(parameter_values, distance):\n",
    "    return parameter_values\n",
    "    \n",
    "def simulate(params, basal_neuron_params, somatic_neuron_params, currents):\n",
    "    \"\"\"Run simulation and return recorded voltages.\"\"\"\n",
    "    syn_weights = params[0][\"w_bc_to_rgc\"]\n",
    "    cell_params = params[1:]\n",
    "\n",
    "    input_currents = syn_weights * currents\n",
    "    \n",
    "    # Define stimuli.\n",
    "    step_currents = jx.datapoint_to_step_currents(warmup, t_max-warmup, input_currents, dt, t_max)\n",
    "    data_stimuli = None\n",
    "    for branch, comp, step_current in zip(stim_branch_inds, stim_comps, step_currents):\n",
    "        data_stimuli = cell.branch(branch).loc(comp).data_stimulate(step_current, data_stimuli=data_stimuli)\n",
    "\n",
    "    # Define parameters.\n",
    "    pstate = None\n",
    "    for param in basal_neuron_params:\n",
    "        name = list(param.keys())[0]\n",
    "        parameter_values = param[name]\n",
    "        value = value_from_parameters(parameter_values, 0.0)\n",
    "        pstate = cell[basal_inds].data_set(name, value, param_state=pstate)\n",
    "\n",
    "    for param in somatic_neuron_params:\n",
    "        name = list(param.keys())[0]\n",
    "        parameter_values = param[name]\n",
    "        value = value_from_parameters(parameter_values, 0.0)\n",
    "        pstate = cell[somatic_inds].data_set(name, value, param_state=pstate)\n",
    "\n",
    "    # Run simulation.\n",
    "    v = jx.integrate(\n",
    "        cell,\n",
    "        params=cell_params,\n",
    "        param_state=pstate,\n",
    "        data_stimuli=data_stimuli,\n",
    "        checkpoint_lengths=[90, 90]\n",
    "    )\n",
    "    return v\n",
    "\n",
    "sim = jit(simulate)\n",
    "vmapped_sim = jit(vmap(simulate, in_axes=(None, None, None, 0)))\n"
   ]
  },
  {
   "cell_type": "code",
   "execution_count": 9,
   "id": "7a9e5636-af3f-412d-a464-dfd80c68626a",
   "metadata": {},
   "outputs": [],
   "source": [
    "warmup = 5.0\n",
    "i_amp = 0.1\n",
    "\n",
    "currents, labels, loss_weights = build_training_data(\n",
    "    i_amp,\n",
    "    stimuli,\n",
    "    avg_recordings,\n",
    "    rec_ids, \n",
    "    num_datapoints_per_scanfield,\n",
    "    number_of_recordings_each_scanfield,\n",
    ")\n",
    "\n",
    "stim_branch_inds = stimuli[\"branch_ind\"].to_numpy()\n",
    "stim_comps = stimuli[\"comp\"].to_numpy()"
   ]
  },
  {
   "cell_type": "code",
   "execution_count": 10,
   "id": "0bf1e71e-f819-4e01-a3a6-1a2077145738",
   "metadata": {},
   "outputs": [],
   "source": [
    "dt = 0.025\n",
    "t_max = 200.0\n",
    "time_vec = np.arange(0, t_max+2*dt, dt)"
   ]
  },
  {
   "cell_type": "code",
   "execution_count": 11,
   "id": "e75b69ff-104a-4914-8751-a4fe818306c9",
   "metadata": {},
   "outputs": [
    {
     "name": "stderr",
     "output_type": "stream",
     "text": [
      "/Users/michaeldeistler/Documents/phd/jaxley/jaxley/utils/swc.py:181: UserWarning: Found a soma which consists of a single traced point. `Jaxley` interprets this soma as a spherical compartment with radius specified in the SWC file, i.e. with surface area 4*pi*r*r.\n",
      "  warn(\n",
      "/Users/michaeldeistler/Documents/phd/jaxley/jaxley/utils/swc.py:32: UserWarning: Found a segment with length 0. Clipping it to 1.0\n",
      "  warn(\"Found a segment with length 0. Clipping it to 1.0\")\n"
     ]
    },
    {
     "name": "stdout",
     "output_type": "stream",
     "text": [
      "Inserted 294 recordings\n",
      "number_of_recordings_each_scanfield [12, 6, 15, 21, 13, 10, 9, 10, 10, 6, 4, 11, 8, 4, 8]\n"
     ]
    }
   ],
   "source": [
    "cell = build_cell(cell_id, nseg, 5.0, path_prefix)\n",
    "basal_inds = list(np.unique(cell.group_nodes[\"basal\"][\"branch_index\"].to_numpy()))\n",
    "somatic_inds = list(np.unique(cell.group_nodes[\"soma\"][\"branch_index\"].to_numpy()))\n",
    "\n",
    "cell.delete_recordings()\n",
    "cell.delete_stimuli()\n",
    "\n",
    "for i, rec in avg_recordings.iterrows():\n",
    "    cell.branch(rec[\"branch_ind\"]).loc(rec[\"comp\"]).record(\"v\", verbose=False)\n",
    "\n",
    "for i, rec in avg_recordings.iterrows():\n",
    "    cell.branch(rec[\"branch_ind\"]).loc(rec[\"comp\"]).record(\"Cai\", verbose=False)\n",
    "\n",
    "print(f\"Inserted {len(cell.recordings)} recordings\")\n",
    "print(f\"number_of_recordings_each_scanfield {number_of_recordings_each_scanfield}\")\n",
    "number_of_recordings = np.sum(number_of_recordings_each_scanfield)"
   ]
  },
  {
   "cell_type": "code",
   "execution_count": 12,
   "id": "7a20022e-3146-4a0d-b3c8-94c97686db49",
   "metadata": {},
   "outputs": [
    {
     "name": "stdout",
     "output_type": "stream",
     "text": [
      "Number of newly added trainable parameters: 154. Total number of trainable parameters: 154\n",
      "Number of newly added trainable parameters: 154. Total number of trainable parameters: 308\n"
     ]
    }
   ],
   "source": [
    "cell.delete_trainables()\n",
    "cell.basal.branch(\"all\").make_trainable(\"axial_resistivity\")\n",
    "cell.basal.branch(\"all\").make_trainable(\"radius\")"
   ]
  },
  {
   "cell_type": "code",
   "execution_count": 15,
   "id": "c5e9c1d6-583b-48ad-a9e2-2071cf8a2354",
   "metadata": {},
   "outputs": [],
   "source": [
    "with open(f\"{path_prefix}/{results_prefix}/opt_params/params_10.pkl\", \"rb\") as handle:\n",
    "    all_opt_params = pickle.load(handle)\n",
    "\n",
    "with open(f\"{path_prefix}/{results_prefix}/transforms/transform_params.pkl\", \"rb\") as handle:\n",
    "    transform_params = pickle.load(handle)\n",
    "\n",
    "with open(f\"{path_prefix}/{results_prefix}/transforms/transform_basal.pkl\", \"rb\") as handle:\n",
    "    transform_basal = pickle.load(handle)\n",
    "\n",
    "with open(f\"{path_prefix}/{results_prefix}/transforms/transform_somatic.pkl\", \"rb\") as handle:\n",
    "    transform_somatic = pickle.load(handle)\n",
    "\n",
    "opt_params, opt_basal_params, opt_somatic_params = all_opt_params\n",
    "\n",
    "parameters = transform_params.forward(opt_params)\n",
    "basal_neuron_params = transform_basal.forward(opt_basal_params)\n",
    "somatic_neuron_params = transform_somatic.forward(opt_somatic_params)"
   ]
  },
  {
   "cell_type": "code",
   "execution_count": 16,
   "id": "82f38e9b-9e16-4575-87d7-bdf23711da09",
   "metadata": {},
   "outputs": [],
   "source": [
    "test_currents = currents[0]\n",
    "\n",
    "v_trained = sim(\n",
    "    transform_params.forward(opt_params), \n",
    "    transform_basal.forward(opt_basal_params),\n",
    "    transform_somatic.forward(opt_somatic_params),\n",
    "    test_currents,\n",
    ")"
   ]
  },
  {
   "cell_type": "code",
   "execution_count": 17,
   "id": "8ca3aef3-12a9-43ce-8dd8-b55f12ddd753",
   "metadata": {},
   "outputs": [],
   "source": [
    "with open(f\"../results/02_loss/noise_image.pkl\", \"wb\") as handle:\n",
    "    pickle.dump(noise_full[:, :, 0], handle)\n",
    "\n",
    "with open(f\"../results/02_loss/v_and_cai.pkl\", \"wb\") as handle:\n",
    "    pickle.dump(v_trained, handle)\n",
    "\n",
    "with open(f\"../results/02_loss/time_vec.pkl\", \"wb\") as handle:\n",
    "    pickle.dump(time_vec, handle)"
   ]
  },
  {
   "cell_type": "code",
   "execution_count": null,
   "id": "00d54864-2538-4c88-b385-49bf7ca6c467",
   "metadata": {},
   "outputs": [],
   "source": []
  }
 ],
 "metadata": {
  "kernelspec": {
   "display_name": "Python 3 (ipykernel)",
   "language": "python",
   "name": "python3"
  },
  "language_info": {
   "codemirror_mode": {
    "name": "ipython",
    "version": 3
   },
   "file_extension": ".py",
   "mimetype": "text/x-python",
   "name": "python",
   "nbconvert_exporter": "python",
   "pygments_lexer": "ipython3",
   "version": "3.9.18"
  }
 },
 "nbformat": 4,
 "nbformat_minor": 5
}
