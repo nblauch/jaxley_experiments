{
 "cells": [
  {
   "cell_type": "code",
   "execution_count": 397,
   "id": "4bf9df21-05d6-4b26-9f5a-0413abb8fd7e",
   "metadata": {},
   "outputs": [
    {
     "name": "stdout",
     "output_type": "stream",
     "text": [
      "The autoreload extension is already loaded. To reload it, use:\n",
      "  %reload_ext autoreload\n"
     ]
    }
   ],
   "source": [
    "%load_ext autoreload\n",
    "%autoreload 2"
   ]
  },
  {
   "cell_type": "code",
   "execution_count": 398,
   "id": "f862fc72-e059-4ca6-b104-ec2e4194e7f8",
   "metadata": {},
   "outputs": [],
   "source": [
    "import matplotlib.pyplot as plt\n",
    "import matplotlib as mpl\n",
    "import numpy as np\n",
    "import pickle\n",
    "import jax.numpy as jnp\n",
    "\n",
    "import jaxley as jx\n",
    "from nex.colors import cols as papercols"
   ]
  },
  {
   "cell_type": "code",
   "execution_count": 399,
   "id": "6c9f1ae0-1407-4382-bda0-de35f89751d8",
   "metadata": {},
   "outputs": [],
   "source": [
    "import time\n",
    "import IPython.display as IPd\n",
    "from svgutils.compose import *"
   ]
  },
  {
   "cell_type": "code",
   "execution_count": 400,
   "id": "767d8a7f-7b41-42e9-ae9d-3c0346677ed2",
   "metadata": {},
   "outputs": [],
   "source": [
    "setup = \"488683425\"  # , \"485574832\", \"488683425\", \"480353286\", \"473601979\",\n",
    "\n",
    "with open(f\"../results/02_allen/all_best_params_mae_{setup}.pkl\", \"rb\") as handle:\n",
    "    all_best_params = pickle.load(handle)\n",
    "with open(f\"../results/02_allen/best_traces_mae_{setup}.pkl\", \"rb\") as handle:\n",
    "    best_traces = pickle.load(handle)\n",
    "with open(f\"../results/02_allen/best_losses_mae_{setup}.pkl\", \"rb\") as handle:\n",
    "    best_losses = pickle.load(handle)\n",
    "with open(f\"../results/02_allen/total_sims_mae_{setup}.pkl\", \"rb\") as handle:\n",
    "    total_sims = pickle.load(handle)\n",
    "with open(f\"../results/02_allen/time_vec_mae_{setup}.pkl\", \"rb\") as handle:\n",
    "    time_vec = pickle.load(handle)\n",
    "with open(f\"../results/02_allen/losses_of_every_starting_point_mae_{setup}.pkl\", \"rb\") as handle:\n",
    "    losses_of_every_starting_point = pickle.load(handle)\n",
    "with open(f\"../results/02_allen/ga_losses_mae_{setup}.pkl\", \"rb\") as handle:\n",
    "    ga_losses = pickle.load(handle)\n",
    "\n",
    "niter = 10\n",
    "ga_losses = np.asarray(ga_losses)[:, :niter]\n",
    "losses_of_every_starting_point = np.asarray(losses_of_every_starting_point)[:, :niter]"
   ]
  },
  {
   "cell_type": "markdown",
   "id": "45dfd500-6abe-47a7-b7f4-ac2f56dcf938",
   "metadata": {},
   "source": [
    "### Runtime panel"
   ]
  },
  {
   "cell_type": "code",
   "execution_count": 401,
   "id": "2f5a82eb-3000-424c-b90a-e109ac159a52",
   "metadata": {},
   "outputs": [
    {
     "name": "stdout",
     "output_type": "stream",
     "text": [
      "num_converged 8\n",
      "num_converged 6\n"
     ]
    }
   ],
   "source": [
    "thrs = {\n",
    "    \"485574832\": 1.5,\n",
    "    \"488683425\": 1.5,\n",
    "    \"480353286\": 1.5,\n",
    "    \"473601979\": 1.5,\n",
    "}\n",
    "thr = thrs[setup]\n",
    "\n",
    "def infer_num_required(losses_of_every_starting_point):\n",
    "\n",
    "    number_of_required_simulations_gd = 0\n",
    "    num_converged = 0\n",
    "    for l in losses_of_every_starting_point[:10]:\n",
    "        first_good_one = np.where(np.asarray(l) < thr)[0]\n",
    "        if len(first_good_one) > 0:\n",
    "            number_of_required_simulations_gd += first_good_one[0] + 1\n",
    "            num_converged += 1\n",
    "        else:\n",
    "            number_of_required_simulations_gd += len(l)\n",
    "    print(\"num_converged\", num_converged)\n",
    "    return number_of_required_simulations_gd / num_converged\n",
    "\n",
    "num_sim_per_iter = 10\n",
    "ga_required = infer_num_required(ga_losses) * num_sim_per_iter\n",
    "gd_required = infer_num_required(losses_of_every_starting_point)"
   ]
  },
  {
   "cell_type": "code",
   "execution_count": 402,
   "id": "fbd3646f-d36b-4059-95c5-2c7bc1cd169f",
   "metadata": {},
   "outputs": [],
   "source": [
    "duration_forward_pass = 0.8  # Seconds.\n",
    "duration_for_gradient = 5.1  # Seconds."
   ]
  },
  {
   "cell_type": "code",
   "execution_count": 403,
   "id": "35507c02-16d6-43c2-aa7b-54888b571d9d",
   "metadata": {},
   "outputs": [
    {
     "name": "stdout",
     "output_type": "stream",
     "text": [
      "Runtime GA 46.0 GD 70.3\n"
     ]
    },
    {
     "name": "stderr",
     "output_type": "stream",
     "text": [
      "/var/folders/kv/39t9blx569l5_sxxzx89vb3c0000gn/T/ipykernel_31021/1282930927.py:29: UserWarning: set_ticklabels() should only be used with a fixed number of ticks, i.e. after set_ticks() or using a FixedLocator.\n",
      "  _ = ax2.set_yticklabels([\"10¹\", \"\", \"10³\"])\n",
      "/var/folders/kv/39t9blx569l5_sxxzx89vb3c0000gn/T/ipykernel_31021/1282930927.py:39: UserWarning: Glyph 8304 (\\N{SUPERSCRIPT ZERO}) missing from current font.\n",
      "  plt.savefig(f\"../svg/panel_c2_supp_allen_{setup}.svg\", bbox_inches=\"tight\", transparent=True)\n",
      "/Users/michaeldeistler/anaconda3/envs/nex/lib/python3.11/site-packages/IPython/core/pylabtools.py:152: UserWarning: Glyph 8304 (\\N{SUPERSCRIPT ZERO}) missing from current font.\n",
      "  fig.canvas.print_figure(bytes_io, **kw)\n"
     ]
    },
    {
     "data": {
      "image/png": "[encoded data removed]",
      "text/plain": [
       "<Figure size 35x60 with 2 Axes>"
      ]
     },
     "metadata": {},
     "output_type": "display_data"
    }
   ],
   "source": [
    "with mpl.rc_context(fname=\"../../../.matplotlibrc\"):\n",
    "    fig, ax = plt.subplots(1, 1, figsize=(0.35, 0.6))\n",
    "    \n",
    "    _ = ax.bar([1-0.15, 2-0.15], [ga_required, gd_required], color=\"k\", width=0.3)\n",
    "    _ = ax.axhline(1.0)\n",
    "    _ = ax.set_yscale(\"log\")\n",
    "    _ = ax.set_xlabel(\"\")\n",
    "    _ = ax.set_xticks([1, 2])\n",
    "    _ = ax.set_xticklabels([\"GA\", \"GD\"], rotation=90)\n",
    "    _ = ax.set_yticks([1, 10, 100, 1000])\n",
    "    _ = ax.set_ylim([1, 1000])\n",
    "    _ = ax.set_yticklabels([\"10⁰\", \"\", \"\", \"10³\"])\n",
    "    _ = ax.set_ylabel(\"#sims\", labelpad=-6)\n",
    "    _ = ax.set_xlim([-0.8, 2.8])\n",
    "\n",
    "    col2 = \"#737373\"\n",
    "    ax2 = ax.twinx()\n",
    "    ga_runtime = ga_required * duration_forward_pass\n",
    "    gd_runtime = gd_required * duration_for_gradient + 5.0 * duration_forward_pass\n",
    "    print(\"Runtime GA\", ga_runtime, \"GD\", gd_runtime)\n",
    "    _ = ax2.bar([1+0.15, 2+0.15], [\n",
    "        ga_runtime,\n",
    "        gd_runtime, \n",
    "    ], color=col2, width=0.3)\n",
    "    _ = ax2.axhline(1.0)\n",
    "    _ = ax2.set_yscale(\"log\")\n",
    "    _ = ax2.set_xlabel(\"\")\n",
    "    _ = ax2.set_ylabel(\"Runtime\\n(sec)\", labelpad=-7, color=col2)\n",
    "    _ = ax2.set_yticklabels([\"10¹\", \"\", \"10³\"])\n",
    "    _ = ax2.set_xticks([1, 2])\n",
    "    _ = ax2.set_xticklabels([\"GA\", \"GD\"], rotation=90)\n",
    "    _ = ax2.set_yticks([10, 100, 1000])\n",
    "    _ = ax2.set_ylim([10, 1000])\n",
    "    _ = ax2.set_xlim([0.2, 2.8])\n",
    "    _ = ax2.tick_params(axis='y', labelcolor=col2)\n",
    "    # _ = ax.set_title(f\"Loss < {thr:.2f}\")\n",
    "\n",
    "    ax.spines[\"right\"].set_visible(True)\n",
    "    plt.savefig(f\"../svg/panel_c2_supp_allen_{setup}.svg\", bbox_inches=\"tight\", transparent=True)\n",
    "    plt.show()"
   ]
  },
  {
   "cell_type": "markdown",
   "id": "f076363e-43c0-44d5-8d10-20e2a7af0c64",
   "metadata": {},
   "source": [
    "### Morphology panel"
   ]
  },
  {
   "cell_type": "code",
   "execution_count": 405,
   "id": "bd88307d-8d65-4376-9829-aa5c3776d213",
   "metadata": {},
   "outputs": [
    {
     "name": "stderr",
     "output_type": "stream",
     "text": [
      "/Users/michaeldeistler/Documents/phd/jaxley/jaxley/utils/swc.py:32: UserWarning: Found a soma which consists of a single traced point. `Jaxley` interprets this soma as a spherical compartment with radius specified in the SWC file, i.e. with surface area 4*pi*r*r.\n",
      "  warn(\n"
     ]
    }
   ],
   "source": [
    "cell = jx.read_swc(f\"../../../nex/l5pc/cell_types/specimen_{setup}/reconstruction.swc\", nseg=4, assign_groups=True)\n",
    "rotations = {\n",
    "    \"485574832\": 155,\n",
    "    \"488683425\": 195,\n",
    "    \"480353286\": 175,\n",
    "    \"473601979\": 195,\n",
    "}\n",
    "rotation = rotations[setup]\n",
    "cell.rotate(rotation)\n"
   ]
  },
  {
   "cell_type": "code",
   "execution_count": 406,
   "id": "e77d2660-783d-4aff-b5c2-d10a2b097813",
   "metadata": {},
   "outputs": [
    {
     "data": {
      "image/png": "[encoded data removed]",
      "text/plain": [
       "<Figure size 60x120 with 1 Axes>"
      ]
     },
     "metadata": {},
     "output_type": "display_data"
    }
   ],
   "source": [
    "with mpl.rc_context(fname=\"../../../.matplotlibrc\"):\n",
    "    fig, ax = plt.subplots(1, 1, figsize=(0.6, 1.2))\n",
    "    ax = cell.vis(ax=ax, morph_plot_kwargs={\"linewidth\": 0.2})\n",
    "    ax = cell.soma[0,0].vis(ax=ax, col=papercols[\"soma\"], morph_plot_kwargs={\"linewidth\": 0.2, \"s\": 15, \"zorder\": 1000})\n",
    "    ax = cell.apical.vis(ax=ax, col=papercols[\"apical\"], morph_plot_kwargs={\"linewidth\": 0.5})\n",
    "    ax = cell.axon.vis(ax=ax, col=papercols[\"axon\"], morph_plot_kwargs={\"linewidth\": 0.5})\n",
    "    ax = cell.basal.vis(ax=ax, col=papercols[\"basal\"], morph_plot_kwargs={\"linewidth\": 0.5})\n",
    "    _ = ax.spines[\"left\"].set_visible(False)\n",
    "    _ = ax.spines[\"bottom\"].set_visible(False)\n",
    "    _ = ax.set_xticks([])\n",
    "    _ = ax.set_yticks([])\n",
    "    plt.savefig(f\"../svg/panel_d1_supp_allen_{setup}.svg\", bbox_inches=\"tight\", transparent=True)\n",
    "    plt.show()"
   ]
  },
  {
   "cell_type": "markdown",
   "id": "4beda64e-355b-432b-86e5-9840f6a42a1a",
   "metadata": {},
   "source": [
    "# Assemble"
   ]
  },
  {
   "cell_type": "code",
   "execution_count": 411,
   "id": "dd0970bd-d38f-423e-9514-4b9597d90ad9",
   "metadata": {},
   "outputs": [
    {
     "data": {
      "text/html": [
       "<img src=\"../fig/fig3_supp_allen_runtime.svg\" / >"
      ],
      "text/plain": [
       "<IPython.core.display.HTML object>"
      ]
     },
     "metadata": {},
     "output_type": "display_data"
    }
   ],
   "source": [
    "def svg(img):\n",
    "    IPd.display(IPd.HTML('<img src=\"{}\" / >'.format(img, time.time())))\n",
    "\n",
    "svg_scale = 1.334  # set this to 1.334 for Inkscape, 1.0 otherwise\n",
    "\n",
    "# Panel letters in Helvetica Neue, 12pt, Medium\n",
    "kwargs_text = {'size': '8pt', 'font': 'Arial', 'weight': '800'}\n",
    "kwargs_text_normal = {'size': '6pt', 'font': 'Arial'}\n",
    "\n",
    "f = Figure(\n",
    "    \"14.2cm\",\n",
    "    \"2.1cm\",\n",
    "    Panel(SVG(\"../svg/panel_d1_supp_allen_485574832.svg\").scale(1.1)).move(0, -7.8),\n",
    "    Panel(SVG(\"../svg/panel_d1_supp_allen_488683425.svg\").scale(1.1)).move(137, -8.5),\n",
    "    Panel(SVG(\"../svg/panel_d1_supp_allen_480353286.svg\").scale(1.1)).move(274, -7.8),\n",
    "    Panel(SVG(\"../svg/panel_d1_supp_allen_473601979.svg\").scale(1.1)).move(406, -8.5),\n",
    "    Panel(SVG(\"../svg/panel_c2_supp_allen_485574832.svg\").scale(svg_scale)).move(40, -8.5),\n",
    "    Panel(SVG(\"../svg/panel_c2_supp_allen_488683425.svg\").scale(svg_scale)).move(175, -8.5),\n",
    "    Panel(SVG(\"../svg/panel_c2_supp_allen_480353286.svg\").scale(svg_scale)).move(310, -8.5),\n",
    "    Panel(SVG(\"../svg/panel_c2_supp_allen_473601979.svg\").scale(svg_scale)).move(445, -8.5),\n",
    ")\n",
    "\n",
    "!mkdir -p fig\n",
    "f.save(\"../fig/fig3_supp_allen_runtime.svg\")\n",
    "svg(\"../fig/fig3_supp_allen_runtime.svg\")"
   ]
  },
  {
   "cell_type": "code",
   "execution_count": 414,
   "id": "4040fd78-6a6b-4c33-8108-8a33135a1568",
   "metadata": {},
   "outputs": [
    {
     "data": {
      "text/html": [
       "<img src=\"../fig/fig3_supp_allen_fit.svg\" / >"
      ],
      "text/plain": [
       "<IPython.core.display.HTML object>"
      ]
     },
     "metadata": {},
     "output_type": "display_data"
    }
   ],
   "source": [
    "def svg(img):\n",
    "    IPd.display(IPd.HTML('<img src=\"{}\" / >'.format(img, time.time())))\n",
    "\n",
    "svg_scale = 1.334  # set this to 1.334 for Inkscape, 1.0 otherwise\n",
    "\n",
    "# Panel letters in Helvetica Neue, 12pt, Medium\n",
    "kwargs_text = {'size': '8pt', 'font': 'Arial', 'weight': '800'}\n",
    "kwargs_text_normal = {'size': '6pt', 'font': 'Arial'}\n",
    "\n",
    "f = Figure(\n",
    "    \"9.0cm\",\n",
    "    \"2.6cm\",\n",
    "    Panel(SVG(\"../svg/panel_d1_480353286.svg\").scale(svg_scale)).move(0, 0),\n",
    "    Panel(SVG(\"../svg/panel_d1_473601979.svg\").scale(svg_scale)).move(165, 0),\n",
    "    Panel(SVG(\"../svg/panel_d2_480353286.svg\").scale(svg_scale)).move(45, 2),\n",
    "    Panel(SVG(\"../svg/panel_d2_473601979.svg\").scale(svg_scale)).move(210, 2),\n",
    "    Panel(SVG(\"../svg/panel_d3_480353286.svg\").scale(svg_scale)).move(45, 47.5),\n",
    "    Panel(SVG(\"../svg/panel_d3_473601979.svg\").scale(svg_scale)).move(210, 47.5),\n",
    ")\n",
    "\n",
    "!mkdir -p fig\n",
    "f.save(\"../fig/fig3_supp_allen_fit.svg\")\n",
    "svg(\"../fig/fig3_supp_allen_fit.svg\")"
   ]
  },
  {
   "cell_type": "code",
   "execution_count": null,
   "id": "02baa82d-1d5c-4661-bc29-582092caf2d6",
   "metadata": {},
   "outputs": [],
   "source": []
  }
 ],
 "metadata": {
  "kernelspec": {
   "display_name": "Python 3 (ipykernel)",
   "language": "python",
   "name": "python3"
  },
  "language_info": {
   "codemirror_mode": {
    "name": "ipython",
    "version": 3
   },
   "file_extension": ".py",
   "mimetype": "text/x-python",
   "name": "python",
   "nbconvert_exporter": "python",
   "pygments_lexer": "ipython3",
   "version": "3.11.8"
  }
 },
 "nbformat": 4,
 "nbformat_minor": 5
}
