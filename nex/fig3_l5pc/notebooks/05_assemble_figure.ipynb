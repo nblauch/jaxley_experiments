{
 "cells": [
  {
   "cell_type": "code",
   "execution_count": 84,
   "id": "4bf9df21-05d6-4b26-9f5a-0413abb8fd7e",
   "metadata": {},
   "outputs": [
    {
     "name": "stdout",
     "output_type": "stream",
     "text": [
      "The autoreload extension is already loaded. To reload it, use:\n",
      "  %reload_ext autoreload\n"
     ]
    }
   ],
   "source": [
    "%load_ext autoreload\n",
    "%autoreload 2"
   ]
  },
  {
   "cell_type": "code",
   "execution_count": 85,
   "id": "f862fc72-e059-4ca6-b104-ec2e4194e7f8",
   "metadata": {},
   "outputs": [],
   "source": [
    "import matplotlib.pyplot as plt\n",
    "import matplotlib as mpl\n",
    "import numpy as np\n",
    "import pickle\n",
    "import jax.numpy as jnp\n",
    "\n",
    "import jaxley as jx\n",
    "from nex.colors import cols as papercols"
   ]
  },
  {
   "cell_type": "code",
   "execution_count": 86,
   "id": "6c9f1ae0-1407-4382-bda0-de35f89751d8",
   "metadata": {},
   "outputs": [],
   "source": [
    "import time\n",
    "import IPython.display as IPd\n",
    "from svgutils.compose import *"
   ]
  },
  {
   "cell_type": "markdown",
   "id": "8972ae07-2b99-4bb3-aa0a-c35cc7c2f31e",
   "metadata": {
    "jp-MarkdownHeadingCollapsed": true
   },
   "source": [
    "# Synthetic data"
   ]
  },
  {
   "cell_type": "code",
   "execution_count": 4,
   "id": "767d8a7f-7b41-42e9-ae9d-3c0346677ed2",
   "metadata": {},
   "outputs": [],
   "source": [
    "with open(\"../results/01_synthetic/all_best_params.pkl\", \"rb\") as handle:\n",
    "    all_best_params = pickle.load(handle)\n",
    "with open(\"../results/01_synthetic/best_traces.pkl\", \"rb\") as handle:\n",
    "    best_traces = pickle.load(handle)\n",
    "with open(\"../results/01_synthetic/best_losses.pkl\", \"rb\") as handle:\n",
    "    best_losses = pickle.load(handle)\n",
    "with open(\"../results/01_synthetic/total_sims.pkl\", \"rb\") as handle:\n",
    "    total_sims = pickle.load(handle)\n",
    "with open(\"../results/01_synthetic/x_o.pkl\", \"rb\") as handle:\n",
    "    x_o = pickle.load(handle)\n",
    "with open(\"../results/01_synthetic/time_vec.pkl\", \"rb\") as handle:\n",
    "    time_vec = pickle.load(handle)\n",
    "with open(\"../results/01_synthetic/losses_of_every_starting_point.pkl\", \"rb\") as handle:\n",
    "    losses_of_every_starting_point = pickle.load(handle)\n",
    "with open(\"../results/01_synthetic/genetic_algorithm_losses.pkl\", \"rb\") as handle:\n",
    "    ga_losses = pickle.load(handle)\n",
    "\n",
    "nseg = 4\n",
    "cell = jx.read_swc(\"../morphologies/bbp_with_axon.swc\", nseg=nseg, max_branch_len=300.0, assign_groups=True)"
   ]
  },
  {
   "cell_type": "markdown",
   "id": "021f5e5a-9390-46fb-9c73-d3653228e484",
   "metadata": {},
   "source": [
    "### Panel A"
   ]
  },
  {
   "cell_type": "code",
   "execution_count": 5,
   "id": "79faa592-624d-4f41-b282-cb68500d0891",
   "metadata": {},
   "outputs": [
    {
     "data": {
      "image/png": "[encoded data removed]",
      "text/plain": [
       "<Figure size 60x120 with 1 Axes>"
      ]
     },
     "metadata": {},
     "output_type": "display_data"
    }
   ],
   "source": [
    "with mpl.rc_context(fname=\"../../../.matplotlibrc\"):\n",
    "    fig, ax = plt.subplots(1, 1, figsize=(0.6, 1.2))\n",
    "    ax = cell.vis(ax=ax, morph_plot_kwargs={\"linewidth\": 0.3})\n",
    "    ax = cell.soma[0,0].vis(ax=ax, col=papercols[\"soma\"], morph_plot_kwargs={\"linewidth\": 0.3, \"s\": 15, \"zorder\": 1000})\n",
    "    ax = cell.apical.vis(ax=ax, col=papercols[\"apical\"], morph_plot_kwargs={\"linewidth\": 0.3})\n",
    "    ax = cell.axon.vis(ax=ax, col=papercols[\"axon\"], morph_plot_kwargs={\"linewidth\": 0.3})\n",
    "    ax = cell.basal.vis(ax=ax, col=papercols[\"basal\"], morph_plot_kwargs={\"linewidth\": 0.3})\n",
    "    _ = ax.spines[\"left\"].set_visible(False)\n",
    "    _ = ax.spines[\"bottom\"].set_visible(False)\n",
    "    _ = ax.set_xticks([])\n",
    "    _ = ax.set_yticks([])\n",
    "    plt.savefig(\"../svg/panel_a1.svg\", bbox_inches=\"tight\", transparent=True)\n",
    "    plt.show()"
   ]
  },
  {
   "cell_type": "code",
   "execution_count": 6,
   "id": "0bba2a71-a4d3-4e24-88e8-c263e45159da",
   "metadata": {},
   "outputs": [
    {
     "data": {
      "image/png": "[encoded data removed]",
      "text/plain": [
       "<Figure size 40x30 with 1 Axes>"
      ]
     },
     "metadata": {},
     "output_type": "display_data"
    }
   ],
   "source": [
    "with mpl.rc_context(fname=\"../../../.matplotlibrc\"):\n",
    "    fig, ax = plt.subplots(1, 1, figsize=(0.4, 0.3))\n",
    "    _ = ax.plot([0], [0], c=papercols[\"apical\"])\n",
    "    _ = ax.plot([0], [0], c=papercols[\"basal\"])\n",
    "    _ = ax.plot([0], [0], c=papercols[\"axon\"])\n",
    "    _ = ax.scatter([0], [0], c=papercols[\"soma\"])\n",
    "    ax.set_xlim([2, 3])\n",
    "    ax.set_ylim([2, 3])\n",
    "    ax.legend(\n",
    "        [\"apical\", \"basal\", \"axon\", \"soma\"],\n",
    "        handlelength=0.3,\n",
    "        labelspacing=0.2,\n",
    "    )\n",
    "    _ = ax.spines[\"left\"].set_visible(False)\n",
    "    _ = ax.spines[\"bottom\"].set_visible(False)\n",
    "    _ = ax.set_xticks([])\n",
    "    _ = ax.set_yticks([])\n",
    "    plt.savefig(\"../svg/panel_a2.svg\", bbox_inches=\"tight\", transparent=True)\n",
    "    plt.show()"
   ]
  },
  {
   "cell_type": "markdown",
   "id": "213c347e-5869-4cc0-8f8e-e9631a40e501",
   "metadata": {},
   "source": [
    "### Panel B1"
   ]
  },
  {
   "cell_type": "code",
   "execution_count": 7,
   "id": "15765d2f-b82c-40a1-8bbb-cbcd2330b9fc",
   "metadata": {},
   "outputs": [
    {
     "data": {
      "image/png": "[encoded data removed]",
      "text/plain": [
       "<Figure size 122x51 with 1 Axes>"
      ]
     },
     "metadata": {},
     "output_type": "display_data"
    }
   ],
   "source": [
    "windows = [np.arange(200,2200), np.arange(2200,3800)]\n",
    "\n",
    "with mpl.rc_context(fname=\"../../../.matplotlibrc\"):\n",
    "    fig, ax = plt.subplots(1, 1, figsize=(1.22, 0.51))\n",
    "    _ = ax.plot([time_vec[windows[0][0]], time_vec[windows[0][-1]]-1.0], [58.0, 58.0], marker=\"|\", color=papercols[\"data\"])\n",
    "    _ = ax.plot([time_vec[windows[1][0]]+1.0, time_vec[windows[1][-1]]], [58.0, 58.0], marker=\"|\", color=papercols[\"data\"])\n",
    "\n",
    "    _ = ax.plot(time_vec, x_o.T, c=\"k\", zorder=1000)\n",
    "\n",
    "    _ = ax.text(11.0, 70.0, \"mean, std\")\n",
    "    _ = ax.text(56.5, 70.0, \"mean, std\")\n",
    "    _ = ax.set_xticks([])\n",
    "    _ = ax.set_xticklabels([])\n",
    "    _ = ax.set_xlim([0, 105])\n",
    "    _ = ax.set_yticks([])\n",
    "    _ = ax.set_ylim([-95,65])\n",
    "    \n",
    "    _ = ax.spines[\"left\"].set_visible(False)\n",
    "    _ = ax.spines[\"bottom\"].set_visible(False)\n",
    "    plt.savefig(\"../svg/panel_b1.svg\", bbox_inches=\"tight\", transparent=True)\n",
    "    plt.show()"
   ]
  },
  {
   "cell_type": "markdown",
   "id": "bd7a7a6a-a0c9-406f-b637-0084c84372c6",
   "metadata": {},
   "source": [
    "### Panel B2"
   ]
  },
  {
   "cell_type": "code",
   "execution_count": 8,
   "id": "868f26be-69b5-4644-bc93-e9523179e3e0",
   "metadata": {},
   "outputs": [
    {
     "data": {
      "image/png": "[encoded data removed]",
      "text/plain": [
       "<Figure size 122x51 with 1 Axes>"
      ]
     },
     "metadata": {},
     "output_type": "display_data"
    }
   ],
   "source": [
    "with mpl.rc_context(fname=\"../../../.matplotlibrc\"):\n",
    "    fig, ax = plt.subplots(1, 1, figsize=(1.22, 0.51))\n",
    "    _ = ax.plot(time_vec, np.asarray(best_traces)[1:4, 0, :].T, color=papercols[\"jaxley\"], alpha=0.3)\n",
    "    best_ind = np.argmin(np.asarray(best_losses))\n",
    "    _ = ax.plot(time_vec, np.asarray(best_traces)[2, 0, :].T, color=papercols[\"jaxley\"])\n",
    "    _ = ax.set_xticks([])\n",
    "    _ = ax.set_xlim([0, 105])\n",
    "    _ = ax.set_yticks([])\n",
    "    _ = ax.set_ylim([-95, 65])\n",
    "    _ = ax.plot([105, 105], [-95, -65], c=\"k\", clip_on=False)\n",
    "    _ = ax.plot([85, 105], [-95, -95], c=\"k\", clip_on=False)\n",
    "    _ = ax.spines[\"left\"].set_visible(False)\n",
    "    _ = ax.spines[\"bottom\"].set_visible(False)\n",
    "    plt.savefig(\"../svg/panel_b2.svg\", bbox_inches=\"tight\", transparent=True)\n",
    "    plt.show()"
   ]
  },
  {
   "cell_type": "markdown",
   "id": "eab9a08b-4755-4db7-b938-7f0630124d81",
   "metadata": {},
   "source": [
    "### Panel C1"
   ]
  },
  {
   "cell_type": "code",
   "execution_count": 9,
   "id": "b4a16c56-6d9d-4344-a0c3-74c4c6f9273c",
   "metadata": {},
   "outputs": [
    {
     "data": {
      "image/png": "[encoded data removed]",
      "text/plain": [
       "<Figure size 60x60 with 1 Axes>"
      ]
     },
     "metadata": {},
     "output_type": "display_data"
    }
   ],
   "source": [
    "with mpl.rc_context(fname=\"../../../.matplotlibrc\"):\n",
    "    fig, ax = plt.subplots(1, 1, figsize=(0.6, 0.6))\n",
    "    _ = ax.plot(np.arange(1, 11), np.min(ga_losses, axis=0), c=papercols[\"genetic_alg\"], alpha=1.0)\n",
    "    _ = ax.plot(np.arange(1, 11), np.min(losses_of_every_starting_point, axis=0), c=papercols[\"jaxley\"], alpha=1.0)\n",
    "    for l in losses_of_every_starting_point:\n",
    "        _ = ax.plot(np.asarray(l)[:10], c=papercols[\"jaxley\"], alpha=0.2)\n",
    "    _ = ax.set_xlabel(\"Iteration\", labelpad=-3)\n",
    "    _ = ax.set_ylabel(\"Loss\", labelpad=-5)\n",
    "    _ = ax.set_yscale(\"log\")\n",
    "    _ = ax.legend(\n",
    "        [\"Genetic alg. (GA)\", \"Gradient desc. (GD)\"], \n",
    "        loc=\"upper right\", \n",
    "        bbox_to_anchor=[1.4, 1.7, 0.0, 0.0], \n",
    "        ncol=1,\n",
    "        handlelength=0.8,\n",
    "        columnspacing=0.8,\n",
    "        handletextpad=0.4,\n",
    "        labelspacing=0.15\n",
    "    )\n",
    "    _ = ax.set_ylim([0.1, 12])\n",
    "    _ = ax.set_yticks([0.1, 10.0])\n",
    "    _ = ax.set_xticks([1, 10])\n",
    "    _ = ax.set_xlim([1, 10])\n",
    "    plt.savefig(\"../svg/panel_c1.svg\", bbox_inches=\"tight\")\n",
    "    plt.show()"
   ]
  },
  {
   "cell_type": "markdown",
   "id": "45dfd500-6abe-47a7-b7f4-ac2f56dcf938",
   "metadata": {},
   "source": [
    "### Panel C2"
   ]
  },
  {
   "cell_type": "code",
   "execution_count": 19,
   "id": "467daf3f-4e32-41b4-9307-6ecec7e38855",
   "metadata": {},
   "outputs": [],
   "source": [
    "# num_converged_ga = 8\n",
    "# num_simulations_until_1 = [10, 50, 80, 60, 50, 40, 100, 60, 100, 100]\n",
    "# ga_required = np.sum(num_simulations_until_1) / num_converged_ga\n",
    "\n",
    "random_required = 2000.0"
   ]
  },
  {
   "cell_type": "code",
   "execution_count": 20,
   "id": "2f5a82eb-3000-424c-b90a-e109ac159a52",
   "metadata": {},
   "outputs": [
    {
     "name": "stdout",
     "output_type": "stream",
     "text": [
      "gd_required 18.0\n"
     ]
    }
   ],
   "source": [
    "def infer_required(losses_of_every_starting_point, thr):\n",
    "    number_of_required_simulations = 0\n",
    "    num_converged = 0\n",
    "    for l in losses_of_every_starting_point[:10]:\n",
    "        first_good_one = np.where(np.asarray(l) < thr)[0]\n",
    "        if len(first_good_one) > 0:\n",
    "            number_of_required_simulations += first_good_one[0] + 1\n",
    "            num_converged += 1\n",
    "        else:\n",
    "            number_of_required_simulations += len(l)\n",
    "    return number_of_required_simulations / num_converged\n",
    "\n",
    "thr = 0.55\n",
    "gd_required = infer_required(losses_of_every_starting_point, thr)\n",
    "ga_required = infer_required(ga_losses, thr) * 10  # 10 simulations per iteration\n",
    "print(\"gd_required\", gd_required)"
   ]
  },
  {
   "cell_type": "code",
   "execution_count": 21,
   "id": "fbd3646f-d36b-4059-95c5-2c7bc1cd169f",
   "metadata": {},
   "outputs": [],
   "source": [
    "duration_forward_pass = 0.7  # Seconds.\n",
    "duration_for_gradient = 5.1  # Seconds."
   ]
  },
  {
   "cell_type": "code",
   "execution_count": 22,
   "id": "35507c02-16d6-43c2-aa7b-54888b571d9d",
   "metadata": {},
   "outputs": [
    {
     "name": "stderr",
     "output_type": "stream",
     "text": [
      "/var/folders/kv/39t9blx569l5_sxxzx89vb3c0000gn/T/ipykernel_81512/1015140528.py:36: UserWarning: Glyph 8308 (\\N{SUPERSCRIPT FOUR}) missing from current font.\n",
      "  plt.savefig(\"../svg/panel_c2.svg\", bbox_inches=\"tight\", transparent=True)\n",
      "/Users/michaeldeistler/anaconda3/envs/nex/lib/python3.11/site-packages/IPython/core/pylabtools.py:152: UserWarning: Glyph 8308 (\\N{SUPERSCRIPT FOUR}) missing from current font.\n",
      "  fig.canvas.print_figure(bytes_io, **kw)\n"
     ]
    },
    {
     "data": {
      "image/png": "[encoded data removed]",
      "text/plain": [
       "<Figure size 35x60 with 2 Axes>"
      ]
     },
     "metadata": {},
     "output_type": "display_data"
    }
   ],
   "source": [
    "with mpl.rc_context(fname=\"../../../.matplotlibrc\"):\n",
    "    fig, ax = plt.subplots(1, 1, figsize=(0.35, 0.6))\n",
    "    \n",
    "    _ = ax.bar([0-0.15, 1-0.15, 2-0.15], [random_required, ga_required, gd_required], color=\"k\", width=0.3)\n",
    "    _ = ax.axhline(1.0)\n",
    "    _ = ax.set_yscale(\"log\")\n",
    "    _ = ax.set_xlabel(\"\")\n",
    "    _ = ax.set_xticks([0, 1, 2])\n",
    "    _ = ax.set_xticklabels([\"Rand\", \"GA\", \"GD\"], rotation=90)\n",
    "    _ = ax.set_yticks([10, 100, 1000, 10_000])\n",
    "    _ = ax.set_ylim([10, 10_000])\n",
    "    _ = ax.set_yticklabels([\"10¹\", \"\", \"\", \"10⁴\"])\n",
    "    _ = ax.set_ylabel(\"#sims\", labelpad=-6)\n",
    "    _ = ax.set_xlim([-0.8, 2.8])\n",
    "\n",
    "    col2 = \"#737373\"\n",
    "    ax2 = ax.twinx()\n",
    "    _ = ax2.bar([0+0.15, 1+0.15, 2+0.15], [\n",
    "        random_required * duration_forward_pass,\n",
    "        ga_required * duration_forward_pass,\n",
    "        gd_required * duration_for_gradient, \n",
    "    ], color=col2, width=0.3)\n",
    "    _ = ax2.axhline(1.0)\n",
    "    _ = ax2.set_yscale(\"log\")\n",
    "    _ = ax2.set_xlabel(\"\")\n",
    "    _ = ax2.set_ylabel(\"Runtime\\n(sec)\", labelpad=-7, color=col2)\n",
    "    _ = ax2.set_xticks([0, 1, 2])\n",
    "    _ = ax2.set_xticklabels([\"Random\", \"GA\", \"GD\"], rotation=90)\n",
    "    _ = ax2.set_yticks([10, 100, 1000, 10_000])\n",
    "    _ = ax2.set_ylim([10, 10_000])\n",
    "    _ = ax2.set_yticklabels([\"10¹\", \"\", \"\", \"10⁴\"])\n",
    "    _ = ax2.set_xlim([-0.8, 2.8])\n",
    "    _ = ax2.tick_params(axis='y', labelcolor=col2)\n",
    "\n",
    "    ax.spines[\"right\"].set_visible(True)\n",
    "    plt.savefig(\"../svg/panel_c2.svg\", bbox_inches=\"tight\", transparent=True)\n",
    "    plt.show()"
   ]
  },
  {
   "cell_type": "markdown",
   "id": "9a25522c-fc1d-459c-9ecf-0cb3d5c013d2",
   "metadata": {
    "jp-MarkdownHeadingCollapsed": true
   },
   "source": [
    "# Allen data"
   ]
  },
  {
   "cell_type": "code",
   "execution_count": 134,
   "id": "19cb6e7e-acc7-4336-81b1-83bd9bf588f5",
   "metadata": {},
   "outputs": [
    {
     "name": "stderr",
     "output_type": "stream",
     "text": [
      "/Users/michaeldeistler/Documents/phd/jaxley/jaxley/utils/swc.py:32: UserWarning: Found a soma which consists of a single traced point. `Jaxley` interprets this soma as a spherical compartment with radius specified in the SWC file, i.e. with surface area 4*pi*r*r.\n",
      "  warn(\n"
     ]
    }
   ],
   "source": [
    "setup = \"473601979\"\n",
    "setups = {\n",
    "    \"485574832\": [155, 9],\n",
    "    \"488683425\": [195, 0],\n",
    "    \"480353286\": [175, 5],\n",
    "    \"473601979\": [195, 0],\n",
    "}\n",
    "rotation = setups[setup][0]\n",
    "index = setups[setup][1]\n",
    "\n",
    "cell = jx.read_swc(f\"../../../nex/l5pc/cell_types/specimen_{setup}/reconstruction.swc\", nseg=4, assign_groups=True)\n",
    "cell.rotate(rotation)\n",
    "\n",
    "with open(f\"../results/02_allen/all_best_params_mae_{setup}.pkl\", \"rb\") as handle:\n",
    "    best_params = pickle.load(handle)\n",
    "with open(f\"../results/02_allen/losses_of_every_starting_point_mae_{setup}.pkl\", \"rb\") as handle:\n",
    "    all_losses = pickle.load(handle)\n",
    "with open(f\"../results/02_allen/best_traces_mae_{setup}.pkl\", \"rb\") as handle:\n",
    "    best_traces = pickle.load(handle)"
   ]
  },
  {
   "cell_type": "markdown",
   "id": "9aa06aee-cdae-43aa-8da2-2377c6d693f4",
   "metadata": {},
   "source": [
    "### Panel D3"
   ]
  },
  {
   "cell_type": "code",
   "execution_count": 139,
   "id": "882a6d30-e4b5-4aeb-9234-22ecd4558300",
   "metadata": {},
   "outputs": [
    {
     "name": "stderr",
     "output_type": "stream",
     "text": [
      "/Users/michaeldeistler/Documents/phd/jaxley/jaxley/utils/swc.py:32: UserWarning: Found a soma which consists of a single traced point. `Jaxley` interprets this soma as a spherical compartment with radius specified in the SWC file, i.e. with surface area 4*pi*r*r.\n",
      "  warn(\n"
     ]
    },
    {
     "data": {
      "image/png": "[encoded data removed]",
      "text/plain": [
       "<Figure size 60x120 with 1 Axes>"
      ]
     },
     "metadata": {},
     "output_type": "display_data"
    },
    {
     "data": {
      "image/png": "[encoded data removed]",
      "text/plain": [
       "<Figure size 120x53 with 1 Axes>"
      ]
     },
     "metadata": {},
     "output_type": "display_data"
    },
    {
     "data": {
      "image/png": "[encoded data removed]",
      "text/plain": [
       "<Figure size 120x53 with 1 Axes>"
      ]
     },
     "metadata": {},
     "output_type": "display_data"
    },
    {
     "name": "stderr",
     "output_type": "stream",
     "text": [
      "/Users/michaeldeistler/Documents/phd/jaxley/jaxley/utils/swc.py:32: UserWarning: Found a soma which consists of a single traced point. `Jaxley` interprets this soma as a spherical compartment with radius specified in the SWC file, i.e. with surface area 4*pi*r*r.\n",
      "  warn(\n"
     ]
    },
    {
     "data": {
      "image/png": "[encoded data removed]",
      "text/plain": [
       "<Figure size 60x120 with 1 Axes>"
      ]
     },
     "metadata": {},
     "output_type": "display_data"
    },
    {
     "data": {
      "image/png": "[encoded data removed]",
      "text/plain": [
       "<Figure size 120x53 with 1 Axes>"
      ]
     },
     "metadata": {},
     "output_type": "display_data"
    },
    {
     "data": {
      "image/png": "[encoded data removed]",
      "text/plain": [
       "<Figure size 120x53 with 1 Axes>"
      ]
     },
     "metadata": {},
     "output_type": "display_data"
    },
    {
     "name": "stderr",
     "output_type": "stream",
     "text": [
      "/Users/michaeldeistler/Documents/phd/jaxley/jaxley/utils/swc.py:32: UserWarning: Found a soma which consists of a single traced point. `Jaxley` interprets this soma as a spherical compartment with radius specified in the SWC file, i.e. with surface area 4*pi*r*r.\n",
      "  warn(\n"
     ]
    },
    {
     "data": {
      "image/png": "[encoded data removed]",
      "text/plain": [
       "<Figure size 60x120 with 1 Axes>"
      ]
     },
     "metadata": {},
     "output_type": "display_data"
    },
    {
     "data": {
      "image/png": "[encoded data removed]",
      "text/plain": [
       "<Figure size 120x53 with 1 Axes>"
      ]
     },
     "metadata": {},
     "output_type": "display_data"
    },
    {
     "data": {
      "image/png": "[encoded data removed]",
      "text/plain": [
       "<Figure size 120x53 with 1 Axes>"
      ]
     },
     "metadata": {},
     "output_type": "display_data"
    },
    {
     "name": "stderr",
     "output_type": "stream",
     "text": [
      "/Users/michaeldeistler/Documents/phd/jaxley/jaxley/utils/swc.py:32: UserWarning: Found a soma which consists of a single traced point. `Jaxley` interprets this soma as a spherical compartment with radius specified in the SWC file, i.e. with surface area 4*pi*r*r.\n",
      "  warn(\n"
     ]
    },
    {
     "data": {
      "image/png": "[encoded data removed]",
      "text/plain": [
       "<Figure size 60x120 with 1 Axes>"
      ]
     },
     "metadata": {},
     "output_type": "display_data"
    },
    {
     "data": {
      "image/png": "[encoded data removed]",
      "text/plain": [
       "<Figure size 120x53 with 1 Axes>"
      ]
     },
     "metadata": {},
     "output_type": "display_data"
    },
    {
     "data": {
      "image/png": "[encoded data removed]",
      "text/plain": [
       "<Figure size 120x53 with 1 Axes>"
      ]
     },
     "metadata": {},
     "output_type": "display_data"
    }
   ],
   "source": [
    "setups = {\n",
    "    \"485574832\": [155, 9],\n",
    "    \"488683425\": [195, 0],\n",
    "    \"480353286\": [175, 5],\n",
    "    \"473601979\": [195, 0],\n",
    "}\n",
    "for setup in setups.keys():\n",
    "    rotation = setups[setup][0]\n",
    "    index = setups[setup][1]\n",
    "    \n",
    "    cell = jx.read_swc(f\"../../../nex/l5pc/cell_types/specimen_{setup}/reconstruction.swc\", nseg=4, assign_groups=True)\n",
    "    cell.rotate(rotation)\n",
    "    \n",
    "    with open(f\"../results/02_allen/all_best_params_mae_{setup}.pkl\", \"rb\") as handle:\n",
    "        best_params = pickle.load(handle)\n",
    "    with open(f\"../results/02_allen/losses_of_every_starting_point_mae_{setup}.pkl\", \"rb\") as handle:\n",
    "        all_losses = pickle.load(handle)\n",
    "    with open(f\"../results/02_allen/best_traces_mae_{setup}.pkl\", \"rb\") as handle:\n",
    "        best_traces = pickle.load(handle)\n",
    "        \n",
    "    ###################################\n",
    "    ########### Morphology ############\n",
    "    ###################################\n",
    "    with mpl.rc_context(fname=\"../../../.matplotlibrc\"):\n",
    "        fig, ax = plt.subplots(1, 1, figsize=(0.6, 1.2))\n",
    "        ax = cell.vis(ax=ax, morph_plot_kwargs={\"linewidth\": 0.2})\n",
    "        ax = cell.soma[0,0].vis(ax=ax, col=papercols[\"soma\"], morph_plot_kwargs={\"linewidth\": 0.2, \"s\": 15, \"zorder\": 1000})\n",
    "        ax = cell.apical.vis(ax=ax, col=papercols[\"apical\"], morph_plot_kwargs={\"linewidth\": 0.5})\n",
    "        ax = cell.axon.vis(ax=ax, col=papercols[\"axon\"], morph_plot_kwargs={\"linewidth\": 0.5})\n",
    "        ax = cell.basal.vis(ax=ax, col=papercols[\"basal\"], morph_plot_kwargs={\"linewidth\": 0.5})\n",
    "        _ = ax.spines[\"left\"].set_visible(False)\n",
    "        _ = ax.spines[\"bottom\"].set_visible(False)\n",
    "        _ = ax.set_xticks([])\n",
    "        _ = ax.set_yticks([])\n",
    "        plt.savefig(f\"../svg/panel_d1_{setup}.svg\", bbox_inches=\"tight\", transparent=True)\n",
    "        plt.show()\n",
    "    \n",
    "    \n",
    "    ###################################\n",
    "    ####### Experimental trace ########\n",
    "    ###################################\n",
    "    dt = 0.025\n",
    "    time_pad_on = 50.0\n",
    "    time_pad_off = 150.0\n",
    "    junction_potential = -14.0\n",
    "    \n",
    "    with open(f\"../../../nex/l5pc/cell_types/specimen_{setup}/ephys_01.pkl\", \"rb\") as handle:\n",
    "        ephys = pickle.load(handle)\n",
    "    \n",
    "    dt_stim = np.mean(np.diff(ephys[\"time\"]))\n",
    "    dt_difference = dt / dt_stim / 1000\n",
    "    \n",
    "    ephys_stim = ephys[\"stimulus\"][::int(dt_difference)]\n",
    "    ephys_rec = ephys[\"response\"][::int(dt_difference)] + junction_potential\n",
    "    ephys_time_vec = ephys[\"time\"][::int(dt_difference)]\n",
    "    \n",
    "    stim_onset = np.where(ephys_stim > 0.05)[0][0]\n",
    "    protocol_start = int(stim_onset - time_pad_on / 0.025)\n",
    "    \n",
    "    stim_offset = np.where(ephys_stim < 0.05)[0]\n",
    "    stim_offset = stim_offset[stim_offset > 20_000][0]\n",
    "    protocol_end = int(stim_offset + time_pad_off / 0.025)\n",
    "    \n",
    "    ephys_stim = ephys_stim[protocol_start:protocol_end]\n",
    "    ephys_rec = ephys_rec[protocol_start:protocol_end]\n",
    "    ephys_time_vec = ephys_time_vec[protocol_start:protocol_end] * 1000\n",
    "    ephys_time_vec -= ephys_time_vec[0]\n",
    "    \n",
    "    with mpl.rc_context(fname=\"../../../.matplotlibrc\"):\n",
    "        fig, ax = plt.subplots(1, 1, figsize=(1.2, 0.53))\n",
    "        ax.plot(ephys_time_vec, ephys_rec, c=papercols[\"data\"])\n",
    "        _ = ax.set_xticks([])\n",
    "        _ = ax.set_xlim([0, 1200])\n",
    "        _ = ax.set_yticks([])\n",
    "        _ = ax.set_ylim([-100, 50])\n",
    "        _ = ax.spines[\"bottom\"].set_visible(False)\n",
    "        _ = ax.spines[\"left\"].set_visible(False)\n",
    "        plt.savefig(f\"../svg/panel_d2_{setup}.svg\", bbox_inches=\"tight\", transparent=True)\n",
    "        plt.show()\n",
    "    \n",
    "    ###################################\n",
    "    ##### Gradient descent trace ######\n",
    "    ###################################\n",
    "    time_vec = np.arange(0, 1150+0.05, 0.025)\n",
    "    best_traces = np.asarray(best_traces)\n",
    "    \n",
    "    with mpl.rc_context(fname=\"../../../.matplotlibrc\"):\n",
    "        fig, ax = plt.subplots(1, 1, figsize=(1.2, 0.53))\n",
    "        _ = ax.plot(time_vec, best_traces[index, 0], c=papercols[\"jaxley\"])\n",
    "\n",
    "        # Scalebar.\n",
    "        if setup in [\"488683425\", \"473601979\"]:\n",
    "            _ = ax.plot([1200, 1200], [-100.0, -70.0], c=\"k\", clip_on=False)\n",
    "            _ = ax.plot([1000, 1200], [-100.0, -100.0], c=\"k\", clip_on=False)\n",
    "        \n",
    "        _ = ax.set_xticks([])\n",
    "        _ = ax.set_xlim([0, 1200])\n",
    "        _ = ax.set_yticks([])\n",
    "        _ = ax.set_ylim([-100, 50])\n",
    "        _ = ax.spines[\"bottom\"].set_visible(False)\n",
    "        _ = ax.spines[\"left\"].set_visible(False)\n",
    "        plt.savefig(f\"../svg/panel_d3_{setup}.svg\", bbox_inches=\"tight\", transparent=True)\n",
    "        plt.show()"
   ]
  },
  {
   "cell_type": "markdown",
   "id": "17a9ab27-aac3-4682-b3b2-c1587c268d12",
   "metadata": {},
   "source": [
    "# Voltage imaging"
   ]
  },
  {
   "cell_type": "code",
   "execution_count": 68,
   "id": "7451abdb-c265-4ac3-a99e-bdae4a5f62f5",
   "metadata": {},
   "outputs": [],
   "source": [
    "with open(\"../results/03_voltage_imaging/cell.pkl\", \"rb\") as handle:\n",
    "    cell = pickle.load(handle)\n",
    "\n",
    "with open(\"../results/03_voltage_imaging/profile_evals.pkl\", \"rb\") as handle:\n",
    "    evals = pickle.load(handle)\n",
    "\n",
    "with open(\"../results/03_voltage_imaging/axonal_profile.pkl\", \"rb\") as handle:\n",
    "    gt_profiles_axonal = pickle.load(handle)\n",
    "\n",
    "with open(\"../results/03_voltage_imaging/apical_profile.pkl\", \"rb\") as handle:\n",
    "    gt_profiles_apical = pickle.load(handle)\n",
    "\n",
    "with open(\"../results/03_voltage_imaging/recording_xo.pkl\", \"rb\") as handle:\n",
    "    x_o = pickle.load(handle)\n",
    "\n",
    "with open(\"../results/03_voltage_imaging/ga_losses.pkl\", \"rb\") as handle:\n",
    "    ga_losses = pickle.load(handle)\n",
    "\n",
    "with open(\"../results/03_voltage_imaging/gd_losses.pkl\", \"rb\") as handle:\n",
    "    gd_losses = pickle.load(handle)\n",
    "\n",
    "with open(\"../results/03_voltage_imaging/params.pkl\", \"rb\") as handle:\n",
    "    params = pickle.load(handle)\n",
    "\n",
    "with open(\"../results/03_voltage_imaging/bounds.pkl\", \"rb\") as handle:\n",
    "    bounds = pickle.load(handle)\n",
    "\n",
    "with open(\"../results/03_voltage_imaging/prediction.pkl\", \"rb\") as handle:\n",
    "    prediction = pickle.load(handle)"
   ]
  },
  {
   "cell_type": "markdown",
   "id": "7eed762b-c177-4b22-b452-cab75c41d246",
   "metadata": {
    "jp-MarkdownHeadingCollapsed": true
   },
   "source": [
    "### Panel E1"
   ]
  },
  {
   "cell_type": "code",
   "execution_count": 56,
   "id": "8c36bffe-3621-497d-b268-b5147b7f716f",
   "metadata": {},
   "outputs": [
    {
     "data": {
      "image/png": "[encoded data removed]",
      "text/plain": [
       "<Figure size 60x110 with 1 Axes>"
      ]
     },
     "metadata": {},
     "output_type": "display_data"
    }
   ],
   "source": [
    "cmap = papercols[\"parameter_cmap\"]\n",
    "vals = np.asarray(np.repeat(params[0][\"apical_NaTs2T_gNaTs2T\"], 4) / 0.04)\n",
    "\n",
    "with mpl.rc_context(fname=\"../../../.matplotlibrc\"):\n",
    "    fig, ax = plt.subplots(1, 1, figsize=(0.6, 1.1))\n",
    "    _ = cell.vis(ax=ax, col=\"k\", morph_plot_kwargs={\"linewidth\": 0.3, \"alpha\": 0.3})\n",
    "    for b in range(129):\n",
    "        _ = cell.apical.branch(b).vis(\n",
    "            ax=ax,\n",
    "            col=cmap(vals[b * 4 + 3]),\n",
    "            morph_plot_kwargs={\"linewidth\": 0.3, \"zorder\": 1000},\n",
    "        )\n",
    "    _ = ax.spines[\"left\"].set_visible(False)\n",
    "    _ = ax.spines[\"bottom\"].set_visible(False)\n",
    "    _ = ax.set_xticks([])\n",
    "    _ = ax.set_yticks([])\n",
    "    plt.savefig(\"../svg/panel_e1.svg\", bbox_inches=\"tight\", transparent=True)\n",
    "    plt.show()"
   ]
  },
  {
   "cell_type": "code",
   "execution_count": 57,
   "id": "1263e24d-b730-48e6-929a-006d760cf5f5",
   "metadata": {},
   "outputs": [
    {
     "data": {
      "image/png": "[encoded data removed]",
      "text/plain": [
       "<Figure size 60x110 with 1 Axes>"
      ]
     },
     "metadata": {},
     "output_type": "display_data"
    }
   ],
   "source": [
    "vals = np.asarray(np.repeat(params[-3][\"axonal_CaLVA_gCaLVA\"], 4) / 0.01)\n",
    "\n",
    "with mpl.rc_context(fname=\"../../../.matplotlibrc\"):\n",
    "    fig, ax = plt.subplots(1, 1, figsize=(0.6, 1.1))\n",
    "    _ = cell.vis(ax=ax, col=\"k\", morph_plot_kwargs={\"linewidth\": 0.3, \"alpha\": 0.3})\n",
    "    for b in range(int(len(cell.axon.view) / 4)):\n",
    "        _ = cell.axon.branch(b).vis(\n",
    "            ax=ax,\n",
    "            col=cmap(vals[b * 4 + 3]),\n",
    "            morph_plot_kwargs={\"linewidth\": 0.3, \"zorder\": 1000},\n",
    "        )\n",
    "    _ = ax.spines[\"left\"].set_visible(False)\n",
    "    _ = ax.spines[\"bottom\"].set_visible(False)\n",
    "    _ = ax.set_xticks([])\n",
    "    _ = ax.set_yticks([])\n",
    "    plt.savefig(\"../svg/panel_e2.svg\", bbox_inches=\"tight\", transparent=True)\n",
    "    plt.show()"
   ]
  },
  {
   "cell_type": "code",
   "execution_count": 58,
   "id": "5eb320c9-a79e-4344-8bfd-db4a94aed533",
   "metadata": {},
   "outputs": [
    {
     "data": {
      "image/png": "[encoded data removed]",
      "text/plain": [
       "<Figure size 3.5x48 with 2 Axes>"
      ]
     },
     "metadata": {},
     "output_type": "display_data"
    }
   ],
   "source": [
    "with mpl.rc_context(fname=\"../../../.matplotlibrc\"):\n",
    "    a = np.array([[0,1]])\n",
    "    plt.figure(figsize=(0.035, 0.48))\n",
    "    img = plt.imshow(a, cmap=cmap)\n",
    "    plt.gca().set_visible(False)\n",
    "    cax = plt.axes([0.1, 0.2, 0.8, 0.6])\n",
    "    cbar = plt.colorbar(cax=cax, ticks=[])\n",
    "    name = r\"$\\overline{g}_{NaT}$\"\n",
    "    cbar.set_label(f\"{name}\", labelpad=3)\n",
    "    plt.savefig(\"../svg/panel_e3.svg\", bbox_inches=\"tight\", transparent=True)\n",
    "    plt.show()"
   ]
  },
  {
   "cell_type": "code",
   "execution_count": 59,
   "id": "0655c350-d922-4f68-94b3-0843ceb85829",
   "metadata": {},
   "outputs": [
    {
     "data": {
      "image/png": "[encoded data removed]",
      "text/plain": [
       "<Figure size 3.5x48 with 2 Axes>"
      ]
     },
     "metadata": {},
     "output_type": "display_data"
    }
   ],
   "source": [
    "with mpl.rc_context(fname=\"../../../.matplotlibrc\"):\n",
    "    a = np.array([[0,1]])\n",
    "    plt.figure(figsize=(0.035, 0.48))\n",
    "    img = plt.imshow(a, cmap=cmap)\n",
    "    plt.gca().set_visible(False)\n",
    "    cax = plt.axes([0.1, 0.2, 0.8, 0.6])\n",
    "    cbar = plt.colorbar(cax=cax, ticks=[])\n",
    "    name = r\"$\\overline{g}_{CaLVA}$\"\n",
    "    cbar.set_label(f\"{name}\", labelpad=3)\n",
    "    plt.savefig(\"../svg/panel_e4.svg\", bbox_inches=\"tight\", transparent=True)\n",
    "    plt.show()"
   ]
  },
  {
   "cell_type": "markdown",
   "id": "60b7de5d-e815-49d1-9e42-21309fc50ae0",
   "metadata": {},
   "source": [
    "### Panel F1"
   ]
  },
  {
   "cell_type": "code",
   "execution_count": 69,
   "id": "7ddef4a1-e12b-4bb7-a506-152678c802fd",
   "metadata": {},
   "outputs": [],
   "source": [
    "from nex.colors import cols as papercols"
   ]
  },
  {
   "cell_type": "code",
   "execution_count": 71,
   "id": "f09f02f5-691d-4df4-86c2-57e22d6861cd",
   "metadata": {},
   "outputs": [
    {
     "data": {
      "image/png": "[encoded data removed]",
      "text/plain": [
       "<Figure size 180x110 with 3 Axes>"
      ]
     },
     "metadata": {},
     "output_type": "display_data"
    }
   ],
   "source": [
    "cmap = papercols[\"data_cmap\"]\n",
    "with mpl.rc_context(fname=\"../../../.matplotlibrc\"):\n",
    "    fig, ax = plt.subplots(1, 3, figsize=(1.8, 1.1))\n",
    "    for i in range(3):\n",
    "        observation_time = x_o[:, 60 + i * 40]\n",
    "        observation_time += 80.0\n",
    "        observation_time /= 120.0\n",
    "        for b in range(len(cell.nodes) // 4):\n",
    "            _ = cell.branch(b).vis(ax=ax[i], morph_plot_kwargs={\"linewidth\": 0.3}, col=cmap(observation_time[b]))\n",
    "        # _ = cell.vis(ax=ax[i], morph_plot_kwargs={\"linewidth\": 0.3}, col=observation_time, colormap=papercols[\"data_cmap\"])\n",
    "        _ = ax[i].spines[\"left\"].set_visible(False)\n",
    "        _ = ax[i].spines[\"bottom\"].set_visible(False)\n",
    "        _ = ax[i].set_xticks([])\n",
    "        _ = ax[i].set_yticks([])\n",
    "    _ = ax[0].text(400, -650, \"1.5 ms\")\n",
    "    _ = ax[1].text(400, -650, \"2.5 ms\")\n",
    "    _ = ax[2].text(400, -650, \"3.5 ms\")\n",
    "    plt.subplots_adjust(wspace=-0.1)\n",
    "    plt.savefig(\"../svg/panel_f1.svg\", bbox_inches=\"tight\", transparent=True)\n",
    "    plt.show()"
   ]
  },
  {
   "cell_type": "code",
   "execution_count": 72,
   "id": "5af415e8-6854-4ff0-8ff3-cad1a37f19f9",
   "metadata": {},
   "outputs": [],
   "source": [
    "# with mpl.rc_context(fname=\"../../../.matplotlibrc\"):\n",
    "#     fig, ax = plt.subplots(1, 3, figsize=(1.8, 1.1))\n",
    "#     for i in range(3):\n",
    "#         observation_time = x_o[:, 60 + i * 40]\n",
    "#         observation_time += 80.0\n",
    "#         observation_time /= 120.0\n",
    "#         _ = cell.vis(ax=ax[i], morph_plot_kwargs={\"linewidth\": 0.3}, col=observation_time, colormap=papercols[\"data_cmap\"])\n",
    "#         _ = ax[i].spines[\"left\"].set_visible(False)\n",
    "#         _ = ax[i].spines[\"bottom\"].set_visible(False)\n",
    "#         _ = ax[i].set_xticks([])\n",
    "#         _ = ax[i].set_yticks([])\n",
    "#     _ = ax[0].text(400, -650, \"1.5 ms\")\n",
    "#     _ = ax[1].text(400, -650, \"2.5 ms\")\n",
    "#     _ = ax[2].text(400, -650, \"3.5 ms\")\n",
    "#     plt.subplots_adjust(wspace=-0.1)\n",
    "#     plt.savefig(\"../svg/panel_f1.svg\", bbox_inches=\"tight\", transparent=True)\n",
    "#     plt.show()"
   ]
  },
  {
   "cell_type": "markdown",
   "id": "e4660c42-a4cc-4e4f-9206-fdac802bbf82",
   "metadata": {},
   "source": [
    "### Panel F2"
   ]
  },
  {
   "cell_type": "code",
   "execution_count": 73,
   "id": "d1114216-7bab-4ad5-b259-cfd9af5b0c05",
   "metadata": {},
   "outputs": [
    {
     "data": {
      "image/png": "[encoded data removed]",
      "text/plain": [
       "<Figure size 3.5x48 with 2 Axes>"
      ]
     },
     "metadata": {},
     "output_type": "display_data"
    }
   ],
   "source": [
    "with mpl.rc_context(fname=\"../../../.matplotlibrc\"):\n",
    "    a = np.array([[0,1]])\n",
    "    plt.figure(figsize=(0.035, 0.48))\n",
    "    img = plt.imshow(a, cmap=papercols[\"data_cmap\"])\n",
    "    plt.gca().set_visible(False)\n",
    "    cax = plt.axes([0.1, 0.2, 0.8, 0.6])\n",
    "    cbar = plt.colorbar(cax=cax, ticks=[])\n",
    "    cbar.set_label(\"Voltage\", labelpad=3)\n",
    "    plt.savefig(\"../svg/panel_f2.svg\", bbox_inches=\"tight\", transparent=True)\n",
    "    plt.show()"
   ]
  },
  {
   "cell_type": "markdown",
   "id": "88bc5382-9d7d-4425-96a9-a2521ede1636",
   "metadata": {},
   "source": [
    "### Panel G"
   ]
  },
  {
   "cell_type": "code",
   "execution_count": 155,
   "id": "6986607a-e829-455a-ac8e-3b4cb865c288",
   "metadata": {},
   "outputs": [],
   "source": [
    "with open(\"../results/03_voltage_imaging/processed_posterior_apical.pkl\", \"rb\") as handle:\n",
    "    processed_posterior = pickle.load(handle)"
   ]
  },
  {
   "cell_type": "code",
   "execution_count": 156,
   "id": "30201527-aa33-49f7-b687-dbf021781c73",
   "metadata": {},
   "outputs": [],
   "source": [
    "ind = 0\n",
    "keys = list(processed_posterior.keys())[:1]\n",
    "key = keys[ind]"
   ]
  },
  {
   "cell_type": "code",
   "execution_count": 157,
   "id": "e7e7860f-328b-4784-8375-fec89bb71fbe",
   "metadata": {},
   "outputs": [],
   "source": [
    "data = processed_posterior[key][\"x_axis\"]"
   ]
  },
  {
   "cell_type": "code",
   "execution_count": 169,
   "id": "d27704e1-eccb-4507-a29d-64c108281671",
   "metadata": {},
   "outputs": [
    {
     "name": "stdout",
     "output_type": "stream",
     "text": [
      "key axonal_KTst_gKTst\n"
     ]
    },
    {
     "data": {
      "image/png": "[encoded data removed]",
      "text/plain": [
       "<Figure size 80x70 with 2 Axes>"
      ]
     },
     "metadata": {},
     "output_type": "display_data"
    }
   ],
   "source": [
    "color = papercols[\"jaxley\"]\n",
    "\n",
    "with mpl.rc_context(fname=\"../../../.matplotlibrc\"):\n",
    "    fig, axs = plt.subplots(1, 2, figsize=(0.8, 0.7))\n",
    "\n",
    "    for i in range(2):\n",
    "        if i == 0:\n",
    "            # First plot\n",
    "            ind = 0\n",
    "            evals = np.linspace(0, 1200, 100)\n",
    "            names = [r\"$\\overline{g}_{NaT}$\"]\n",
    "            with open(\"../results/03_voltage_imaging/processed_posterior_apical.pkl\", \"rb\") as handle:\n",
    "                processed_posterior = pickle.load(handle)\n",
    "            keys = list(processed_posterior.keys())[:1]\n",
    "            key = keys[ind]\n",
    "            bounds = processed_posterior[\"bounds\"]\n",
    "            gt_profiles_apical = processed_posterior[\"gt_profiles_apical\"]\n",
    "                    \n",
    "            data = processed_posterior[key]\n",
    "            xaxis = data[\"x_axis\"]\n",
    "            yaxis = data[\"y_axis\"]\n",
    "            q = data[\"quantiles\"]\n",
    "            idx_005 = data[\"idx_005\"]\n",
    "            idx_095 = data[\"idx_095\"]\n",
    "\n",
    "            axs[0].set_ylabel(\"Distance to\\nsoma \" + r\"($\\mu$m)\", labelpad=-10)\n",
    "            axs[1].spines['left'].set_visible(False)\n",
    "            axs[1].yaxis.set_visible(False)\n",
    "        \n",
    "            axs[0].plot(gt_profiles_apical[key] * bounds[key][1],evals, color='black', lw=1, zorder=1000)\n",
    "            axs[0].plot(q[idx_005],xaxis,  color=color, lw=1, linestyle='-')\n",
    "            axs[0].plot(q[idx_095],xaxis,  color=color, lw=1, linestyle='-')\n",
    "            \n",
    "            axs[0].set_xlabel(f\"Apical\\n{names[ind]}\", labelpad=1)\n",
    "        else:\n",
    "            # Second plot\n",
    "            evals = np.linspace(0, 1200, 100)\n",
    "            names = [r\"$\\overline{g}_{KTst}$\"]\n",
    "            with open(\"../results/03_voltage_imaging/processed_posterior_axonal.pkl\", \"rb\") as handle:\n",
    "                processed_posterior = pickle.load(handle)\n",
    "            keys = list(processed_posterior.keys())[:8]\n",
    "            ind = 2  ########################################################################################## TODO\n",
    "            key = keys[ind]\n",
    "            bounds = processed_posterior[\"bounds\"]\n",
    "            gt_profiles_axonal = processed_posterior[\"gt_profiles_axonal\"]\n",
    "\n",
    "            print(\"key\", key)\n",
    "            data = processed_posterior[key]\n",
    "            xaxis = data[\"x_axis\"]\n",
    "            yaxis = data[\"y_axis\"]\n",
    "            q = data[\"quantiles\"]\n",
    "            idx_005 = data[\"idx_005\"]\n",
    "            idx_095 = data[\"idx_095\"]\n",
    "        \n",
    "            axs[1].plot(gt_profiles_axonal[key][:len(evals)//2] * bounds[key][1], evals[:len(evals)//2], color='black', lw=1, zorder=1000)\n",
    "            axs[1].plot(q[idx_005], xaxis, color=color, lw=1, linestyle='-')\n",
    "            axs[1].plot(q[idx_095], xaxis, color=color, lw=1, linestyle='-')\n",
    "\n",
    "            axs[1].set_xlabel(f\"Axonal\\n{names[0]}\", labelpad=1)\n",
    "\n",
    "        for j in range(100):\n",
    "            color_index = (1- jnp.abs(i - 50)/50)**0.1\n",
    "            axs[i].plot(q[j],xaxis, color=color, alpha=0.02, lw=3)\n",
    "        \n",
    "        axs[i].set_xlim(bounds[key])\n",
    "        axs[i].set_xticks(bounds[key])\n",
    "        axs[i].set_xticklabels([b for b in bounds[key]])\n",
    "        axs[i].set_ylim([0,1200])\n",
    "        axs[i].set_yticks([0,1200])\n",
    "\n",
    "    axs[0].set_ylabel(\"Distance to\\nsoma \" + r\"($\\mu$m)\", labelpad=-10)\n",
    "    axs[1].spines['left'].set_visible(False)\n",
    "    axs[1].yaxis.set_visible(False)\n",
    "\n",
    "    _ = axs[1].legend(\n",
    "        [\"gt\", \"Posterior\"],\n",
    "        loc=\"upper right\",\n",
    "        bbox_to_anchor=[1.25, 1.3, 0.0, 0.0],\n",
    "        ncols=2,\n",
    "        handlelength=0.5,\n",
    "        columnspacing=1.0,\n",
    "        handletextpad=0.4,\n",
    "    )\n",
    "    plt.subplots_adjust(wspace=0.7)\n",
    "    fig.savefig(\"../svg/panel_g.svg\", bbox_inches=\"tight\", transparent=True)\n",
    "    \n",
    "    plt.show()"
   ]
  },
  {
   "cell_type": "markdown",
   "id": "e69df4d3-70a8-4ffd-9790-b1892d375a35",
   "metadata": {},
   "source": [
    "### Panel H"
   ]
  },
  {
   "cell_type": "code",
   "execution_count": 74,
   "id": "1e784e42-9e15-4246-a721-833ae08dd5ed",
   "metadata": {},
   "outputs": [
    {
     "data": {
      "image/png": "[encoded data removed]",
      "text/plain": [
       "<Figure size 180x110 with 3 Axes>"
      ]
     },
     "metadata": {},
     "output_type": "display_data"
    }
   ],
   "source": [
    "with mpl.rc_context(fname=\"../../../.matplotlibrc\"):\n",
    "    fig, ax = plt.subplots(1, 3, figsize=(1.8, 1.1))\n",
    "    for i in range(3):\n",
    "        observation_time = prediction[:, 60 + i * 40]\n",
    "        observation_time += 80.0\n",
    "        observation_time /= 120.0\n",
    "        for b in range(len(cell.nodes) // 4):\n",
    "            _ = cell.branch(b).vis(ax=ax[i], morph_plot_kwargs={\"linewidth\": 0.3}, col=cmap(observation_time[b * 4]))\n",
    "        _ = ax[i].spines[\"left\"].set_visible(False)\n",
    "        _ = ax[i].spines[\"bottom\"].set_visible(False)\n",
    "        _ = ax[i].set_xticks([])\n",
    "        _ = ax[i].set_yticks([])\n",
    "    _ = ax[0].text(400, -650, \"1.5 ms\")\n",
    "    _ = ax[1].text(400, -650, \"2.5 ms\")\n",
    "    _ = ax[2].text(400, -650, \"3.5 ms\")\n",
    "    plt.subplots_adjust(wspace=-0.1)\n",
    "    plt.savefig(\"../svg/panel_h.svg\", bbox_inches=\"tight\", transparent=True)\n",
    "    plt.show()"
   ]
  },
  {
   "cell_type": "markdown",
   "id": "ecd5df73-db49-44c8-8ab6-8fd44c4034ae",
   "metadata": {},
   "source": [
    "### Panel I"
   ]
  },
  {
   "cell_type": "code",
   "execution_count": 52,
   "id": "59f4b5f2-2db1-4d0a-ba21-6a234b217c4a",
   "metadata": {},
   "outputs": [
    {
     "data": {
      "image/png": "[encoded data removed]",
      "text/plain": [
       "<Figure size 150x65 with 1 Axes>"
      ]
     },
     "metadata": {},
     "output_type": "display_data"
    }
   ],
   "source": [
    "with mpl.rc_context(fname=\"../../../.matplotlibrc\"):\n",
    "    fig, ax = plt.subplots(1, 1, figsize=(1.5, 0.65))\n",
    "    _ = ax.plot(ga_losses, color=papercols[\"genetic_alg\"])\n",
    "    _ = ax.plot(gd_losses, color=papercols[\"jaxley\"])\n",
    "    _ = ax.set_yscale(\"log\")\n",
    "    _ = ax.set_ylim([0.3, 30])\n",
    "    _ = ax.set_ylabel(\"Loss\")\n",
    "    _ = ax.set_xlabel(\"Iterations\", labelpad=-3)\n",
    "    _ = ax.set_xlim([0, 500])\n",
    "    _ = ax.legend(\n",
    "        [\"Genetic alg.\", \"Gradient desc.\"], \n",
    "        loc=\"upper right\", \n",
    "        bbox_to_anchor=[1.0, 1.4, 0.0, 0.0], \n",
    "        ncol=2, \n",
    "        handlelength=0.8,\n",
    "        columnspacing=0.8,\n",
    "        handletextpad=0.4,\n",
    "    )\n",
    "    _ = ax.set_xticks([0, 500])\n",
    "    plt.savefig(\"../svg/panel_i.svg\", bbox_inches=\"tight\")\n",
    "    plt.show()"
   ]
  },
  {
   "cell_type": "markdown",
   "id": "2cae7bfd-f46a-4344-bd2c-1f78a20597f3",
   "metadata": {
    "jp-MarkdownHeadingCollapsed": true
   },
   "source": [
    "# Nonlinear single neuron"
   ]
  },
  {
   "cell_type": "code",
   "execution_count": 4,
   "id": "d6adf869-9dca-41cd-9ab9-c22ad9ef49c0",
   "metadata": {},
   "outputs": [],
   "source": [
    "from nex.colors import cols as papercols"
   ]
  },
  {
   "cell_type": "code",
   "execution_count": 21,
   "id": "63defaf7-db53-4ee9-b426-23996183d432",
   "metadata": {},
   "outputs": [],
   "source": [
    "with open(\"../results/04_nonlinear/gd_loss.pkl\", \"rb\") as handle:\n",
    "    all_gd_losses = pickle.load(handle)\n",
    "\n",
    "with open(\"../results/04_nonlinear/ga_loss.pkl\", \"rb\") as handle:\n",
    "    all_ga_losses = pickle.load(handle)\n",
    "\n",
    "with open(\"../results/04_nonlinear/gd_prediction_surface.pkl\", \"rb\") as handle:\n",
    "    prediction_grid = pickle.load(handle)\n",
    "\n",
    "with open(\"../results/04_nonlinear/traces.pkl\", \"rb\") as handle:\n",
    "    traces = pickle.load(handle)\n",
    "\n",
    "with open(\"../results/04_nonlinear/labels.pkl\", \"rb\") as handle:\n",
    "    labels = pickle.load(handle)\n",
    "\n",
    "with open(\"../results/04_nonlinear/time_vec.pkl\", \"rb\") as handle:\n",
    "    time_vec = pickle.load(handle)\n",
    "\n",
    "with open(\"../results/04_nonlinear/train_images.pkl\", \"rb\") as handle:\n",
    "    train_images = pickle.load(handle)\n",
    "\n",
    "with open(\"../results/04_nonlinear/train_labels.pkl\", \"rb\") as handle:\n",
    "    train_labels = pickle.load(handle)"
   ]
  },
  {
   "cell_type": "markdown",
   "id": "0bb98281-2c0e-4daa-af03-b229e6b376f1",
   "metadata": {},
   "source": [
    "### Panel J1"
   ]
  },
  {
   "cell_type": "code",
   "execution_count": 22,
   "id": "0bc2b26c-fe34-497a-a02e-342c855fc44f",
   "metadata": {},
   "outputs": [
    {
     "data": {
      "image/png": "[encoded data removed]",
      "text/plain": [
       "<Figure size 92x92 with 1 Axes>"
      ]
     },
     "metadata": {},
     "output_type": "display_data"
    }
   ],
   "source": [
    "with mpl.rc_context(fname=\"../../../.matplotlibrc\"):\n",
    "    fig, ax = plt.subplots(1, 1, figsize=(0.92, 0.92))\n",
    "    for p, l in zip(train_images[:100], train_labels[:100]):\n",
    "        _ = ax.scatter(p[0], p[1], c=papercols[\"data_classes\"][1] if l else papercols[\"data_classes\"][0], s=1.0)\n",
    "    _ = ax.set_xlim([0, 5])\n",
    "    _ = ax.set_ylim([0, 5])\n",
    "    _ = ax.set_xticks([0, 5])\n",
    "    _ = ax.set_yticks([0, 5])\n",
    "    _ = ax.set_xlabel(r\"$x_1$\", labelpad=-3)\n",
    "    _ = ax.set_ylabel(r\"$x_2$\", labelpad=-3)\n",
    "    _ = ax.legend([\"-70mV\", \"35mV\"], loc=\"upper right\", bbox_to_anchor=[1.1, 1.1, 0.0, 0.0],\n",
    "                  ncols=2, columnspacing=0.1, handletextpad=-0.6)\n",
    "    plt.savefig(\"../svg/panel_j1.svg\", bbox_inches=\"tight\")\n",
    "    plt.show()"
   ]
  },
  {
   "cell_type": "markdown",
   "id": "b691f7d6-0d75-4b07-b5e1-4b3af3b924d1",
   "metadata": {},
   "source": [
    "### Panel J2"
   ]
  },
  {
   "cell_type": "code",
   "execution_count": 23,
   "id": "08c30acb-03c3-46f1-81b9-9ddf1d7a3053",
   "metadata": {},
   "outputs": [],
   "source": [
    "depth = 2\n",
    "nseg_per_branch = 4\n",
    "\n",
    "parents = [-1] + [b // 2 for b in range(0, 2**depth - 2)]\n",
    "parents = jnp.asarray(parents)\n",
    "\n",
    "num_branches = len(parents)\n",
    "\n",
    "comp = jx.Compartment().initialize()\n",
    "branch = jx.Branch([comp for _ in range(nseg_per_branch)]).initialize()\n",
    "cell = jx.Cell([branch for _ in range(num_branches)], parents=parents).initialize()"
   ]
  },
  {
   "cell_type": "code",
   "execution_count": 24,
   "id": "ecf117dc-4212-4823-b02b-5fd98b6a6a3e",
   "metadata": {},
   "outputs": [
    {
     "data": {
      "image/png": "[encoded data removed]",
      "text/plain": [
       "<Figure size 92x92 with 1 Axes>"
      ]
     },
     "metadata": {},
     "output_type": "display_data"
    }
   ],
   "source": [
    "cell.compute_xyz()\n",
    "cell.rotate(180)\n",
    "\n",
    "with mpl.rc_context(fname=\"../../../.matplotlibrc\"):\n",
    "    fig, ax = plt.subplots(1, 1, figsize=(0.92, 0.92))\n",
    "    ax = cell.vis(ax=ax, morph_plot_kwargs={\"linewidth\": 2.5})\n",
    "    _ = ax.spines[\"left\"].set_visible(False)\n",
    "    _ = ax.spines[\"bottom\"].set_visible(False)\n",
    "    _ = ax.set_xticks([])\n",
    "    _ = ax.set_yticks([])\n",
    "    # plt.savefig(\"results/figs/fig1/svg/simple_morph.svg\", dpi=200, bbox_inches=\"tight\")\n",
    "    plt.savefig(\"../svg/panel_j2.svg\", bbox_inches=\"tight\")\n",
    "    plt.show()"
   ]
  },
  {
   "cell_type": "markdown",
   "id": "a9156715-2fab-474b-83c0-e17368a1b032",
   "metadata": {},
   "source": [
    "### Panel K"
   ]
  },
  {
   "cell_type": "code",
   "execution_count": 25,
   "id": "0ee29df1-a2a2-46ca-aa54-3d5e87059697",
   "metadata": {},
   "outputs": [
    {
     "data": {
      "image/png": "[encoded data removed]",
      "text/plain": [
       "<Figure size 92x92 with 1 Axes>"
      ]
     },
     "metadata": {},
     "output_type": "display_data"
    }
   ],
   "source": [
    "with mpl.rc_context(fname=\"../../../.matplotlibrc\"):\n",
    "    fig, ax = plt.subplots(1, 1, figsize=(0.92, 0.92))\n",
    "    for i, trace in enumerate(traces):\n",
    "        col = papercols[\"jaxley_classes\"][1] if labels[i] != -70.0 else papercols[\"jaxley_classes\"][0]\n",
    "        _ = ax.plot(time_vec, trace[0], c=col, linewidth=0.4, alpha=1.0)\n",
    "        _ = ax.set_ylim([-80, 50])\n",
    "        _ = ax.set_yticks([-80, 50])\n",
    "        _ = ax.set_xticks([0, 6])\n",
    "        _ = ax.set_xlim([0, 6])\n",
    "        _ = ax.set_xlabel(\"Time (ms)\", labelpad=-3)\n",
    "        _ = ax.set_ylabel(\"Voltage (mV)\", labelpad=-6)\n",
    "    plt.savefig(\"../svg/panel_k.svg\", bbox_inches=\"tight\")\n",
    "    plt.show()"
   ]
  },
  {
   "cell_type": "markdown",
   "id": "7e37420d-3b43-4282-8e02-3d91698843d1",
   "metadata": {},
   "source": [
    "### Panel L"
   ]
  },
  {
   "cell_type": "code",
   "execution_count": 26,
   "id": "4cb01cd5-de04-48f4-bbe5-cc9dd7d6701b",
   "metadata": {},
   "outputs": [
    {
     "data": {
      "image/png": "[encoded data removed]",
      "text/plain": [
       "<Figure size 140x92 with 2 Axes>"
      ]
     },
     "metadata": {},
     "output_type": "display_data"
    }
   ],
   "source": [
    "with mpl.rc_context(fname=\"../../../.matplotlibrc\"):\n",
    "    fig, ax = plt.subplots(1, 1, figsize=(1.4, 0.92))\n",
    "    p = ax.imshow(\n",
    "        prediction_grid,\n",
    "        origin=\"lower\",\n",
    "        extent=[0, 5, 0, 5],\n",
    "        vmin=-80.0,\n",
    "        vmax=50.0,\n",
    "        cmap=papercols[\"jaxley_cmap\"],\n",
    "    )\n",
    "    _ = ax.set_xticks([0, 5])\n",
    "    _ = ax.set_yticks([0, 5])\n",
    "    _ = ax.set_xlabel(r\"$x_1$\", labelpad=-3)\n",
    "    _ = ax.set_ylabel(r\"$x_2$\", labelpad=-3)\n",
    "    cb = plt.colorbar(p, ticks=[-80, 50])\n",
    "    cb.set_label(\"Voltage (mV)\", labelpad=-3)\n",
    "    plt.savefig(\"../svg/panel_l.svg\", bbox_inches=\"tight\")\n",
    "    plt.show()"
   ]
  },
  {
   "cell_type": "markdown",
   "id": "2098efac-71e6-4816-a5cd-1f35d40aede2",
   "metadata": {},
   "source": [
    "### Panel M"
   ]
  },
  {
   "cell_type": "code",
   "execution_count": 27,
   "id": "ca60cc8b-0e52-4e77-a434-c6e8b1c0f27f",
   "metadata": {},
   "outputs": [],
   "source": [
    "all_gd_losses = np.asarray(all_gd_losses)\n",
    "all_ga_losses = np.asarray(all_ga_losses)\n",
    "\n",
    "# best_gd = np.unravel_index(np.argmin(all_gd_losses), (10, 200))[0]\n",
    "# best_ga = np.unravel_index(np.argmin(all_ga_losses), (10, 200))[0]\n",
    "# best_gd = 2\n",
    "# average_loss_gd = all_gd_losses[best_gd]\n",
    "# average_loss_ga = all_ga_losses[best_ga]\n",
    "\n",
    "average_loss_gd = np.min(all_gd_losses, axis=0)\n",
    "average_loss_ga = np.min(all_ga_losses, axis=0)"
   ]
  },
  {
   "cell_type": "code",
   "execution_count": 29,
   "id": "bd80e148-d670-45b2-8492-3804125244f8",
   "metadata": {},
   "outputs": [
    {
     "data": {
      "image/png": "[encoded data removed]",
      "text/plain": [
       "<Figure size 150x70 with 1 Axes>"
      ]
     },
     "metadata": {},
     "output_type": "display_data"
    }
   ],
   "source": [
    "with mpl.rc_context(fname=\"../../../.matplotlibrc\"):\n",
    "    fig, ax = plt.subplots(1, 1, figsize=(1.5, 0.7))\n",
    "    _ = ax.plot(average_loss_ga, color=papercols[\"genetic_alg\"])\n",
    "    _ = ax.plot(average_loss_gd, color=papercols[\"jaxley\"])\n",
    "    _ = ax.set_ylabel(\"Loss\")\n",
    "    _ = ax.set_xlabel(\"Iterations\", labelpad=-3)\n",
    "    _ = ax.set_yscale(\"log\")\n",
    "    _ = ax.legend(\n",
    "        [\"Genetic alg.\", \"Gradient desc.\"], \n",
    "        loc=\"upper right\", \n",
    "        bbox_to_anchor=[1.0, 1.45, 0.0, 0.0], \n",
    "        ncol=2, \n",
    "        handlelength=0.8,\n",
    "        columnspacing=0.8,\n",
    "        handletextpad=0.4,\n",
    "    )\n",
    "    _ = ax.set_ylim([1.0, 1000])\n",
    "    _ = ax.set_xticks([0, 200])\n",
    "    _ = ax.set_xlim([0, 200])\n",
    "    plt.savefig(\"../svg/panel_m.svg\", bbox_inches=\"tight\")\n",
    "    plt.show()"
   ]
  },
  {
   "cell_type": "markdown",
   "id": "4beda64e-355b-432b-86e5-9840f6a42a1a",
   "metadata": {},
   "source": [
    "# Assemble"
   ]
  },
  {
   "cell_type": "code",
   "execution_count": 170,
   "id": "dd0970bd-d38f-423e-9514-4b9597d90ad9",
   "metadata": {},
   "outputs": [
    {
     "name": "stderr",
     "output_type": "stream",
     "text": [
      "/Users/michaeldeistler/anaconda3/envs/nex/lib/python3.11/pty.py:89: RuntimeWarning: os.fork() was called. os.fork() is incompatible with multithreaded code, and JAX is multithreaded, so this will likely lead to a deadlock.\n",
      "  pid, fd = os.forkpty()\n"
     ]
    },
    {
     "data": {
      "text/html": [
       "<img src=\"../fig/fig3.svg\" / >"
      ],
      "text/plain": [
       "<IPython.core.display.HTML object>"
      ]
     },
     "metadata": {},
     "output_type": "display_data"
    }
   ],
   "source": [
    "def svg(img):\n",
    "    IPd.display(IPd.HTML('<img src=\"{}\" / >'.format(img, time.time())))\n",
    "\n",
    "svg_scale = 1.334  # set this to 1.334 for Inkscape, 1.0 otherwise\n",
    "\n",
    "# Panel letters in Helvetica Neue, 12pt, Medium\n",
    "kwargs_text = {'size': '8pt', 'font': 'Arial', 'weight': '800'}\n",
    "kwargs_text_normal = {'size': '6pt', 'font': 'Arial'}\n",
    "\n",
    "heading11 = Text(\"Task 1:\", 0, 0.0, **kwargs_text_normal)\n",
    "heading21 = Text(\"Task 2:\", 0, 0.0, **kwargs_text_normal)\n",
    "heading31 = Text(\"Task 3:\", 0, 0.0, **kwargs_text_normal)\n",
    "heading11.rotate(270)\n",
    "heading21.rotate(270)\n",
    "heading31.rotate(270)\n",
    "\n",
    "heading12 = Text(\"Task 1: Intracell. recording\", 0, 0.0, **kwargs_text_normal)\n",
    "heading22 = Text(\"Task 2: Whole cell rec.\", 0, 0.0, **kwargs_text_normal)\n",
    "heading32 = Text(\"Task 3: Nonlinear comp.\", 0, 0.0, **kwargs_text_normal)\n",
    "heading12.rotate(270)\n",
    "heading22.rotate(270)\n",
    "heading32.rotate(270)\n",
    "\n",
    "f = Figure(\n",
    "    \"18.0cm\",\n",
    "    \"9.3cm\",\n",
    "    \n",
    "    Panel(\n",
    "        SVG(\"../svg/panel_a1.svg\").scale(svg_scale).move(10, 0),\n",
    "        Text(\"a\", 13, 2.0, **kwargs_text),\n",
    "        Text(\"Morphology\", 21, 2.0, **kwargs_text_normal),\n",
    "    ).move(15, 8),\n",
    "    # Panel(SVG(\"../svg/panel_a2.svg\").scale(svg_scale)).move(16, 4),\n",
    "\n",
    "    Panel(\n",
    "        SVG(\"../svg/panel_b1.svg\").scale(svg_scale).move(0, -1.0),\n",
    "        Text(\"b\", 5, 2.0, **kwargs_text), Text(\"Synthetic data\", 28, 2.0, **kwargs_text_normal)\n",
    "    ).move(85, 8),\n",
    "    Text(\"Gradient descent fit\", 15, 2.0, **kwargs_text_normal).move(90, 70),\n",
    "    Panel(SVG(\"../svg/panel_b2.svg\").scale(svg_scale)).move(85, 57),\n",
    "\n",
    "    Panel(\n",
    "        SVG(\"../svg/panel_c1.svg\").scale(svg_scale).move(0, -5.8),\n",
    "        Text(\"c\", 6, 2.0, **kwargs_text),\n",
    "        Text(\"Training speed\", 50, 2.0, **kwargs_text_normal)\n",
    "    ).move(195, 8),\n",
    "    Panel(SVG(\"../svg/panel_c2.svg\").scale(svg_scale)).move(274, 26.5),\n",
    "\n",
    "    Panel(SVG(\"../svg/panel_d1_485574832.svg\").scale(svg_scale), Text(\"d\", 0, 2.0, **kwargs_text), Text(\"Identifying models that match patch-clamp recordings\", 57, 2.0, **kwargs_text_normal)).move(370, 8),\n",
    "    Panel(SVG(\"../svg/panel_d1_488683425.svg\").scale(svg_scale)).move(535, 8),\n",
    "    Panel(SVG(\"../svg/panel_d2_485574832.svg\").scale(svg_scale)).move(415, 10),\n",
    "    Panel(SVG(\"../svg/panel_d2_488683425.svg\").scale(svg_scale)).move(580, 10),\n",
    "    Panel(SVG(\"../svg/panel_d3_485574832.svg\").scale(svg_scale)).move(415, 55.5),\n",
    "    Panel(SVG(\"../svg/panel_d3_488683425.svg\").scale(svg_scale)).move(580, 55.5),\n",
    "\n",
    "    Panel(SVG(\"../svg/panel_e1.svg\").scale(svg_scale), Text(\"e\", 3, 2.0, **kwargs_text), Text(\"Conductance profiles\", 15, 2.0, **kwargs_text_normal)).move(25, 135),\n",
    "    Panel(SVG(\"../svg/panel_e2.svg\").scale(svg_scale)).move(65, 135),\n",
    "    Panel(SVG(\"../svg/panel_e3.svg\").scale(svg_scale)).move(55, 135),\n",
    "    Panel(SVG(\"../svg/panel_e4.svg\").scale(svg_scale)).move(95, 135),\n",
    "    Panel(SVG(\"../svg/panel_f1.svg\").scale(svg_scale), Text(\"f\", 20, 2.0, **kwargs_text), Text(\"Synthetic data\", 50, 2.0, **kwargs_text_normal)).move(120, 135),\n",
    "    Panel(SVG(\"../svg/panel_f2.svg\").scale(svg_scale)).move(237, 133),\n",
    "    Panel(SVG(\"../svg/panel_g.svg\").scale(svg_scale), Text(\"h\", 5, 2.0, **kwargs_text), Text(\"Recovered profiles\", 20, 2.0, **kwargs_text_normal)).move(415, 135),\n",
    "    Panel(SVG(\"../svg/panel_h.svg\").scale(svg_scale), Text(\"g\", 15, 2.0, **kwargs_text), Text(\"Predicted voltage\", 45, 2.0, **kwargs_text_normal)).move(260, 135),\n",
    "    Panel(SVG(\"../svg/panel_f2.svg\").scale(svg_scale)).move(377, 133),\n",
    "    Panel(SVG(\"../svg/panel_i.svg\").scale(svg_scale), Text(\"i\", 10, 2.0, **kwargs_text), Text(\"Training speed\", 55, 2.0, **kwargs_text_normal)).move(519, 135),\n",
    "\n",
    "    Panel(SVG(\"../svg/panel_j1.svg\").scale(svg_scale), Text(\"j\", 3, 2.0, **kwargs_text), Text(\"Task: Nonlinear pattern separation\", 55, 2.0, **kwargs_text_normal)).move(25, 250),\n",
    "    Panel(SVG(\"../svg/panel_j2_processed.svg\").scale(svg_scale)).move(130, 255),\n",
    "    Panel(SVG(\"../svg/panel_k.svg\").scale(svg_scale), Text(\"k\", 0, 2.0, **kwargs_text), Text(\"Learned traces\", 35, 2.0, **kwargs_text_normal)).move(270, 250),\n",
    "    Panel(SVG(\"../svg/panel_l.svg\").scale(svg_scale), Text(\"l\", 2, 2.0, **kwargs_text), Text(\"Decision surface\", 30, 2.0, **kwargs_text_normal)).move(385, 250),\n",
    "    Panel(SVG(\"../svg/panel_m.svg\").scale(svg_scale), Text(\"m\", 10, 2.0, **kwargs_text), Text(\"Training speed\", 55, 2.0, **kwargs_text_normal)).move(519, 250),\n",
    "\n",
    "    Panel(SVG(\"../svg/titles_short.svg\").scale(1.0)).move(0, 6),\n",
    ")\n",
    "\n",
    "!mkdir -p fig\n",
    "f.save(\"../fig/fig3.svg\")\n",
    "svg(\"../fig/fig3.svg\")"
   ]
  },
  {
   "cell_type": "code",
   "execution_count": null,
   "id": "b2b07cac-d81e-49de-a8d2-98acdccfba6a",
   "metadata": {},
   "outputs": [],
   "source": []
  },
  {
   "cell_type": "code",
   "execution_count": null,
   "id": "4d970bd5-cdaf-44e4-89d5-e8ce4d2cd9e4",
   "metadata": {},
   "outputs": [],
   "source": []
  }
 ],
 "metadata": {
  "kernelspec": {
   "display_name": "Python 3 (ipykernel)",
   "language": "python",
   "name": "python3"
  },
  "language_info": {
   "codemirror_mode": {
    "name": "ipython",
    "version": 3
   },
   "file_extension": ".py",
   "mimetype": "text/x-python",
   "name": "python",
   "nbconvert_exporter": "python",
   "pygments_lexer": "ipython3",
   "version": "3.11.8"
  }
 },
 "nbformat": 4,
 "nbformat_minor": 5
}
