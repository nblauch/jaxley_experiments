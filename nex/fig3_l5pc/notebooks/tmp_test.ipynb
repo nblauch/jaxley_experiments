{
 "cells": [
  {
   "cell_type": "code",
   "execution_count": 38,
   "id": "1e6d8643-7211-4d94-b2c5-c075df5a95f5",
   "metadata": {},
   "outputs": [],
   "source": [
    "import jax.numpy as jnp\n",
    "from jax import jit\n",
    "\n",
    "\n",
    "class MyTest:\n",
    "    def __init__(self):\n",
    "        self.a = jnp.asarray(4.0)\n",
    "        self.b = \"dfas\"\n"
   ]
  },
  {
   "cell_type": "code",
   "execution_count": 39,
   "id": "96645b84-7e08-468b-a279-ff56a05394a5",
   "metadata": {},
   "outputs": [
    {
     "ename": "ValueError",
     "evalue": "Non-hashable static arguments are not supported. An error occurred while trying to hash an object of type <class 'dict'>, {'test': <__main__.MyTest object at 0x11e79ec90>}. The error was:\nTypeError: unhashable type: 'dict'\n",
     "output_type": "error",
     "traceback": [
      "\u001b[0;31m---------------------------------------------------------------------------\u001b[0m",
      "\u001b[0;31mValueError\u001b[0m                                Traceback (most recent call last)",
      "Cell \u001b[0;32mIn[39], line 8\u001b[0m\n\u001b[1;32m      5\u001b[0m static \u001b[38;5;241m=\u001b[39m {\u001b[38;5;124m\"\u001b[39m\u001b[38;5;124mtest\u001b[39m\u001b[38;5;124m\"\u001b[39m: test}\n\u001b[1;32m      6\u001b[0m jitted_fun \u001b[38;5;241m=\u001b[39m jit(fun, static_argnums\u001b[38;5;241m=\u001b[39m(\u001b[38;5;241m0\u001b[39m,))\n\u001b[0;32m----> 8\u001b[0m \u001b[43mjitted_fun\u001b[49m\u001b[43m(\u001b[49m\u001b[43mstatic\u001b[49m\u001b[43m,\u001b[49m\u001b[43m \u001b[49m\u001b[38;5;241;43m3.0\u001b[39;49m\u001b[43m)\u001b[49m\n",
      "\u001b[0;31mValueError\u001b[0m: Non-hashable static arguments are not supported. An error occurred while trying to hash an object of type <class 'dict'>, {'test': <__main__.MyTest object at 0x11e79ec90>}. The error was:\nTypeError: unhashable type: 'dict'\n"
     ]
    }
   ],
   "source": [
    "def fun(static, c):\n",
    "    return static[\"test\"].a * c\n",
    "\n",
    "test = MyTest()\n",
    "static = {\"test\": test}\n",
    "jitted_fun = jit(fun, static_argnums=(0,))\n",
    "\n",
    "jitted_fun(static, 3.0)"
   ]
  },
  {
   "cell_type": "code",
   "execution_count": 42,
   "id": "f080efbf-c2e7-4cf7-ae83-a5e583a2c682",
   "metadata": {},
   "outputs": [
    {
     "data": {
      "text/plain": [
       "Array(12., dtype=float32, weak_type=True)"
      ]
     },
     "execution_count": 42,
     "metadata": {},
     "output_type": "execute_result"
    }
   ],
   "source": [
    "def fun(test, c):\n",
    "    return test.a * c\n",
    "\n",
    "test = MyTest()\n",
    "jitted_fun = jit(fun, static_argnums=(0,))\n",
    "\n",
    "jitted_fun(test, 3.0)"
   ]
  },
  {
   "cell_type": "code",
   "execution_count": 47,
   "id": "4e4a8054-43cd-4323-b0ef-c006add153a8",
   "metadata": {},
   "outputs": [
    {
     "ename": "TypeError",
     "evalue": "Cannot interpret value of type <class '__main__.MyTest'> as an abstract array; it does not have a dtype attribute",
     "output_type": "error",
     "traceback": [
      "\u001b[0;31m---------------------------------------------------------------------------\u001b[0m",
      "\u001b[0;31mTypeError\u001b[0m                                 Traceback (most recent call last)",
      "Cell \u001b[0;32mIn[47], line 10\u001b[0m\n\u001b[1;32m      8\u001b[0m test \u001b[38;5;241m=\u001b[39m MyTest()\n\u001b[1;32m      9\u001b[0m static \u001b[38;5;241m=\u001b[39m {\u001b[38;5;124m\"\u001b[39m\u001b[38;5;124mtest\u001b[39m\u001b[38;5;124m\"\u001b[39m: test}\n\u001b[0;32m---> 10\u001b[0m \u001b[43mfun\u001b[49m\u001b[43m(\u001b[49m\u001b[43mstatic\u001b[49m\u001b[43m,\u001b[49m\u001b[43m \u001b[49m\u001b[38;5;241;43m3.0\u001b[39;49m\u001b[43m)\u001b[49m\n",
      "    \u001b[0;31m[... skipping hidden 5 frame]\u001b[0m\n",
      "File \u001b[0;32m~/anaconda3/envs/nex/lib/python3.11/site-packages/jax/_src/api_util.py:577\u001b[0m, in \u001b[0;36m_shaped_abstractify_slow\u001b[0;34m(x)\u001b[0m\n\u001b[1;32m    575\u001b[0m   dtype \u001b[38;5;241m=\u001b[39m dtypes\u001b[38;5;241m.\u001b[39mcanonicalize_dtype(x\u001b[38;5;241m.\u001b[39mdtype, allow_extended_dtype\u001b[38;5;241m=\u001b[39m\u001b[38;5;28;01mTrue\u001b[39;00m)\n\u001b[1;32m    576\u001b[0m \u001b[38;5;28;01melse\u001b[39;00m:\n\u001b[0;32m--> 577\u001b[0m   \u001b[38;5;28;01mraise\u001b[39;00m \u001b[38;5;167;01mTypeError\u001b[39;00m(\n\u001b[1;32m    578\u001b[0m       \u001b[38;5;124mf\u001b[39m\u001b[38;5;124m\"\u001b[39m\u001b[38;5;124mCannot interpret value of type \u001b[39m\u001b[38;5;132;01m{\u001b[39;00m\u001b[38;5;28mtype\u001b[39m(x)\u001b[38;5;132;01m}\u001b[39;00m\u001b[38;5;124m as an abstract array; it \u001b[39m\u001b[38;5;124m\"\u001b[39m\n\u001b[1;32m    579\u001b[0m       \u001b[38;5;124m\"\u001b[39m\u001b[38;5;124mdoes not have a dtype attribute\u001b[39m\u001b[38;5;124m\"\u001b[39m)\n\u001b[1;32m    580\u001b[0m \u001b[38;5;28;01mreturn\u001b[39;00m core\u001b[38;5;241m.\u001b[39mShapedArray(np\u001b[38;5;241m.\u001b[39mshape(x), dtype, weak_type\u001b[38;5;241m=\u001b[39mweak_type,\n\u001b[1;32m    581\u001b[0m                         named_shape\u001b[38;5;241m=\u001b[39mnamed_shape)\n",
      "\u001b[0;31mTypeError\u001b[0m: Cannot interpret value of type <class '__main__.MyTest'> as an abstract array; it does not have a dtype attribute"
     ]
    }
   ],
   "source": [
    "from functools import partial\n",
    "\n",
    "@partial(jit, static_argnames=(\"static\",))\n",
    "@partial(partial, static=static)\n",
    "def fun(static, c):\n",
    "    return static[\"test\"].a * c\n",
    "\n",
    "test = MyTest()\n",
    "static = {\"test\": test}\n",
    "fun(static, 3.0)"
   ]
  },
  {
   "cell_type": "code",
   "execution_count": 87,
   "id": "062f6900-4d09-489d-a88c-1afc50aa4e88",
   "metadata": {},
   "outputs": [],
   "source": [
    "from functools import partial\n",
    "import jax\n",
    "\n",
    "test = MyTest()\n",
    "static = {\"test\": test}\n",
    "\n",
    "def fun(c, static):\n",
    "    return static[\"test\"].a * c\n",
    "\n",
    "partial_fun = partial(fun, static=static)"
   ]
  },
  {
   "cell_type": "code",
   "execution_count": 88,
   "id": "7d539a10-2260-4627-a495-808464ffe22d",
   "metadata": {},
   "outputs": [
    {
     "data": {
      "text/plain": [
       "Array(12., dtype=float32, weak_type=True)"
      ]
     },
     "execution_count": 88,
     "metadata": {},
     "output_type": "execute_result"
    }
   ],
   "source": [
    "partial_fun(3.0)"
   ]
  },
  {
   "cell_type": "code",
   "execution_count": 89,
   "id": "964a7cdb-1e66-44f2-8c74-b7d871c47f39",
   "metadata": {},
   "outputs": [
    {
     "data": {
      "text/plain": [
       "Array(12., dtype=float32, weak_type=True)"
      ]
     },
     "execution_count": 89,
     "metadata": {},
     "output_type": "execute_result"
    }
   ],
   "source": [
    "jitted_partial = jit(partial_fun)\n",
    "jitted_partial(3.0)"
   ]
  },
  {
   "cell_type": "code",
   "execution_count": null,
   "id": "4cd89ddd-a018-442f-b9cf-815b265c5590",
   "metadata": {},
   "outputs": [],
   "source": []
  }
 ],
 "metadata": {
  "kernelspec": {
   "display_name": "Python 3 (ipykernel)",
   "language": "python",
   "name": "python3"
  },
  "language_info": {
   "codemirror_mode": {
    "name": "ipython",
    "version": 3
   },
   "file_extension": ".py",
   "mimetype": "text/x-python",
   "name": "python",
   "nbconvert_exporter": "python",
   "pygments_lexer": "ipython3",
   "version": "3.11.8"
  }
 },
 "nbformat": 4,
 "nbformat_minor": 5
}
