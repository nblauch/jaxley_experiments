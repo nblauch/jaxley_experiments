{
 "cells": [
  {
   "cell_type": "code",
   "execution_count": 1,
   "id": "40fe29da-46dd-403d-bbda-b34174ca298e",
   "metadata": {},
   "outputs": [],
   "source": [
    "%load_ext autoreload\n",
    "%autoreload 2\n",
    "%matplotlib inline"
   ]
  },
  {
   "cell_type": "code",
   "execution_count": 2,
   "id": "9d7a4847-e59f-4377-8512-ea4106d06a3c",
   "metadata": {},
   "outputs": [],
   "source": [
    "from jax import config\n",
    "\n",
    "config.update(\"jax_enable_x64\", True)\n",
    "config.update(\"jax_platform_name\", \"cpu\")\n",
    "\n",
    "import os\n",
    "\n",
    "os.environ[\"XLA_PYTHON_CLIENT_MEM_FRACTION\"] = \".8\""
   ]
  },
  {
   "cell_type": "code",
   "execution_count": 3,
   "id": "e2d2c15d-d86e-411d-a450-810e5efc6ff5",
   "metadata": {},
   "outputs": [],
   "source": [
    "from copy import deepcopy\n",
    "import pickle\n",
    "import time\n",
    "\n",
    "import matplotlib as mpl\n",
    "import matplotlib.pyplot as plt\n",
    "import numpy as np\n",
    "import jax.numpy as jnp\n",
    "from jax import jit, value_and_grad, vmap\n",
    "import optax\n",
    "import tensorflow as tf\n",
    "import tensorflow_datasets as tfds\n",
    "\n",
    "import jaxley as jx\n",
    "from jaxley.channels import HH\n",
    "from jaxley.optimize import TypeOptimizer"
   ]
  },
  {
   "cell_type": "code",
   "execution_count": 4,
   "id": "6b9137b2-a9c9-403c-b7c5-6802770ee9fb",
   "metadata": {},
   "outputs": [],
   "source": [
    "n_train = 32\n",
    "n_test = 16\n",
    "seed = 0\n",
    "batch_size = 1\n",
    "stims_in_layers = 1\n",
    "switch_labels = 0\n",
    "depth = 2\n",
    "data_std = 0.1\n",
    "nseg_per_branch = 4\n",
    "\n",
    "dt = 0.025\n",
    "t_max = 5.95\n",
    "i_delay = 1.0\n",
    "i_dur = 0.9\n",
    "i_amp = 0.05\n",
    "\n",
    "time_vec = np.arange(0, t_max+2*dt, dt)"
   ]
  },
  {
   "cell_type": "markdown",
   "id": "7e35c1aa-893a-4fb1-9bb1-ff2a2a0418b4",
   "metadata": {},
   "source": [
    "### Helper functions"
   ]
  },
  {
   "cell_type": "code",
   "execution_count": 5,
   "id": "a1c5b2a9-b414-4dbb-aef1-310118b9ff53",
   "metadata": {},
   "outputs": [],
   "source": [
    "def gen_data(n_data=3_000, switch_labels: int = 0, std: float = 0.1, center_x: float = 2.0, center_y: float = 2.0, spacing: float = 1.0):\n",
    "    \"\"\"Generate training data.\"\"\"\n",
    "\n",
    "    num_blobs = 3\n",
    "\n",
    "    x_locs = np.linspace(center_x - spacing, center_x + spacing, num_blobs)\n",
    "    y_locs = np.linspace(center_y + spacing, center_y - spacing, num_blobs)\n",
    "    \n",
    "    blobs_pos = []\n",
    "    blobs_neg = []\n",
    "    class_label = []\n",
    "    for blob in range(num_blobs):\n",
    "        xs = np.random.randn(n_data) * std + x_locs[blob]\n",
    "        ys = np.random.randn(n_data) * std + y_locs[blob]\n",
    "        \n",
    "        if not blob % 2:\n",
    "            blobs_pos.append(np.stack([xs, ys]).T)\n",
    "        else:\n",
    "            blobs_neg.append(np.stack([xs, ys]).T)\n",
    "\n",
    "    class0 = np.concatenate(blobs_pos)\n",
    "    class1 = np.concatenate(blobs_neg)\n",
    "\n",
    "    inds = np.random.permutation(np.arange(len(class0)))\n",
    "    class0 = class0[inds][: n_data // 2]\n",
    "    inds = np.random.permutation(np.arange(len(class1)))\n",
    "    class1 = class1[inds][: n_data // 2]\n",
    "\n",
    "    all_data = np.concatenate([class0, class1])\n",
    "    if switch_labels:\n",
    "        all_labels = np.concatenate([np.zeros(n_data // 2), np.ones(n_data // 2)])\n",
    "    else:\n",
    "        all_labels = np.concatenate([np.ones(n_data // 2), np.zeros(n_data // 2)])\n",
    "\n",
    "    inds = np.random.permutation(np.arange(len(all_labels)))\n",
    "    all_data = all_data[inds]\n",
    "    all_labels = all_labels[inds]\n",
    "    all_voltage_labels = deepcopy(all_labels)\n",
    "\n",
    "    all_voltage_labels[all_voltage_labels == 0] = -70.0\n",
    "    all_voltage_labels[all_voltage_labels == 1] = 35.0\n",
    "\n",
    "    return all_data, all_labels, all_voltage_labels\n"
   ]
  },
  {
   "cell_type": "code",
   "execution_count": 6,
   "id": "e1b7f9dd-9538-4227-9a74-1faa5da0c577",
   "metadata": {},
   "outputs": [],
   "source": [
    "parents = [-1] + [b // 2 for b in range(0, 2**depth - 2)]\n",
    "parents = jnp.asarray(parents)\n",
    "\n",
    "num_branches = len(parents)\n",
    "\n",
    "comp = jx.Compartment().initialize()\n",
    "branch = jx.Branch([comp for _ in range(nseg_per_branch)]).initialize()\n",
    "cell = jx.Cell([branch for _ in range(num_branches)], parents=parents).initialize()"
   ]
  },
  {
   "cell_type": "code",
   "execution_count": 7,
   "id": "62a88b38-9bd9-4cd6-aabc-694ffe071767",
   "metadata": {},
   "outputs": [
    {
     "data": {
      "image/png": "[encoded data removed]",
      "text/plain": [
       "<Figure size 92x92 with 1 Axes>"
      ]
     },
     "metadata": {},
     "output_type": "display_data"
    }
   ],
   "source": [
    "cell.compute_xyz()\n",
    "cell.rotate(180)\n",
    "\n",
    "with mpl.rc_context(fname=\"../../../.matplotlibrc\"):\n",
    "    fig, ax = plt.subplots(1, 1, figsize=(0.92, 0.92))\n",
    "    ax = cell.vis(ax=ax, morph_plot_kwargs={\"linewidth\": 2.5})\n",
    "    _ = ax.spines[\"left\"].set_visible(False)\n",
    "    _ = ax.spines[\"bottom\"].set_visible(False)\n",
    "    _ = ax.set_xticks([])\n",
    "    _ = ax.set_yticks([])\n",
    "    # plt.savefig(\"results/figs/fig1/svg/simple_morph.svg\", dpi=200, bbox_inches=\"tight\")"
   ]
  },
  {
   "cell_type": "code",
   "execution_count": 8,
   "id": "e96f8db4-a4f9-44c8-a151-36e7175a93a7",
   "metadata": {},
   "outputs": [],
   "source": [
    "def build_cell():\n",
    "    parents = [-1] + [b // 2 for b in range(0, 2**depth - 2)]\n",
    "    parents = jnp.asarray(parents)\n",
    "    \n",
    "    num_branches = len(parents)\n",
    "    \n",
    "    comp = jx.Compartment().initialize()\n",
    "    branch = jx.Branch([comp for _ in range(nseg_per_branch)]).initialize()\n",
    "    cell = jx.Cell([branch for _ in range(num_branches)], parents=parents).initialize()\n",
    "    \n",
    "    cell.insert(HH())\n",
    "    \n",
    "    cell.set(\"v\", -70.0)\n",
    "    cell.set(\"HH_m\", 0.074901)\n",
    "    cell.set(\"HH_h\", 0.4889)\n",
    "    cell.set(\"HH_n\", 0.3644787)\n",
    "    \n",
    "    cell.branch(0).loc(0.0).record()\n",
    "\n",
    "    for key in lowers.keys():\n",
    "        cell.branch(\"all\").comp(\"all\").make_trainable(\n",
    "            key, np.random.rand() * (uppers[key] - lowers[key]) + lowers[key], verbose=False\n",
    "        )\n",
    "    return cell"
   ]
  },
  {
   "cell_type": "code",
   "execution_count": 9,
   "id": "518d4380-e5b8-4fac-b648-745a1b95d74c",
   "metadata": {},
   "outputs": [],
   "source": [
    "def simulate(params, image):\n",
    "    currents = jx.datapoint_to_step_currents(i_delay, i_dur, i_amp * image, dt, t_max)\n",
    "\n",
    "    data_stimuli = None\n",
    "    for i, current in zip(range(2 * num_repeats), currents):\n",
    "        data_stimuli = cell.branch(stim_branches[i]).loc(stim_locs[i]).data_stimulate(current, data_stimuli=data_stimuli)\n",
    "\n",
    "    s = jx.integrate(cell, params=params, data_stimuli=data_stimuli)\n",
    "    return s\n",
    "\n",
    "vmapped_sim = vmap(simulate, in_axes=(None, 0))\n",
    "jitted_sim = jit(vmapped_sim)\n",
    "\n",
    "def predict(params, image):\n",
    "    s = simulate(params, image)\n",
    "    return s[0, 120]\n",
    "\n",
    "batched_predict = vmap(predict, in_axes=(None, 0))\n",
    "jitted_batched_predict = jit(batched_predict)\n",
    "\n",
    "def loss(params, images, labels):\n",
    "    predictions = batched_predict(transform.forward(params), images)\n",
    "    errors = jnp.abs(predictions - labels)\n",
    "    return jnp.mean(errors)\n",
    "\n",
    "loss_grad = jit(value_and_grad(loss, argnums=0))"
   ]
  },
  {
   "cell_type": "code",
   "execution_count": 10,
   "id": "02e3d6c7-d9b6-4b0c-8e8f-b4d43b637d6c",
   "metadata": {},
   "outputs": [],
   "source": [
    "def evaluate(params):\n",
    "    all_traces = []\n",
    "    all_labels = []\n",
    "    for batch in dataset_test:\n",
    "        image_batch, label_batch = tfds.as_numpy(batch)\n",
    "        sim_outs = jitted_sim(params, image_batch)\n",
    "        all_traces.append(sim_outs)\n",
    "        all_labels.append(label_batch)\n",
    "    return jnp.concatenate(all_traces), jnp.stack(all_labels)\n",
    "    \n",
    "def vis_traces(traces, time_vec, labels):\n",
    "    fig, ax = plt.subplots(1, 1, figsize=(12, 4))\n",
    "    for i, trace in enumerate(traces):\n",
    "        col = \"k\" if labels[i] != -70.0 else \"#d7301f\"\n",
    "        _ = ax.plot(time_vec, trace[0, :-1], c=col, linewidth=0.4, alpha=0.4)\n",
    "        _ = ax.set_xlim([0, max(time_vec)])\n",
    "        _ = ax.set_ylim([-80, 50])\n",
    "        _ = ax.set_xlabel(\"Time (ms)\")\n",
    "        _ = ax.set_ylabel(\"Voltage (mV)\")"
   ]
  },
  {
   "cell_type": "code",
   "execution_count": 11,
   "id": "b4abd8ad-8d4b-4a1a-8f0c-a6e96fa1ed6f",
   "metadata": {},
   "outputs": [],
   "source": [
    "def decision_surface(params, resolution=10):\n",
    "    datax = np.linspace(0.0, 5.0, resolution)\n",
    "    datay = np.linspace(0.0, 5.0, resolution)\n",
    "    X, Y = np.meshgrid(datax, datay)\n",
    "    stacked = np.stack([X, Y])\n",
    "    xy = np.reshape(stacked, (2, resolution**2)).T\n",
    "    xy = np.tile(xy, num_repeats)\n",
    "    predictions_on_grid = jitted_batched_predict(params, xy)\n",
    "\n",
    "    predictions = np.reshape(predictions_on_grid, (resolution, resolution))\n",
    "    return predictions\n",
    "\n",
    "\n",
    "def vis_decision_surface(predictions):\n",
    "    fig, ax = plt.subplots(1, 1, figsize=(1.4, 0.92))\n",
    "    p = ax.imshow(\n",
    "        predictions,\n",
    "        origin=\"lower\",\n",
    "        extent=[0, 5, 0, 5],\n",
    "        vmin=-80.0,\n",
    "        vmax=50.0,\n",
    "    )\n",
    "    cb = plt.colorbar(p, ticks=[-80, 50])\n",
    "    return ax, cb"
   ]
  },
  {
   "cell_type": "markdown",
   "id": "bdd6fa82-1403-47d5-93b2-211e9b122761",
   "metadata": {},
   "source": [
    "### Define curriculums for curriculum learning"
   ]
  },
  {
   "cell_type": "code",
   "execution_count": 12,
   "id": "4cf3d294-c4fd-444b-bc4c-5d168ddc8615",
   "metadata": {},
   "outputs": [],
   "source": [
    "stim_branches = np.concatenate(\n",
    "    [\n",
    "        np.arange(2 ** (depth + v) - 1, 2 ** (depth + v + 1) - 1)\n",
    "        for v in range(-stims_in_layers, 0)\n",
    "    ]\n",
    ")\n",
    "num_repeats = len(stim_branches) // 2\n",
    "stim_locs = 1.0 * np.ones(2 * num_repeats)\n",
    "\n",
    "lowers = {\n",
    "    \"radius\": 0.1,\n",
    "    \"length\": 1.0,\n",
    "    \"axial_resistivity\": 500.0,\n",
    "    \"HH_gNa\": 0.05,\n",
    "    \"HH_gK\": 0.01,\n",
    "    \"HH_gLeak\": 0.0001,\n",
    "}\n",
    "uppers = {\n",
    "    \"radius\": 5.0,\n",
    "    \"length\": 20.0,\n",
    "    \"axial_resistivity\": 5500.0,\n",
    "    \"HH_gNa\": 1.1,\n",
    "    \"HH_gK\": 0.3,\n",
    "    \"HH_gLeak\": 0.001,\n",
    "}\n",
    "transform = jx.ParamTransform(\n",
    "    lowers=lowers,\n",
    "    uppers=uppers,\n",
    ")"
   ]
  },
  {
   "cell_type": "code",
   "execution_count": 13,
   "id": "dfca9f15-5184-42a6-87d7-e00d66908f7e",
   "metadata": {},
   "outputs": [],
   "source": [
    "loss_grad = jit(value_and_grad(loss, argnums=0))"
   ]
  },
  {
   "cell_type": "code",
   "execution_count": 14,
   "id": "959b0317-d22c-4df3-8b75-0006236fb115",
   "metadata": {},
   "outputs": [],
   "source": [
    "# Works from scratch\n",
    "center_x1 = 2.5\n",
    "center_y1 = 2.5\n",
    "spacing1 = 1.0\n",
    "\n",
    "center_x2 = 1.0\n",
    "center_y2 = 3.1\n",
    "spacing2 = 0.9\n",
    "\n",
    "centers_x = [center_x1, center_x2]\n",
    "centers_y = [center_y1, center_y2]\n",
    "spacings = [spacing1, spacing2]\n",
    "\n",
    "lr = 0.01"
   ]
  },
  {
   "cell_type": "markdown",
   "id": "914abc05-9aa5-44cf-ab37-425ac60d7de6",
   "metadata": {},
   "source": [
    "### Train"
   ]
  },
  {
   "cell_type": "code",
   "execution_count": 16,
   "id": "ab7dfb13-ffb5-4b93-9dc3-09f61ac7f0f0",
   "metadata": {},
   "outputs": [],
   "source": [
    "# start_time = time.time()\n",
    "# loss_val, gradient = loss_grad(opt_params, image_batch, label_batch)\n",
    "# print(\"time\", (time.time() - start_time)*1000)"
   ]
  },
  {
   "cell_type": "code",
   "execution_count": 17,
   "id": "0c6ae38f-8120-4196-868c-905aaaa3babf",
   "metadata": {},
   "outputs": [
    {
     "name": "stdout",
     "output_type": "stream",
     "text": [
      "New cell\n",
      "Added 1 recordings. See `.recordings` for details.\n"
     ]
    },
    {
     "data": {
      "image/png": "[encoded data removed]",
      "text/plain": [
       "<Figure size 92x92 with 1 Axes>"
      ]
     },
     "metadata": {},
     "output_type": "display_data"
    },
    {
     "name": "stdout",
     "output_type": "stream",
     "text": [
      "epoch_loss 1681.8035780230257\n",
      "epoch_loss 1680.6335788885663\n",
      "epoch_loss 810.2553706916248\n",
      "epoch_loss 749.5674446439779\n",
      "epoch_loss 11.850982852350313\n"
     ]
    },
    {
     "data": {
      "image/png": "[encoded data removed]",
      "text/plain": [
       "<Figure size 92x92 with 1 Axes>"
      ]
     },
     "metadata": {},
     "output_type": "display_data"
    },
    {
     "name": "stdout",
     "output_type": "stream",
     "text": [
      "New cell\n",
      "Added 1 recordings. See `.recordings` for details.\n"
     ]
    },
    {
     "data": {
      "image/png": "[encoded data removed]",
      "text/plain": [
       "<Figure size 92x92 with 1 Axes>"
      ]
     },
     "metadata": {},
     "output_type": "display_data"
    },
    {
     "name": "stdout",
     "output_type": "stream",
     "text": [
      "epoch_loss 1684.2974124128996\n",
      "epoch_loss 1694.4661517838483\n",
      "epoch_loss 1680.047697281582\n",
      "epoch_loss 1683.4277102031842\n",
      "epoch_loss 1681.6272209250205\n"
     ]
    },
    {
     "data": {
      "image/png": "[encoded data removed]",
      "text/plain": [
       "<Figure size 92x92 with 1 Axes>"
      ]
     },
     "metadata": {},
     "output_type": "display_data"
    },
    {
     "name": "stdout",
     "output_type": "stream",
     "text": [
      "New cell\n",
      "Added 1 recordings. See `.recordings` for details.\n"
     ]
    },
    {
     "data": {
      "image/png": "[encoded data removed]",
      "text/plain": [
       "<Figure size 92x92 with 1 Axes>"
      ]
     },
     "metadata": {},
     "output_type": "display_data"
    },
    {
     "name": "stdout",
     "output_type": "stream",
     "text": [
      "epoch_loss 1701.4373479468104\n",
      "epoch_loss 8.691109570642347\n",
      "epoch_loss 6.577127022224644\n",
      "epoch_loss 7.3521460735582025\n",
      "epoch_loss 9.338988577953295\n"
     ]
    },
    {
     "data": {
      "image/png": "[encoded data removed]",
      "text/plain": [
       "<Figure size 92x92 with 1 Axes>"
      ]
     },
     "metadata": {},
     "output_type": "display_data"
    },
    {
     "name": "stdout",
     "output_type": "stream",
     "text": [
      "New cell\n",
      "Added 1 recordings. See `.recordings` for details.\n"
     ]
    },
    {
     "data": {
      "image/png": "[encoded data removed]",
      "text/plain": [
       "<Figure size 92x92 with 1 Axes>"
      ]
     },
     "metadata": {},
     "output_type": "display_data"
    },
    {
     "name": "stdout",
     "output_type": "stream",
     "text": [
      "epoch_loss 1781.3932673716604\n",
      "epoch_loss 1680.1502217388247\n",
      "epoch_loss 1680.9908425840922\n",
      "epoch_loss 1680.6119237715031\n",
      "epoch_loss 848.1726283519776\n"
     ]
    },
    {
     "data": {
      "image/png": "[encoded data removed]",
      "text/plain": [
       "<Figure size 92x92 with 1 Axes>"
      ]
     },
     "metadata": {},
     "output_type": "display_data"
    },
    {
     "name": "stdout",
     "output_type": "stream",
     "text": [
      "New cell\n",
      "Added 1 recordings. See `.recordings` for details.\n"
     ]
    },
    {
     "data": {
      "image/png": "[encoded data removed]",
      "text/plain": [
       "<Figure size 92x92 with 1 Axes>"
      ]
     },
     "metadata": {},
     "output_type": "display_data"
    },
    {
     "name": "stdout",
     "output_type": "stream",
     "text": [
      "epoch_loss 1903.6179793354163\n",
      "epoch_loss 1662.5004455258593\n",
      "epoch_loss 1630.8605918268836\n",
      "epoch_loss 1499.5432889281517\n",
      "epoch_loss 1407.4701802315444\n"
     ]
    },
    {
     "data": {
      "image/png": "[encoded data removed]",
      "text/plain": [
       "<Figure size 92x92 with 1 Axes>"
      ]
     },
     "metadata": {},
     "output_type": "display_data"
    },
    {
     "name": "stdout",
     "output_type": "stream",
     "text": [
      "New cell\n",
      "Added 1 recordings. See `.recordings` for details.\n"
     ]
    },
    {
     "data": {
      "image/png": "[encoded data removed]",
      "text/plain": [
       "<Figure size 92x92 with 1 Axes>"
      ]
     },
     "metadata": {},
     "output_type": "display_data"
    },
    {
     "name": "stdout",
     "output_type": "stream",
     "text": [
      "epoch_loss 1681.1034741965268\n",
      "epoch_loss 1680.5360538745854\n",
      "epoch_loss 1679.4670884427653\n",
      "epoch_loss 681.4904894048669\n",
      "epoch_loss 639.923886837097\n"
     ]
    },
    {
     "data": {
      "image/png": "[encoded data removed]",
      "text/plain": [
       "<Figure size 92x92 with 1 Axes>"
      ]
     },
     "metadata": {},
     "output_type": "display_data"
    },
    {
     "name": "stdout",
     "output_type": "stream",
     "text": [
      "New cell\n",
      "Added 1 recordings. See `.recordings` for details.\n"
     ]
    },
    {
     "data": {
      "image/png": "[encoded data removed]",
      "text/plain": [
       "<Figure size 92x92 with 1 Axes>"
      ]
     },
     "metadata": {},
     "output_type": "display_data"
    },
    {
     "name": "stdout",
     "output_type": "stream",
     "text": [
      "epoch_loss 1709.430530518773\n",
      "epoch_loss 633.1501636145202\n",
      "epoch_loss 77.15915640890793\n",
      "epoch_loss 6.822238653191263\n",
      "epoch_loss 4.761980002559191\n"
     ]
    },
    {
     "data": {
      "image/png": "[encoded data removed]",
      "text/plain": [
       "<Figure size 92x92 with 1 Axes>"
      ]
     },
     "metadata": {},
     "output_type": "display_data"
    },
    {
     "name": "stdout",
     "output_type": "stream",
     "text": [
      "New cell\n",
      "Added 1 recordings. See `.recordings` for details.\n"
     ]
    },
    {
     "data": {
      "image/png": "[encoded data removed]",
      "text/plain": [
       "<Figure size 92x92 with 1 Axes>"
      ]
     },
     "metadata": {},
     "output_type": "display_data"
    },
    {
     "name": "stdout",
     "output_type": "stream",
     "text": [
      "epoch_loss 1752.139073305369\n",
      "epoch_loss 162.29787193953905\n",
      "epoch_loss 67.46697259799171\n",
      "epoch_loss 11.391125585060315\n",
      "epoch_loss 10.519732160989435\n"
     ]
    },
    {
     "data": {
      "image/png": "[encoded data removed]",
      "text/plain": [
       "<Figure size 92x92 with 1 Axes>"
      ]
     },
     "metadata": {},
     "output_type": "display_data"
    },
    {
     "name": "stdout",
     "output_type": "stream",
     "text": [
      "New cell\n",
      "Added 1 recordings. See `.recordings` for details.\n"
     ]
    },
    {
     "data": {
      "image/png": "[encoded data removed]",
      "text/plain": [
       "<Figure size 92x92 with 1 Axes>"
      ]
     },
     "metadata": {},
     "output_type": "display_data"
    },
    {
     "name": "stdout",
     "output_type": "stream",
     "text": [
      "epoch_loss 1728.8341043509336\n",
      "epoch_loss 1680.8566289337505\n",
      "epoch_loss 1680.1073807240086\n",
      "epoch_loss 1665.06480731099\n",
      "epoch_loss 1674.7007814613057\n"
     ]
    },
    {
     "data": {
      "image/png": "[encoded data removed]",
      "text/plain": [
       "<Figure size 92x92 with 1 Axes>"
      ]
     },
     "metadata": {},
     "output_type": "display_data"
    },
    {
     "name": "stdout",
     "output_type": "stream",
     "text": [
      "New cell\n",
      "Added 1 recordings. See `.recordings` for details.\n"
     ]
    },
    {
     "data": {
      "image/png": "[encoded data removed]",
      "text/plain": [
       "<Figure size 92x92 with 1 Axes>"
      ]
     },
     "metadata": {},
     "output_type": "display_data"
    },
    {
     "name": "stdout",
     "output_type": "stream",
     "text": [
      "epoch_loss 1682.7776233895022\n",
      "epoch_loss 1679.4727597018168\n",
      "epoch_loss 1686.3719723433876\n",
      "epoch_loss 1680.6067708203507\n",
      "epoch_loss 1679.4473894923592\n"
     ]
    },
    {
     "data": {
      "image/png": "[encoded data removed]",
      "text/plain": [
       "<Figure size 92x92 with 1 Axes>"
      ]
     },
     "metadata": {},
     "output_type": "display_data"
    }
   ],
   "source": [
    "from copy import deepcopy\n",
    "\n",
    "all_opt_params = []\n",
    "counter = 0\n",
    "all_gd_losses = []\n",
    "for seed in range(10):\n",
    "    for center_x, center_y, spacing in zip(centers_x[:1], centers_y[:1], spacings[:1]):\n",
    "        print(\"New cell\")\n",
    "        tf.random.set_seed(42+seed)  # 39,40,41,42 works\n",
    "        _ = np.random.seed(1+seed) # 0 works\n",
    "    \n",
    "        cell = build_cell()\n",
    "        params = cell.get_parameters()\n",
    "        opt_params = transform.inverse(params)\n",
    "    \n",
    "        train_images, train_labels, train_voltages = gen_data(\n",
    "            n_train, switch_labels=switch_labels, std=data_std, center_x=center_x, center_y=center_y, spacing=spacing,\n",
    "        )\n",
    "        test_images, _, test_voltages = gen_data(\n",
    "            n_test, switch_labels=switch_labels, std=data_std, center_x=center_x, center_y=center_y, spacing=spacing,\n",
    "        )\n",
    "    \n",
    "        train_images = np.tile(train_images, num_repeats)\n",
    "        test_images = np.tile(test_images, num_repeats)\n",
    "    \n",
    "        with mpl.rc_context(fname=\"../../../.matplotlibrc\"):\n",
    "            fig, ax = plt.subplots(1, 1, figsize=(0.92, 0.92))\n",
    "            for p, l in zip(train_images[:100], train_labels[:100]):\n",
    "                _ = ax.scatter(p[0], p[1], c=\"k\" if l else \"#d7301f\", s=1.0)\n",
    "            _ = ax.set_xlim([0, 5])\n",
    "            _ = ax.set_ylim([0, 5])\n",
    "            _ = ax.set_xticks([0, 5])\n",
    "            _ = ax.set_yticks([0, 5])\n",
    "            _ = ax.set_xlabel(r\"$x_1$\", labelpad=-5)\n",
    "            _ = ax.set_ylabel(r\"$x_2$\", labelpad=-5)\n",
    "            _ = ax.legend([\"1\", \"0\"], loc=\"upper right\", bbox_to_anchor=[0.9, 1.3, 0.0, 0.0],\n",
    "                          ncols=2, columnspacing=0.4, handletextpad=-0.4)\n",
    "    \n",
    "            # plt.savefig(f\"results/figs/fig1/svg/learned_data_simple_{counter}.svg\", bbox_inches=\"tight\", transparent=True)\n",
    "            plt.show()\n",
    "\n",
    "        lrs = {\"radius\": lr, \"length\": lr, \"axial_resistivity\": lr, \"HH_gNa\": lr, \"HH_gK\": lr, \"HH_gLeak\": lr}\n",
    "        optimizer = TypeOptimizer(lambda lr: optax.adam(lr), lrs, opt_params)\n",
    "        opt_state = optimizer.init(opt_params)\n",
    "    \n",
    "        dataset = tf.data.Dataset.from_tensor_slices((train_images, train_voltages))\n",
    "        dataset = dataset.shuffle(dataset.cardinality()).batch(batch_size)\n",
    "    \n",
    "        dataset_test = tf.data.Dataset.from_tensor_slices((test_images, test_voltages))\n",
    "        dataset_test = dataset_test.shuffle(dataset.cardinality()).batch(batch_size)\n",
    "\n",
    "        gd_losses = []\n",
    "        for epoch in range(200):\n",
    "            epoch_loss = 0\n",
    "\n",
    "            for batch in dataset:\n",
    "                start_time = time.time()\n",
    "                image_batch, label_batch = tfds.as_numpy(batch)\n",
    "    \n",
    "                loss_val, gradient = loss_grad(opt_params, image_batch, label_batch)\n",
    "                epoch_loss += loss_val\n",
    "    \n",
    "                updates, opt_state = optimizer.update(gradient, opt_state)\n",
    "                opt_params = optax.apply_updates(opt_params, updates)\n",
    "    \n",
    "            gd_losses.append(epoch_loss)\n",
    "            if epoch % 40 == 0:\n",
    "                print(\"epoch_loss\", epoch_loss)\n",
    "    \n",
    "        all_opt_params.append(opt_params)\n",
    "        traces, labels = evaluate(transform.forward(opt_params))\n",
    "        with mpl.rc_context(fname=\"../../../.matplotlibrc\"):\n",
    "            fig, ax = plt.subplots(1, 1, figsize=(0.92, 0.92))\n",
    "            for i, trace in enumerate(traces[:, :, :]):\n",
    "                col = \"k\" if labels[i] != -70.0 else \"#d7301f\"\n",
    "                _ = ax.plot(time_vec, trace[0], c=col, linewidth=0.4, alpha=0.4)\n",
    "                # _ = ax.set_xlim([0, max(time_vec)])\n",
    "                _ = ax.set_ylim([-80, 50])\n",
    "                _ = ax.set_yticks([-80, 50])\n",
    "                _ = ax.set_xticks([0, 6])\n",
    "                _ = ax.set_xlim([0, 6])\n",
    "                _ = ax.set_xlabel(\"Time\\n(ms)\", labelpad=-6)\n",
    "                _ = ax.set_ylabel(\"Voltage\\n(mV)\", labelpad=-12)\n",
    "        \n",
    "            # plt.savefig(f\"results/figs/fig1/svg/traces_simple_spiking_{counter}.svg\", bbox_inches=\"tight\", transparent=True)\n",
    "            plt.show()\n",
    "        counter += 1\n",
    "\n",
    "    all_gd_losses.append(deepcopy(gd_losses))"
   ]
  },
  {
   "cell_type": "code",
   "execution_count": 18,
   "id": "79949aa9-7d20-4f7d-a4cc-d4d9ff870ce5",
   "metadata": {},
   "outputs": [],
   "source": [
    "traces, labels = evaluate(transform.forward(all_opt_params[0]))\n",
    "with open(\"../results/04_nonlinear/traces.pkl\", \"wb\") as handle:\n",
    "    pickle.dump(traces, handle)\n",
    "with open(\"../results/04_nonlinear/labels.pkl\", \"wb\") as handle:\n",
    "    pickle.dump(labels, handle)\n",
    "with open(\"../results/04_nonlinear/time_vec.pkl\", \"wb\") as handle:\n",
    "    pickle.dump(time_vec, handle)\n",
    "with open(\"../results/04_nonlinear/gd_loss.pkl\", \"wb\") as handle:\n",
    "    pickle.dump(all_gd_losses, handle)\n",
    "with open(\"../results/04_nonlinear/train_images.pkl\", \"wb\") as handle:\n",
    "    pickle.dump(train_images, handle)\n",
    "with open(\"../results/04_nonlinear/train_labels.pkl\", \"wb\") as handle:\n",
    "    pickle.dump(train_labels, handle)"
   ]
  },
  {
   "cell_type": "code",
   "execution_count": 19,
   "id": "e49854e2-be38-4cd5-b23a-2e23114bbc83",
   "metadata": {},
   "outputs": [
    {
     "data": {
      "image/png": "[encoded data removed]",
      "text/plain": [
       "<Figure size 140x92 with 2 Axes>"
      ]
     },
     "metadata": {},
     "output_type": "display_data"
    }
   ],
   "source": [
    "counter = 0\n",
    "for opt_params in all_opt_params[:1]:\n",
    "    prediction_grid = decision_surface(\n",
    "        transform.forward(opt_params), resolution=80\n",
    "    )\n",
    "    with open(\"../results/04_nonlinear/gd_prediction_surface.pkl\", \"wb\") as handle:\n",
    "        pickle.dump(prediction_grid, handle)\n",
    "    \n",
    "    ax, cb = vis_decision_surface(predictions=prediction_grid)\n",
    "    _ = ax.set_xticks([0, 5])\n",
    "    _ = ax.set_yticks([0, 5])\n",
    "    cb.set_label(\"V (mV)\", labelpad=-7)\n",
    "    \n",
    "    # plt.savefig(f\"results/figs/fig1/svg/learned_simple_surfaces_{counter}.svg\", bbox_inches=\"tight\", transparent=True)\n",
    "    counter += 1"
   ]
  },
  {
   "cell_type": "markdown",
   "id": "470c5b67-d1b8-49fe-a10a-e3121f4fff29",
   "metadata": {},
   "source": [
    "# Build a combined cell"
   ]
  },
  {
   "cell_type": "code",
   "execution_count": 20,
   "id": "1f137ea8-efdb-4c18-9f78-112d6d6c621c",
   "metadata": {},
   "outputs": [],
   "source": [
    "num_subcells = 2\n",
    "parents = [-1, 0, 1, 1, 0, 4, 4]\n",
    "comp = jx.Compartment()\n",
    "branch = jx.Branch(comp, nseg_per_branch)\n",
    "cell = jx.Cell(branch, parents=parents)"
   ]
  },
  {
   "cell_type": "code",
   "execution_count": 33,
   "id": "a6085723-c3f6-43c6-8fb0-6455e4c1633a",
   "metadata": {},
   "outputs": [
    {
     "data": {
      "image/png": "[encoded data removed]",
      "text/plain": [
       "<Figure size 92x92 with 1 Axes>"
      ]
     },
     "metadata": {},
     "output_type": "display_data"
    }
   ],
   "source": [
    "cell.compute_xyz()\n",
    "cell.rotate(180)\n",
    "\n",
    "with mpl.rc_context(fname=\"../../.matplotlibrc\"):\n",
    "    fig, ax = plt.subplots(1, 1, figsize=(0.92, 0.92))\n",
    "    ax = cell.vis(ax=ax, morph_plot_kwargs={\"linewidth\": 2.0})\n",
    "    _ = ax.spines[\"left\"].set_visible(False)\n",
    "    _ = ax.spines[\"bottom\"].set_visible(False)\n",
    "    _ = ax.set_xticks([])\n",
    "    _ = ax.set_yticks([])\n",
    "    # plt.savefig(\"results/figs/fig1/svg/morph.svg\", bbox_inches=\"tight\", transparent=True)"
   ]
  },
  {
   "cell_type": "code",
   "execution_count": 34,
   "id": "773b0ecf-3af7-47d3-b7cb-fef6ae951fa3",
   "metadata": {},
   "outputs": [],
   "source": [
    "cell.insert(HH())\n",
    "cell.set(\"v\", -70.0)\n",
    "cell.set(\"HH_m\", 0.074901)\n",
    "cell.set(\"HH_h\", 0.4889)\n",
    "cell.set(\"HH_n\", 0.3644787)"
   ]
  },
  {
   "cell_type": "code",
   "execution_count": 35,
   "id": "54d41686-9c9c-4d21-83ad-852d15830021",
   "metadata": {},
   "outputs": [
    {
     "name": "stdout",
     "output_type": "stream",
     "text": [
      "Number of newly added trainable parameters: 4. Total number of trainable parameters: 4\n",
      "Number of newly added trainable parameters: 4. Total number of trainable parameters: 8\n",
      "Number of newly added trainable parameters: 4. Total number of trainable parameters: 12\n",
      "Number of newly added trainable parameters: 4. Total number of trainable parameters: 16\n",
      "Number of newly added trainable parameters: 4. Total number of trainable parameters: 20\n",
      "Number of newly added trainable parameters: 4. Total number of trainable parameters: 24\n",
      "Number of newly added trainable parameters: 12. Total number of trainable parameters: 36\n",
      "Number of newly added trainable parameters: 12. Total number of trainable parameters: 48\n",
      "Number of newly added trainable parameters: 12. Total number of trainable parameters: 60\n",
      "Number of newly added trainable parameters: 12. Total number of trainable parameters: 72\n",
      "Number of newly added trainable parameters: 12. Total number of trainable parameters: 84\n",
      "Number of newly added trainable parameters: 12. Total number of trainable parameters: 96\n",
      "Number of newly added trainable parameters: 12. Total number of trainable parameters: 108\n",
      "Number of newly added trainable parameters: 12. Total number of trainable parameters: 120\n",
      "Number of newly added trainable parameters: 12. Total number of trainable parameters: 132\n",
      "Number of newly added trainable parameters: 12. Total number of trainable parameters: 144\n",
      "Number of newly added trainable parameters: 12. Total number of trainable parameters: 156\n",
      "Number of newly added trainable parameters: 12. Total number of trainable parameters: 168\n"
     ]
    }
   ],
   "source": [
    "branch_lists = [[0], [1, 2, 3], [4, 5, 6]]\n",
    "\n",
    "for branch_list in branch_lists:\n",
    "    cell.branch(branch_list).comp(\"all\").make_trainable(\"radius\")\n",
    "    cell.branch(branch_list).comp(\"all\").make_trainable(\"length\")\n",
    "    cell.branch(branch_list).comp(\"all\").make_trainable(\"axial_resistivity\")\n",
    "    cell.branch(branch_list).comp(\"all\").make_trainable(\"HH_gNa\")\n",
    "    cell.branch(branch_list).comp(\"all\").make_trainable(\"HH_gK\")\n",
    "    cell.branch(branch_list).comp(\"all\").make_trainable(\"HH_gLeak\")"
   ]
  },
  {
   "cell_type": "code",
   "execution_count": 36,
   "id": "2aa71d8f-6695-455c-8bc4-4c330d517d41",
   "metadata": {},
   "outputs": [],
   "source": [
    "params = cell.get_parameters()"
   ]
  },
  {
   "cell_type": "code",
   "execution_count": 37,
   "id": "2b6a7026-3e64-423f-b7fb-12a8c53f89d6",
   "metadata": {},
   "outputs": [],
   "source": [
    "opt_params = transform.inverse(params[:6]) + all_opt_params[0] + all_opt_params[1]"
   ]
  },
  {
   "cell_type": "code",
   "execution_count": 39,
   "id": "4c65bfcf-d2e5-4d75-84ea-55fdf4366c26",
   "metadata": {},
   "outputs": [
    {
     "name": "stdout",
     "output_type": "stream",
     "text": [
      "Added 1 recordings. See `.recordings` for details.\n",
      "Added 1 recordings. See `.recordings` for details.\n",
      "Added 1 recordings. See `.recordings` for details.\n"
     ]
    }
   ],
   "source": [
    "cell.branch(1).loc(0.0).record()\n",
    "cell.branch(4).loc(0.0).record()\n",
    "cell.branch(0).loc(0.0).record()"
   ]
  },
  {
   "cell_type": "code",
   "execution_count": 24,
   "id": "91712359-4461-447a-8161-0b1901cb3edd",
   "metadata": {},
   "outputs": [],
   "source": [
    "def simulate(params, image):\n",
    "    currents = jx.datapoint_to_step_currents(i_delay, i_dur, i_amp * image, dt, t_max)\n",
    "    data_stimuli = None\n",
    "    \n",
    "    stim_branches = [2, 3]\n",
    "    for stim_branch, current in zip(stim_branches, currents):\n",
    "        data_stimuli = cell.branch(stim_branch).comp(1.0).data_stimulate(current, data_stimuli=data_stimuli)\n",
    "\n",
    "    stim_branches = [5, 6]\n",
    "    for stim_branch, current in zip(stim_branches, currents):\n",
    "        data_stimuli = cell.branch(stim_branch).comp(1.0).data_stimulate(current, data_stimuli=data_stimuli)\n",
    "\n",
    "    s = jx.integrate(cell, params=params, data_stimuli=data_stimuli)\n",
    "    return s\n",
    "\n",
    "\n",
    "vmapped_sim = vmap(simulate, in_axes=(None, 0))\n",
    "jitted_sim = jit(vmapped_sim)\n",
    "\n",
    "\n",
    "def predict(params, image):\n",
    "    s = simulate(params, image)\n",
    "    return s[:, 120]\n",
    "\n",
    "\n",
    "batched_predict = vmap(predict, in_axes=(None, 0))\n",
    "jitted_batched_predict = jit(batched_predict)\n",
    "\n",
    "\n",
    "def decision_surface(params, resolution=10):\n",
    "    datax = np.linspace(0.0, 4.0, resolution)\n",
    "    datay = np.linspace(0.0, 4.0, resolution)\n",
    "    X, Y = np.meshgrid(datax, datay)\n",
    "    stacked = np.stack([X, Y])\n",
    "    xy = np.reshape(stacked, (2, resolution**2)).T\n",
    "    xy = np.tile(xy, num_repeats)\n",
    "    predictions_on_grid = jitted_batched_predict(params, xy)\n",
    "    all_predictions = []\n",
    "    for i in range(3):\n",
    "        predictions = np.reshape(predictions_on_grid[:, i], (resolution, resolution))\n",
    "        all_predictions.append(predictions)\n",
    "    return all_predictions"
   ]
  },
  {
   "cell_type": "code",
   "execution_count": 25,
   "id": "bf57dea5-23f2-48ca-9088-1e53f40927fb",
   "metadata": {},
   "outputs": [],
   "source": [
    "center_x1 = 3.2\n",
    "center_y1 = 1.9\n",
    "spacing1 = 0.5\n",
    "\n",
    "center_x2 = 1.0\n",
    "center_y2 = 3.1\n",
    "spacing2 = 0.5"
   ]
  },
  {
   "cell_type": "code",
   "execution_count": 26,
   "id": "6916c06d-f3f3-4870-89a0-f6878078d486",
   "metadata": {},
   "outputs": [],
   "source": [
    "all_train_images = []\n",
    "all_train_voltages = []\n",
    "all_test_images = []\n",
    "all_test_voltages = []\n",
    "\n",
    "for center_x, center_y in zip([center_x1, center_x2], [center_y1, center_y2]):\n",
    "    spacing = 0.5\n",
    "    \n",
    "    train_images, train_labels, train_voltages = gen_data(\n",
    "        n_train, switch_labels=switch_labels, std=data_std, center_x=center_x, center_y=center_y, spacing=spacing,\n",
    "    )\n",
    "    test_images, _, test_voltages = gen_data(\n",
    "        n_test, switch_labels=switch_labels, std=data_std, center_x=center_x, center_y=center_y, spacing=spacing,\n",
    "    )\n",
    "    \n",
    "    train_images = np.tile(train_images, num_repeats)\n",
    "    test_images = np.tile(test_images, num_repeats)\n",
    "\n",
    "    all_train_images.append(train_images)\n",
    "    all_train_voltages.append(train_voltages)\n",
    "    all_test_images.append(test_images)\n",
    "    all_test_voltages.append(test_voltages)\n",
    "\n",
    "all_train_images = np.concatenate(all_train_images, axis=0)\n",
    "all_train_voltages = np.concatenate(all_train_voltages, axis=0)\n",
    "all_test_images = np.concatenate(all_test_images, axis=0)\n",
    "all_test_voltages = np.concatenate(all_test_voltages, axis=0)\n",
    "\n",
    "all_train_voltages[all_train_voltages == 35.0] = 35.0  # 35\n",
    "all_train_voltages[all_train_voltages == -70.0] = -65.0  # -60.0\n",
    "\n",
    "all_test_voltages[all_test_voltages == 35.0] = 35.0  # 35\n",
    "all_test_voltages[all_test_voltages == -70.0] = -65.0  # -60.0"
   ]
  },
  {
   "cell_type": "code",
   "execution_count": 27,
   "id": "569eb699-1df2-4252-93ea-0dd6817997f0",
   "metadata": {},
   "outputs": [],
   "source": [
    "prediction_grid = decision_surface(\n",
    "    transform.forward(opt_params), resolution=80\n",
    ")"
   ]
  },
  {
   "cell_type": "code",
   "execution_count": 28,
   "id": "073e500a-52af-4122-a63e-164cf51c8de9",
   "metadata": {},
   "outputs": [
    {
     "data": {
      "image/png": "[encoded data removed]",
      "text/plain": [
       "<Figure size 125x100 with 2 Axes>"
      ]
     },
     "metadata": {},
     "output_type": "display_data"
    }
   ],
   "source": [
    "fig, ax = plt.subplots(1, 1, figsize=(1.25, 1))\n",
    "p = ax.imshow(\n",
    "    prediction_grid[0],\n",
    "    origin=\"lower\",\n",
    "    extent=[0.0, 4.0, 0.0, 4.0],\n",
    "    vmin=-70.0,\n",
    "    vmax=35.0,\n",
    ")\n",
    "plt.colorbar(p)\n",
    "for p, l in zip(all_train_images[1:100], all_train_voltages[1:100]):\n",
    "    _ = ax.scatter(p[0], p[1], c=\"k\" if l==-60.0 else \"#d7301f\", s=1.0)"
   ]
  },
  {
   "cell_type": "code",
   "execution_count": 29,
   "id": "88da7369-6bde-46a3-bc12-32a6161d1498",
   "metadata": {},
   "outputs": [
    {
     "data": {
      "image/png": "[encoded data removed]",
      "text/plain": [
       "<Figure size 140x92 with 2 Axes>"
      ]
     },
     "metadata": {},
     "output_type": "display_data"
    }
   ],
   "source": [
    "with mpl.rc_context(fname=\"../../.matplotlibrc\"):\n",
    "    fig, ax = plt.subplots(1, 1, figsize=(1.4, 0.92))\n",
    "    p = ax.imshow(\n",
    "        prediction_grid[2],\n",
    "        origin=\"lower\",\n",
    "        extent=[0.0, 4.0, 0.0, 4.0],\n",
    "        vmin=-70.0,\n",
    "        vmax=35.0,\n",
    "    )\n",
    "    plt.colorbar(p)\n",
    "    for p, l in zip(all_train_images[1:100], all_train_voltages[1:100]):\n",
    "        _ = ax.scatter(p[0], p[1], c=\"k\" if l==35.0 else \"#d7301f\", s=1.0)\n",
    "    \n",
    "    plt.savefig(\"results/figs/fig1/svg/initial_complex_surface.svg\", bbox_inches=\"tight\", transparent=True)"
   ]
  },
  {
   "cell_type": "code",
   "execution_count": 30,
   "id": "9918f9db-80c3-4129-b460-36ad76c9b4bc",
   "metadata": {},
   "outputs": [
    {
     "data": {
      "image/png": "[encoded data removed]",
      "text/plain": [
       "<Figure size 92x92 with 1 Axes>"
      ]
     },
     "metadata": {},
     "output_type": "display_data"
    }
   ],
   "source": [
    "with mpl.rc_context(fname=\"../../.matplotlibrc\"):\n",
    "    fig, ax = plt.subplots(1, 1, figsize=(0.92, 0.92))\n",
    "    for p, l in zip(all_train_images[3:100], all_train_voltages[3:100]):\n",
    "        _ = ax.scatter(p[0], p[1], c=\"k\" if l==35.0 else \"#d7301f\", s=1.0)\n",
    "    _ = ax.set_xlim([0, 4])\n",
    "    _ = ax.set_ylim([0, 4])\n",
    "    _ = ax.set_xticks([0, 4])\n",
    "    _ = ax.set_yticks([0, 4])\n",
    "    _ = ax.set_xlabel(r\"$x_1$\", labelpad=-5)\n",
    "    _ = ax.set_ylabel(r\"$x_2$\", labelpad=-5)\n",
    "    _ = ax.legend([\"1\", \"0\"], loc=\"upper right\", bbox_to_anchor=[0.9, 1.3, 0.0, 0.0],\n",
    "                  ncols=2, columnspacing=0.4, handletextpad=-0.4)\n",
    "\n",
    "    plt.savefig(\"results/figs/fig1/svg/complex_data.svg\", bbox_inches=\"tight\", transparent=True)"
   ]
  },
  {
   "cell_type": "code",
   "execution_count": 31,
   "id": "a027b45a-770f-4c33-bc21-ed6d62fe8be0",
   "metadata": {},
   "outputs": [],
   "source": [
    "def loss(params, images, labels):\n",
    "    predictions = batched_predict(transform.forward(params), images)[:, -1]\n",
    "    errors = jnp.abs(predictions - labels)\n",
    "    return jnp.mean(errors)\n",
    "\n",
    "loss_grad = jit(value_and_grad(loss, argnums=0))"
   ]
  },
  {
   "cell_type": "code",
   "execution_count": 32,
   "id": "5862bf95-db4d-4528-b963-ea83713d0c32",
   "metadata": {},
   "outputs": [],
   "source": [
    "_ = np.random.seed(1)\n",
    "tf.random.set_seed(42)"
   ]
  },
  {
   "cell_type": "code",
   "execution_count": 33,
   "id": "a6180ca0-4525-49ad-8658-893622639d95",
   "metadata": {},
   "outputs": [
    {
     "name": "stdout",
     "output_type": "stream",
     "text": [
      "time 6.215394020080566\n"
     ]
    }
   ],
   "source": [
    "val = 0.005\n",
    "lrs = {\"radius\": val, \"length\": val, \"axial_resistivity\": val, \"HH_gNa\": val, \"HH_gK\": val, \"HH_gLeak\": val}\n",
    "\n",
    "optimizer = TypeOptimizer(optax.adam, lrs, opt_params)\n",
    "opt_state = optimizer.init(opt_params)\n",
    "\n",
    "start_time = time.time()\n",
    "loss_val, gradient = loss_grad(\n",
    "    opt_params, all_train_images[: batch_size], all_train_voltages[: batch_size]\n",
    ")\n",
    "print(\"time\", time.time() - start_time)"
   ]
  },
  {
   "cell_type": "code",
   "execution_count": 34,
   "id": "1183e60d-62ff-4eee-98e1-567ebe8e4267",
   "metadata": {},
   "outputs": [],
   "source": [
    "dataset = tf.data.Dataset.from_tensor_slices((all_train_images, all_train_voltages))\n",
    "dataset = dataset.shuffle(dataset.cardinality()).batch(batch_size)\n",
    "\n",
    "dataset_test = tf.data.Dataset.from_tensor_slices((all_test_images, all_test_voltages))\n",
    "dataset_test = dataset_test.shuffle(dataset.cardinality()).batch(batch_size)"
   ]
  },
  {
   "cell_type": "code",
   "execution_count": 35,
   "id": "0f771b76-56c9-4b22-8b1c-ba76f71d08d9",
   "metadata": {},
   "outputs": [],
   "source": [
    "# epoch_losses = []\n",
    "# all_params = []\n",
    "\n",
    "# for epoch in range(800):\n",
    "#     epoch_loss = 0\n",
    "\n",
    "#     for batch in dataset:\n",
    "#         start_time = time.time()\n",
    "#         image_batch, label_batch = tfds.as_numpy(batch)\n",
    "\n",
    "#         loss_val, gradient = loss_grad(opt_params, image_batch, label_batch)\n",
    "#         epoch_loss += loss_val\n",
    "        \n",
    "#         updates, opt_state = optimizer.update(gradient, opt_state)\n",
    "#         opt_params = optax.apply_updates(opt_params, updates)\n",
    "\n",
    "#     epoch_losses.append(epoch_loss)\n",
    "#     all_params.append(transform.forward(opt_params))\n",
    "\n",
    "#     if epoch % 20 == 0:\n",
    "#         print(\"epoch_loss\", epoch_loss)\n",
    "\n",
    "# import pickle\n",
    "# with open(\"results/parameters/opt_params_complex.pickle\", \"wb\") as handle:\n",
    "#     pickle.dump(opt_params, handle)"
   ]
  },
  {
   "cell_type": "code",
   "execution_count": 36,
   "id": "2589a523-359b-4171-b952-6ddea319cc48",
   "metadata": {},
   "outputs": [],
   "source": [
    "with open(\"results/parameters/opt_params_complex.pickle\", \"rb\") as handle:\n",
    "    opt_params = pickle.load(handle)"
   ]
  },
  {
   "cell_type": "code",
   "execution_count": 37,
   "id": "78d0aaa4-fcf2-4696-aad8-ec0d9c673d01",
   "metadata": {},
   "outputs": [],
   "source": [
    "prediction_grid = decision_surface(\n",
    "    transform.forward(opt_params), resolution=80\n",
    ")"
   ]
  },
  {
   "cell_type": "code",
   "execution_count": 38,
   "id": "61dcd1c6-c379-4f94-a4f6-d253a4e07f5b",
   "metadata": {},
   "outputs": [
    {
     "data": {
      "image/png": "[encoded data removed]",
      "text/plain": [
       "<Figure size 140x92 with 2 Axes>"
      ]
     },
     "metadata": {},
     "output_type": "display_data"
    }
   ],
   "source": [
    "with mpl.rc_context(fname=\"../../.matplotlibrc\"):\n",
    "    fig, ax = plt.subplots(1, 1, figsize=(1.4, 0.92))\n",
    "    p = ax.imshow(\n",
    "        prediction_grid[2],\n",
    "        origin=\"lower\",\n",
    "        extent=[0.0, 4.0, 0.0, 4.0],\n",
    "        vmin=-80.0,\n",
    "        vmax=50.0,\n",
    "    )\n",
    "    cb = plt.colorbar(p, ticks=[-80, 50])\n",
    "    _ = ax.set_xticks([0, 4])\n",
    "    _ = ax.set_yticks([0, 4])\n",
    "    cb.set_label(\"V (mV)\", labelpad=-7)\n",
    "    for p, l in zip(all_train_images[1:100], all_train_voltages[1:100]):\n",
    "        _ = ax.scatter(p[0], p[1], c=\"k\" if l==35.0 else \"#d7301f\", s=1.0)\n",
    "    \n",
    "    plt.savefig(\"results/figs/fig1/svg/complex_decision_surface_continuous.svg\", bbox_inches=\"tight\", transparent=True)"
   ]
  },
  {
   "cell_type": "code",
   "execution_count": 39,
   "id": "3d4068eb-9dbd-478b-a57a-ef551b8c94d4",
   "metadata": {},
   "outputs": [
    {
     "data": {
      "image/png": "[encoded data removed]",
      "text/plain": [
       "<Figure size 92x92 with 1 Axes>"
      ]
     },
     "metadata": {},
     "output_type": "display_data"
    }
   ],
   "source": [
    "binary_grid = np.asarray(prediction_grid[2] > -36.0).astype(float)\n",
    "\n",
    "with mpl.rc_context(fname=\"../../.matplotlibrc\"):\n",
    "    fig, ax = plt.subplots(1, 1, figsize=(0.92, 0.92))\n",
    "    ax.contour(binary_grid, extent=[0.0, 4.0, 0.0, 4.0], levels=[0.5])\n",
    "    for p, l in zip(all_train_images[1:100], all_train_voltages[1:100]):\n",
    "        _ = ax.scatter(p[0], p[1], c=\"k\" if l==35.0 else \"#d7301f\", s=1.0)\n",
    "    \n",
    "    ax.set_xticks([0, 4])\n",
    "    ax.set_yticks([0, 4])\n",
    "    plt.savefig(\"results/figs/fig1/svg/complex_decision_surface.svg\", bbox_inches=\"tight\", transparent=True)"
   ]
  },
  {
   "cell_type": "code",
   "execution_count": 40,
   "id": "044efcbf-9f50-4fda-a066-d4a4744c87b0",
   "metadata": {},
   "outputs": [],
   "source": [
    "traces, labels = evaluate(transform.forward(opt_params))"
   ]
  },
  {
   "cell_type": "code",
   "execution_count": 41,
   "id": "b778b963-0b48-4208-80de-77a5ebe32c8b",
   "metadata": {},
   "outputs": [
    {
     "data": {
      "image/png": "[encoded data removed]",
      "text/plain": [
       "<Figure size 92x92 with 1 Axes>"
      ]
     },
     "metadata": {},
     "output_type": "display_data"
    }
   ],
   "source": [
    "with mpl.rc_context(fname=\"../../.matplotlibrc\"):\n",
    "    fig, ax = plt.subplots(1, 1, figsize=(0.92, 0.92))\n",
    "    for i, trace in enumerate(traces[:, 2:, :]):\n",
    "        col = \"k\" if labels[i] != -65.0 else \"#d7301f\"\n",
    "        _ = ax.plot(time_vec, trace[0], c=col, linewidth=0.4, alpha=0.4)\n",
    "        _ = ax.set_xlim([0, max(time_vec)])\n",
    "        _ = ax.set_ylim([-80, 50])\n",
    "        _ = ax.set_xlabel(\"Time (ms)\")\n",
    "        _ = ax.set_ylabel(\"Voltage (mV)\")\n",
    "\n",
    "    plt.savefig(\"results/figs/fig1/svg/traces_nonlinear_spiking.svg\", bbox_inches=\"tight\", transparent=True)"
   ]
  },
  {
   "cell_type": "code",
   "execution_count": 27,
   "id": "b81d8ddc-977b-412d-b0fc-2527c41bb6d9",
   "metadata": {},
   "outputs": [
    {
     "data": {
      "text/html": [
       "<img src=\"results/figs/fig1/figA.svg\" / >"
      ],
      "text/plain": [
       "<IPython.core.display.HTML object>"
      ]
     },
     "metadata": {},
     "output_type": "display_data"
    }
   ],
   "source": [
    "import time\n",
    "import IPython.display as IPd\n",
    "from svgutils.compose import *\n",
    "\n",
    "def svg(img):\n",
    "    IPd.display(IPd.HTML('<img src=\"{}\" / >'.format(img, time.time())))\n",
    "\n",
    "svg_scale = 1.25\n",
    "# Panel letters in Helvetica Neue, 12pt, Medium\n",
    "kwargs_text = {'size': '12pt', 'font': 'Arial', 'weight': '800'}\n",
    "\n",
    "f = Figure(\"15.5cm\", \"3.6cm\",\n",
    "\n",
    "    Panel(\n",
    "          SVG(\"results/figs/fig1/svg/learned_data_simple_0.svg\").scale(svg_scale),\n",
    "        # Text(\"b\", -5, 2.0, **kwargs_text),\n",
    "    ).move(00, 00),\n",
    "\n",
    "    # Panel(\n",
    "    #       SVG(\"results/figs/fig1/svg/learned_data_simple_1.svg\").scale(svg_scale),\n",
    "    # ).move(100, 20),\n",
    "\n",
    "    Panel(\n",
    "          SVG(\"results/figs/fig1/svg/simple_morph.svg\").scale(svg_scale),\n",
    "    ).move(180, 20),\n",
    "\n",
    "    Panel(\n",
    "          SVG(\"results/figs/fig1/svg/traces_simple_spiking_0.svg\").scale(svg_scale),\n",
    "    ).move(260, 11.5),\n",
    "\n",
    "    # Panel(\n",
    "    #       SVG(\"results/figs/fig1/svg/traces_simple_spiking_1.svg\").scale(svg_scale),\n",
    "    # ).move(400, 20),\n",
    "\n",
    "    Panel(\n",
    "          SVG(\"results/figs/fig1/svg/learned_simple_surfaces_0.svg\").scale(svg_scale),\n",
    "    ).move(370, 11.0),\n",
    "\n",
    "    # Panel(\n",
    "    #       SVG(\"results/figs/fig1/svg/learned_simple_surfaces_1.svg\").scale(svg_scale),\n",
    "    # ).move(600, 20),\n",
    ")\n",
    "\n",
    "!mkdir -p fig\n",
    "f.save(\"results/figs/fig1/figA.svg\")\n",
    "svg(\"results/figs/fig1/figA.svg\")"
   ]
  },
  {
   "cell_type": "code",
   "execution_count": 28,
   "id": "65eae67a-2698-4593-b77f-0c9bff3b594b",
   "metadata": {},
   "outputs": [
    {
     "data": {
      "text/html": [
       "<img src=\"results/figs/fig1/figB.svg\" / >"
      ],
      "text/plain": [
       "<IPython.core.display.HTML object>"
      ]
     },
     "metadata": {},
     "output_type": "display_data"
    }
   ],
   "source": [
    "import time\n",
    "import IPython.display as IPd\n",
    "from svgutils.compose import *\n",
    "\n",
    "def svg(img):\n",
    "    IPd.display(IPd.HTML('<img src=\"{}\" / >'.format(img, time.time())))\n",
    "\n",
    "svg_scale = 1.25\n",
    "# Panel letters in Helvetica Neue, 12pt, Medium\n",
    "kwargs_text = {'size': '12pt', 'font': 'Arial', 'weight': '800'}\n",
    "\n",
    "f = Figure(\"6.3cm\", \"3.4cm\",\n",
    "\n",
    "    # Panel(\n",
    "    #       SVG(\"results/figs/fig1/svg/complex_data.svg\").scale(svg_scale),\n",
    "    # ).move(0, 0),\n",
    "\n",
    "    Panel(\n",
    "          SVG(\"results/figs/fig1/svg/morph.svg\").scale(svg_scale),\n",
    "    ).move(0, 15),\n",
    "\n",
    "    # Panel(\n",
    "    #       SVG(\"results/figs/fig1/svg/traces_nonlinear_spiking.svg\").scale(svg_scale),\n",
    "    # ).move(300, 20),\n",
    "    \n",
    "    Panel(\n",
    "          SVG(\"results/figs/fig1/svg/complex_decision_surface_continuous.svg\").scale(svg_scale),\n",
    "    ).move(80, 10),\n",
    ")\n",
    "\n",
    "!mkdir -p fig\n",
    "f.save(\"results/figs/fig1/figB.svg\")\n",
    "svg(\"results/figs/fig1/figB.svg\")"
   ]
  },
  {
   "cell_type": "code",
   "execution_count": null,
   "id": "3c8950f7-3d79-43f9-a9c6-875eaf4a1ff6",
   "metadata": {},
   "outputs": [],
   "source": []
  }
 ],
 "metadata": {
  "kernelspec": {
   "display_name": "Python 3 (ipykernel)",
   "language": "python",
   "name": "python3"
  },
  "language_info": {
   "codemirror_mode": {
    "name": "ipython",
    "version": 3
   },
   "file_extension": ".py",
   "mimetype": "text/x-python",
   "name": "python",
   "nbconvert_exporter": "python",
   "pygments_lexer": "ipython3",
   "version": "3.11.8"
  }
 },
 "nbformat": 4,
 "nbformat_minor": 5
}
