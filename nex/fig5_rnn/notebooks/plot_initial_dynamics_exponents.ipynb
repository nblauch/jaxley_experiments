{
   "cells": [
      {
         "cell_type": "code",
         "execution_count": 1,
         "metadata": {},
         "outputs": [
            {
               "name": "stderr",
               "output_type": "stream",
               "text": [
                  "<frozen importlib._bootstrap>:241: RuntimeWarning: scipy._lib.messagestream.MessageStream size changed, may indicate binary incompatibility. Expected 56 from C header, got 64 from PyObject\n"
               ]
            }
         ],
         "source": [
            "%load_ext autoreload\n",
            "%autoreload 2\n",
            "\n",
            "from jax import config\n",
            "\n",
            "config.update(\"jax_enable_x64\", True)\n",
            "config.update(\"jax_platform_name\", \"cpu\")\n",
            "\n",
            "import os,sys\n",
            "os.environ[\"XLA_PYTHON_CLIENT_MEM_FRACTION\"] = \".8\"\n",
            "sys.path.append('../scripts/')\n",
            "import matplotlib.pyplot as plt\n",
            "import matplotlib as mpl\n",
            "import seaborn as sns\n",
            "import numpy as np\n",
            "import pickle\n",
            "import jax.numpy as jnp\n",
            "\n",
            "import jaxley as jx\n",
            "\n",
            "from nex.colors import cols as papercols\n",
            "from Lyaponuv import  obtain_max_Lyapunov\n",
            "from network import initialize_RNN as initialise_DMS_RNN\n"
         ]
      },
      {
         "cell_type": "code",
         "execution_count": 2,
         "metadata": {},
         "outputs": [],
         "source": [
            "# Toggle to load already calculated Lyaponuv exponents\n",
            "load_data = True"
         ]
      },
      {
         "cell_type": "code",
         "execution_count": 3,
         "metadata": {},
         "outputs": [],
         "source": [
            "# set params of RNN\n",
            "\n",
            "g_scaling = 100_000 / 2 / np.pi / 10.0 / 1.0\n",
            "dt = .025\n",
            "RNN_params = {\n",
            "    \"RNN_seed\":4,\n",
            "    \"n_rec\":50,\n",
            "    \"n_inh\":10,\n",
            "    \"n_out\":2,\n",
            "    \"init_gain\": 4/g_scaling,\n",
            "    \"out_scale\":.1,\n",
            "    \"inp_scale\":1,\n",
            "    \"in_conn_prob\":.1,\n",
            "    \"out_conn_prob\":1,\n",
            "    \"rec_conn_prob\":.2,\n",
            "    \"k_minus\":1,\n",
            "    \"out_k_minus\":.1,\n",
            "}\n",
            "\n"
         ]
      },
      {
         "cell_type": "code",
         "execution_count": 4,
         "metadata": {},
         "outputs": [],
         "source": [
            "# Load exponents\n",
            "\n",
            "if load_data:\n",
            "    with open(\"../results/DMS_Lyapunov7.pkl\", \"rb\") as f:\n",
            "        results =pickle.load(f)\n",
            "    Ls = results[\"Lyapunov\"]\n",
            "    gs = results[\"gains\"]\n",
            "\n",
            "# or obtain:\n",
            "else:\n",
            "    n_models = 1\n",
            "    T = int(6000/dt)\n",
            "    transient=int(2000/dt)\n",
            "    renormalise_interval = 1#10/dt\n",
            "    n_repeats_per_model = 1\n",
            "    gstep = .00025\n",
            "    gs = np.concatenate([np.arange(0,.003+gstep,gstep)]*n_models)\n",
            "    seeds = np.int_(np.concatenate([np.ones(int(len(gs)/n_models))*i for i in range(n_models)]))\n",
            "    Ls = []\n",
            "    for s,g in zip(seeds,gs):\n",
            "        RNN_params['init_gain'] = g\n",
            "        RNN_params['RNN_seed'] = s\n",
            "        network, conn_matrix, input_weights=initialise_DMS_RNN(RNN_params)\n",
            "        L,_ = obtain_max_Lyapunov(network,dt=dt,transient = transient,T=T,n_repeats=n_repeats_per_model,QR_t=renormalise_interval)\n",
            "        Ls.append(np.max(L))\n",
            "        print(np.max(L))\n",
            "    Ls= np.array(Ls)\n",
            "    results = {\"gains\":gs, \"Lyapunov\":Ls}\n",
            "    with open(\"../results/DMS_Lyapunov8.pkl\", \"wb\") as f:\n",
            "        pickle.dump(results, f)"
         ]
      },
      {
         "cell_type": "code",
         "execution_count": 5,
         "metadata": {},
         "outputs": [
            {
               "name": "stdout",
               "output_type": "stream",
               "text": [
                  "10.36\n",
                  "518\n",
                  "50\n",
                  "conn probability recurrence: 0.2072\n",
                  "EIratio:4.0\n",
                  "Normaliser: 0.5366449310309914\n",
                  "Spectral radius recurrence: 0.0009447591211556599\n",
                  "10.36\n",
                  "518\n",
                  "50\n",
                  "conn probability recurrence: 0.2072\n",
                  "EIratio:4.0\n",
                  "Normaliser: 0.5366449310309914\n",
                  "Spectral radius recurrence: 0.001574598535259436\n",
                  "10.36\n",
                  "518\n",
                  "50\n",
                  "conn probability recurrence: 0.2072\n",
                  "EIratio:4.0\n",
                  "Normaliser: 0.5366449310309914\n",
                  "Spectral radius recurrence: 0.0034641167775707523\n"
               ]
            }
         ],
         "source": [
            "# Initialise 3 models corresponding to different dynamical regimes\n",
            "\n",
            "gains = [0.00075, 0.00125, 0.00275]\n",
            "RNN_params['init_gain']=gains[0]\n",
            "network1, conn_matrix, input_weights=initialise_DMS_RNN(RNN_params)\n",
            "RNN_params['init_gain']=gains[1]\n",
            "network2, conn_matrix, input_weights=initialise_DMS_RNN(RNN_params)\n",
            "RNN_params['init_gain']=gains[2]\n",
            "network3, conn_matrix, input_weights=initialise_DMS_RNN(RNN_params)"
         ]
      },
      {
         "cell_type": "code",
         "execution_count": 6,
         "metadata": {},
         "outputs": [],
         "source": [
            "# Add recordings\n",
            "\n",
            "network1.delete_recordings()\n",
            "# Record from the soma of each cell\n",
            "for i in range(RNN_params['n_rec']):\n",
            "    network1.cell([i]).branch(1).comp(0).record(verbose=False)\n",
            "# Record from the readout (only one branch)\n",
            "for i in range(RNN_params['n_out']):\n",
            "    network1.cell([RNN_params['n_rec']+i]).branch(0).comp(0).record(verbose=False)\n",
            "\n",
            "network2.delete_recordings()\n",
            "# Record from the soma of each cell\n",
            "for i in range(RNN_params['n_rec']):\n",
            "    network2.cell([i]).branch(1).comp(0).record(verbose=False)\n",
            "# Record from the readout (only one branch)\n",
            "for i in range(RNN_params['n_out']):\n",
            "    network2.cell([RNN_params['n_rec']+i]).branch(0).comp(0).record(verbose=False)\n",
            "\n",
            "network3.delete_recordings()\n",
            "# Record from the soma of each cell\n",
            "for i in range(RNN_params['n_rec']):\n",
            "    network3.cell([i]).branch(1).comp(0).record(verbose=False)\n",
            "# Record from the readout (only one branch)\n",
            "for i in range(RNN_params['n_out']):\n",
            "    network3.cell([RNN_params['n_rec']+i]).branch(0).comp(0).record(verbose=False)\n",
            "     "
         ]
      },
      {
         "cell_type": "code",
         "execution_count": 7,
         "metadata": {},
         "outputs": [],
         "source": [
            "# Simulate\n",
            "\n",
            "# cut of transients\n",
            "t_max = 1400 # ms\n",
            "transient = 1000\n",
            "levels = 3\n",
            "checkpoints = [int(np.ceil(t_max ** (1/levels))) for _ in range(levels)]\n",
            "v1 = jx.integrate(network1, t_max=t_max-1*dt, delta_t=dt, solver=\"bwd_euler\")#,checkpoint_lengths=checkpoints)\n",
            "v2 = jx.integrate(network2, t_max=t_max-1*dt, delta_t=dt, solver=\"bwd_euler\")#,checkpoint_lengths=checkpoints)\n",
            "v3 = jx.integrate(network3, t_max=t_max-1*dt, delta_t=dt, solver=\"bwd_euler\")#,checkpoint_lengths=checkpoints)\n",
            "v1 = v1[:,int(transient/dt):]\n",
            "v2 = v2[:,int(transient/dt):]\n",
            "v3 = v3[:,int(transient/dt):]\n"
         ]
      },
      {
         "cell_type": "code",
         "execution_count": 11,
         "metadata": {},
         "outputs": [
            {
               "data": {
                  "text/plain": [
                     "['#d0d1e6', '#a6bddb', '#74a9cf', '#3690c0', '#0570b0', '#045a8d', '#023858']"
                  ]
               },
               "execution_count": 11,
               "metadata": {},
               "output_type": "execute_result"
            }
         ],
         "source": [
            "papercols[\"jaxley_shades\"]"
         ]
      },
      {
         "cell_type": "code",
         "execution_count": 16,
         "metadata": {},
         "outputs": [
            {
               "data": {
                  "image/png": "[encoded data removed]",
                  "text/plain": [
                     "<Figure size 270x100 with 4 Axes>"
                  ]
               },
               "metadata": {},
               "output_type": "display_data"
            }
         ],
         "source": [
            "# Make plot\n",
            "\n",
            "time = np.arange(0, t_max-transient, dt)\n",
            "\n",
            "with mpl.rc_context(fname=\"../../../.matplotlibrc\"):\n",
            "    fig, ax = plt.subplots(1, 4, figsize=(2.7, 1.0), constrained_layout=True)\n",
            "    ax[0].set_prop_cycle('color',papercols[\"jaxley_shades\"][1:])\n",
            "    ax[1].set_prop_cycle('color',papercols[\"jaxley_shades\"][1:])\n",
            "    ax[2].set_prop_cycle('color',papercols[\"jaxley_shades\"][1:])\n",
            "\n",
            "    ax[0].plot(time,v1[:RNN_params['n_rec'],0:].T,lw=.5);\n",
            "    ax[1].plot(time,v2[:RNN_params['n_rec'],0:].T,lw=.5);\n",
            "    ax[2].plot(time,v3[:RNN_params['n_rec'],0:].T,lw=.5);\n",
            "    n_models = 3\n",
            "    for i in [1]:\n",
            "        i1 = int(i*len(gs)/n_models)\n",
            "        i2=int((i+1)*len(gs)/n_models)\n",
            "        ax[3].plot(gs[i1:i2],Ls[i1:i2], color= 'black',alpha=1, zorder = 10)#,lw=.5)\n",
            "    ax[3].axhline(0,ls='--',color='grey',lw=.5)\n",
            "\n",
            "    for a in ax[:3]:\n",
            "        a.set_xticks([0,t_max-transient])\n",
            "        a.set_xlim(0,t_max-transient)\n",
            "        a.set_ylim(-100, 60)\n",
            "        a.set_yticks([-100, 60])\n",
            "        sns.despine(offset=2)\n",
            "    for a in ax[1:3]:\n",
            "        a.set_yticklabels([])\n",
            "    ax[0].set_title(\"Stable \\n\"+r\"$\\lambda<0$\")\n",
            "    ax[1].set_title(\"Regular \\n\"+r\"$\\lambda\t\\approx0$\")\n",
            "    ax[2].set_title(\"Chaotic \\n\"+r\"$\\lambda>0$\")\n",
            "    ax[0].set_ylabel(\"Initial dynamics (mV)\", labelpad=0)\n",
            "    ax[0].set_xlabel(\"Time (ms)\", labelpad=2)\n",
            "    \n",
            "    ax[3].set_xlim(0,0.002)\n",
            "    ax[3].set_ylim(-0.004,0.05)\n",
            "    ax[3].set_xlabel('Gain')\n",
            "    ax[3].set_ylabel(r'$\\lambda \\;({ms}^{-1})$')\n",
            "    ax[3].set_xticks([0,0.002])\n",
            "    ax[3].set_xticklabels([0,0.002])\n",
            "    plt.savefig(\"../figures/dms_initial_dynamics.svg\", transparent=True)\n",
            "    plt.show()\n"
         ]
      },
      {
         "cell_type": "code",
         "execution_count": null,
         "metadata": {},
         "outputs": [],
         "source": []
      }
   ],
   "metadata": {
      "kernelspec": {
         "display_name": "retina",
         "language": "python",
         "name": "python3"
      },
      "language_info": {
         "codemirror_mode": {
            "name": "ipython",
            "version": 3
         },
         "file_extension": ".py",
         "mimetype": "text/x-python",
         "name": "python",
         "nbconvert_exporter": "python",
         "pygments_lexer": "ipython3",
         "version": "3.10.13"
      }
   },
   "nbformat": 4,
   "nbformat_minor": 2
}
