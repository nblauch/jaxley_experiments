{
 "cells": [
  {
   "cell_type": "code",
   "execution_count": 8,
   "metadata": {},
   "outputs": [
    {
     "name": "stdout",
     "output_type": "stream",
     "text": [
      "The autoreload extension is already loaded. To reload it, use:\n",
      "  %reload_ext autoreload\n"
     ]
    }
   ],
   "source": [
    "%load_ext autoreload\n",
    "%autoreload 2\n",
    "\n",
    "from jax import config\n",
    "\n",
    "config.update(\"jax_enable_x64\", True)\n",
    "config.update(\"jax_platform_name\", \"cpu\")\n",
    "\n",
    "import os\n",
    "os.environ[\"XLA_PYTHON_CLIENT_MEM_FRACTION\"] = \".8\"\n",
    "\n",
    "import matplotlib.pyplot as plt\n",
    "import matplotlib as mpl\n",
    "import matplotlib.patches as mpatches\n",
    "import seaborn as sns\n",
    "import numpy as np\n",
    "import pickle\n",
    "\n",
    "import sys\n",
    "sys.path.append(\"../scripts/\")\n",
    "\n",
    "from colors import cols as papercols\n"
   ]
  },
  {
   "cell_type": "code",
   "execution_count": 9,
   "metadata": {},
   "outputs": [],
   "source": [
    "time_stamp = \"0802-114242\""
   ]
  },
  {
   "cell_type": "code",
   "execution_count": 10,
   "metadata": {},
   "outputs": [],
   "source": [
    "# Get the initial connectivity matrix for the EI task (all the same because the same seed, so the timestamp shouldn't matter)\n",
    "with open(f\"../results/evint_init_params_{time_stamp}.pkl\", \"rb\") as f:\n",
    "    init_conn_matrix, init_inp_weights, RNN_params = pickle.load(f)\n",
    "\n",
    "init_rec_matrix = init_conn_matrix[:20, :20]\n",
    "init_out_weights = init_conn_matrix[:20, 20:].flatten()\n",
    "init_inp_weights = init_inp_weights[0][\"input_weights\"]"
   ]
  },
  {
   "cell_type": "code",
   "execution_count": 11,
   "metadata": {},
   "outputs": [],
   "source": [
    "# Get the trained connectivity matrix for the EI task\n",
    "with open(f\"../results/evint_final_conn_{time_stamp}.pkl\", \"rb\") as f:\n",
    "    final_conn_matrix = pickle.load(f)\n",
    "\n",
    "with open(f\"../results/evint_params_{time_stamp}.pkl\", \"rb\") as f:\n",
    "    params, task_params, RNN_params, train_params = pickle.load(f)\n",
    "\n",
    "final_inp_weights = params[0]['input_weights']\n",
    "\n",
    "final_rec_matrix = final_conn_matrix[:20, :20]\n",
    "final_out_weights = final_conn_matrix[:20, 20:].flatten()\n",
    "final_inp_weights = final_inp_weights.flatten()"
   ]
  },
  {
   "cell_type": "markdown",
   "metadata": {},
   "source": [
    "### Panel e of the RNN figure"
   ]
  },
  {
   "cell_type": "code",
   "execution_count": 12,
   "metadata": {},
   "outputs": [
    {
     "name": "stdout",
     "output_type": "stream",
     "text": [
      "(69,)\n"
     ]
    },
    {
     "data": {
      "text/plain": [
       "(69,)"
      ]
     },
     "execution_count": 12,
     "metadata": {},
     "output_type": "execute_result"
    }
   ],
   "source": [
    "# Only plot the nonzero recurrent weights\n",
    "init_rec_weights = init_rec_matrix.flatten()[init_rec_matrix.flatten() != 0]\n",
    "print(init_rec_weights.shape)\n",
    "\n",
    "final_rec_weights = final_rec_matrix.flatten()[final_rec_matrix.flatten() != 0]\n",
    "final_rec_weights.shape"
   ]
  },
  {
   "cell_type": "code",
   "execution_count": 13,
   "metadata": {},
   "outputs": [
    {
     "data": {
      "image/png": "[encoded data removed]",
      "text/plain": [
       "<Figure size 110x130 with 3 Axes>"
      ]
     },
     "metadata": {},
     "output_type": "display_data"
    }
   ],
   "source": [
    "fit_color = papercols[\"parameter_cmap\"](0.5)\n",
    "lpad = 1\n",
    "\n",
    "with mpl.rc_context(fname=\"../../../.matplotlibrc\"):\n",
    "    # Some rcParam editing because the plot is so differently shaped\n",
    "    mpl.rcParams[\"axes.linewidth\"] = 0.7\n",
    "    mpl.rcParams[\"xtick.major.width\"] = 0.7\n",
    "    mpl.rcParams[\"ytick.major.width\"] = 0.7\n",
    "\n",
    "    fig, axs = plt.subplots(3, 1, figsize=(1.1, 1.3), constrained_layout=True)\n",
    "\n",
    "    # Input weights\n",
    "    bins = np.arange(-0.2, 0.2 + 1e-8, step=0.025)\n",
    "    n_bins = len(bins)\n",
    "    n, _, _ = axs[0].hist(init_inp_weights.flatten(), bins=bins, color=\"k\", alpha=0.3, label=\"Initial\", edgecolor=\"k\")\n",
    "    m, _, _ = axs[0].hist(final_inp_weights.flatten(), bins=bins, color=fit_color, alpha=0.5, label=\"Final\", edgecolor=fit_color)\n",
    "    axs[0].set_xlabel(\"Input weights\", labelpad=lpad)\n",
    "    max_h = max(max(n), max(m))\n",
    "    # Format the plot\n",
    "    axs[0].set_xlim(-0.2, 0.2)\n",
    "    axs[0].set_xticks([-0.2, 0, 0.2])\n",
    "    axs[0].set_ylim(0, max_h)\n",
    "    axs[0].set_yticks([])\n",
    "    sns.despine(ax=axs[0], left=True, offset=2)\n",
    "\n",
    "    # Recurrent weights\n",
    "    max_weight = np.max([np.max(init_rec_weights), np.max(final_rec_weights)]) + 1e-8\n",
    "    min_weight = np.min([np.min(init_rec_weights), np.min(final_rec_weights)])\n",
    "    bins = np.linspace(min_weight, max_weight, num=n_bins)\n",
    "    n, _, _ = axs[1].hist(init_rec_weights.flatten(), bins=bins, color=\"k\", alpha=0.3, label=\"Initial\", edgecolor=\"k\")\n",
    "    m, _, _ = axs[1].hist(final_rec_weights.flatten(), bins=bins, color=fit_color, alpha=0.5, label=\"Final\", edgecolor=fit_color)\n",
    "    axs[1].set_xlabel(\"Recurrent weights\", labelpad=lpad)\n",
    "    max_h = max(max(n), max(m))\n",
    "    # Format the plot\n",
    "    max_weight = np.round(max_weight, 3)\n",
    "    min_weight = np.round(min_weight, 3)\n",
    "    axs[1].set_xlim(min_weight, max_weight)\n",
    "    axs[1].set_xticks([min_weight, 0, max_weight])\n",
    "    axs[1].set_ylim(0, max_h)\n",
    "    axs[1].set_yticks([])\n",
    "    sns.despine(ax=axs[1], left=True, offset=2)\n",
    "    axs[1].ticklabel_format(axis=\"x\", style=\"sci\", scilimits=(0, 0))\n",
    "\n",
    "    # Output weights\n",
    "    max_weight = np.max([np.max(init_out_weights), np.max(final_out_weights)]) + 1e-8\n",
    "    min_weight = np.min([np.min(init_out_weights), np.min(final_out_weights)])\n",
    "    bins = np.linspace(min_weight, max_weight, num=n_bins)\n",
    "    n, _, _ = axs[2].hist(init_out_weights.flatten(), bins=bins, color=\"k\", alpha=0.3, edgecolor=\"k\")\n",
    "    m, _, _ = axs[2].hist(final_out_weights.flatten(), bins=bins, color=fit_color, alpha=0.5, edgecolor=fit_color)\n",
    "    axs[2].set_xlabel(\"Output weights\", labelpad=lpad)\n",
    "    max_h = max(max(n), max(m))\n",
    "    # Format the plot\n",
    "    max_weight = np.round(max_weight, 3)\n",
    "    min_weight = np.round(min_weight, 3)\n",
    "    axs[2].set_xlim(min_weight, max_weight)\n",
    "    axs[2].set_xticks([min_weight, 0, max_weight])\n",
    "    axs[2].set_ylim(0, max_h)\n",
    "    axs[2].set_yticks([])\n",
    "    sns.despine(ax=axs[2], left=True, offset=2)\n",
    "    axs[2].ticklabel_format(axis=\"x\", style=\"sci\", scilimits=(0, 0), useOffset=False)\n",
    "\n",
    "    plt.savefig(\"../figures/evint_weight_distributions.svg\", transparent=True)\n",
    "\n",
    "    plt.show()\n"
   ]
  },
  {
   "cell_type": "code",
   "execution_count": 14,
   "metadata": {},
   "outputs": [
    {
     "name": "stderr",
     "output_type": "stream",
     "text": [
      "/tmp/ipykernel_329062/2330170301.py:4: UserWarning: Setting the 'color' property will override the edgecolor or facecolor properties.\n",
      "  patch_1 = mpatches.Patch(label=\"Initial\", color=\"k\", alpha=0.3, edgecolor=\"k\")\n",
      "/tmp/ipykernel_329062/2330170301.py:5: UserWarning: Setting the 'color' property will override the edgecolor or facecolor properties.\n",
      "  patch_2 = mpatches.Patch(label=\"Final\", color=fit_color, alpha=0.5, edgecolor=fit_color)\n"
     ]
    },
    {
     "data": {
      "image/png": "[encoded data removed]",
      "text/plain": [
       "<Figure size 40x43.3333 with 1 Axes>"
      ]
     },
     "metadata": {},
     "output_type": "display_data"
    }
   ],
   "source": [
    "# Make the legend\n",
    "with mpl.rc_context(fname=\"../../../.matplotlibrc\"):\n",
    "    fig, axs = plt.subplots(figsize=(0.4, 1.3/3))\n",
    "    patch_1 = mpatches.Patch(label=\"Initial\", color=\"k\", alpha=0.3, edgecolor=\"k\")\n",
    "    patch_2 = mpatches.Patch(label=\"Final\", color=fit_color, alpha=0.5, edgecolor=fit_color)\n",
    "\n",
    "    # add legends\n",
    "    leg = plt.legend(handles=[patch_1, patch_2], ncols=2, handlelength=1, frameon=False)\n",
    "\n",
    "    for patch in leg.get_patches():\n",
    "        patch.set_height(2)\n",
    "        patch.set_width(5)\n",
    "        patch.set_y(0)\n",
    "    \n",
    "    axs.axes.set_axis_off()\n",
    "\n",
    "    plt.savefig(\"../figures/evint_weight_distributions_legend.svg\", transparent=True)\n",
    "    plt.show()"
   ]
  }
 ],
 "metadata": {
  "kernelspec": {
   "display_name": "retina",
   "language": "python",
   "name": "python3"
  },
  "language_info": {
   "codemirror_mode": {
    "name": "ipython",
    "version": 3
   },
   "file_extension": ".py",
   "mimetype": "text/x-python",
   "name": "python",
   "nbconvert_exporter": "python",
   "pygments_lexer": "ipython3",
   "version": "3.10.6"
  }
 },
 "nbformat": 4,
 "nbformat_minor": 2
}
