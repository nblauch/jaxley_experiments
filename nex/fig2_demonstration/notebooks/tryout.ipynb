{
 "cells": [
  {
   "cell_type": "code",
   "execution_count": 1,
   "id": "e1870621",
   "metadata": {},
   "outputs": [],
   "source": [
    "%load_ext autoreload\n",
    "%autoreload 2"
   ]
  },
  {
   "cell_type": "code",
   "execution_count": 2,
   "id": "77295b6e",
   "metadata": {},
   "outputs": [],
   "source": [
    "from jax import config\n",
    "config.update(\"jax_enable_x64\", True)\n",
    "device = \"cpu\"\n",
    "config.update(\"jax_platform_name\", device)\n",
    "\n",
    "import os\n",
    "os.environ[\"XLA_PYTHON_CLIENT_MEM_FRACTION\"]=\".8\"\n",
    "\n",
    "import time\n",
    "import pickle\n",
    "\n",
    "import matplotlib.pyplot as plt\n",
    "import matplotlib as mpl\n",
    "import numpy as np\n",
    "\n",
    "import jax.numpy as jnp\n",
    "from jax import jit, value_and_grad, vmap\n",
    "import optax\n",
    "import tensorflow as tf\n",
    "import tensorflow_datasets as tfds\n",
    "import jax\n",
    "\n",
    "import jaxley as jx\n",
    "from jaxley.channels import HH\n",
    "from jaxley.utils.colors import network_cols"
   ]
  },
  {
   "cell_type": "code",
   "execution_count": 3,
   "id": "d53622d6",
   "metadata": {},
   "outputs": [
    {
     "name": "stderr",
     "output_type": "stream",
     "text": [
      "Warning: no DISPLAY environment variable.\n",
      "--No graphics will be displayed.\n"
     ]
    }
   ],
   "source": [
    "from neuron import h\n",
    "\n",
    "_ = h.load_file(\"stdlib.hoc\")\n",
    "_ = h.load_file(\"import3d.hoc\")"
   ]
  },
  {
   "cell_type": "code",
   "execution_count": 4,
   "id": "2530cc4c-d37d-4306-8611-78033b567585",
   "metadata": {},
   "outputs": [],
   "source": [
    "def compute_jx_rads_and_lengths(cell):\n",
    "    jx_radiuses = []\n",
    "    for a in cell.nodes.groupby(\"branch_index\")[\"radius\"].apply(list).to_numpy():\n",
    "        jx_radiuses.append(a)\n",
    "    jx_radiuses = np.asarray(jx_radiuses)\n",
    "    \n",
    "    jx_pathlengths = []\n",
    "    for a in cell.nodes.groupby(\"branch_index\")[\"length\"].apply(list).to_numpy():\n",
    "        jx_pathlengths.append(a)\n",
    "    jx_pathlengths = np.asarray(jx_pathlengths)\n",
    "    jx_pathlengths = np.sum(jx_pathlengths, axis=1)\n",
    "    return jx_radiuses, jx_pathlengths\n",
    "\n",
    "def build_corrected_rads(jx_pathlengths, neuron_pathlengths, neuron_radiuses):\n",
    "    sorted_neuron_pathlenghts = []\n",
    "    sorted_neuron_radiuses = []\n",
    "    \n",
    "    for jx_path in jx_pathlengths:\n",
    "        argmin = np.argmin(np.abs(jx_path - neuron_pathlengths))\n",
    "        sorted_neuron_pathlenghts.append(neuron_pathlengths[argmin])\n",
    "        sorted_neuron_radiuses.append(neuron_radiuses[argmin])\n",
    "    sorted_neuron_pathlenghts = np.asarray(sorted_neuron_pathlenghts)\n",
    "    sorted_neuron_radiuses = np.asarray(sorted_neuron_radiuses)\n",
    "\n",
    "    return sorted_neuron_radiuses, sorted_neuron_pathlenghts"
   ]
  },
  {
   "cell_type": "code",
   "execution_count": 16,
   "id": "b388c883-808d-4d9c-a764-ae8ebd45cba1",
   "metadata": {},
   "outputs": [
    {
     "name": "stderr",
     "output_type": "stream",
     "text": [
      "/Users/michaeldeistler/Documents/phd/jaxley/jaxley/utils/swc.py:185: UserWarning: Found a soma which consists of a single traced point. `Jaxley` interprets this soma as a spherical compartment with radius specified in the SWC file, i.e. with surface area 4*pi*r*r.\n",
      "  warn(\n"
     ]
    }
   ],
   "source": [
    "site = \"484559000\"\n",
    "recording_sites = {\n",
    "    \"485574832\": [[0, 60, 68], [0.2, 0.6, 0.6], 160, [-400, 0], [-900, -100]],\n",
    "    \"480351780\": [[0, 66, 71], [0.2, 0.4, 0.4], 220, [-850, -450], [-550, 450]],\n",
    "    \"484559000\": [[0, 35, 37], [0.2, 0.2, 0.2], 155, [-350, 50], [-850, 150]],\n",
    "    \"488683425\": [[0, 61, 63], [0.2, 0.6, 0.6], 198, [-750, -350], [-750, 250]],\n",
    "}\n",
    "\n",
    "fname = f\"../../../nex/l5pc/cell_types/specimen_{site}/reconstruction.swc\"\n",
    "_, jx_pathlengths, _, _, _ = jx.utils.swc.swc_to_jaxley(fname, max_branch_len=5_000.0)\n",
    "\n",
    "i_amp = 0.3\n",
    "\n",
    "branches = recording_sites[site][0]\n",
    "comps = recording_sites[site][1]\n",
    "rotation = recording_sites[site][2]\n",
    "xlim = recording_sites[site][3]\n",
    "ylim = recording_sites[site][4]\n",
    "\n",
    "nseg_per_branch = 4\n",
    "\n",
    "i_delay = 1.0  # ms\n",
    "i_dur = 2.0  # ms\n",
    "dt = 0.025  # ms\n",
    "t_max = 20.0  # ms"
   ]
  },
  {
   "cell_type": "code",
   "execution_count": 17,
   "id": "cbb19bd0-4d8e-4046-bd96-330635af3c16",
   "metadata": {},
   "outputs": [],
   "source": [
    "test_cell = jx.read_swc(fname, nseg_per_branch, max_branch_len=5_000.0, assign_groups=True)\n",
    "num_branches = len(test_cell.comb_parents)\n",
    "# _ = np.random.seed(1)\n",
    "# branch_radiuses = 0.1 + np.random.rand(num_branches)"
   ]
  },
  {
   "cell_type": "code",
   "execution_count": 18,
   "id": "d4963fdd-8af4-43e4-a614-c57f2f347863",
   "metadata": {},
   "outputs": [],
   "source": [
    "from copy import deepcopy\n",
    "\n",
    "\n",
    "def get_neuron_radius():\n",
    "    for sec in h.allsec():\n",
    "        h.delete_section(sec=sec)\n",
    "        \n",
    "    cell_neuron = h.Import3d_SWC_read()\n",
    "    cell_neuron.input(fname)\n",
    "    i3d = h.Import3d_GUI(cell_neuron, False)\n",
    "    i3d.instantiate(None)\n",
    "    \n",
    "    for sec in h.allsec():\n",
    "        sec.nseg = nseg_per_branch\n",
    "\n",
    "    neuron_radiuses = []\n",
    "    for i, sec in enumerate(h.allsec()):\n",
    "        rads_in_sec = []\n",
    "        for seg in sec:\n",
    "            neuron_radiuses.append(seg.diam)\n",
    "    neuron_radiuses = np.asarray(neuron_radiuses) / 2\n",
    "    return neuron_radiuses\n",
    "\n",
    "\n",
    "def simulate_neuron(i_amp, radiuses):\n",
    "    for sec in h.allsec():\n",
    "        h.delete_section(sec=sec)\n",
    "        \n",
    "    cell_neuron = h.Import3d_SWC_read()\n",
    "    cell_neuron.input(fname)\n",
    "    i3d = h.Import3d_GUI(cell_neuron, False)\n",
    "    i3d.instantiate(None)\n",
    "    \n",
    "    for sec in h.allsec():\n",
    "        sec.nseg = nseg_per_branch\n",
    "\n",
    "    neuron_pathlengths = np.asarray([sec.L for sec in h.allsec()])\n",
    "\n",
    "    neuron_to_jaxley_branch_mapping = []\n",
    "    for i, p in enumerate(jx_pathlengths):\n",
    "        closest_match = np.argmin(np.abs(neuron_pathlengths - p))\n",
    "        max_dist = np.min(np.abs(neuron_pathlengths - p))\n",
    "        assert max_dist < 2e-4, f\"{i}, max_dist {max_dist}\"\n",
    "        neuron_to_jaxley_branch_mapping.append(closest_match)\n",
    "    neuron_to_jaxley_branch_mapping = np.asarray(neuron_to_jaxley_branch_mapping)\n",
    "\n",
    "    jaxley_to_neuron_branch_mapping = []\n",
    "    for i, p in enumerate(neuron_pathlengths):\n",
    "        closest_match = np.argmin(np.abs(jx_pathlengths - p))\n",
    "        max_dist = np.min(np.abs(jx_pathlengths - p))\n",
    "        assert max_dist < 2e-4, f\"{i}, max_dist {max_dist}\"\n",
    "        jaxley_to_neuron_branch_mapping.append(closest_match)\n",
    "    jaxley_to_neuron_branch_mapping = np.asarray(jaxley_to_neuron_branch_mapping)\n",
    "\n",
    "    for branch_ind, sec in enumerate(h.allsec()):\n",
    "        if branch_ind > 0:\n",
    "            for comp, seg in enumerate(sec):\n",
    "                seg.diam = 2 * radiuses[nseg_per_branch * branch_ind + comp]\n",
    "\n",
    "    for i, sec in enumerate(h.allsec()):\n",
    "        if i == 0:\n",
    "            stim = h.IClamp(sec(0.2))\n",
    "            stim.delay = i_delay\n",
    "            stim.dur = i_dur\n",
    "            stim.amp = i_amp\n",
    "    \n",
    "    counter = 0\n",
    "    voltage_recs = {}\n",
    "\n",
    "    for r, c in zip(neuron_to_jaxley_branch_mapping[branches], comps):\n",
    "        for i, sec in enumerate(h.allsec()):\n",
    "            if i == r:\n",
    "                v = h.Vector()\n",
    "                v.record(sec(c)._ref_v)\n",
    "                voltage_recs[f\"v{counter}\"] = v\n",
    "                counter += 1\n",
    "    \n",
    "    for sec in h.allsec():\n",
    "        sec.insert(\"hh\")\n",
    "        sec.Ra = 1_000.0\n",
    "    \n",
    "        sec.gnabar_hh = 0.120  # S/cm2\n",
    "        sec.gkbar_hh = 0.036  # S/cm2\n",
    "        sec.gl_hh = 0.0003  # S/cm2\n",
    "        sec.ena = 50  # mV\n",
    "        sec.ek = -77.0  # mV\n",
    "        sec.el_hh = -54.3  # mV\n",
    "    \n",
    "    h.dt = dt\n",
    "    tstop = t_max\n",
    "    v_init = -62.0\n",
    "    \n",
    "    def initialize():\n",
    "        h.finitialize(v_init)\n",
    "        h.fcurrent()\n",
    "    \n",
    "    def integrate():\n",
    "        while h.t < tstop:\n",
    "            h.fadvance()\n",
    "    \n",
    "    initialize()\n",
    "    integrate()\n",
    "    voltages_neuron = np.asarray([voltage_recs[key] for key in voltage_recs])\n",
    "    return voltages_neuron, neuron_pathlengths, neuron_to_jaxley_branch_mapping, jaxley_to_neuron_branch_mapping"
   ]
  },
  {
   "cell_type": "code",
   "execution_count": 19,
   "id": "d8cfc278-37e1-40c5-bf0e-d3e79c322934",
   "metadata": {},
   "outputs": [
    {
     "name": "stderr",
     "output_type": "stream",
     "text": [
      "/Users/michaeldeistler/Documents/phd/jaxley/jaxley/utils/swc.py:185: UserWarning: Found a soma which consists of a single traced point. `Jaxley` interprets this soma as a spherical compartment with radius specified in the SWC file, i.e. with surface area 4*pi*r*r.\n",
      "  warn(\n"
     ]
    },
    {
     "name": "stdout",
     "output_type": "stream",
     "text": [
      "Added 1 recordings. See `.recordings` for details.\n",
      "Added 1 recordings. See `.recordings` for details.\n",
      "Added 1 recordings. See `.recordings` for details.\n",
      "Added 1 external_states. See `.externals` for details.\n",
      "Error in amplitude:  [0.01201973 0.00998622 0.01596947]\n",
      "Error in timing:  [0. 0. 0.]\n",
      "Added 1 recordings. See `.recordings` for details.\n",
      "Added 1 recordings. See `.recordings` for details.\n",
      "Added 1 recordings. See `.recordings` for details.\n"
     ]
    },
    {
     "name": "stderr",
     "output_type": "stream",
     "text": [
      "/Users/michaeldeistler/Documents/phd/jaxley/jaxley/utils/swc.py:185: UserWarning: Found a soma which consists of a single traced point. `Jaxley` interprets this soma as a spherical compartment with radius specified in the SWC file, i.e. with surface area 4*pi*r*r.\n",
      "  warn(\n"
     ]
    },
    {
     "name": "stdout",
     "output_type": "stream",
     "text": [
      "Added 1 external_states. See `.externals` for details.\n",
      "Error in amplitude:  [0.01140331 0.00333559 0.00392687]\n",
      "Error in timing:  [0.025 0.025 0.   ]\n",
      "Added 1 recordings. See `.recordings` for details.\n",
      "Added 1 recordings. See `.recordings` for details.\n",
      "Added 1 recordings. See `.recordings` for details.\n"
     ]
    },
    {
     "name": "stderr",
     "output_type": "stream",
     "text": [
      "/Users/michaeldeistler/Documents/phd/jaxley/jaxley/utils/swc.py:185: UserWarning: Found a soma which consists of a single traced point. `Jaxley` interprets this soma as a spherical compartment with radius specified in the SWC file, i.e. with surface area 4*pi*r*r.\n",
      "  warn(\n"
     ]
    },
    {
     "name": "stdout",
     "output_type": "stream",
     "text": [
      "Added 1 external_states. See `.externals` for details.\n",
      "Error in amplitude:  [0.01641842 0.01391564 0.00305721]\n",
      "Error in timing:  [0.    0.025 0.   ]\n",
      "Added 1 recordings. See `.recordings` for details.\n",
      "Added 1 recordings. See `.recordings` for details.\n",
      "Added 1 recordings. See `.recordings` for details.\n"
     ]
    },
    {
     "name": "stderr",
     "output_type": "stream",
     "text": [
      "/Users/michaeldeistler/Documents/phd/jaxley/jaxley/utils/swc.py:185: UserWarning: Found a soma which consists of a single traced point. `Jaxley` interprets this soma as a spherical compartment with radius specified in the SWC file, i.e. with surface area 4*pi*r*r.\n",
      "  warn(\n"
     ]
    },
    {
     "name": "stdout",
     "output_type": "stream",
     "text": [
      "Added 1 external_states. See `.externals` for details.\n",
      "Error in amplitude:  [0.01735457 0.00367103 0.00029447]\n",
      "Error in timing:  [0. 0. 0.]\n",
      "Added 1 recordings. See `.recordings` for details.\n",
      "Added 1 recordings. See `.recordings` for details.\n",
      "Added 1 recordings. See `.recordings` for details.\n"
     ]
    },
    {
     "name": "stderr",
     "output_type": "stream",
     "text": [
      "/Users/michaeldeistler/Documents/phd/jaxley/jaxley/utils/swc.py:185: UserWarning: Found a soma which consists of a single traced point. `Jaxley` interprets this soma as a spherical compartment with radius specified in the SWC file, i.e. with surface area 4*pi*r*r.\n",
      "  warn(\n"
     ]
    },
    {
     "name": "stdout",
     "output_type": "stream",
     "text": [
      "Added 1 external_states. See `.externals` for details.\n",
      "Error in amplitude:  [0.02553764 0.01878273 0.00055199]\n",
      "Error in timing:  [0. 0. 0.]\n",
      "Added 1 recordings. See `.recordings` for details.\n",
      "Added 1 recordings. See `.recordings` for details.\n",
      "Added 1 recordings. See `.recordings` for details.\n"
     ]
    },
    {
     "name": "stderr",
     "output_type": "stream",
     "text": [
      "/Users/michaeldeistler/Documents/phd/jaxley/jaxley/utils/swc.py:185: UserWarning: Found a soma which consists of a single traced point. `Jaxley` interprets this soma as a spherical compartment with radius specified in the SWC file, i.e. with surface area 4*pi*r*r.\n",
      "  warn(\n"
     ]
    },
    {
     "name": "stdout",
     "output_type": "stream",
     "text": [
      "Added 1 external_states. See `.externals` for details.\n",
      "Error in amplitude:  [0.02351719 0.01488076 0.00131874]\n",
      "Error in timing:  [0. 0. 0.]\n",
      "Added 1 recordings. See `.recordings` for details.\n",
      "Added 1 recordings. See `.recordings` for details.\n",
      "Added 1 recordings. See `.recordings` for details.\n"
     ]
    },
    {
     "name": "stderr",
     "output_type": "stream",
     "text": [
      "/Users/michaeldeistler/Documents/phd/jaxley/jaxley/utils/swc.py:185: UserWarning: Found a soma which consists of a single traced point. `Jaxley` interprets this soma as a spherical compartment with radius specified in the SWC file, i.e. with surface area 4*pi*r*r.\n",
      "  warn(\n"
     ]
    },
    {
     "name": "stdout",
     "output_type": "stream",
     "text": [
      "Added 1 external_states. See `.externals` for details.\n",
      "Error in amplitude:  [0.03164776 0.00376709 0.00195496]\n",
      "Error in timing:  [0. 0. 0.]\n",
      "Added 1 recordings. See `.recordings` for details.\n",
      "Added 1 recordings. See `.recordings` for details.\n",
      "Added 1 recordings. See `.recordings` for details.\n"
     ]
    },
    {
     "name": "stderr",
     "output_type": "stream",
     "text": [
      "/Users/michaeldeistler/Documents/phd/jaxley/jaxley/utils/swc.py:185: UserWarning: Found a soma which consists of a single traced point. `Jaxley` interprets this soma as a spherical compartment with radius specified in the SWC file, i.e. with surface area 4*pi*r*r.\n",
      "  warn(\n"
     ]
    },
    {
     "name": "stdout",
     "output_type": "stream",
     "text": [
      "Added 1 external_states. See `.externals` for details.\n",
      "Error in amplitude:  [0.03304312 0.00838984 0.00326951]\n",
      "Error in timing:  [0. 0. 0.]\n",
      "Added 1 recordings. See `.recordings` for details.\n",
      "Added 1 recordings. See `.recordings` for details.\n",
      "Added 1 recordings. See `.recordings` for details.\n"
     ]
    },
    {
     "name": "stderr",
     "output_type": "stream",
     "text": [
      "/Users/michaeldeistler/Documents/phd/jaxley/jaxley/utils/swc.py:185: UserWarning: Found a soma which consists of a single traced point. `Jaxley` interprets this soma as a spherical compartment with radius specified in the SWC file, i.e. with surface area 4*pi*r*r.\n",
      "  warn(\n"
     ]
    },
    {
     "name": "stdout",
     "output_type": "stream",
     "text": [
      "Added 1 external_states. See `.externals` for details.\n",
      "Error in amplitude:  [0.03912076 0.02335439 0.00478326]\n",
      "Error in timing:  [0. 0. 0.]\n",
      "Added 1 recordings. See `.recordings` for details.\n",
      "Added 1 recordings. See `.recordings` for details.\n",
      "Added 1 recordings. See `.recordings` for details.\n"
     ]
    },
    {
     "name": "stderr",
     "output_type": "stream",
     "text": [
      "/Users/michaeldeistler/Documents/phd/jaxley/jaxley/utils/swc.py:185: UserWarning: Found a soma which consists of a single traced point. `Jaxley` interprets this soma as a spherical compartment with radius specified in the SWC file, i.e. with surface area 4*pi*r*r.\n",
      "  warn(\n"
     ]
    },
    {
     "name": "stdout",
     "output_type": "stream",
     "text": [
      "Added 1 external_states. See `.externals` for details.\n",
      "Error in amplitude:  [0.03541422 0.01421699 0.01312158]\n",
      "Error in timing:  [0. 0. 0.]\n",
      "Added 1 recordings. See `.recordings` for details.\n",
      "Added 1 recordings. See `.recordings` for details.\n",
      "Added 1 recordings. See `.recordings` for details.\n"
     ]
    },
    {
     "name": "stderr",
     "output_type": "stream",
     "text": [
      "/Users/michaeldeistler/Documents/phd/jaxley/jaxley/utils/swc.py:185: UserWarning: Found a soma which consists of a single traced point. `Jaxley` interprets this soma as a spherical compartment with radius specified in the SWC file, i.e. with surface area 4*pi*r*r.\n",
      "  warn(\n"
     ]
    },
    {
     "name": "stdout",
     "output_type": "stream",
     "text": [
      "Added 1 external_states. See `.externals` for details.\n",
      "Error in amplitude:  [0.04442836 0.01160558 0.01339651]\n",
      "Error in timing:  [0.025 0.    0.   ]\n"
     ]
    }
   ],
   "source": [
    "neuron_radiuses = get_neuron_radius()\n",
    "for i_amp in np.arange(0.1, 1.11, 0.1):\n",
    "    voltages_neuron, neuron_pathlengths, neuron_to_jaxley_branch_mapping, jaxley_to_neuron_branch_mapping = simulate_neuron(i_amp, neuron_radiuses)\n",
    "    \n",
    "    cell = jx.read_swc(fname, nseg_per_branch, max_branch_len=5_000.0, assign_groups=True)\n",
    "    cell.rotate(rotation)\n",
    "    cell.insert(HH())\n",
    "    \n",
    "    for b, c in zip(branches, comps):\n",
    "        cell.branch(b).loc(c).record()\n",
    "    \n",
    "    cell.set(\"axial_resistivity\", 1_000.0)\n",
    "    cell.set(\"v\", -62.0)\n",
    "    cell.set(\"HH_m\", 0.074901)\n",
    "    cell.set(\"HH_h\", 0.4889)\n",
    "    cell.set(\"HH_n\", 0.3644787)\n",
    "    for branch_num in range(1, len(cell.comb_parents)):\n",
    "        for comp in range(nseg_per_branch):\n",
    "            cell.branch(branch_num).comp(comp).set(\"radius\", neuron_radiuses[nseg_per_branch * neuron_to_jaxley_branch_mapping[branch_num] + comp])\n",
    "    \n",
    "    current = jx.step_current(i_delay, i_dur, i_amp, dt, t_max)\n",
    "    cell.branch(0).loc(0.2).stimulate(current)\n",
    "    \n",
    "    # Run jaxley\n",
    "    with jax.disable_jit():\n",
    "        voltages_jaxley = jx.integrate(cell, delta_t=dt, voltage_solver=\"scipy\")\n",
    "\n",
    "    time_vec = jnp.arange(0, t_max+2*dt, dt)\n",
    "\n",
    "    jaxley_argmax = np.argmax(voltages_jaxley, axis=1)\n",
    "    neuron_argmax = np.argmax(voltages_neuron, axis=1)\n",
    "\n",
    "    spike_times_jaxley = time_vec[jaxley_argmax]\n",
    "    spike_times_neuron = time_vec[neuron_argmax]\n",
    "\n",
    "    spike_amplitude_jaxley = np.asarray([v[j] for v, j in zip(voltages_jaxley, jaxley_argmax)])\n",
    "    spike_amplitude_neuron = np.asarray([v[j] for v, j in zip(voltages_neuron, neuron_argmax)])\n",
    "    print(\"Error in amplitude: \", np.abs(spike_amplitude_jaxley - spike_amplitude_neuron))\n",
    "    print(\"Error in timing: \", np.abs(spike_times_jaxley - spike_times_neuron))"
   ]
  },
  {
   "cell_type": "code",
   "execution_count": 20,
   "id": "e51aed20-9a2f-45e5-ac44-8b0002b5c89c",
   "metadata": {},
   "outputs": [
    {
     "data": {
      "image/png": "[encoded data removed]",
      "text/plain": [
       "<Figure size 800x200 with 1 Axes>"
      ]
     },
     "metadata": {},
     "output_type": "display_data"
    }
   ],
   "source": [
    "fig, ax = plt.subplots(1, 1, figsize=(8, 2))\n",
    "_ = ax.plot(voltages_neuron.T, c=\"k\")\n",
    "_ = ax.plot(voltages_jaxley.T, c=\"blue\", linestyle=\"--\")\n",
    "_ = ax.set_ylim([28, 44])\n",
    "_ = ax.set_xlim([50, 500])\n",
    "plt.show()"
   ]
  },
  {
   "cell_type": "code",
   "execution_count": null,
   "id": "21c448e7-3446-4260-9a27-8dd69f7246d9",
   "metadata": {},
   "outputs": [],
   "source": []
  },
  {
   "cell_type": "code",
   "execution_count": null,
   "id": "915a74ec-9f29-4f39-8945-fb0d67e7264b",
   "metadata": {},
   "outputs": [],
   "source": []
  }
 ],
 "metadata": {
  "kernelspec": {
   "display_name": "Python 3 (ipykernel)",
   "language": "python",
   "name": "python3"
  },
  "language_info": {
   "codemirror_mode": {
    "name": "ipython",
    "version": 3
   },
   "file_extension": ".py",
   "mimetype": "text/x-python",
   "name": "python",
   "nbconvert_exporter": "python",
   "pygments_lexer": "ipython3",
   "version": "3.11.8"
  }
 },
 "nbformat": 4,
 "nbformat_minor": 5
}
