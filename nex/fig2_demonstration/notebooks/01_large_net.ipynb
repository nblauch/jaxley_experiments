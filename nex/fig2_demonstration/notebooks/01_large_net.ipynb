{
 "cells": [
  {
   "cell_type": "code",
   "execution_count": 1,
   "id": "87a2d778-0d4f-4e2c-a861-9af3b7bff027",
   "metadata": {},
   "outputs": [],
   "source": [
    "import os\n",
    "os.environ[\"XLA_PYTHON_CLIENT_MEM_FRACTION\"]=\".8\""
   ]
  },
  {
   "cell_type": "code",
   "execution_count": 2,
   "id": "7703111d",
   "metadata": {},
   "outputs": [],
   "source": [
    "from jax import config\n",
    "config.update(\"jax_enable_x64\", True)\n",
    "config.update(\"jax_platform_name\", \"cpu\")"
   ]
  },
  {
   "cell_type": "code",
   "execution_count": 3,
   "id": "aec4f0b0",
   "metadata": {},
   "outputs": [],
   "source": [
    "%load_ext autoreload\n",
    "%autoreload 2"
   ]
  },
  {
   "cell_type": "code",
   "execution_count": 4,
   "id": "93054394",
   "metadata": {},
   "outputs": [],
   "source": [
    "import time\n",
    "import matplotlib.pyplot as plt\n",
    "import matplotlib as mpl\n",
    "import numpy as np\n",
    "from copy import deepcopy\n",
    "import pickle\n",
    "\n",
    "import jax\n",
    "import jax.numpy as jnp\n",
    "from jax import jit, lax, grad, value_and_grad, vmap\n",
    "import optax\n",
    "import tensorflow as tf\n",
    "import tensorflow_datasets as tfds\n",
    "\n",
    "import jaxley as jx\n",
    "from jaxley.channels import HH\n",
    "from jaxley.synapses import IonotropicSynapse\n",
    "from jaxley.utils.colors import network_cols"
   ]
  },
  {
   "cell_type": "code",
   "execution_count": 5,
   "id": "5c6520eb",
   "metadata": {},
   "outputs": [],
   "source": [
    "nseg_per_branch = 2\n",
    "\n",
    "i_delay = 10.0  # ms\n",
    "i_amp = 0.1  # nA\n",
    "i_dur = 150.0  # ms\n",
    "dt = 0.025  # ms\n",
    "t_max = 199.9  # ms"
   ]
  },
  {
   "cell_type": "markdown",
   "id": "608967cd-fbbb-4403-8b1a-1ddb9d86513e",
   "metadata": {},
   "source": [
    "### Visualize trace"
   ]
  },
  {
   "cell_type": "code",
   "execution_count": 6,
   "id": "a720b5bf-53af-4737-9219-46020a56ee06",
   "metadata": {},
   "outputs": [],
   "source": [
    "time_vec = np.arange(0, 199+2*dt, dt)"
   ]
  },
  {
   "cell_type": "code",
   "execution_count": 7,
   "id": "814844ff",
   "metadata": {},
   "outputs": [],
   "source": [
    "names = []\n",
    "for x in os.walk(\"../../../nex/ca1net/morphologies\"):\n",
    "    if len(x[0]) < 40 and len(x[0]) > 32:\n",
    "        names.append(x[0])\n",
    "        fnames = [f\"{n}/{n[-4:]}.CNG.swc\" for n in names]"
   ]
  },
  {
   "cell_type": "code",
   "execution_count": 8,
   "id": "67f6e390",
   "metadata": {},
   "outputs": [
    {
     "name": "stdout",
     "output_type": "stream",
     "text": [
      "Number of cells:  51\n"
     ]
    }
   ],
   "source": [
    "cells = []\n",
    "for fname in fnames:\n",
    "    cell = jx.read_swc(fname, nseg_per_branch, max_branch_len=500.0)\n",
    "    if cell.total_nbranches < 280:\n",
    "        cells.append(cell)\n",
    "\n",
    "size_factor = 1  # 40\n",
    "sf = size_factor  # abbreviate\n",
    "all_cells = []\n",
    "for _ in range(size_factor):\n",
    "    all_cells = all_cells + cells\n",
    "\n",
    "all_cells = all_cells + [cells[0]]\n",
    "cells = all_cells\n",
    "print(\"Number of cells: \", len(cells))"
   ]
  },
  {
   "cell_type": "code",
   "execution_count": 9,
   "id": "ff3629f0-9c9a-4b30-b6df-7780f23f3217",
   "metadata": {},
   "outputs": [],
   "source": [
    "all_nbranches = []\n",
    "all_levels = []\n",
    "for cell in cells:\n",
    "    all_nbranches.append(cell.total_nbranches)\n",
    "    all_levels.append(len(cell.parents_in_level))"
   ]
  },
  {
   "cell_type": "code",
   "execution_count": 10,
   "id": "12d235aa-152b-4400-9cea-76439ab8f40f",
   "metadata": {},
   "outputs": [
    {
     "data": {
      "image/png": "[encoded data removed]",
      "text/plain": [
       "<Figure size 200x200 with 1 Axes>"
      ]
     },
     "metadata": {},
     "output_type": "display_data"
    }
   ],
   "source": [
    "fig, ax = plt.subplots(1, 1, figsize=(2, 2))\n",
    "_ = ax.scatter(all_nbranches, all_levels)\n",
    "_ = ax.set_xlabel(\"Number of branches\")\n",
    "_ = ax.set_ylabel(\"Number of levels\")\n",
    "plt.show()"
   ]
  },
  {
   "cell_type": "code",
   "execution_count": 25,
   "id": "41aa1248-d1a8-4b11-b02c-640249d49564",
   "metadata": {},
   "outputs": [
    {
     "name": "stdout",
     "output_type": "stream",
     "text": [
      "total number of states (million):  3.93008\n"
     ]
    }
   ],
   "source": [
    "states_per_compartment = 4  # v, m, n, h\n",
    "n_syn = 1_020_000\n",
    "n_states_per_syn = 1\n",
    "print(\"total number of states (million): \", (np.sum(all_nbranches) * 40 * nseg_per_branch * states_per_compartment + n_syn * n_states_per_syn) / 1e6)"
   ]
  },
  {
   "cell_type": "code",
   "execution_count": 11,
   "id": "91fc88a3",
   "metadata": {},
   "outputs": [],
   "source": [
    "cols = network_cols([10*sf, 10*sf, 10*sf, 10*sf, 10*sf, 1])\n",
    "time_vec = jnp.arange(0.0, t_max+dt, dt)"
   ]
  },
  {
   "cell_type": "code",
   "execution_count": 13,
   "id": "b965e6da-e69d-4610-9bb3-14f447bdfb55",
   "metadata": {},
   "outputs": [],
   "source": [
    "from jaxley.connection import sparse_connect, fully_connect"
   ]
  },
  {
   "cell_type": "code",
   "execution_count": 14,
   "id": "5b1969bc-aaad-4625-889c-e11a986927d0",
   "metadata": {},
   "outputs": [],
   "source": [
    "# network = jx.Network(cells)\n",
    "# print(\"Initialized network\")\n",
    "\n",
    "# _ = np.random.seed(0)  # location of post synapse is random.\n",
    "\n",
    "# pre = network.cell(np.arange(0*sf, 13*sf).tolist())\n",
    "# post = network.cell(np.arange(13*sf, 26*sf).tolist())\n",
    "# fully_connect(pre, post, IonotropicSynapse())\n",
    "# print(\"Fist layer done\")\n",
    "\n",
    "# pre = network.cell(np.arange(13*sf, 26*sf).tolist())\n",
    "# post = network.cell(np.arange(26*sf, 39*sf).tolist())\n",
    "# fully_connect(pre, post, IonotropicSynapse())\n",
    "# print(\"Second layer done\")\n",
    "\n",
    "# pre = network.cell(np.arange(26*sf, 39*sf).tolist())\n",
    "# post = network.cell(np.arange(39*sf, 50*sf).tolist())\n",
    "# fully_connect(pre, post, IonotropicSynapse())\n",
    "# print(\"Third layer done\")\n",
    "\n",
    "# pre = network.cell(np.arange(39*sf, 50*sf).tolist())\n",
    "# post = network.cell(50*sf)\n",
    "# fully_connect(pre, post, IonotropicSynapse())"
   ]
  },
  {
   "cell_type": "code",
   "execution_count": 15,
   "id": "0bc0124d",
   "metadata": {},
   "outputs": [
    {
     "name": "stdout",
     "output_type": "stream",
     "text": [
      "Initialized network\n"
     ]
    },
    {
     "name": "stderr",
     "output_type": "stream",
     "text": [
      "/home/rocky/Documents/jaxley/jaxley/modules/base.py:1766: FutureWarning: The behavior of DataFrame concatenation with empty or all-NA entries is deprecated. In a future version, this will no longer exclude empty or all-NA columns when determining the result dtypes. To retain the old behavior, exclude the relevant entries before the concat operation.\n",
      "  self.pointer.edges = pd.concat(\n"
     ]
    },
    {
     "name": "stdout",
     "output_type": "stream",
     "text": [
      "First layer done\n",
      "Second layer done\n",
      "Third layer done\n",
      "Forth layer done\n"
     ]
    }
   ],
   "source": [
    "network = jx.Network(cells)\n",
    "print(\"Initialized network\")\n",
    "\n",
    "_ = np.random.seed(0)  # location of post synapse is random.\n",
    "\n",
    "pre = network.cell(np.arange(0*sf, 10*sf).tolist())\n",
    "post = network.cell(np.arange(10*sf, 20*sf).tolist())\n",
    "fully_connect(pre, post, IonotropicSynapse())\n",
    "sparse_connect(pre, post, IonotropicSynapse(), 0.58)\n",
    "print(\"First layer done\")\n",
    "\n",
    "pre = network.cell(np.arange(10*sf, 20*sf).tolist())\n",
    "post = network.cell(np.arange(20*sf, 30*sf).tolist())\n",
    "fully_connect(pre, post, IonotropicSynapse())\n",
    "sparse_connect(pre, post, IonotropicSynapse(), 0.58)\n",
    "print(\"Second layer done\")\n",
    "\n",
    "pre = network.cell(np.arange(20*sf, 30*sf).tolist())\n",
    "post = network.cell(np.arange(30*sf, 40*sf).tolist())\n",
    "fully_connect(pre, post, IonotropicSynapse())\n",
    "sparse_connect(pre, post, IonotropicSynapse(), 0.58)\n",
    "print(\"Third layer done\")\n",
    "\n",
    "pre = network.cell(np.arange(30*sf, 40*sf).tolist())\n",
    "post = network.cell(np.arange(40*sf, 50*sf).tolist())\n",
    "fully_connect(pre, post, IonotropicSynapse())\n",
    "sparse_connect(pre, post, IonotropicSynapse(), 0.58)\n",
    "print(\"Forth layer done\")\n",
    "\n",
    "pre = network.cell(np.arange(40*sf, 50*sf).tolist())\n",
    "post = network.cell(50*sf)\n",
    "fully_connect(pre, post, IonotropicSynapse())"
   ]
  },
  {
   "cell_type": "code",
   "execution_count": 16,
   "id": "eb600aed-efb1-4523-8310-2d66d9a6fe5d",
   "metadata": {},
   "outputs": [
    {
     "name": "stdout",
     "output_type": "stream",
     "text": [
      "Number of synapses: 1011630\n"
     ]
    }
   ],
   "source": [
    "num_synapses = len(network.edges)\n",
    "print(f\"Number of synapses: {num_synapses}\")"
   ]
  },
  {
   "cell_type": "code",
   "execution_count": 17,
   "id": "720a7e40-6d65-4c63-99be-6a303991f03a",
   "metadata": {},
   "outputs": [
    {
     "name": "stdout",
     "output_type": "stream",
     "text": [
      "Number of synapses: 1011630\n"
     ]
    }
   ],
   "source": [
    "num_synapses = len(network.edges)\n",
    "print(f\"Number of synapses: {num_synapses}\")"
   ]
  },
  {
   "cell_type": "markdown",
   "id": "7ffb87c6-90c2-47a7-ab25-2afda07782c4",
   "metadata": {},
   "source": [
    "### Visualize"
   ]
  },
  {
   "cell_type": "code",
   "execution_count": 20,
   "id": "ebd8a1f4-4846-4244-be23-ca673b5b7193",
   "metadata": {},
   "outputs": [
    {
     "name": "stdout",
     "output_type": "stream",
     "text": [
      "Timesteps 7998, num run 8000, memory 60, reduction 133.3\n"
     ]
    }
   ],
   "source": [
    "timesteps = (t_max + 0.05) / dt\n",
    "levels = 3\n",
    "checkpoints = [int(np.ceil(timesteps**(1/levels))) for _ in range(levels)]\n",
    "print(f\"Timesteps {int(timesteps)}, num run {np.prod(checkpoints)}, memory {np.sum(checkpoints)}, reduction {int(timesteps) / np.sum(checkpoints)}\")"
   ]
  },
  {
   "cell_type": "code",
   "execution_count": 21,
   "id": "2f7e4bef-907c-4392-9481-453901b2257e",
   "metadata": {},
   "outputs": [],
   "source": [
    "network.IonotropicSynapse.set(\"IonotropicSynapse_gS\", 0.00003 / sf * 20)\n",
    "network.IonotropicSynapse(np.arange(num_synapses - 10 * sf, num_synapses).tolist()).set(\"IonotropicSynapse_gS\", 0.0001 / sf * 20)\n",
    "network.IonotropicSynapse.set(\"IonotropicSynapse_s\", 0.0)"
   ]
  },
  {
   "cell_type": "code",
   "execution_count": 22,
   "id": "5661d003",
   "metadata": {},
   "outputs": [],
   "source": [
    "network.delete_recordings()\n",
    "network.delete_stimuli()\n",
    "\n",
    "for cell_ind in range(len(cells)):\n",
    "    network.cell(cell_ind).branch(1).comp(0).record(verbose=False)"
   ]
  },
  {
   "cell_type": "code",
   "execution_count": 23,
   "id": "8bfc6112",
   "metadata": {},
   "outputs": [],
   "source": [
    "network.insert(HH())\n",
    "network.set(\"v\", -65.0)\n",
    "network.init_states()"
   ]
  },
  {
   "cell_type": "markdown",
   "id": "91924bbc-1dbe-491c-92df-9e42ac4b00ec",
   "metadata": {},
   "source": [
    "The sf=20 model has a computation graph of 1.84 TB."
   ]
  },
  {
   "cell_type": "code",
   "execution_count": 24,
   "id": "1aee80bc-248c-4be3-8316-ca8c4eeaf158",
   "metadata": {},
   "outputs": [],
   "source": [
    "def simulate(params, currents):\n",
    "    data_stimuli = None\n",
    "    currents = jx.datapoint_to_step_currents(i_delay, i_dur, currents, dt, t_max)\n",
    "    for current, cell_ind in zip(currents, range(10 * sf)):\n",
    "        data_stimuli = network.cell(cell_ind).branch(1).comp(0).data_stimulate(current, data_stimuli=data_stimuli)\n",
    "\n",
    "    return jx.integrate(network, data_stimuli=data_stimuli, params=params, checkpoint_lengths=checkpoints)\n",
    "\n",
    "jitted_simulate = jit(simulate)"
   ]
  },
  {
   "cell_type": "code",
   "execution_count": 25,
   "id": "f73c9170",
   "metadata": {},
   "outputs": [
    {
     "name": "stderr",
     "output_type": "stream",
     "text": [
      "2024-08-01 10:45:07.689634: E external/xla/xla/service/slow_operation_alarm.cc:65] Constant folding an instruction is taking > 1s:\n",
      "\n",
      "  %pad.404 = s32[357836,2]{1,0} pad(s32[357836,1]{1,0} %constant.5664, s32[] %constant.5666), padding=0_0x0_1, metadata={op_name=\"jit(simulate)/jit(main)/concatenate[dimension=1]\" source_file=\"/home/rocky/Documents/jaxley/jaxley/modules/cell.py\" source_line=262}\n",
      "\n",
      "This isn't necessarily a bug; constant-folding is inherently a trade-off between compilation time and speed at runtime. XLA has some guards that attempt to keep constant folding from taking too long, but fundamentally you'll always be able to come up with an input program that takes a long time.\n",
      "\n",
      "If you'd like to file a bug, run with envvar XLA_FLAGS=--xla_dump_to=/tmp/foo and attach the results.\n",
      "2024-08-01 10:45:07.905392: E external/xla/xla/service/slow_operation_alarm.cc:133] The operation took 1.215799758s\n",
      "Constant folding an instruction is taking > 1s:\n",
      "\n",
      "  %pad.404 = s32[357836,2]{1,0} pad(s32[357836,1]{1,0} %constant.5664, s32[] %constant.5666), padding=0_0x0_1, metadata={op_name=\"jit(simulate)/jit(main)/concatenate[dimension=1]\" source_file=\"/home/rocky/Documents/jaxley/jaxley/modules/cell.py\" source_line=262}\n",
      "\n",
      "This isn't necessarily a bug; constant-folding is inherently a trade-off between compilation time and speed at runtime. XLA has some guards that attempt to keep constant folding from taking too long, but fundamentally you'll always be able to come up with an input program that takes a long time.\n",
      "\n",
      "If you'd like to file a bug, run with envvar XLA_FLAGS=--xla_dump_to=/tmp/foo and attach the results.\n"
     ]
    },
    {
     "name": "stdout",
     "output_type": "stream",
     "text": [
      "Time 198.53613591194153\n"
     ]
    }
   ],
   "source": [
    "start_time = time.time()\n",
    "s_net = jitted_simulate([], i_amp * jnp.asarray(np.random.rand(10 * sf)))\n",
    "print(\"Time\", time.time() - start_time)"
   ]
  },
  {
   "cell_type": "code",
   "execution_count": 26,
   "id": "2eb09ff1-8f97-4b68-9516-2118c01a5bc5",
   "metadata": {},
   "outputs": [
    {
     "name": "stdout",
     "output_type": "stream",
     "text": [
      "Time 21.062547206878662\n"
     ]
    }
   ],
   "source": [
    "_ = np.random.seed(0)\n",
    "start_time = time.time()\n",
    "s_net = jitted_simulate([], 2 * i_amp * jnp.asarray(np.random.rand(10 * sf)))\n",
    "print(\"Time\", time.time() - start_time)"
   ]
  },
  {
   "cell_type": "code",
   "execution_count": 27,
   "id": "9a9d2445-44f9-403f-9d1b-a9ff9583ec01",
   "metadata": {},
   "outputs": [
    {
     "data": {
      "image/png": "[encoded data removed]",
      "text/plain": [
       "<Figure size 170x320 with 6 Axes>"
      ]
     },
     "metadata": {},
     "output_type": "display_data"
    }
   ],
   "source": [
    "fig, ax = plt.subplots(6, 1, figsize=(1.7, 3.2))\n",
    "for i in np.arange(0, len(s_net), 40):\n",
    "    if i < sf * 10:\n",
    "        layer = 0\n",
    "    elif i < sf * 20:\n",
    "        layer = 1\n",
    "    elif i < sf * 30:\n",
    "        layer = 2\n",
    "    elif i < sf * 40:\n",
    "        layer = 3\n",
    "    elif i < sf * 50:\n",
    "        layer = 4\n",
    "    else:\n",
    "        layer = 5\n",
    "    _ = ax[layer].plot(time_vec, s_net[i, :-1], c=cols[i])\n",
    "ax[layer].set_xlabel(\"\")\n",
    "ax[layer].set_xlim([0, max(time_vec)])\n",
    "ax[layer].set_xlabel(\"Time (ms)\")\n",
    "ax[3].set_ylabel(\"Voltage (mV)\")\n",
    "for i in range(6):\n",
    "    ax[i].set_ylim([-80, 50])\n",
    "    ax[i].set_yticks([])\n",
    "    ax[i].set_xticks([0, 40, 80, 120, 160, 200])\n",
    "    ax[i].set_xlim([0, 200])\n",
    "for i in range(5):\n",
    "    ax[i].set_xticklabels([])\n",
    "plt.subplots_adjust(hspace=0.5)\n",
    "plt.show()"
   ]
  },
  {
   "cell_type": "code",
   "execution_count": 29,
   "id": "8d773854-d194-4132-a352-ce7ab4eee2cc",
   "metadata": {},
   "outputs": [],
   "source": [
    "with open(\"../results/02_large_scale/voltages.pkl\", \"wb\") as handle:\n",
    "    pickle.dump(s_net, handle)"
   ]
  },
  {
   "cell_type": "markdown",
   "id": "8b51cf1a",
   "metadata": {},
   "source": [
    "### Optimization setup"
   ]
  },
  {
   "cell_type": "code",
   "execution_count": 31,
   "id": "fc3a2c19-e85e-4c74-a692-79a6c5342b7b",
   "metadata": {},
   "outputs": [
    {
     "name": "stdout",
     "output_type": "stream",
     "text": [
      "Number of newly added trainable parameters: 719674. Total number of trainable parameters: 719674\n",
      "Number of newly added trainable parameters: 719674. Total number of trainable parameters: 1439348\n",
      "Number of newly added trainable parameters: 719674. Total number of trainable parameters: 2159022\n",
      "Number of newly added trainable parameters: 1011630. Total number of trainable parameters: 3170652\n"
     ]
    }
   ],
   "source": [
    "network.delete_trainables()\n",
    "\n",
    "network.cell(\"all\").branch(\"all\").comp(\"all\").make_trainable(\"HH_gNa\", verbose=True)\n",
    "network.cell(\"all\").branch(\"all\").comp(\"all\").make_trainable(\"HH_gK\", verbose=True)\n",
    "network.cell(\"all\").branch(\"all\").comp(\"all\").make_trainable(\"HH_gLeak\", verbose=True)\n",
    "# network.cell(\"all\").branch(\"all\").comp(\"all\").make_trainable(\"axial_resistivity\", verbose=True)\n",
    "network.IonotropicSynapse(\"all\").make_trainable(\"IonotropicSynapse_gS\", verbose=True)"
   ]
  },
  {
   "cell_type": "code",
   "execution_count": 32,
   "id": "ddf48c01-c546-400a-939e-0a2da06ee97a",
   "metadata": {},
   "outputs": [],
   "source": [
    "dim = 10 * sf\n",
    "image = 2 * i_amp * jnp.ones((10 * sf,))"
   ]
  },
  {
   "cell_type": "code",
   "execution_count": 33,
   "id": "ffa85ca5",
   "metadata": {},
   "outputs": [],
   "source": [
    "params = network.get_parameters()"
   ]
  },
  {
   "cell_type": "markdown",
   "id": "0416a253-403d-4dc3-a6ad-bf3fedaf06bf",
   "metadata": {},
   "source": [
    "### Define loss"
   ]
  },
  {
   "cell_type": "code",
   "execution_count": 34,
   "id": "9495c7b1-e10d-4d7f-b861-a074a49ac45d",
   "metadata": {},
   "outputs": [],
   "source": [
    "def predict(params, image):\n",
    "    voltages = simulate(params, image)\n",
    "    return voltages[-1, -1]  # Output neuron last voltage.\n",
    "\n",
    "jitted_predict = jit(predict)\n",
    "\n",
    "\n",
    "def loss_fn(params, image):\n",
    "    prediction = predict(params, image)\n",
    "    return jnp.mean(prediction)\n",
    "\n",
    "loss_grad = jit(value_and_grad(loss_fn, argnums=0))"
   ]
  },
  {
   "cell_type": "markdown",
   "id": "2c01c04d",
   "metadata": {},
   "source": [
    "### Compute gradient"
   ]
  },
  {
   "cell_type": "code",
   "execution_count": 35,
   "id": "de039711",
   "metadata": {},
   "outputs": [
    {
     "name": "stderr",
     "output_type": "stream",
     "text": [
      "2024-08-01 10:15:54.737110: E external/xla/xla/service/slow_operation_alarm.cc:65] Constant folding an instruction is taking > 2s:\n",
      "\n",
      "  %compare.634 = pred[719674,1]{1,0} compare(s64[719674,1]{1,0} %constant.118, s64[719674,1]{1,0} %broadcast.80), direction=LT, metadata={op_name=\"jit(loss_fn)/jit(main)/lt\" source_file=\"/home/rocky/Documents/jaxley/jaxley/modules/base.py\" source_line=521}\n",
      "\n",
      "This isn't necessarily a bug; constant-folding is inherently a trade-off between compilation time and speed at runtime. XLA has some guards that attempt to keep constant folding from taking too long, but fundamentally you'll always be able to come up with an input program that takes a long time.\n",
      "\n",
      "If you'd like to file a bug, run with envvar XLA_FLAGS=--xla_dump_to=/tmp/foo and attach the results.\n",
      "2024-08-01 10:15:55.334852: E external/xla/xla/service/slow_operation_alarm.cc:133] The operation took 2.597806603s\n",
      "Constant folding an instruction is taking > 2s:\n",
      "\n",
      "  %compare.634 = pred[719674,1]{1,0} compare(s64[719674,1]{1,0} %constant.118, s64[719674,1]{1,0} %broadcast.80), direction=LT, metadata={op_name=\"jit(loss_fn)/jit(main)/lt\" source_file=\"/home/rocky/Documents/jaxley/jaxley/modules/base.py\" source_line=521}\n",
      "\n",
      "This isn't necessarily a bug; constant-folding is inherently a trade-off between compilation time and speed at runtime. XLA has some guards that attempt to keep constant folding from taking too long, but fundamentally you'll always be able to come up with an input program that takes a long time.\n",
      "\n",
      "If you'd like to file a bug, run with envvar XLA_FLAGS=--xla_dump_to=/tmp/foo and attach the results.\n"
     ]
    },
    {
     "name": "stdout",
     "output_type": "stream",
     "text": [
      "Time 661.12668633461\n"
     ]
    }
   ],
   "source": [
    "start_time = time.time()\n",
    "loss, grad = loss_grad(params, image)\n",
    "print(\"Time\", time.time() - start_time)"
   ]
  },
  {
   "cell_type": "code",
   "execution_count": 36,
   "id": "88edc2e3-bfdc-44d6-a828-5b2f24966f04",
   "metadata": {},
   "outputs": [],
   "source": [
    "test_image = 1.01 * i_amp * jnp.ones((10 * sf,))"
   ]
  },
  {
   "cell_type": "code",
   "execution_count": 37,
   "id": "1f96efe9-2595-4315-b267-2d05cad2bf31",
   "metadata": {},
   "outputs": [
    {
     "name": "stdout",
     "output_type": "stream",
     "text": [
      "Time 144.64973187446594\n"
     ]
    }
   ],
   "source": [
    "start_time = time.time()\n",
    "loss, grad = loss_grad(params, test_image)\n",
    "print(\"Time\", time.time() - start_time)"
   ]
  },
  {
   "cell_type": "code",
   "execution_count": null,
   "id": "1d2f47bc-24d3-4e02-b433-769243a0c852",
   "metadata": {},
   "outputs": [],
   "source": []
  }
 ],
 "metadata": {
  "kernelspec": {
   "display_name": "Python 3 (ipykernel)",
   "language": "python",
   "name": "python3"
  },
  "language_info": {
   "codemirror_mode": {
    "name": "ipython",
    "version": 3
   },
   "file_extension": ".py",
   "mimetype": "text/x-python",
   "name": "python",
   "nbconvert_exporter": "python",
   "pygments_lexer": "ipython3",
   "version": "3.11.8"
  }
 },
 "nbformat": 4,
 "nbformat_minor": 5
}
