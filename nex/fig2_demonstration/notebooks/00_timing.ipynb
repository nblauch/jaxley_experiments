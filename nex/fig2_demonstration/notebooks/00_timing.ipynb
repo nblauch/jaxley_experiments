{
 "cells": [
  {
   "cell_type": "code",
   "execution_count": 1,
   "id": "e1870621",
   "metadata": {},
   "outputs": [],
   "source": [
    "%load_ext autoreload\n",
    "%autoreload 2"
   ]
  },
  {
   "cell_type": "code",
   "execution_count": 2,
   "id": "461111fd-5fea-4479-8b7e-a0ba9c7881f2",
   "metadata": {},
   "outputs": [],
   "source": [
    "import jaxley"
   ]
  },
  {
   "cell_type": "code",
   "execution_count": 3,
   "id": "77295b6e",
   "metadata": {},
   "outputs": [],
   "source": [
    "from jax import config\n",
    "config.update(\"jax_enable_x64\", False)\n",
    "device = \"cpu\"\n",
    "config.update(\"jax_platform_name\", device)\n",
    "\n",
    "import os\n",
    "os.environ[\"XLA_PYTHON_CLIENT_MEM_FRACTION\"]=\".9\"\n",
    "\n",
    "import time\n",
    "import pickle\n",
    "\n",
    "import matplotlib.pyplot as plt\n",
    "import matplotlib as mpl\n",
    "import numpy as np\n",
    "\n",
    "import jax.numpy as jnp\n",
    "from jax import jit, value_and_grad, vmap\n",
    "import optax\n",
    "import tensorflow as tf\n",
    "import tensorflow_datasets as tfds\n",
    "\n",
    "import jaxley as jx\n",
    "from jaxley.channels import HH\n",
    "from jaxley.utils.colors import network_cols"
   ]
  },
  {
   "cell_type": "code",
   "execution_count": 4,
   "id": "d53622d6",
   "metadata": {},
   "outputs": [
    {
     "name": "stderr",
     "output_type": "stream",
     "text": [
      "Warning: no DISPLAY environment variable.\n",
      "--No graphics will be displayed.\n"
     ]
    }
   ],
   "source": [
    "from neuron import h\n",
    "\n",
    "_ = h.load_file(\"stdlib.hoc\")\n",
    "_ = h.load_file(\"import3d.hoc\")"
   ]
  },
  {
   "cell_type": "code",
   "execution_count": 6,
   "id": "b388c883-808d-4d9c-a764-ae8ebd45cba1",
   "metadata": {},
   "outputs": [],
   "source": [
    "nseg_per_branch = 4\n",
    "\n",
    "i_delay = 3.0  # ms\n",
    "i_dur = 2.0  # ms\n",
    "dt = 0.025  # ms\n",
    "t_max = 20.0  # ms\n"
   ]
  },
  {
   "cell_type": "markdown",
   "id": "7310998a-2aa4-495a-9799-6e51485b7e47",
   "metadata": {},
   "source": [
    "### Define mapping for radiuses"
   ]
  },
  {
   "cell_type": "code",
   "execution_count": 7,
   "id": "a4feb84c-5829-437d-a48c-b905491cae2a",
   "metadata": {},
   "outputs": [
    {
     "name": "stderr",
     "output_type": "stream",
     "text": [
      "/Users/michaeldeistler/Documents/phd/jaxley/jaxley/utils/swc.py:32: UserWarning: Found a soma which consists of a single traced point. `Jaxley` interprets this soma as a spherical compartment with radius specified in the SWC file, i.e. with surface area 4*pi*r*r.\n",
      "  warn(\n"
     ]
    }
   ],
   "source": [
    "fname = '../morphologies/n144.swc'\n",
    "_, jx_pathlengths, _, _, _ = jx.utils.swc.swc_to_jaxley(fname, max_branch_len=2000.0)\n",
    "\n",
    "\n",
    "def get_neuron_radius(fname):\n",
    "    for sec in h.allsec():\n",
    "        h.delete_section(sec=sec)\n",
    "        \n",
    "    cell_neuron = h.Import3d_SWC_read()\n",
    "    cell_neuron.input(fname)\n",
    "    i3d = h.Import3d_GUI(cell_neuron, False)\n",
    "    i3d.instantiate(None)\n",
    "    \n",
    "    for sec in h.allsec():\n",
    "        sec.nseg = nseg_per_branch\n",
    "\n",
    "    neuron_radiuses = []\n",
    "    for i, sec in enumerate(h.allsec()):\n",
    "        rads_in_sec = []\n",
    "        for seg in sec:\n",
    "            neuron_radiuses.append(seg.diam)\n",
    "    neuron_radiuses = np.asarray(neuron_radiuses) / 2\n",
    "    return neuron_radiuses\n",
    "\n",
    "\n",
    "def get_mapping(fname):\n",
    "    for sec in h.allsec():\n",
    "        h.delete_section(sec=sec)\n",
    "        \n",
    "    cell_neuron = h.Import3d_SWC_read()\n",
    "    cell_neuron.input(fname)\n",
    "    i3d = h.Import3d_GUI(cell_neuron, False)\n",
    "    i3d.instantiate(None)\n",
    "    \n",
    "    for sec in h.allsec():\n",
    "        sec.nseg = nseg_per_branch\n",
    "    \n",
    "    neuron_pathlengths = np.asarray([sec.L for sec in h.allsec()])\n",
    "    \n",
    "    neuron_to_jaxley_branch_mapping = []\n",
    "    for i, p in enumerate(jx_pathlengths):\n",
    "        closest_match = np.argmin(np.abs(neuron_pathlengths - p))\n",
    "        max_dist = np.min(np.abs(neuron_pathlengths - p))\n",
    "        assert max_dist < 2e-4, f\"{i}, max_dist {max_dist}\"\n",
    "        neuron_to_jaxley_branch_mapping.append(closest_match)\n",
    "    neuron_to_jaxley_branch_mapping = np.asarray(neuron_to_jaxley_branch_mapping)\n",
    "    return neuron_to_jaxley_branch_mapping\n",
    "\n",
    "# jaxley_to_neuron_branch_mapping = []\n",
    "# for i, p in enumerate(neuron_pathlengths):\n",
    "#     closest_match = np.argmin(np.abs(jx_pathlengths - p))\n",
    "#     max_dist = np.min(np.abs(jx_pathlengths - p))\n",
    "#     assert max_dist < 2e-4, f\"{i}, max_dist {max_dist}\"\n",
    "#     jaxley_to_neuron_branch_mapping.append(closest_match)\n",
    "# jaxley_to_neuron_branch_mapping = np.asarray(jaxley_to_neuron_branch_mapping)\n",
    "\n",
    "neuron_radiuses = get_neuron_radius(fname)\n",
    "neuron_to_jaxley_branch_mapping = get_mapping(fname)"
   ]
  },
  {
   "cell_type": "markdown",
   "id": "c14174cf-a6c4-4a44-821a-dcacd1e0cf0e",
   "metadata": {},
   "source": [
    "### Setup"
   ]
  },
  {
   "cell_type": "code",
   "execution_count": 8,
   "id": "638d87e5-20f8-4a85-bac8-eb7a2b0ecf06",
   "metadata": {},
   "outputs": [],
   "source": [
    "rec_branches = [0, 34, 54]\n",
    "i_amp = 0.7  # nA\n",
    "rec_and_stim_comp = 0.85"
   ]
  },
  {
   "cell_type": "markdown",
   "id": "3688ab7c-7d21-442c-a5f0-b8b26a52897d",
   "metadata": {},
   "source": [
    "### Define Jaxley cell"
   ]
  },
  {
   "cell_type": "code",
   "execution_count": 9,
   "id": "2fb38365-2cef-44b1-bb8e-7f8aaa2e89dc",
   "metadata": {},
   "outputs": [
    {
     "name": "stdout",
     "output_type": "stream",
     "text": [
      "Added 1 external_states. See `.externals` for details.\n",
      "Added 1 recordings. See `.recordings` for details.\n",
      "Added 1 recordings. See `.recordings` for details.\n",
      "Added 1 recordings. See `.recordings` for details.\n",
      "Number of newly added trainable parameters: 868. Total number of trainable parameters: 868\n",
      "Number of newly added trainable parameters: 868. Total number of trainable parameters: 1736\n",
      "Number of newly added trainable parameters: 868. Total number of trainable parameters: 2604\n"
     ]
    }
   ],
   "source": [
    "cell = jx.read_swc(fname, nseg_per_branch, max_branch_len=2000.0)\n",
    "cell.insert(HH())\n",
    "\n",
    "current = jx.step_current(i_delay, i_dur, i_amp, dt, t_max)\n",
    "cell.branch(0).loc(rec_and_stim_comp).stimulate(current)\n",
    "\n",
    "for b in rec_branches:\n",
    "    cell.branch(b).loc(rec_and_stim_comp).record()\n",
    "\n",
    "for branch_num in range(1, len(cell.comb_parents)):\n",
    "    for comp in range(nseg_per_branch):\n",
    "        cell.branch(branch_num).comp(comp).set(\"radius\", neuron_radiuses[nseg_per_branch * neuron_to_jaxley_branch_mapping[branch_num] + comp])\n",
    "        \n",
    "cell.set(\"axial_resistivity\", 1_000.0)\n",
    "cell.set(\"v\", -62.0)\n",
    "cell.init_states()\n",
    "\n",
    "cell.branch(\"all\").comp(\"all\").make_trainable(\"HH_gNa\")\n",
    "cell.branch(\"all\").comp(\"all\").make_trainable(\"HH_gLeak\")\n",
    "cell.branch(\"all\").comp(\"all\").make_trainable(\"radius\")\n",
    "\n",
    "parameters = cell.get_parameters()\n",
    "\n",
    "def simulate_jaxley():\n",
    "    return jx.integrate(cell, delta_t=dt)\n",
    "\n",
    "jitted_sim = jit(simulate_jaxley)\n",
    "voltages_jaxley = jitted_sim()"
   ]
  },
  {
   "cell_type": "markdown",
   "id": "9688646f",
   "metadata": {},
   "source": [
    "NEURON"
   ]
  },
  {
   "cell_type": "code",
   "execution_count": 10,
   "id": "11fdc430-8d9d-4430-bcea-11763be0e391",
   "metadata": {},
   "outputs": [],
   "source": [
    "for branch_ind, sec in enumerate(h.allsec()):\n",
    "    if branch_ind > 0:\n",
    "        for comp, seg in enumerate(sec):\n",
    "            seg.diam = 2 * neuron_radiuses[nseg_per_branch * branch_ind + comp]\n",
    "\n",
    "for i, sec in enumerate(h.allsec()):\n",
    "    if i == 0:\n",
    "        stim = h.IClamp(sec(rec_and_stim_comp))\n",
    "        stim.delay = i_delay\n",
    "        stim.dur = i_dur\n",
    "        stim.amp = i_amp\n",
    "\n",
    "counter = 0\n",
    "voltage_recs = {}\n",
    "for r, c in zip(neuron_to_jaxley_branch_mapping[rec_branches], [comp for _ in range(len(rec_branches))]):\n",
    "    for i, sec in enumerate(h.allsec()):\n",
    "        if i == r:\n",
    "            v = h.Vector()\n",
    "            v.record(sec(rec_and_stim_comp)._ref_v)\n",
    "            voltage_recs[f\"v{counter}\"] = v\n",
    "            counter += 1\n",
    "\n",
    "for sec in h.allsec():\n",
    "    sec.insert(\"hh\")\n",
    "    sec.Ra = 1_000.0\n",
    "\n",
    "    sec.gnabar_hh = 0.120  # S/cm2\n",
    "    sec.gkbar_hh = 0.036  # S/cm2\n",
    "    sec.gl_hh = 0.0003  # S/cm2\n",
    "    sec.ena = 50  # mV\n",
    "    sec.ek = -77.0  # mV\n",
    "    sec.el_hh = -54.3  # mV\n",
    "\n",
    "h.dt = dt\n",
    "tstop = t_max\n",
    "v_init = -62.0\n",
    "\n",
    "def initialize():\n",
    "    h.finitialize(v_init)\n",
    "    h.fcurrent()\n",
    "\n",
    "def integrate():\n",
    "    while h.t < tstop:\n",
    "        h.fadvance()\n",
    "\n",
    "initialize()\n",
    "integrate()\n",
    "voltages_neuron = np.asarray([voltage_recs[key] for key in voltage_recs])"
   ]
  },
  {
   "cell_type": "code",
   "execution_count": 12,
   "id": "2901a3e4-8cf7-41fa-906e-274ad28c2bdd",
   "metadata": {},
   "outputs": [
    {
     "data": {
      "image/png": "[encoded data removed]",
      "text/plain": [
       "<Figure size 1600x200 with 3 Axes>"
      ]
     },
     "metadata": {},
     "output_type": "display_data"
    }
   ],
   "source": [
    "fig, ax = plt.subplots(1, 3, figsize=(16, 2))\n",
    "_ = ax[0].plot(voltages_neuron.T, c=\"k\")\n",
    "_ = ax[0].plot(voltages_jaxley.T, c=\"b\", linestyle=\"--\")\n",
    "_ = ax[1].plot(voltages_neuron.T, c=\"k\") #, marker=\"o\")\n",
    "_ = ax[1].plot(voltages_jaxley.T, c=\"b\", linestyle=\"--\") #, marker=\"o\")\n",
    "_ = ax[1].set_xlim([160, 215])\n",
    "_ = ax[1].set_ylim([15, 40])\n",
    "_ = ax[2].plot(voltages_neuron.T, c=\"k\") #, marker=\"o\")\n",
    "_ = ax[2].plot(voltages_jaxley.T, c=\"b\", linestyle=\"--\") #, marker=\"o\")\n",
    "_ = ax[2].set_xlim([475, 525])\n",
    "_ = ax[2].set_ylim([15, 50])"
   ]
  },
  {
   "cell_type": "code",
   "execution_count": 11,
   "id": "ffc1e4d2-560c-4459-87b6-ea48633df88c",
   "metadata": {},
   "outputs": [
    {
     "name": "stdout",
     "output_type": "stream",
     "text": [
      "max difference in spike amplitude: 0.071 mV\n",
      "max difference in spike timing:    0.000 ms\n"
     ]
    }
   ],
   "source": [
    "time_vec = jnp.arange(0, t_max+2*dt, dt)\n",
    "\n",
    "jaxley_argmax = np.argmax(voltages_jaxley, axis=1)\n",
    "neuron_argmax = np.argmax(voltages_neuron, axis=1)\n",
    "\n",
    "spike_times_jaxley = time_vec[jaxley_argmax]\n",
    "spike_times_neuron = time_vec[neuron_argmax]\n",
    "\n",
    "spike_amplitude_jaxley = np.asarray([v[j] for v, j in zip(voltages_jaxley, jaxley_argmax)])\n",
    "spike_amplitude_neuron = np.asarray([v[j] for v, j in zip(voltages_neuron, neuron_argmax)])\n",
    "\n",
    "print(f\"max difference in spike amplitude: {np.max(np.abs(spike_amplitude_jaxley - spike_amplitude_neuron)):.3f} mV\")\n",
    "print(f\"max difference in spike timing:    {np.max(np.abs(spike_times_jaxley - spike_times_neuron)):.3f} ms\")"
   ]
  },
  {
   "cell_type": "code",
   "execution_count": 12,
   "id": "614774e9-4cf7-4063-859f-42c644634eb2",
   "metadata": {},
   "outputs": [],
   "source": [
    "# time_vec = jnp.arange(0, t_max+2*dt, dt)\n",
    "\n",
    "# with open(\"../results/01_accuracy/time_vec.pkl\", \"wb\") as handle:\n",
    "#     pickle.dump(time_vec, handle)\n",
    "\n",
    "# with open(\"../results/01_accuracy/voltages_neuron.pkl\", \"wb\") as handle:\n",
    "#     pickle.dump(voltages_neuron, handle)\n",
    "\n",
    "# with open(\"../results/01_accuracy/voltages_jaxley.pkl\", \"wb\") as handle:\n",
    "#     pickle.dump(voltages_jaxley, handle)"
   ]
  },
  {
   "cell_type": "markdown",
   "id": "b5ff553e-7601-4256-ace1-645be8d24768",
   "metadata": {},
   "source": [
    "# Simulation"
   ]
  },
  {
   "cell_type": "code",
   "execution_count": 13,
   "id": "21c98faf-d3cf-4ad9-a6a7-7830ab9818df",
   "metadata": {},
   "outputs": [],
   "source": [
    "batch_sizes = [1, 10, 100, 1000, 10_000]  # , 1000, 10_000]"
   ]
  },
  {
   "cell_type": "code",
   "execution_count": 14,
   "id": "59ad30f7-baff-4a17-bb8a-9abc536df304",
   "metadata": {},
   "outputs": [],
   "source": [
    "computer = \"vm\""
   ]
  },
  {
   "cell_type": "markdown",
   "id": "1dfb7157-5270-424d-ae34-9866f2917d71",
   "metadata": {},
   "source": [
    "### Parameters"
   ]
  },
  {
   "cell_type": "code",
   "execution_count": 15,
   "id": "00c82ce4-2794-451c-ac00-f915f8d83626",
   "metadata": {},
   "outputs": [],
   "source": [
    "def simulate_jaxley_vmappable(parameter):\n",
    "    pstate = cell.branch(0).loc(0.0).data_set(\"radius\", 1e-5 * parameter, None)\n",
    "    return jx.integrate(cell, delta_t=dt, t_max=t_max, param_state=pstate, voltage_solver=\"jaxley.stone\")\n",
    "\n",
    "jitted_vmapped_sim = jit(vmap(simulate_jaxley_vmappable, in_axes=[0,]))"
   ]
  },
  {
   "cell_type": "code",
   "execution_count": 16,
   "id": "591ae047-b073-40de-aa85-fc8e5cf2f98a",
   "metadata": {},
   "outputs": [],
   "source": [
    "# Compile.\n",
    "for batch_size in batch_sizes:\n",
    "    _ = jitted_vmapped_sim(jnp.arange(batch_size))"
   ]
  },
  {
   "cell_type": "code",
   "execution_count": 17,
   "id": "84b87cec-05e1-4c95-95a5-06de3fe2d947",
   "metadata": {},
   "outputs": [],
   "source": [
    "# Run and evaluate.\n",
    "time_jaxley_gpu = {}\n",
    "for batch_size in batch_sizes:\n",
    "    start_time = time.time()\n",
    "    voltages_batch_100 = jitted_vmapped_sim(jnp.arange(batch_size)).block_until_ready()\n",
    "    time_jaxley_gpu[batch_size] = time.time() - start_time"
   ]
  },
  {
   "cell_type": "code",
   "execution_count": 18,
   "id": "acd52f41-5f4c-4f06-8cdd-e3bdc84724c4",
   "metadata": {},
   "outputs": [
    {
     "data": {
      "text/plain": [
       "{1: 0.05814695358276367,\n",
       " 10: 0.5948703289031982,\n",
       " 100: 3.707876443862915,\n",
       " 1000: 39.81089663505554,\n",
       " 10000: 467.8528501987457}"
      ]
     },
     "execution_count": 18,
     "metadata": {},
     "output_type": "execute_result"
    }
   ],
   "source": [
    "# CPU\n",
    "time_jaxley_gpu"
   ]
  },
  {
   "cell_type": "code",
   "execution_count": 19,
   "id": "7fc13595-d555-4f01-a5d2-c70b396f7f58",
   "metadata": {},
   "outputs": [
    {
     "data": {
      "text/plain": [
       "{1: 0.7883327007293701,\n",
       " 10: 0.8531155586242676,\n",
       " 100: 0.9475955963134766,\n",
       " 1000: 1.3792400360107422,\n",
       " 10000: 7.584491729736328}"
      ]
     },
     "execution_count": 19,
     "metadata": {},
     "output_type": "execute_result"
    }
   ],
   "source": [
    "# GPU\n",
    "time_jaxley_gpu"
   ]
  },
  {
   "cell_type": "code",
   "execution_count": 19,
   "id": "daa77ae9-cb78-4b5a-b7f2-423d10822066",
   "metadata": {},
   "outputs": [],
   "source": [
    "with open(f\"../results/03_timing/parameters_n144_jaxley_{device}_{computer}_nseg{nseg_per_branch}.pkl\", \"wb\") as handle:\n",
    "    pickle.dump(time_jaxley_gpu, handle)"
   ]
  },
  {
   "cell_type": "code",
   "execution_count": 21,
   "id": "b2afbddb-1f98-42e5-8328-69614d66524a",
   "metadata": {},
   "outputs": [],
   "source": [
    "# Evaluate NEURON.\n",
    "start_time = time.time()\n",
    "initialize()\n",
    "integrate()\n",
    "time_neuron_once = time.time() - start_time\n",
    "\n",
    "time_neuron = {}\n",
    "for batch_size in batch_sizes:\n",
    "    time_neuron[batch_size] = time_neuron_once * batch_size"
   ]
  },
  {
   "cell_type": "code",
   "execution_count": 22,
   "id": "b2419e6c-34cc-4d16-bda4-89f0f66bf509",
   "metadata": {},
   "outputs": [
    {
     "data": {
      "text/plain": [
       "{1: 0.1521461009979248,\n",
       " 10: 1.521461009979248,\n",
       " 100: 15.21461009979248,\n",
       " 1000: 152.1461009979248,\n",
       " 10000: 1521.461009979248}"
      ]
     },
     "execution_count": 22,
     "metadata": {},
     "output_type": "execute_result"
    }
   ],
   "source": [
    "time_neuron"
   ]
  },
  {
   "cell_type": "code",
   "execution_count": 23,
   "id": "f91a9686-55d0-4509-9613-0225fb0eeb31",
   "metadata": {},
   "outputs": [],
   "source": [
    "with open(f\"../results/03_timing/parameters_n144_neuron_{computer}.pkl\", \"wb\") as handle:\n",
    "    pickle.dump(time_neuron, handle)"
   ]
  },
  {
   "cell_type": "markdown",
   "id": "436ba79e-81d8-476e-a40b-fa87c490fae4",
   "metadata": {},
   "source": [
    "# Gradient"
   ]
  },
  {
   "cell_type": "code",
   "execution_count": 20,
   "id": "4722dffe-c615-42b2-93f9-eaa28d36581b",
   "metadata": {},
   "outputs": [],
   "source": [
    "batch_sizes = [1, 10, 100, 1000, 10_000]"
   ]
  },
  {
   "cell_type": "markdown",
   "id": "e428e5c0-27bf-49bf-9a21-114f0e923bb2",
   "metadata": {},
   "source": [
    "### Parameters"
   ]
  },
  {
   "cell_type": "code",
   "execution_count": 21,
   "id": "496f1cbc-7743-40a3-a6f8-aeecfca38a8a",
   "metadata": {},
   "outputs": [],
   "source": [
    "def simulate_jaxley_vmappable(parameter):\n",
    "    pstate = cell.branch(0).loc(0.0).data_set(\"radius\", 1e-5 * parameter, None)\n",
    "    return jx.integrate(cell, delta_t=dt, t_max=t_max, param_state=pstate, checkpoint_lengths=[10, 9, 9], voltage_solver=\"jaxley.stone\")[0, -1]\n",
    "\n",
    "vmapped_sim = vmap(simulate_jaxley_vmappable, in_axes=(0,))\n",
    "\n",
    "def loss(parameters):\n",
    "    return jnp.mean(vmapped_sim(parameters))\n",
    "\n",
    "grad_fn = jit(value_and_grad(loss))"
   ]
  },
  {
   "cell_type": "code",
   "execution_count": 22,
   "id": "2faa7d38-bf0f-46c4-b369-f435981743b1",
   "metadata": {},
   "outputs": [
    {
     "name": "stderr",
     "output_type": "stream",
     "text": [
      "2024-07-31 16:24:51.763620: E external/xla/xla/service/slow_operation_alarm.cc:65] \n",
      "********************************\n",
      "[Compiling module jit_loss] Very slow compile? If you want to file a bug, run with envvar XLA_FLAGS=--xla_dump_to=/tmp/foo and attach the results.\n",
      "********************************\n",
      "2024-07-31 16:30:10.125243: E external/xla/xla/service/slow_operation_alarm.cc:133] The operation took 7m18.361346551s\n",
      "\n",
      "********************************\n",
      "[Compiling module jit_loss] Very slow compile? If you want to file a bug, run with envvar XLA_FLAGS=--xla_dump_to=/tmp/foo and attach the results.\n",
      "********************************\n",
      "2024-07-31 16:42:53.486942: E external/xla/xla/service/slow_operation_alarm.cc:133] The operation took 10m3.592470218s\n",
      "\n",
      "********************************\n",
      "[Compiling module jit_loss] Very slow compile? If you want to file a bug, run with envvar XLA_FLAGS=--xla_dump_to=/tmp/foo and attach the results.\n",
      "********************************\n",
      "2024-07-31 16:54:27.490273: E external/xla/xla/service/slow_operation_alarm.cc:133] The operation took 8m54.910937921s\n",
      "\n",
      "********************************\n",
      "[Compiling module jit_loss] Very slow compile? If you want to file a bug, run with envvar XLA_FLAGS=--xla_dump_to=/tmp/foo and attach the results.\n",
      "********************************\n",
      "2024-07-31 16:59:50.934375: E external/xla/xla/service/slow_operation_alarm.cc:65] \n",
      "********************************\n",
      "[Compiling module jit_loss] Very slow compile? If you want to file a bug, run with envvar XLA_FLAGS=--xla_dump_to=/tmp/foo and attach the results.\n",
      "********************************\n",
      "2024-07-31 17:06:00.605550: E external/xla/xla/service/slow_operation_alarm.cc:133] The operation took 8m9.671318659s\n",
      "\n",
      "********************************\n",
      "[Compiling module jit_loss] Very slow compile? If you want to file a bug, run with envvar XLA_FLAGS=--xla_dump_to=/tmp/foo and attach the results.\n",
      "********************************\n",
      "2024-07-31 17:21:34.800880: E external/xla/xla/service/slow_operation_alarm.cc:133] The operation took 5m26.291891647s\n",
      "\n",
      "********************************\n",
      "[Compiling module jit_loss] Very slow compile? If you want to file a bug, run with envvar XLA_FLAGS=--xla_dump_to=/tmp/foo and attach the results.\n",
      "********************************\n"
     ]
    }
   ],
   "source": [
    "# Compile.\n",
    "for batch_size in batch_sizes:\n",
    "    _ = grad_fn(jnp.arange(batch_size).astype(float))"
   ]
  },
  {
   "cell_type": "code",
   "execution_count": 23,
   "id": "1e78e2e0-67e5-4d23-bb68-cc387de906cc",
   "metadata": {},
   "outputs": [
    {
     "name": "stdout",
     "output_type": "stream",
     "text": [
      "time_jaxley_gpu {1: 0.551513671875}\n",
      "time_jaxley_gpu {1: 0.551513671875, 10: 4.4556145668029785}\n",
      "time_jaxley_gpu {1: 0.551513671875, 10: 4.4556145668029785, 100: 39.690566539764404}\n",
      "time_jaxley_gpu {1: 0.551513671875, 10: 4.4556145668029785, 100: 39.690566539764404, 1000: 453.2918014526367}\n",
      "time_jaxley_gpu {1: 0.551513671875, 10: 4.4556145668029785, 100: 39.690566539764404, 1000: 453.2918014526367, 10000: 4864.510333061218}\n"
     ]
    }
   ],
   "source": [
    "# Run and evaluate.\n",
    "time_jaxley_gpu = {}\n",
    "for batch_size in batch_sizes:\n",
    "    start_time = time.time()\n",
    "    _ = grad_fn(jnp.arange(batch_size).astype(float))\n",
    "    time_jaxley_gpu[batch_size] = time.time() - start_time\n",
    "    print(\"time_jaxley_gpu\", time_jaxley_gpu)"
   ]
  },
  {
   "cell_type": "code",
   "execution_count": 24,
   "id": "81513a89-2088-4602-b856-63ecf3f83c11",
   "metadata": {},
   "outputs": [
    {
     "data": {
      "text/plain": [
       "{1: 0.551513671875,\n",
       " 10: 4.4556145668029785,\n",
       " 100: 39.690566539764404,\n",
       " 1000: 453.2918014526367,\n",
       " 10000: 4864.510333061218}"
      ]
     },
     "execution_count": 24,
     "metadata": {},
     "output_type": "execute_result"
    }
   ],
   "source": [
    "time_jaxley_gpu"
   ]
  },
  {
   "cell_type": "code",
   "execution_count": 19,
   "id": "b3189722-c454-4a3e-a059-6b484c6cd771",
   "metadata": {},
   "outputs": [
    {
     "data": {
      "text/plain": [
       "{1: 5.068512201309204,\n",
       " 10: 5.6834681034088135,\n",
       " 100: 7.231608867645264,\n",
       " 1000: 13.344197273254395,\n",
       " 10000: 84.21594095230103}"
      ]
     },
     "execution_count": 19,
     "metadata": {},
     "output_type": "execute_result"
    }
   ],
   "source": [
    "time_jaxley_gpu"
   ]
  },
  {
   "cell_type": "code",
   "execution_count": 25,
   "id": "e375f827-cd2c-45b2-9555-90f84390bb35",
   "metadata": {},
   "outputs": [],
   "source": [
    "# time_jaxley_gpu = {\n",
    "#     1: 9.460421562194824,\n",
    "#     10: 10.931497573852539,\n",
    "#     100: 12.73817491531372,\n",
    "#     1000: 21.95549511909485,\n",
    "# }\n",
    "\n",
    "# time_jaxley_gpu_nseg4 = {\n",
    "#     1: 6.36981201171875,\n",
    "#     10: 6.706242799758911,\n",
    "#     100: 7.673536777496338,\n",
    "#     1000: 12.468173503875732,\n",
    "#     10000: 80.29185628890991,\n",
    "# }"
   ]
  },
  {
   "cell_type": "code",
   "execution_count": 26,
   "id": "c46405f3-3b27-4c3e-bc3a-94be46cd98df",
   "metadata": {},
   "outputs": [],
   "source": [
    "# time_jaxley_cpu = {\n",
    "#     1: 0.8463358879089355,\n",
    "#     10: 6.132580757141113,\n",
    "#     100: 70.88474082946777,\n",
    "#     1000: 999.9903981685638,\n",
    "# }"
   ]
  },
  {
   "cell_type": "code",
   "execution_count": 27,
   "id": "8d28a176-fcd2-4788-88dc-643250b2c671",
   "metadata": {},
   "outputs": [],
   "source": [
    "with open(f\"../results/03_timing/gradient_parameters_n144_jaxley_{device}_{computer}_nseg{nseg_per_branch}.pkl\", \"wb\") as handle:\n",
    "    pickle.dump(time_jaxley_gpu, handle)"
   ]
  },
  {
   "cell_type": "code",
   "execution_count": null,
   "id": "21c448e7-3446-4260-9a27-8dd69f7246d9",
   "metadata": {},
   "outputs": [],
   "source": []
  }
 ],
 "metadata": {
  "kernelspec": {
   "display_name": "Python 3 (ipykernel)",
   "language": "python",
   "name": "python3"
  },
  "language_info": {
   "codemirror_mode": {
    "name": "ipython",
    "version": 3
   },
   "file_extension": ".py",
   "mimetype": "text/x-python",
   "name": "python",
   "nbconvert_exporter": "python",
   "pygments_lexer": "ipython3",
   "version": "3.11.8"
  }
 },
 "nbformat": 4,
 "nbformat_minor": 5
}
