{
 "cells": [
  {
   "cell_type": "code",
   "execution_count": 1,
   "id": "e1870621",
   "metadata": {},
   "outputs": [],
   "source": [
    "%load_ext autoreload\n",
    "%autoreload 2"
   ]
  },
  {
   "cell_type": "code",
   "execution_count": 2,
   "id": "77295b6e",
   "metadata": {},
   "outputs": [],
   "source": [
    "from jax import config\n",
    "config.update(\"jax_enable_x64\", False)\n",
    "device = \"cpu\"\n",
    "config.update(\"jax_platform_name\", device)\n",
    "\n",
    "import os\n",
    "os.environ[\"XLA_PYTHON_CLIENT_MEM_FRACTION\"]=\".8\"\n",
    "\n",
    "import time\n",
    "import pickle\n",
    "\n",
    "import matplotlib.pyplot as plt\n",
    "import matplotlib as mpl\n",
    "import numpy as np\n",
    "\n",
    "import jax.numpy as jnp\n",
    "from jax import jit, value_and_grad, vmap\n",
    "import optax\n",
    "import tensorflow as tf\n",
    "import tensorflow_datasets as tfds\n",
    "\n",
    "import jaxley as jx\n",
    "from jaxley.channels import HH\n",
    "from jaxley.utils.colors import network_cols"
   ]
  },
  {
   "cell_type": "code",
   "execution_count": 3,
   "id": "d53622d6",
   "metadata": {},
   "outputs": [
    {
     "name": "stderr",
     "output_type": "stream",
     "text": [
      "Warning: no DISPLAY environment variable.\n",
      "--No graphics will be displayed.\n"
     ]
    }
   ],
   "source": [
    "from neuron import h\n",
    "\n",
    "_ = h.load_file(\"stdlib.hoc\")\n",
    "_ = h.load_file(\"import3d.hoc\")"
   ]
  },
  {
   "cell_type": "code",
   "execution_count": 5,
   "id": "b388c883-808d-4d9c-a764-ae8ebd45cba1",
   "metadata": {},
   "outputs": [],
   "source": [
    "nseg_per_branch = 4\n",
    "\n",
    "i_delay = 3.0  # ms\n",
    "i_dur = 2.0  # ms\n",
    "dt = 0.025  # ms\n",
    "t_max = 20.0  # ms"
   ]
  },
  {
   "cell_type": "code",
   "execution_count": 6,
   "id": "ee7c00d6-2a59-45d0-a740-e760633d6b4e",
   "metadata": {},
   "outputs": [],
   "source": [
    "def read_cell(fname):\n",
    "    cell = jx.read_swc(fname, nseg_per_branch, max_branch_len=2000.0, assign_groups=True)\n",
    "    \n",
    "    for b, c in zip(rec_branches, rec_comps):\n",
    "        cell.branch(b).loc(c).record()\n",
    "    \n",
    "    for branch_num in range(1, len(cell.comb_parents)):\n",
    "        for comp in range(nseg_per_branch):\n",
    "            cell.branch(branch_num).comp(comp).set(\"radius\", neuron_radiuses[nseg_per_branch * neuron_to_jaxley_branch_mapping[branch_num] + comp])\n",
    "            \n",
    "    cell.rotate(rotation)\n",
    "    cell.insert(HH())\n",
    "    cell.set(\"axial_resistivity\", 1_000.0)\n",
    "    cell.set(\"v\", -62.0)\n",
    "    cell.set(\"HH_m\", 0.074901)\n",
    "    cell.set(\"HH_h\", 0.4889)\n",
    "    cell.set(\"HH_n\", 0.3644787)\n",
    "    return cell"
   ]
  },
  {
   "cell_type": "markdown",
   "id": "5e4218d5-db58-4843-ad7e-a0723919668e",
   "metadata": {},
   "source": [
    "### Helpers for getting the radiuses right"
   ]
  },
  {
   "cell_type": "code",
   "execution_count": 7,
   "id": "81d20a60-4ac2-4b3c-a1aa-c66fecebf22d",
   "metadata": {},
   "outputs": [],
   "source": [
    "def get_neuron_radius(fname):\n",
    "    for sec in h.allsec():\n",
    "        h.delete_section(sec=sec)\n",
    "        \n",
    "    cell_neuron = h.Import3d_SWC_read()\n",
    "    cell_neuron.input(fname)\n",
    "    i3d = h.Import3d_GUI(cell_neuron, False)\n",
    "    i3d.instantiate(None)\n",
    "    \n",
    "    for sec in h.allsec():\n",
    "        sec.nseg = nseg_per_branch\n",
    "\n",
    "    neuron_radiuses = []\n",
    "    for i, sec in enumerate(h.allsec()):\n",
    "        rads_in_sec = []\n",
    "        for seg in sec:\n",
    "            neuron_radiuses.append(seg.diam)\n",
    "    neuron_radiuses = np.asarray(neuron_radiuses) / 2\n",
    "    return neuron_radiuses\n",
    "\n",
    "\n",
    "def get_mapping(fname):\n",
    "    for sec in h.allsec():\n",
    "        h.delete_section(sec=sec)\n",
    "        \n",
    "    cell_neuron = h.Import3d_SWC_read()\n",
    "    cell_neuron.input(fname)\n",
    "    i3d = h.Import3d_GUI(cell_neuron, False)\n",
    "    i3d.instantiate(None)\n",
    "    \n",
    "    for sec in h.allsec():\n",
    "        sec.nseg = nseg_per_branch\n",
    "    \n",
    "    neuron_pathlengths = np.asarray([sec.L for sec in h.allsec()])\n",
    "    \n",
    "    neuron_to_jaxley_branch_mapping = []\n",
    "    for i, p in enumerate(jx_pathlengths):\n",
    "        closest_match = np.argmin(np.abs(neuron_pathlengths - p))\n",
    "        max_dist = np.min(np.abs(neuron_pathlengths - p))\n",
    "        assert max_dist < 2e-4, f\"{i}, max_dist {max_dist}\"\n",
    "        neuron_to_jaxley_branch_mapping.append(closest_match)\n",
    "    neuron_to_jaxley_branch_mapping = np.asarray(neuron_to_jaxley_branch_mapping)\n",
    "    return neuron_to_jaxley_branch_mapping"
   ]
  },
  {
   "cell_type": "markdown",
   "id": "ecb56052",
   "metadata": {},
   "source": [
    "### Panel B"
   ]
  },
  {
   "cell_type": "markdown",
   "id": "9688646f",
   "metadata": {},
   "source": [
    "NEURON"
   ]
  },
  {
   "cell_type": "code",
   "execution_count": 8,
   "id": "d4963fdd-8af4-43e4-a614-c57f2f347863",
   "metadata": {},
   "outputs": [],
   "source": [
    "def simulate_neuron(i_amp):\n",
    "    for sec in h.allsec():\n",
    "        h.delete_section(sec=sec)\n",
    "        \n",
    "    cell_neuron = h.Import3d_SWC_read()\n",
    "    cell_neuron.input(fname)\n",
    "    i3d = h.Import3d_GUI(cell_neuron, False)\n",
    "    i3d.instantiate(None)\n",
    "    \n",
    "    for sec in h.allsec():\n",
    "        sec.nseg = nseg_per_branch\n",
    "\n",
    "    pathlengths_neuron = np.asarray([sec.L for sec in h.allsec()])\n",
    "    \n",
    "    for branch_ind, sec in enumerate(h.allsec()):\n",
    "        if branch_ind > 0:\n",
    "            for comp, seg in enumerate(sec):\n",
    "                seg.diam = 2 * neuron_radiuses[nseg_per_branch * branch_ind + comp]\n",
    "    \n",
    "    for i, sec in enumerate(h.allsec()):\n",
    "        if i == 0:\n",
    "            stim = h.IClamp(sec(0.2))\n",
    "            stim.delay = i_delay\n",
    "            stim.dur = i_dur\n",
    "            stim.amp = i_amp\n",
    "    \n",
    "    counter = 0\n",
    "    voltage_recs = {}\n",
    "    for b, c in zip(neuron_to_jaxley_branch_mapping[rec_branches], rec_comps):\n",
    "        for i, sec in enumerate(h.allsec()):\n",
    "            if i == b:\n",
    "                v = h.Vector()\n",
    "                v.record(sec(c)._ref_v)\n",
    "                voltage_recs[f\"v{counter}\"] = v\n",
    "                counter += 1\n",
    "    \n",
    "    for sec in h.allsec():\n",
    "        sec.insert(\"hh\")\n",
    "        sec.Ra = 1_000.0\n",
    "    \n",
    "        sec.gnabar_hh = 0.120  # S/cm2\n",
    "        sec.gkbar_hh = 0.036  # S/cm2\n",
    "        sec.gl_hh = 0.0003  # S/cm2\n",
    "        sec.ena = 50  # mV\n",
    "        sec.ek = -77.0  # mV\n",
    "        sec.el_hh = -54.3  # mV\n",
    "    \n",
    "    h.dt = dt\n",
    "    tstop = t_max\n",
    "    v_init = -62.0\n",
    "    \n",
    "    def initialize():\n",
    "        h.finitialize(v_init)\n",
    "        h.fcurrent()\n",
    "    \n",
    "    def integrate():\n",
    "        while h.t < tstop:\n",
    "            h.fadvance()\n",
    "    \n",
    "    initialize()\n",
    "    integrate()\n",
    "    voltages_neuron = np.asarray([voltage_recs[key] for key in voltage_recs])\n",
    "    return voltages_neuron"
   ]
  },
  {
   "cell_type": "code",
   "execution_count": 9,
   "id": "d8cfc278-37e1-40c5-bf0e-d3e79c322934",
   "metadata": {},
   "outputs": [
    {
     "name": "stderr",
     "output_type": "stream",
     "text": [
      "/Users/michaeldeistler/Documents/phd/jaxley/jaxley/utils/swc.py:32: UserWarning: Found a soma which consists of a single traced point. `Jaxley` interprets this soma as a spherical compartment with radius specified in the SWC file, i.e. with surface area 4*pi*r*r.\n",
      "  warn(\n"
     ]
    },
    {
     "name": "stdout",
     "output_type": "stream",
     "text": [
      "Added 1 recordings. See `.recordings` for details.\n",
      "Added 1 recordings. See `.recordings` for details.\n",
      "Added 1 recordings. See `.recordings` for details.\n"
     ]
    },
    {
     "data": {
      "image/png": "[encoded data removed]",
      "text/plain": [
       "<Figure size 40x100 with 1 Axes>"
      ]
     },
     "metadata": {},
     "output_type": "display_data"
    },
    {
     "name": "stderr",
     "output_type": "stream",
     "text": [
      "/Users/michaeldeistler/Documents/phd/jaxley/jaxley/utils/swc.py:32: UserWarning: Found a soma which consists of a single traced point. `Jaxley` interprets this soma as a spherical compartment with radius specified in the SWC file, i.e. with surface area 4*pi*r*r.\n",
      "  warn(\n"
     ]
    },
    {
     "name": "stdout",
     "output_type": "stream",
     "text": [
      "Added 1 recordings. See `.recordings` for details.\n",
      "Added 1 recordings. See `.recordings` for details.\n",
      "Added 1 recordings. See `.recordings` for details.\n"
     ]
    },
    {
     "data": {
      "image/png": "[encoded data removed]",
      "text/plain": [
       "<Figure size 40x100 with 1 Axes>"
      ]
     },
     "metadata": {},
     "output_type": "display_data"
    },
    {
     "name": "stderr",
     "output_type": "stream",
     "text": [
      "/Users/michaeldeistler/Documents/phd/jaxley/jaxley/utils/swc.py:32: UserWarning: Found a soma which consists of a single traced point. `Jaxley` interprets this soma as a spherical compartment with radius specified in the SWC file, i.e. with surface area 4*pi*r*r.\n",
      "  warn(\n"
     ]
    },
    {
     "name": "stdout",
     "output_type": "stream",
     "text": [
      "Added 1 recordings. See `.recordings` for details.\n",
      "Added 1 recordings. See `.recordings` for details.\n",
      "Added 1 recordings. See `.recordings` for details.\n"
     ]
    },
    {
     "data": {
      "image/png": "[encoded data removed]",
      "text/plain": [
       "<Figure size 40x100 with 1 Axes>"
      ]
     },
     "metadata": {},
     "output_type": "display_data"
    },
    {
     "name": "stderr",
     "output_type": "stream",
     "text": [
      "/Users/michaeldeistler/Documents/phd/jaxley/jaxley/utils/swc.py:32: UserWarning: Found a soma which consists of a single traced point. `Jaxley` interprets this soma as a spherical compartment with radius specified in the SWC file, i.e. with surface area 4*pi*r*r.\n",
      "  warn(\n"
     ]
    },
    {
     "name": "stdout",
     "output_type": "stream",
     "text": [
      "Added 1 recordings. See `.recordings` for details.\n",
      "Added 1 recordings. See `.recordings` for details.\n",
      "Added 1 recordings. See `.recordings` for details.\n"
     ]
    },
    {
     "data": {
      "image/png": "[encoded data removed]",
      "text/plain": [
       "<Figure size 40x100 with 1 Axes>"
      ]
     },
     "metadata": {},
     "output_type": "display_data"
    },
    {
     "name": "stderr",
     "output_type": "stream",
     "text": [
      "/Users/michaeldeistler/Documents/phd/jaxley/jaxley/utils/swc.py:32: UserWarning: Found a soma which consists of a single traced point. `Jaxley` interprets this soma as a spherical compartment with radius specified in the SWC file, i.e. with surface area 4*pi*r*r.\n",
      "  warn(\n"
     ]
    },
    {
     "name": "stdout",
     "output_type": "stream",
     "text": [
      "Added 1 recordings. See `.recordings` for details.\n",
      "Added 1 recordings. See `.recordings` for details.\n",
      "Added 1 recordings. See `.recordings` for details.\n"
     ]
    },
    {
     "data": {
      "image/png": "[encoded data removed]",
      "text/plain": [
       "<Figure size 40x100 with 1 Axes>"
      ]
     },
     "metadata": {},
     "output_type": "display_data"
    }
   ],
   "source": [
    "recording_sites = {\n",
    "    \"n144\": [[0, 34, 54], [0.8, 0.8, 0.8], 0, [-200, 200], [-350, 650]],\n",
    "    \"485574832\": [[0, 60, 68], [0.2, 0.6, 0.6], 160, [-400, 0], [-900, -100]],\n",
    "    \"480351780\": [[0, 66, 71], [0.2, 0.6, 0.6], 220, [-850, -450], [-550, 450]],\n",
    "    \"484559000\": [[0, 35, 37], [0.2, 0.8, 0.8], 155, [-350, 50], [-850, 150]],\n",
    "    \"488683425\": [[0, 61, 63], [0.2, 0.8, 0.8], 198, [-750, -350], [-750, 250]],\n",
    "}\n",
    "\n",
    "every_neuron_amp_j = []\n",
    "every_neuron_time_j = []\n",
    "every_neuron_amp_n = []\n",
    "every_neuron_time_n = []\n",
    "\n",
    "for site in recording_sites.keys():\n",
    "    rec_branches = recording_sites[site][0]\n",
    "    rec_comps = recording_sites[site][1]\n",
    "    rotation = recording_sites[site][2]\n",
    "    xlim = recording_sites[site][3]\n",
    "    ylim = recording_sites[site][4]\n",
    "    \n",
    "    fname = f\"../morphologies/{site}.swc\"\n",
    "\n",
    "    # Getting mapping of branches between NEURON and Jaxley.\n",
    "    _, jx_pathlengths, _, _, _ = jx.utils.swc.swc_to_jaxley(fname, max_branch_len=2000.0)\n",
    "    neuron_radiuses = get_neuron_radius(fname)\n",
    "    neuron_to_jaxley_branch_mapping = get_mapping(fname)\n",
    "\n",
    "    cell = read_cell(fname)\n",
    "    with mpl.rc_context(fname=\"../../../.matplotlibrc\"):\n",
    "        fig, ax = plt.subplots(1, 1, figsize=(0.4, 0.4 * 2.5))\n",
    "        ax = cell.vis(ax=ax, morph_plot_kwargs={\"linewidth\": 0.3})\n",
    "        counter = 0\n",
    "        cols = [\"#a6cee3\", \"#33a02c\", \"#fdbf6f\"]\n",
    "        for b, c in zip(rec_branches, rec_comps):\n",
    "            ax = cell.branch(b).loc(c).vis(ax=ax, col=cols[counter], morph_plot_kwargs={\"zorder\": 1000, \"linewidth\": 0.3})\n",
    "            counter += 1\n",
    "        _ = ax.set_xlim(xlim)\n",
    "        _ = ax.set_ylim(ylim)\n",
    "        _ = ax.set_xticks([])\n",
    "        _ = ax.set_yticks([])\n",
    "        _ = ax.spines[\"left\"].set_visible(False)\n",
    "        _ = ax.spines[\"bottom\"].set_visible(False)\n",
    "        plt.savefig(f\"../svg/appendix_panel_morph_{site}.svg\", transparent=True, bbox_inches=\"tight\")\n",
    "        plt.show()\n",
    "\n",
    "    def simulate_jaxley(i_amp):\n",
    "        current = jx.step_current(i_delay, i_dur, i_amp, dt, t_max)\n",
    "        ds = cell.branch(0).loc(0.2).data_stimulate(current, None)\n",
    "        return jx.integrate(cell, delta_t=dt, data_stimuli=ds, voltage_solver=\"jaxley.stone\")\n",
    "    jitted_sim = jit(simulate_jaxley)\n",
    "\n",
    "    all_spike_amplitude_jaxley = []\n",
    "    all_spike_time_jaxley = []\n",
    "    all_spike_amplitude_neuron = []\n",
    "    all_spike_time_neuron = []\n",
    "\n",
    "    for i_amp in np.arange(0.2, 1.11, 0.1):\n",
    "        voltages_jaxley = jitted_sim(i_amp)\n",
    "        voltages_neuron = simulate_neuron(i_amp)\n",
    "\n",
    "        time_vec = jnp.arange(0, t_max+2*dt, dt)\n",
    "\n",
    "        jaxley_argmax = np.argmax(voltages_jaxley, axis=1)\n",
    "        neuron_argmax = np.argmax(voltages_neuron, axis=1)\n",
    "\n",
    "        spike_times_jaxley = time_vec[jaxley_argmax]\n",
    "        spike_times_neuron = time_vec[neuron_argmax]\n",
    "\n",
    "        spike_amplitude_jaxley = np.asarray([v[j] for v, j in zip(voltages_jaxley, jaxley_argmax)])\n",
    "        spike_amplitude_neuron = np.asarray([v[j] for v, j in zip(voltages_neuron, neuron_argmax)])\n",
    "\n",
    "        all_spike_amplitude_jaxley.append(spike_amplitude_jaxley)\n",
    "        all_spike_amplitude_neuron.append(spike_amplitude_neuron)\n",
    "        all_spike_time_jaxley.append(spike_times_jaxley)\n",
    "        all_spike_time_neuron.append(spike_times_neuron)\n",
    "\n",
    "    every_neuron_amp_j.append(np.asarray(all_spike_amplitude_jaxley))\n",
    "    every_neuron_amp_n.append(np.asarray(all_spike_amplitude_neuron))\n",
    "    every_neuron_time_j.append(np.asarray(all_spike_time_jaxley))\n",
    "    every_neuron_time_n.append(np.asarray(all_spike_time_neuron))"
   ]
  },
  {
   "cell_type": "code",
   "execution_count": 36,
   "id": "41547b78-46ee-4172-b6a2-a55d8d55119c",
   "metadata": {},
   "outputs": [
    {
     "name": "stdout",
     "output_type": "stream",
     "text": [
      "Maximal spike time difference between neuron and jaxley 0.05000019073486328\n",
      "Maximal spike amplitude difference between neuron and jaxley 0.0910114577028196\n"
     ]
    }
   ],
   "source": [
    "time_diff = np.max(np.abs(np.asarray(every_neuron_time_j) - np.asarray(every_neuron_time_n)))\n",
    "print(f\"Maximal spike time difference between neuron and jaxley {time_diff}\")\n",
    "\n",
    "amp_diff = np.max(np.abs(np.asarray(every_neuron_amp_j) - np.asarray(every_neuron_amp_n)))\n",
    "print(f\"Maximal spike amplitude difference between neuron and jaxley {amp_diff}\")"
   ]
  },
  {
   "cell_type": "code",
   "execution_count": 37,
   "id": "ead85549-4a32-4af3-9d25-9b8c254b0df2",
   "metadata": {},
   "outputs": [
    {
     "name": "stdout",
     "output_type": "stream",
     "text": [
      "Mean spike time difference between neuron and jaxley 0.010333362966775894\n",
      "Mean spike amplitude difference between neuron and jaxley 0.020370199027225103\n"
     ]
    }
   ],
   "source": [
    "time_diff = np.mean(np.abs(np.asarray(every_neuron_time_j) - np.asarray(every_neuron_time_n)))\n",
    "print(f\"Mean spike time difference between neuron and jaxley {time_diff}\")\n",
    "\n",
    "amp_diff = np.mean(np.abs(np.asarray(every_neuron_amp_j) - np.asarray(every_neuron_amp_n)))\n",
    "print(f\"Mean spike amplitude difference between neuron and jaxley {amp_diff}\")"
   ]
  },
  {
   "cell_type": "code",
   "execution_count": 57,
   "id": "1aa22257-6fbe-40c9-b801-778fe2e1f2e1",
   "metadata": {},
   "outputs": [
    {
     "data": {
      "image/png": "[encoded data removed]",
      "text/plain": [
       "<Figure size 805x280 with 10 Axes>"
      ]
     },
     "metadata": {},
     "output_type": "display_data"
    }
   ],
   "source": [
    "with mpl.rc_context(fname=\"../../../.matplotlibrc\"):\n",
    "    fig, ax = plt.subplots(2, 5, figsize=(8.05, 2.8))\n",
    "\n",
    "    markers = [\"v\", \"^\", \"<\", \">\", \"o\", \"s\"]\n",
    "    for neuron_id in range(5):\n",
    "        all_spike_time_jaxley = every_neuron_time_j[neuron_id]\n",
    "        all_spike_time_neuron = every_neuron_time_n[neuron_id]\n",
    "        all_spike_amplitude_jaxley = every_neuron_amp_j[neuron_id]\n",
    "        all_spike_amplitude_neuron = every_neuron_amp_n[neuron_id]\n",
    "\n",
    "        cols = [\"#a6cee3\", \"#33a02c\", \"#fdbf6f\"]\n",
    "        for neuron, jaxley, col in zip(all_spike_time_neuron.T, all_spike_time_jaxley.T, cols):\n",
    "            _ = ax[0, neuron_id].scatter(neuron, jaxley, color=col, s=10.0)\n",
    "        for neuron, jaxley, col in zip(all_spike_amplitude_neuron.T, all_spike_amplitude_jaxley.T, cols):\n",
    "            _ = ax[1, neuron_id].scatter(neuron, jaxley, color=col, s=10.0)\n",
    "        _ = ax[0, neuron_id].plot([3, 16], [3, 16], color=\"gray\", alpha=0.3, zorder=-1)\n",
    "        _ = ax[1, neuron_id].plot([30, 46], [30, 46], color=\"gray\", alpha=0.3, zorder=-1)\n",
    "        _ = ax[0, neuron_id].set_xticks([3, 16])\n",
    "        _ = ax[0, neuron_id].set_xlim([3, 16])\n",
    "        _ = ax[0, neuron_id].set_yticks([3, 16])\n",
    "        _ = ax[0, neuron_id].set_ylim([3, 16])\n",
    "        _ = ax[1, neuron_id].set_xticks([30, 46])\n",
    "        _ = ax[1, neuron_id].set_xlim([30, 46])\n",
    "        _ = ax[1, neuron_id].set_yticks([30, 46])\n",
    "        _ = ax[1, neuron_id].set_ylim([30, 46])\n",
    "\n",
    "    _ = ax[0, 0].set_ylabel(\"Spike time (ms)\\nJaxley\", labelpad=-3)\n",
    "    _ = ax[0, 0].set_xlabel(\"Spike time (ms)\\nNEURON\", labelpad=-3)\n",
    "    _ = ax[1, 0].set_ylabel(\"Spike amplitude (mV)\\nJaxley\", labelpad=-3)\n",
    "    _ = ax[1, 0].set_xlabel(\"Spike amplitude (mV)\\nNEURON\", labelpad=3)\n",
    "    _ = ax[0, 4].legend(\n",
    "        [\"Somatic recording\", \"Proximal recording\", \"Distal recording\"],\n",
    "        loc=\"upper right\",\n",
    "        bbox_to_anchor=[2.2, 1.1, 0.0, 0.0],\n",
    "        handletextpad=0.3,\n",
    "    )\n",
    "    plt.subplots_adjust(wspace=0.5, hspace=0.5)\n",
    "    plt.savefig(f\"../svg/appendix_panel_accuracy.svg\", transparent=True, bbox_inches=\"tight\")\n",
    "    plt.show()"
   ]
  },
  {
   "cell_type": "markdown",
   "id": "34c1671c-b549-40f1-945d-c77c0c8ca022",
   "metadata": {},
   "source": [
    "# Assemble figure"
   ]
  },
  {
   "cell_type": "code",
   "execution_count": 58,
   "id": "442ae425-24b9-4a02-9abd-3e386349b344",
   "metadata": {},
   "outputs": [
    {
     "name": "stderr",
     "output_type": "stream",
     "text": [
      "/Users/michaeldeistler/anaconda3/envs/nex/lib/python3.11/pty.py:89: RuntimeWarning: os.fork() was called. os.fork() is incompatible with multithreaded code, and JAX is multithreaded, so this will likely lead to a deadlock.\n",
      "  pid, fd = os.forkpty()\n"
     ]
    },
    {
     "data": {
      "text/html": [
       "<img src=\"../fig/fig1_appendix_accuracy.svg\" / >"
      ],
      "text/plain": [
       "<IPython.core.display.HTML object>"
      ]
     },
     "metadata": {},
     "output_type": "display_data"
    }
   ],
   "source": [
    "import time\n",
    "import IPython.display as IPd\n",
    "from svgutils.compose import *\n",
    "\n",
    "def svg(img):\n",
    "    IPd.display(IPd.HTML('<img src=\"{}\" / >'.format(img, time.time())))\n",
    "\n",
    "# > Inkscape pixel is 1/90 of an inch, other software usually uses 1/72.\n",
    "# > http://www.inkscapeforum.com/viewtopic.php?f=6&t=5964\n",
    "svg_scale = 1.25  # set this to 1.25 for Inkscape, 1.0 otherwise\n",
    "\n",
    "# Panel letters in Helvetica Neue, 12pt, Medium\n",
    "kwargs_text = {'size': '8pt', 'font': 'Arial', 'weight': '800'}\n",
    "kwargs_text_normal = {'size': '6pt', 'font': 'Arial'}\n",
    "\n",
    "f = Figure(\n",
    "    \"18.0cm\",\n",
    "    \"6.2cm\",\n",
    "    Panel(\n",
    "        SVG(f\"../svg/appendix_panel_morph_n144.svg\").scale(svg_scale).move(42, 0),\n",
    "        SVG(f\"../svg/appendix_panel_morph_485574832.svg\").scale(svg_scale).move(161, 0),\n",
    "        SVG(f\"../svg/appendix_panel_morph_480351780.svg\").scale(svg_scale).move(280, 0),\n",
    "        SVG(f\"../svg/appendix_panel_morph_484559000.svg\").scale(svg_scale).move(400, 0),\n",
    "        SVG(f\"../svg/appendix_panel_morph_488683425.svg\").scale(svg_scale).move(520, 0),\n",
    "    ).move(-22, -14),\n",
    "    Panel(\n",
    "        SVG(\"../svg/appendix_panel_accuracy.svg\").scale(svg_scale),\n",
    "    ).move(-7, -4),\n",
    ")\n",
    "\n",
    "!mkdir -p fig\n",
    "f.save(\"../fig/fig1_appendix_accuracy.svg\")\n",
    "svg(\"../fig/fig1_appendix_accuracy.svg\")"
   ]
  },
  {
   "cell_type": "code",
   "execution_count": null,
   "id": "21c448e7-3446-4260-9a27-8dd69f7246d9",
   "metadata": {},
   "outputs": [],
   "source": []
  }
 ],
 "metadata": {
  "kernelspec": {
   "display_name": "Python 3 (ipykernel)",
   "language": "python",
   "name": "python3"
  },
  "language_info": {
   "codemirror_mode": {
    "name": "ipython",
    "version": 3
   },
   "file_extension": ".py",
   "mimetype": "text/x-python",
   "name": "python",
   "nbconvert_exporter": "python",
   "pygments_lexer": "ipython3",
   "version": "3.11.8"
  }
 },
 "nbformat": 4,
 "nbformat_minor": 5
}
