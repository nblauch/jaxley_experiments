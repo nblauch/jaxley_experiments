{
 "cells": [
  {
   "cell_type": "code",
   "execution_count": 1,
   "id": "e3610653-a6f7-4c21-8403-f8b90874cd4e",
   "metadata": {},
   "outputs": [],
   "source": [
    "import jaxley as jx\n",
    "import matplotlib as mpl\n",
    "import matplotlib.pyplot as plt\n",
    "import numpy as np\n",
    "import pickle\n",
    "import jax.numpy as jnp"
   ]
  },
  {
   "cell_type": "markdown",
   "id": "a3278193-21b8-4758-be8d-68f653f63480",
   "metadata": {},
   "source": [
    "# Solve accuracy"
   ]
  },
  {
   "cell_type": "code",
   "execution_count": 2,
   "id": "a8cd88d9-cbd0-48af-8ac2-bcf3495c9fe1",
   "metadata": {},
   "outputs": [],
   "source": [
    "with open(\"../results/01_accuracy/time_vec.pkl\", \"rb\") as handle:\n",
    "    time_vec = pickle.load(handle)\n",
    "\n",
    "with open(\"../results/01_accuracy/voltages_neuron.pkl\", \"rb\") as handle:\n",
    "    voltages_neuron = pickle.load(handle)\n",
    "\n",
    "with open(\"../results/01_accuracy/voltages_jaxley.pkl\", \"rb\") as handle:\n",
    "    voltages_jaxley = pickle.load(handle)"
   ]
  },
  {
   "cell_type": "markdown",
   "id": "4cfb5907-d09b-42ba-9ede-015cdf0191c2",
   "metadata": {},
   "source": [
    "### Panel A1"
   ]
  },
  {
   "cell_type": "code",
   "execution_count": 3,
   "id": "cf364e96-f570-4bff-a2ca-f2c8b5e742f2",
   "metadata": {},
   "outputs": [
    {
     "name": "stderr",
     "output_type": "stream",
     "text": [
      "/Users/michaeldeistler/Documents/phd/jaxley/jaxley/utils/swc.py:32: UserWarning: Found a soma which consists of a single traced point. `Jaxley` interprets this soma as a spherical compartment with radius specified in the SWC file, i.e. with surface area 4*pi*r*r.\n",
      "  warn(\n"
     ]
    }
   ],
   "source": [
    "nseg_per_branch = 4\n",
    "fname = \"../morphologies/n144.swc\"   #n144, n173\n",
    "cell = jx.read_swc(fname, nseg_per_branch, max_branch_len=300.0)\n",
    "# cell.rotate(180)"
   ]
  },
  {
   "cell_type": "code",
   "execution_count": 4,
   "id": "62d6177e-3420-4972-a214-70f6e669388b",
   "metadata": {},
   "outputs": [
    {
     "data": {
      "image/png": "[encoded data removed]",
      "text/plain": [
       "<Figure size 86.3636x181.818 with 1 Axes>"
      ]
     },
     "metadata": {},
     "output_type": "display_data"
    }
   ],
   "source": [
    "rec_branches = [0, 34, 54]\n",
    "with mpl.rc_context(fname=\"../../../.matplotlibrc\"):\n",
    "    fig, ax = plt.subplots(1, 1, figsize=(0.95 / 1.1, 2.0 / 1.1))\n",
    "    ax = cell.vis(ax=ax, morph_plot_kwargs={\"linewidth\": 0.3})\n",
    "    for r in rec_branches:\n",
    "        ax = cell.branch(r).comp(3).vis(ax=ax, col=\"#3690c0\", morph_plot_kwargs={\"s\": 15, \"zorder\": 100})\n",
    "    _ = ax.spines[\"bottom\"].set_visible(False)\n",
    "    _ = ax.spines[\"left\"].set_visible(False)\n",
    "    _ = ax.set_xticks([])\n",
    "    _ = ax.set_yticks([])\n",
    "    _ = ax.set_xlim([-200, 250])\n",
    "    _ = ax.set_ylim([-300, 600])\n",
    "    plt.savefig(\"../svg/panel_a1.svg\", transparent=True, bbox_inches=\"tight\")\n",
    "    plt.show()"
   ]
  },
  {
   "cell_type": "markdown",
   "id": "724871c4-9e53-43a5-9721-a70d9ee46ec9",
   "metadata": {},
   "source": [
    "### Panel A2"
   ]
  },
  {
   "cell_type": "code",
   "execution_count": 28,
   "id": "c72962a8-af29-4a11-b1d0-abbfc0d49a92",
   "metadata": {},
   "outputs": [
    {
     "data": {
      "image/png": "[encoded data removed]",
      "text/plain": [
       "<Figure size 90x130 with 3 Axes>"
      ]
     },
     "metadata": {},
     "output_type": "display_data"
    }
   ],
   "source": [
    "with mpl.rc_context(fname=\"../../../.matplotlibrc\"):\n",
    "    fig, ax = plt.subplots(3, 1, figsize=(0.9, 1.3))\n",
    "    for i in range(3):\n",
    "        _ = ax[i].plot(time_vec, voltages_neuron[2-i], c=\"k\")\n",
    "        _ = ax[i].plot(time_vec, voltages_jaxley[2-i], c=\"#3690c0\", linestyle=\"--\")\n",
    "        _ = ax[i].spines[\"top\"].set_visible(False)\n",
    "        _ = ax[i].spines[\"right\"].set_visible(False)\n",
    "        _ = ax[i].spines[\"left\"].set_visible(False)\n",
    "        _ = ax[i].spines[\"bottom\"].set_visible(False)\n",
    "        _ = ax[i].set_xticks([])\n",
    "        _ = ax[i].set_yticks([])\n",
    "        _ = ax[i].set_xlim([0, 21])\n",
    "        _ = ax[i].set_ylim([-90, 47])\n",
    "    _ = ax[2].plot([18, 21], [-89, -89], color=\"k\", clip_on=False)\n",
    "    _ = ax[2].plot([21, 21], [-89, -59], color=\"k\", clip_on=False)\n",
    "    ax[0].legend(\n",
    "        [\"NEURON\", \"Jaxley\"],\n",
    "        loc=\"upper right\", \n",
    "        bbox_to_anchor=[1.1, 1.8, 0.0, 0.0],\n",
    "        ncols=2,\n",
    "        columnspacing=0.8,\n",
    "        handlelength=1.5,\n",
    "        handletextpad=0.3,\n",
    "    )\n",
    "    plt.savefig(\"../svg/panel_a2.svg\", transparent=True, bbox_inches=\"tight\")\n",
    "    plt.show()"
   ]
  },
  {
   "cell_type": "code",
   "execution_count": 191,
   "id": "461a1155-a69c-469a-ae0a-654553e73682",
   "metadata": {},
   "outputs": [
    {
     "data": {
      "image/png": "[encoded data removed]",
      "text/plain": [
       "<Figure size 45x20 with 1 Axes>"
      ]
     },
     "metadata": {},
     "output_type": "display_data"
    }
   ],
   "source": [
    "with mpl.rc_context(fname=\"../../../.matplotlibrc\"):\n",
    "    fig, ax = plt.subplots(1, 1, figsize=(0.45, 0.2))\n",
    "    _ = ax.plot(time_vec, voltages_neuron[0], c=\"k\")\n",
    "    _ = ax.plot(time_vec, voltages_jaxley[0], c=\"#3690c0\", linestyle=\"--\")\n",
    "    _ = ax.set_xlim([4.28, 5.08])\n",
    "    _ = ax.set_ylim([20, 43])\n",
    "    _ = ax.spines[\"top\"].set_visible(True)\n",
    "    _ = ax.spines[\"right\"].set_visible(True)\n",
    "    _ = ax.spines[\"left\"].set_visible(True)\n",
    "    _ = ax.spines[\"bottom\"].set_visible(True)\n",
    "\n",
    "    ax.spines['bottom'].set_color(\"gray\")\n",
    "    ax.spines['top'].set_color(\"gray\") \n",
    "    ax.spines['right'].set_color(\"gray\")\n",
    "    ax.spines['left'].set_color(\"gray\")\n",
    "    _ = ax.set_xticks([])\n",
    "    _ = ax.set_yticks([])\n",
    "    plt.savefig(\"../svg/panel_a3.svg\", transparent=True, bbox_inches=\"tight\")\n",
    "    plt.show()"
   ]
  },
  {
   "cell_type": "markdown",
   "id": "0d21e40e-379c-4592-85cc-551df8a32adc",
   "metadata": {
    "jp-MarkdownHeadingCollapsed": true
   },
   "source": [
    "# Timing"
   ]
  },
  {
   "cell_type": "code",
   "execution_count": 81,
   "id": "8a284fcf-cce7-4f1a-a156-444bbe6ceb33",
   "metadata": {},
   "outputs": [],
   "source": [
    "computer = \"vm\"\n",
    "\n",
    "timings = {\n",
    "    \"simulation\": {\"parameters\": {}},\n",
    "    \"gradient\": {\"parameters\": {}},\n",
    "}\n",
    "\n",
    "# Assemble timings.\n",
    "for sim_or_grad in [\"simulation\", \"gradient\"]:\n",
    "    for modality in [\"parameters\"]:\n",
    "        devices = [\"jaxley_cpu\", \"jaxley_gpu\"]\n",
    "        if sim_or_grad == \"simulation\":\n",
    "            devices += [\"neuron\"]\n",
    "        for device in devices:\n",
    "            prefix = \"\" if sim_or_grad == \"simulation\" else \"gradient_\"\n",
    "            with open(f\"../results/03_timing/{prefix}{modality}_n144_{device}_{computer}_nseg4.pkl\", \"rb\") as handle:\n",
    "                timings[f\"{sim_or_grad}\"][f\"{modality}\"][f\"{device}\"] = pickle.load(handle)\n",
    "\n",
    "timings_pointneuron = {\n",
    "    \"simulation\": {\n",
    "        \"currents\": {},\n",
    "        \"parameters\": {},\n",
    "        \"cells\": {},\n",
    "    },\n",
    "    \"gradient\": {\n",
    "        \"currents\": {},\n",
    "        \"parameters\": {},\n",
    "        \"cells\": {},\n",
    "    },\n",
    "}\n",
    "\n",
    "# Assemble timings.\n",
    "for sim_or_grad in [\"simulation\", \"gradient\"]:\n",
    "    for modality in [\"parameters\"]:\n",
    "        devices = [\"jaxley_cpu\", \"jaxley_gpu\"]\n",
    "        if sim_or_grad == \"simulation\":\n",
    "            devices += [\"neuron\"]\n",
    "        for device in devices:\n",
    "            prefix = \"\" if sim_or_grad == \"simulation\" else \"gradient_\"\n",
    "            with open(f\"../results/03_timing/{prefix}{modality}_{device}_{computer}_nseg4_pointneuron.pkl\", \"rb\") as handle:\n",
    "                timings_pointneuron[f\"{sim_or_grad}\"][f\"{modality}\"][f\"{device}\"] = pickle.load(handle)"
   ]
  },
  {
   "cell_type": "code",
   "execution_count": 82,
   "id": "fbed23e8-32fd-4817-99fa-e2ff5eb2377d",
   "metadata": {},
   "outputs": [],
   "source": [
    "n = 10000\n",
    "time_neuron = timings[\"simulation\"][\"parameters\"][\"neuron\"][n]\n",
    "time_jaxley_gpu = timings[\"simulation\"][\"parameters\"][\"jaxley_gpu\"][n]"
   ]
  },
  {
   "cell_type": "markdown",
   "id": "5b7bfccf-c80d-459a-a84b-f896cd2b1598",
   "metadata": {},
   "source": [
    "### Panel B0"
   ]
  },
  {
   "cell_type": "code",
   "execution_count": 84,
   "id": "926cc2bd-e7d0-403e-a835-c0ccdf963957",
   "metadata": {},
   "outputs": [
    {
     "data": {
      "image/png": "[encoded data removed]",
      "text/plain": [
       "<Figure size 30x110 with 1 Axes>"
      ]
     },
     "metadata": {},
     "output_type": "display_data"
    }
   ],
   "source": [
    "with mpl.rc_context(fname=\"../../../.matplotlibrc\"):\n",
    "    fig, ax = plt.subplots(1, 1, figsize=(0.3, 1.1))\n",
    "    _ = ax.bar([0, 1], [time_neuron, time_jaxley_gpu], width=0.3, color=\"k\")\n",
    "    _ = ax.set_xticks([0, 1])\n",
    "    _ = ax.set_yscale(\"log\")\n",
    "    _ = ax.set_xticklabels([\"NEURON\", \"Jaxley\"], rotation=90)\n",
    "    _ = ax.set_xlim([-0.5, 1.5])\n",
    "    _ = ax.set_yticks([1.0, 10.0, 100.0, 1000.0, 10_000.0])\n",
    "    _ = ax.set_yticklabels([1, \"\", \"\", \"\", \"10k\"])\n",
    "    _ = ax.set_ylim([1.0, 10000])\n",
    "    _ = ax.set_ylabel(\"Time for 10k\\nsims (sec)\", labelpad=-9)\n",
    "    plt.savefig(\"../svg/panel_b0.svg\", transparent=True, bbox_inches=\"tight\")\n",
    "    plt.show()"
   ]
  },
  {
   "cell_type": "markdown",
   "id": "aa91629c-7dff-4957-b274-0c60ac491a7d",
   "metadata": {},
   "source": [
    "### Panel B"
   ]
  },
  {
   "cell_type": "code",
   "execution_count": 85,
   "id": "49844a2c-4f66-4ecc-b925-ac279e9dc6b8",
   "metadata": {},
   "outputs": [
    {
     "data": {
      "image/png": "[encoded data removed]",
      "text/plain": [
       "<Figure size 74x136 with 2 Axes>"
      ]
     },
     "metadata": {},
     "output_type": "display_data"
    }
   ],
   "source": [
    "cols = {\"neuron\": \"k\", \"jaxley_cpu\": \"#74a9cf\", \"jaxley_gpu\": \"#045a8d\"}\n",
    "with mpl.rc_context(fname=\"../../../.matplotlibrc\"):\n",
    "    fig, ax = plt.subplots(2, 1, figsize=(0.74, 1.36))\n",
    "    for i, sim_or_grad in enumerate([\"simulation\", \"gradient\"]):\n",
    "        for j, modality in enumerate([\"parameters\"]):\n",
    "            for device in timings[f\"{sim_or_grad}\"][f\"{modality}\"].keys(): # [\"jaxley_cpu\", \"jaxley_gpu\", \"neuron\"]:\n",
    "                batch_sizes = list(timings[f\"{sim_or_grad}\"][f\"{modality}\"][f\"{device}\"].keys())\n",
    "                timing_values = list(timings[f\"{sim_or_grad}\"][f\"{modality}\"][f\"{device}\"].values())\n",
    "                ax[i].plot(batch_sizes, timing_values, 'o-', ms=1.5, color=cols[device])\n",
    "                # ax[j, i].scatter(batch_sizes, timing_values)\n",
    "                ax[i].set_yscale(\"log\")\n",
    "                ax[i].set_xscale(\"log\")\n",
    "                ax[i].set_ylim([0.0001, 10_000])\n",
    "                # ax[j, i].text(10, 4_000, modality)\n",
    "                ax[i].set_xticks(batch_sizes)\n",
    "                ax[i].set_yticks([0.0001, 1.0, 10_000.0])\n",
    "    ax[0].set_xticklabels([])\n",
    "    ax[0].set_title(\"Morphologically\\ndetailed neuron\")\n",
    "    ax[1].set_xlabel(\"Number of simulations\", labelpad=2)\n",
    "    # ax[0, 0].legend([\"jaxley\\ncpu\", \"jaxley\\ngpu\", \"neuron\"], loc=\"upper right\", bbox_to_anchor=[3.15, 1.7, 0.0, 0.0])\n",
    "    ax[0].set_ylabel(\"Simulation\\ntime (sec)\")\n",
    "    ax[1].set_ylabel(\"Gradient\\ntime (sec)\")\n",
    "    plt.subplots_adjust(wspace=0.3, hspace=0.3)\n",
    "    plt.savefig(\"../svg/panel_b1.svg\", transparent=True, bbox_inches=\"tight\")\n",
    "    plt.show()"
   ]
  },
  {
   "cell_type": "code",
   "execution_count": 87,
   "id": "e7c12bd5-ac85-4b3c-94a0-5fd2d1846e10",
   "metadata": {},
   "outputs": [
    {
     "data": {
      "image/png": "[encoded data removed]",
      "text/plain": [
       "<Figure size 110x136 with 2 Axes>"
      ]
     },
     "metadata": {},
     "output_type": "display_data"
    }
   ],
   "source": [
    "with mpl.rc_context(fname=\"../../../.matplotlibrc\"):\n",
    "    fig, ax = plt.subplots(2, 1, figsize=(1.1, 1.36))\n",
    "    for i, sim_or_grad in enumerate([\"simulation\", \"gradient\"]):\n",
    "        for j, modality in enumerate([\"parameters\"]):\n",
    "            for device in timings_pointneuron[f\"{sim_or_grad}\"][f\"{modality}\"].keys(): # [\"jaxley_cpu\", \"jaxley_gpu\", \"neuron\"]:\n",
    "                batch_sizes = list(timings_pointneuron[f\"{sim_or_grad}\"][f\"{modality}\"][f\"{device}\"].keys())\n",
    "                timing_values = list(timings_pointneuron[f\"{sim_or_grad}\"][f\"{modality}\"][f\"{device}\"].values())\n",
    "                ax[i].plot(batch_sizes, timing_values, 'o-', ms=1.5, color=cols[device], clip_on=False)\n",
    "                # ax[j, i].scatter(batch_sizes, timing_values)\n",
    "                ax[i].set_yscale(\"log\")\n",
    "                ax[i].set_xscale(\"log\")\n",
    "                ax[i].set_ylim([0.0001, 10_000])\n",
    "                # ax[j, i].text(10, 4_000, modality)\n",
    "                ax[i].set_xticks(batch_sizes)\n",
    "                ax[i].set_yticks([0.0001, 1.0, 10_000.0])\n",
    "                ax[i].set_yticklabels([])\n",
    "    ax[0].set_xticklabels([])\n",
    "    ax[0].set_title(\"Point\\nneuron\")\n",
    "    # ax[1].set_xlabel(\"Batchsize\", labelpad=2)\n",
    "    # ax[0, 0].legend([\"jaxley\\ncpu\", \"jaxley\\ngpu\", \"neuron\"], loc=\"upper right\", bbox_to_anchor=[3.15, 1.7, 0.0, 0.0])\n",
    "    plt.subplots_adjust(wspace=0.3, hspace=0.3)\n",
    "    plt.savefig(\"../svg/panel_b2.svg\", transparent=True, bbox_inches=\"tight\")\n",
    "    plt.show()"
   ]
  },
  {
   "cell_type": "markdown",
   "id": "b7fb31eb-4017-43b4-bb4f-e8903b0b6f14",
   "metadata": {},
   "source": [
    "# Large scale net"
   ]
  },
  {
   "cell_type": "markdown",
   "id": "dfa2a648-b097-41dc-9cd5-71863ec4c7a5",
   "metadata": {},
   "source": [
    "### Panel f"
   ]
  },
  {
   "cell_type": "code",
   "execution_count": 88,
   "id": "b932c44f-37fa-4c4d-887d-b9b600376876",
   "metadata": {},
   "outputs": [],
   "source": [
    "with open(\"../results/02_large_scale/voltages.pkl\", \"rb\") as handle:\n",
    "    s_net = pickle.load(handle)\n",
    "\n",
    "dt = 0.025\n",
    "time_vec = np.arange(0, 199.9+dt, dt)\n",
    "from jaxley.utils.colors import network_cols"
   ]
  },
  {
   "cell_type": "code",
   "execution_count": 89,
   "id": "bf8cc7ea-dd0a-487e-8012-4c158fdcf992",
   "metadata": {},
   "outputs": [],
   "source": [
    "sf = 40\n",
    "_ = np.random.seed(0)\n",
    "cols = np.asarray(network_cols([1*sf, 20*sf, 15*sf, 14*sf+1])) # , 10*sf, 1]))\n",
    "permutation = np.random.permutation(np.arange(len(cols)))\n",
    "cols = cols[permutation]\n",
    "cols[-1] = [0.0, 0.0, 0.0, 1.0]"
   ]
  },
  {
   "cell_type": "code",
   "execution_count": 90,
   "id": "36e1f51a-9cb3-4ec6-9db8-2e75495033ff",
   "metadata": {},
   "outputs": [
    {
     "data": {
      "image/png": "[encoded data removed]",
      "text/plain": [
       "<Figure size 110x145 with 6 Axes>"
      ]
     },
     "metadata": {},
     "output_type": "display_data"
    }
   ],
   "source": [
    "# sf = 12\n",
    "# cols = network_cols([10*sf, 14*sf, 10*sf, 10*sf, 10*sf, 1*sf])\n",
    "\n",
    "with mpl.rc_context(fname=\"../../../.matplotlibrc\"):\n",
    "    fig, ax = plt.subplots(6, 1, figsize=(1.1, 1.45))\n",
    "    for i in np.arange(0, len(s_net), 40):\n",
    "        if i < sf * 10:\n",
    "            layer = 0\n",
    "        elif i < sf * 20:\n",
    "            layer = 1\n",
    "        elif i < sf * 30:\n",
    "            layer = 2\n",
    "        elif i < sf * 40:\n",
    "            layer = 3\n",
    "        elif i < sf * 50:\n",
    "            layer = 4\n",
    "        else:\n",
    "            layer = 5\n",
    "        _ = ax[layer].plot(time_vec, s_net[i, :-1], c=cols[i])\n",
    "    ax[layer].set_xlabel(\"\")\n",
    "    ax[layer].set_xlim([0, max(time_vec)])\n",
    "    ax[layer].set_xlabel(\"Time (ms)\")\n",
    "    ax[-4].set_ylabel(\"Voltage (mV)\", labelpad=1)\n",
    "    for i in range(6):\n",
    "        ax[i].set_ylim([-80, 50])\n",
    "        ax[i].set_yticks([-80, 50])\n",
    "        ax[i].set_xticks([0, 40, 80, 120, 160, 200])\n",
    "        ax[i].set_xlim([0, 200])\n",
    "    ax[-1].tick_params(axis='y', which='major', pad=1)\n",
    "    for i in range(5):\n",
    "        ax[i].set_yticklabels([])\n",
    "    for i in range(5):\n",
    "        ax[i].set_xticklabels([])\n",
    "    plt.subplots_adjust(hspace=0.6)\n",
    "    plt.savefig(\"../svg/panel_c2.svg\", bbox_inches=\"tight\", transparent=True)\n",
    "    plt.show()"
   ]
  },
  {
   "cell_type": "markdown",
   "id": "897a15da-2c94-443b-a64a-4dae3876517b",
   "metadata": {},
   "source": [
    "# Assemble figure"
   ]
  },
  {
   "cell_type": "code",
   "execution_count": 29,
   "id": "028a0228-9eb4-4139-8dc1-4f239aad79d3",
   "metadata": {},
   "outputs": [
    {
     "name": "stderr",
     "output_type": "stream",
     "text": [
      "/Users/michaeldeistler/anaconda3/envs/nex/lib/python3.11/pty.py:89: RuntimeWarning: os.fork() was called. os.fork() is incompatible with multithreaded code, and JAX is multithreaded, so this will likely lead to a deadlock.\n",
      "  pid, fd = os.forkpty()\n"
     ]
    },
    {
     "data": {
      "text/html": [
       "<img src=\"../fig/fig2.svg\" / >"
      ],
      "text/plain": [
       "<IPython.core.display.HTML object>"
      ]
     },
     "metadata": {},
     "output_type": "display_data"
    }
   ],
   "source": [
    "import time\n",
    "import IPython.display as IPd\n",
    "from svgutils.compose import *\n",
    "\n",
    "def svg(img):\n",
    "    IPd.display(IPd.HTML('<img src=\"{}\" / >'.format(img, time.time())))\n",
    "\n",
    "# > Inkscape pixel is 1/90 of an inch, other software usually uses 1/72.\n",
    "# > http://www.inkscapeforum.com/viewtopic.php?f=6&t=5964\n",
    "svg_scale = 1.25  # set this to 1.25 for Inkscape, 1.0 otherwise\n",
    "\n",
    "# Panel letters in Helvetica Neue, 12pt, Medium\n",
    "kwargs_text = {'size': '8pt', 'font': 'Arial', 'weight': '800'}\n",
    "kwargs_text_normal = {'size': '6pt', 'font': 'Arial'}\n",
    "\n",
    "f = Figure(\n",
    "    \"18.0cm\",\n",
    "    \"3.9cm\",\n",
    "\n",
    "    Panel(\n",
    "        SVG(\"../svg/panel_a1.svg\").scale(svg_scale),\n",
    "        Text(\"d\", 15, -2.0, **kwargs_text),\n",
    "        Text(\"Accurate simulation with implicit Euler\", 24, -2.0, **kwargs_text_normal),\n",
    "        Line([[60.0, 44.0], [84.0, 44.0]]),\n",
    "        Line([[60.0, 46.0], [84.0, 50.0]]),\n",
    "        Line([[60.0, 72.0], [85.0, 76.0]]),\n",
    "        Line([[60.0, 74.0], [84.0, 82.0]]),\n",
    "        Line([[60.0, 100.0], [84.0, 107.0]]),\n",
    "        Line([[60.0, 102.0], [81.5, 113.0]]),\n",
    "    ).move(-15, 10),\n",
    "    \n",
    "    Panel(SVG(\"../svg/panel_a2.svg\").scale(svg_scale)).move(38, 15),\n",
    "    Panel(SVG(\"../svg/panel_a3.svg\").scale(svg_scale)).move(93, 98),\n",
    "\n",
    "    Panel(\n",
    "        SVG(\"../svg/panel_b0.svg\").scale(svg_scale),\n",
    "        Text(\"e\", 0, -6.0, **kwargs_text),\n",
    "        Text(\"GPU speedup\", 13, -6.0, **kwargs_text_normal),\n",
    "    ).move(158, 14),\n",
    "\n",
    "    Panel(SVG(\"../svg/panel_b1.svg\").scale(svg_scale)).move(223, -5),\n",
    "    Panel(SVG(\"../svg/panel_b2.svg\").scale(svg_scale)).move(325, -5),\n",
    "    Panel(SVG(\"../svg/panel_b3.svg\")).move(425, 28),\n",
    "\n",
    "    Panel(\n",
    "        Text(\"f\", -25, -2.0, **kwargs_text),\n",
    "        Text(\"Simulate and train biophysical networks\", 11, -2.0, **kwargs_text_normal),\n",
    "    ).move(500, 10),\n",
    "\n",
    "    Panel(\n",
    "        Text(\"2000 neurons & 1M synapses\", -24, 0.0, **kwargs_text_normal),\n",
    "        Text(\"Sim: 21 sec, backprop: 144 sec\", -24, 10.0, **kwargs_text_normal),\n",
    "        # Text(\"6,000 synapses\", 0, 10.0, **kwargs_text_normal),\n",
    "    ).move(498, 132),\n",
    "\n",
    "    # Panel(\n",
    "    #     Text(\"x12\", 0, 0.0, **kwargs_text_normal),\n",
    "    # ).move(550, 76),\n",
    "    \n",
    "    Panel(\n",
    "        SVG(\"../svg/large_net_3MB.svg\").scale(0.7),\n",
    "    ).move(475, 12),\n",
    "\n",
    "    Panel(\n",
    "        SVG(\"../svg/panel_c2.svg\").scale(svg_scale),\n",
    "    ).move(570, 10),\n",
    ")\n",
    "\n",
    "!mkdir -p fig\n",
    "f.save(\"../fig/fig2.svg\")\n",
    "svg(\"../fig/fig2.svg\")"
   ]
  },
  {
   "cell_type": "code",
   "execution_count": null,
   "id": "ed5019b9-c120-4110-9694-1cc6edc12d08",
   "metadata": {},
   "outputs": [],
   "source": []
  },
  {
   "cell_type": "code",
   "execution_count": null,
   "id": "c7ccb956-932d-4f5b-8630-28cf8a7b4a06",
   "metadata": {},
   "outputs": [],
   "source": []
  },
  {
   "cell_type": "code",
   "execution_count": null,
   "id": "87cd5981-bd2a-40f2-93fc-dc13a83d06bb",
   "metadata": {},
   "outputs": [],
   "source": []
  }
 ],
 "metadata": {
  "kernelspec": {
   "display_name": "Python 3 (ipykernel)",
   "language": "python",
   "name": "python3"
  },
  "language_info": {
   "codemirror_mode": {
    "name": "ipython",
    "version": 3
   },
   "file_extension": ".py",
   "mimetype": "text/x-python",
   "name": "python",
   "nbconvert_exporter": "python",
   "pygments_lexer": "ipython3",
   "version": "3.11.8"
  }
 },
 "nbformat": 4,
 "nbformat_minor": 5
}
