{
 "cells": [
  {
   "cell_type": "code",
   "execution_count": 1,
   "id": "e1870621",
   "metadata": {},
   "outputs": [],
   "source": [
    "%load_ext autoreload\n",
    "%autoreload 2"
   ]
  },
  {
   "cell_type": "code",
   "execution_count": 2,
   "id": "77295b6e",
   "metadata": {},
   "outputs": [
    {
     "name": "stderr",
     "output_type": "stream",
     "text": [
      "2024-05-27 09:17:34.190681: E external/local_xla/xla/stream_executor/cuda/cuda_dnn.cc:9261] Unable to register cuDNN factory: Attempting to register factory for plugin cuDNN when one has already been registered\n",
      "2024-05-27 09:17:34.190772: E external/local_xla/xla/stream_executor/cuda/cuda_fft.cc:607] Unable to register cuFFT factory: Attempting to register factory for plugin cuFFT when one has already been registered\n",
      "2024-05-27 09:17:34.192158: E external/local_xla/xla/stream_executor/cuda/cuda_blas.cc:1515] Unable to register cuBLAS factory: Attempting to register factory for plugin cuBLAS when one has already been registered\n",
      "2024-05-27 09:17:35.043721: W tensorflow/compiler/tf2tensorrt/utils/py_utils.cc:38] TF-TRT Warning: Could not find TensorRT\n"
     ]
    }
   ],
   "source": [
    "from jax import config\n",
    "config.update(\"jax_enable_x64\", False)\n",
    "device = \"gpu\"\n",
    "config.update(\"jax_platform_name\", device)\n",
    "\n",
    "import os\n",
    "os.environ[\"XLA_PYTHON_CLIENT_MEM_FRACTION\"]=\".8\"\n",
    "\n",
    "import time\n",
    "import pickle\n",
    "\n",
    "import matplotlib.pyplot as plt\n",
    "import matplotlib as mpl\n",
    "import numpy as np\n",
    "\n",
    "import jax.numpy as jnp\n",
    "from jax import jit, value_and_grad, vmap\n",
    "import optax\n",
    "import tensorflow as tf\n",
    "import tensorflow_datasets as tfds\n",
    "\n",
    "import jaxley as jx\n",
    "from jaxley.channels import HH\n",
    "from jaxley.utils.colors import network_cols"
   ]
  },
  {
   "cell_type": "code",
   "execution_count": 3,
   "id": "d53622d6",
   "metadata": {},
   "outputs": [],
   "source": [
    "from neuron import h\n",
    "\n",
    "_ = h.load_file(\"stdlib.hoc\")\n",
    "_ = h.load_file(\"import3d.hoc\")"
   ]
  },
  {
   "cell_type": "code",
   "execution_count": 4,
   "id": "b388c883-808d-4d9c-a764-ae8ebd45cba1",
   "metadata": {},
   "outputs": [],
   "source": [
    "nseg_per_branch = 4\n",
    "\n",
    "i_delay = 3.0  # ms\n",
    "i_amp = 0.5  # nA\n",
    "i_dur = 2.0  # ms\n",
    "dt = 0.025  # ms\n",
    "t_max = 20.0  # ms"
   ]
  },
  {
   "cell_type": "markdown",
   "id": "fcae5a62",
   "metadata": {},
   "source": [
    "### Panel A"
   ]
  },
  {
   "cell_type": "code",
   "execution_count": 5,
   "id": "e00685bb",
   "metadata": {},
   "outputs": [
    {
     "name": "stderr",
     "output_type": "stream",
     "text": [
      "2024-05-27 09:17:38.946559: W external/xla/xla/service/gpu/nvptx_compiler.cc:744] The NVIDIA driver's CUDA version is 12.2 which is older than the ptxas CUDA version (12.3.107). Because the driver is older than the ptxas version, XLA is disabling parallel compilation, which may slow down compilation. You should update your NVIDIA driver or use the NVIDIA-provided CUDA forward compatibility packages.\n"
     ]
    }
   ],
   "source": [
    "cell = jx.Compartment()"
   ]
  },
  {
   "cell_type": "markdown",
   "id": "ecb56052",
   "metadata": {},
   "source": [
    "### Panel B"
   ]
  },
  {
   "cell_type": "code",
   "execution_count": 6,
   "id": "2fb38365-2cef-44b1-bb8e-7f8aaa2e89dc",
   "metadata": {},
   "outputs": [
    {
     "name": "stdout",
     "output_type": "stream",
     "text": [
      "Added 1 stimuli. See `.currents` for details.\n",
      "Added 1 recordings. See `.recordings` for details.\n",
      "Number of newly added trainable parameters: 1. Total number of trainable parameters: 1\n",
      "Number of newly added trainable parameters: 1. Total number of trainable parameters: 2\n",
      "Number of newly added trainable parameters: 1. Total number of trainable parameters: 3\n"
     ]
    }
   ],
   "source": [
    "cell.insert(HH())\n",
    "\n",
    "current = jx.step_current(i_delay, i_dur, i_amp, dt, t_max)\n",
    "cell.stimulate(current)\n",
    "\n",
    "cell.record()\n",
    "\n",
    "cell.set(\"axial_resistivity\", 1_000.0)\n",
    "cell.set(\"v\", -62.0)\n",
    "cell.set(\"HH_m\", 0.074901)\n",
    "cell.set(\"HH_h\", 0.4889)\n",
    "cell.set(\"HH_n\", 0.3644787)\n",
    "\n",
    "cell.make_trainable(\"HH_gNa\")\n",
    "cell.make_trainable(\"HH_gLeak\")\n",
    "cell.make_trainable(\"radius\")"
   ]
  },
  {
   "cell_type": "code",
   "execution_count": 7,
   "id": "febb2627-a3bc-4cd5-bb46-71a1b96ceeb3",
   "metadata": {},
   "outputs": [],
   "source": [
    "parameters = cell.get_parameters()"
   ]
  },
  {
   "cell_type": "code",
   "execution_count": 8,
   "id": "1eb31e57-b6d9-4fbc-90ad-6d8362e4ca22",
   "metadata": {},
   "outputs": [],
   "source": [
    "def simulate_jaxley():\n",
    "    return jx.integrate(cell, delta_t=dt)\n",
    "\n",
    "jitted_sim = jit(simulate_jaxley)\n",
    "voltages_jaxley = jitted_sim()"
   ]
  },
  {
   "cell_type": "markdown",
   "id": "9688646f",
   "metadata": {},
   "source": [
    "NEURON"
   ]
  },
  {
   "cell_type": "code",
   "execution_count": 9,
   "id": "d4963fdd-8af4-43e4-a614-c57f2f347863",
   "metadata": {},
   "outputs": [],
   "source": [
    "for sec in h.allsec():\n",
    "    h.delete_section(sec=sec)\n",
    "\n",
    "soma = h.Section(name='soma')\n",
    "soma.nseg = 1\n",
    "\n",
    "stim = h.IClamp(soma(0.1))\n",
    "stim.delay = i_delay\n",
    "stim.dur = i_dur\n",
    "stim.amp = i_amp\n",
    "\n",
    "counter = 0\n",
    "voltage_recs = {}\n",
    "\n",
    "v = h.Vector()\n",
    "v.record(soma(0.05)._ref_v)\n",
    "\n",
    "soma.insert(\"hh\")\n",
    "soma.Ra = 1_000.0\n",
    "\n",
    "soma.gnabar_hh = 0.120  # S/cm2\n",
    "soma.gkbar_hh = 0.036  # S/cm2\n",
    "soma.gl_hh = 0.0003  # S/cm2\n",
    "soma.ena = 50  # mV\n",
    "soma.ek = -77.0  # mV\n",
    "soma.el_hh = -54.3  # mV\n",
    "\n",
    "h.dt = dt\n",
    "tstop = t_max\n",
    "v_init = -62.0\n",
    "\n",
    "def initialize():\n",
    "    h.finitialize(v_init)\n",
    "    h.fcurrent()\n",
    "\n",
    "def integrate():\n",
    "    while h.t < tstop:\n",
    "        h.fadvance()\n",
    "\n",
    "initialize()\n",
    "integrate()\n",
    "voltages_neuron = np.asarray([voltage_recs[key] for key in voltage_recs])"
   ]
  },
  {
   "cell_type": "code",
   "execution_count": 10,
   "id": "614774e9-4cf7-4063-859f-42c644634eb2",
   "metadata": {},
   "outputs": [],
   "source": [
    "# time_vec = jnp.arange(0, t_max+2*dt, dt)\n",
    "\n",
    "# with open(\"../results/01_accuracy/time_vec.pkl\", \"wb\") as handle:\n",
    "#     pickle.dump(time_vec, handle)\n",
    "\n",
    "# with open(\"../results/01_accuracy/voltages_neuron.pkl\", \"wb\") as handle:\n",
    "#     pickle.dump(voltages_neuron, handle)\n",
    "\n",
    "# with open(\"../results/01_accuracy/voltages_jaxley.pkl\", \"wb\") as handle:\n",
    "#     pickle.dump(voltages_jaxley, handle)"
   ]
  },
  {
   "cell_type": "markdown",
   "id": "b5ff553e-7601-4256-ace1-645be8d24768",
   "metadata": {},
   "source": [
    "# Simulation"
   ]
  },
  {
   "cell_type": "code",
   "execution_count": 11,
   "id": "21c98faf-d3cf-4ad9-a6a7-7830ab9818df",
   "metadata": {},
   "outputs": [],
   "source": [
    "batch_sizes = [1, 10, 100, 1_000, 10_000, 100_000, 1_000_000] # , 1_000_000]"
   ]
  },
  {
   "cell_type": "code",
   "execution_count": 12,
   "id": "59ad30f7-baff-4a17-bb8a-9abc536df304",
   "metadata": {},
   "outputs": [],
   "source": [
    "computer = \"vm\""
   ]
  },
  {
   "cell_type": "markdown",
   "id": "5fd66036-e4c5-41da-a88a-f3182a6ec241",
   "metadata": {},
   "source": [
    "### Data"
   ]
  },
  {
   "cell_type": "code",
   "execution_count": 13,
   "id": "4966f9d6",
   "metadata": {},
   "outputs": [],
   "source": [
    "def simulate_jaxley_vmappable(current):\n",
    "    current = jx.step_current(0.1, 5.0, 1e-5 * current, dt, t_max)\n",
    "    data_stimuli = cell.data_stimulate(current, None)\n",
    "    return jx.integrate(cell, delta_t=dt, t_max=t_max, data_stimuli=data_stimuli)[:, -1]\n",
    "\n",
    "jitted_vmapped_sim = jit(vmap(simulate_jaxley_vmappable, in_axes=[0,]))\n",
    "\n",
    "# Compile.\n",
    "time_jaxley_gpu = {}\n",
    "\n",
    "for batch_size in batch_sizes:\n",
    "    _ = jitted_vmapped_sim(jnp.arange(batch_size))\n",
    "\n",
    "    start_time = time.time()\n",
    "    voltages_batch_100 = jitted_vmapped_sim(jnp.arange(batch_size))\n",
    "    time_jaxley_gpu[batch_size] = time.time() - start_time"
   ]
  },
  {
   "cell_type": "code",
   "execution_count": 14,
   "id": "d9b6c6f4-d119-442a-8ede-dac5dd1869d2",
   "metadata": {},
   "outputs": [],
   "source": [
    "with open(f\"../results/03_timing/currents_jaxley_{device}_{computer}_nseg{nseg_per_branch}_pointneuron.pkl\", \"wb\") as handle:\n",
    "    pickle.dump(time_jaxley_gpu, handle)"
   ]
  },
  {
   "cell_type": "code",
   "execution_count": 15,
   "id": "fdc45c81-76e9-46f1-84c9-ff34648d9ac4",
   "metadata": {},
   "outputs": [
    {
     "data": {
      "text/plain": [
       "{1: 0.0119476318359375,\n",
       " 10: 0.012282371520996094,\n",
       " 100: 0.011378049850463867,\n",
       " 1000: 0.013270139694213867,\n",
       " 10000: 0.014665603637695312,\n",
       " 100000: 0.017347097396850586,\n",
       " 1000000: 0.06923913955688477}"
      ]
     },
     "execution_count": 15,
     "metadata": {},
     "output_type": "execute_result"
    }
   ],
   "source": [
    "time_jaxley_gpu"
   ]
  },
  {
   "cell_type": "code",
   "execution_count": 16,
   "id": "ad2daeab",
   "metadata": {},
   "outputs": [],
   "source": [
    "# Evaluate NEURON.\n",
    "start_time = time.time()\n",
    "initialize()\n",
    "integrate()\n",
    "time_neuron_once = (time.time() - start_time)\n",
    "\n",
    "time_neuron = {}\n",
    "for batch_size in batch_sizes:\n",
    "    time_neuron[batch_size] = time_neuron_once * batch_size"
   ]
  },
  {
   "cell_type": "code",
   "execution_count": 17,
   "id": "016091ab-89fa-49c8-b539-bde80ba0850a",
   "metadata": {},
   "outputs": [],
   "source": [
    "with open(f\"../results/03_timing/currents_neuron_{computer}_nseg{nseg_per_branch}_pointneuron.pkl\", \"wb\") as handle:\n",
    "    pickle.dump(time_neuron, handle)"
   ]
  },
  {
   "cell_type": "markdown",
   "id": "1dfb7157-5270-424d-ae34-9866f2917d71",
   "metadata": {},
   "source": [
    "### Parameters"
   ]
  },
  {
   "cell_type": "code",
   "execution_count": 18,
   "id": "00c82ce4-2794-451c-ac00-f915f8d83626",
   "metadata": {},
   "outputs": [],
   "source": [
    "def simulate_jaxley_vmappable(parameter):\n",
    "    pstate = cell.data_set(\"radius\", 1e-5 * parameter, None)\n",
    "    return jx.integrate(cell, delta_t=dt, t_max=t_max, param_state=pstate)[:, -1]\n",
    "\n",
    "jitted_vmapped_sim = jit(vmap(simulate_jaxley_vmappable, in_axes=[0,]))"
   ]
  },
  {
   "cell_type": "code",
   "execution_count": 19,
   "id": "6f152464-8200-48b2-acf6-909e96482ff5",
   "metadata": {},
   "outputs": [
    {
     "data": {
      "text/plain": [
       "[1, 10, 100, 1000, 10000, 100000, 1000000]"
      ]
     },
     "execution_count": 19,
     "metadata": {},
     "output_type": "execute_result"
    }
   ],
   "source": [
    "batch_sizes"
   ]
  },
  {
   "cell_type": "code",
   "execution_count": 20,
   "id": "591ae047-b073-40de-aa85-fc8e5cf2f98a",
   "metadata": {},
   "outputs": [],
   "source": [
    "# Compile.\n",
    "time_jaxley_gpu = {}\n",
    "for batch_size in batch_sizes:\n",
    "    _ = jitted_vmapped_sim(jnp.arange(batch_size))\n",
    "    start_time = time.time()\n",
    "    voltages_batch_100 = jitted_vmapped_sim(jnp.arange(batch_size))\n",
    "    time_jaxley_gpu[batch_size] = time.time() - start_time"
   ]
  },
  {
   "cell_type": "code",
   "execution_count": 21,
   "id": "6e8d30e3-4988-40e4-bca6-cad9bbde76b3",
   "metadata": {},
   "outputs": [
    {
     "data": {
      "text/plain": [
       "{1: 0.004081010818481445,\n",
       " 10: 0.002918243408203125,\n",
       " 100: 0.006276369094848633,\n",
       " 1000: 0.007804155349731445,\n",
       " 10000: 0.008698701858520508,\n",
       " 100000: 0.011684417724609375,\n",
       " 1000000: 0.04788374900817871}"
      ]
     },
     "execution_count": 21,
     "metadata": {},
     "output_type": "execute_result"
    }
   ],
   "source": [
    "time_jaxley_gpu"
   ]
  },
  {
   "cell_type": "code",
   "execution_count": 22,
   "id": "daa77ae9-cb78-4b5a-b7f2-423d10822066",
   "metadata": {},
   "outputs": [],
   "source": [
    "with open(f\"../results/03_timing/parameters_jaxley_{device}_{computer}_nseg{nseg_per_branch}_pointneuron.pkl\", \"wb\") as handle:\n",
    "    pickle.dump(time_jaxley_gpu, handle)"
   ]
  },
  {
   "cell_type": "code",
   "execution_count": 23,
   "id": "b2afbddb-1f98-42e5-8328-69614d66524a",
   "metadata": {},
   "outputs": [],
   "source": [
    "# Evaluate NEURON.\n",
    "start_time = time.time()\n",
    "initialize()\n",
    "integrate()\n",
    "time_neuron_once = time.time() - start_time\n",
    "\n",
    "time_neuron = {}\n",
    "for batch_size in batch_sizes:\n",
    "    time_neuron[batch_size] = time_neuron_once * batch_size"
   ]
  },
  {
   "cell_type": "code",
   "execution_count": 24,
   "id": "f91a9686-55d0-4509-9613-0225fb0eeb31",
   "metadata": {},
   "outputs": [],
   "source": [
    "with open(f\"../results/03_timing/parameters_neuron_{computer}_nseg{nseg_per_branch}_pointneuron.pkl\", \"wb\") as handle:\n",
    "    pickle.dump(time_neuron, handle)"
   ]
  },
  {
   "cell_type": "markdown",
   "id": "436ba79e-81d8-476e-a40b-fa87c490fae4",
   "metadata": {},
   "source": [
    "# Gradient"
   ]
  },
  {
   "cell_type": "code",
   "execution_count": 25,
   "id": "4722dffe-c615-42b2-93f9-eaa28d36581b",
   "metadata": {},
   "outputs": [],
   "source": [
    "batch_sizes = [1, 10, 100, 1_000, 10_000, 100_000, 1_000_000]"
   ]
  },
  {
   "cell_type": "markdown",
   "id": "e9e69f88-69b9-478e-a6a1-f957449ba2c5",
   "metadata": {},
   "source": [
    "### Data"
   ]
  },
  {
   "cell_type": "code",
   "execution_count": 26,
   "id": "696679c2-2b65-484b-bf97-ce5328f01297",
   "metadata": {},
   "outputs": [],
   "source": [
    "def simulate_jaxley_vmappable(param, current):\n",
    "    current = jx.step_current(0.1, 5.0, 1e-5 * current, dt, t_max)\n",
    "    data_stimuli = cell.data_stimulate(current, None)\n",
    "    pstate = cell.data_set(\"radius\", 1e-5 * param, None)\n",
    "    return jx.integrate(cell, delta_t=dt, t_max=t_max, data_stimuli=data_stimuli, param_state=pstate, checkpoint_lengths=[10, 9, 9])[0, -1]\n",
    "\n",
    "vmapped_sim = vmap(simulate_jaxley_vmappable, in_axes=(None, 0))\n",
    "\n",
    "def loss(param, currents):\n",
    "    return jnp.mean(vmapped_sim(param, currents))\n",
    "\n",
    "grad_fn = jit(value_and_grad(loss, argnums=(0,)))"
   ]
  },
  {
   "cell_type": "code",
   "execution_count": 27,
   "id": "03683b59-50e2-45cd-93e2-720654ac4e30",
   "metadata": {},
   "outputs": [],
   "source": [
    "# Compile.\n",
    "time_jaxley_gpu = {}\n",
    "for batch_size in batch_sizes:\n",
    "    _ = grad_fn(jnp.ones(1,), jnp.arange(batch_size).astype(float))\n",
    "    start_time = time.time()\n",
    "    _ = grad_fn(jnp.ones(1,), jnp.arange(batch_size).astype(float))\n",
    "    time_jaxley_gpu[batch_size] = time.time() - start_time"
   ]
  },
  {
   "cell_type": "code",
   "execution_count": 28,
   "id": "72d8f71c-70c1-465f-95c7-fea1027f3afa",
   "metadata": {},
   "outputs": [
    {
     "data": {
      "text/plain": [
       "{1: 0.001024007797241211,\n",
       " 10: 0.0043277740478515625,\n",
       " 100: 0.020061731338500977,\n",
       " 1000: 0.23946332931518555,\n",
       " 10000: 1.314502239227295,\n",
       " 100000: 13.305858850479126,\n",
       " 1000000: 110.9902594089508}"
      ]
     },
     "execution_count": 28,
     "metadata": {},
     "output_type": "execute_result"
    }
   ],
   "source": [
    "time_jaxley_gpu"
   ]
  },
  {
   "cell_type": "code",
   "execution_count": 31,
   "id": "aed87830-51cf-47ad-8bc9-7e9c8da93482",
   "metadata": {},
   "outputs": [],
   "source": [
    "with open(f\"../results/03_timing/gradient_currents_jaxley_{device}_{computer}_nseg{nseg_per_branch}_pointneuron.pkl\", \"wb\") as handle:\n",
    "    pickle.dump(time_jaxley_gpu, handle)"
   ]
  },
  {
   "cell_type": "markdown",
   "id": "e428e5c0-27bf-49bf-9a21-114f0e923bb2",
   "metadata": {},
   "source": [
    "### Parameters"
   ]
  },
  {
   "cell_type": "code",
   "execution_count": 32,
   "id": "496f1cbc-7743-40a3-a6f8-aeecfca38a8a",
   "metadata": {},
   "outputs": [],
   "source": [
    "def simulate_jaxley_vmappable(parameter):\n",
    "    pstate = cell.data_set(\"radius\", 1e-5 * parameter, None)\n",
    "    return jx.integrate(cell, delta_t=dt, t_max=t_max, param_state=pstate, checkpoint_lengths=[10, 9, 9])[0, -1]\n",
    "\n",
    "vmapped_sim = vmap(simulate_jaxley_vmappable, in_axes=(0,))\n",
    "\n",
    "def loss(parameters):\n",
    "    return jnp.mean(vmapped_sim(parameters))\n",
    "\n",
    "grad_fn = jit(value_and_grad(loss))"
   ]
  },
  {
   "cell_type": "code",
   "execution_count": 33,
   "id": "2faa7d38-bf0f-46c4-b369-f435981743b1",
   "metadata": {},
   "outputs": [],
   "source": [
    "# Compile.\n",
    "time_jaxley_gpu = {}\n",
    "for batch_size in batch_sizes:\n",
    "    _ = grad_fn(jnp.arange(batch_size).astype(float))\n",
    "    start_time = time.time()\n",
    "    _ = grad_fn(jnp.arange(batch_size).astype(float))\n",
    "    time_jaxley_gpu[batch_size] = time.time() - start_time"
   ]
  },
  {
   "cell_type": "code",
   "execution_count": 34,
   "id": "02922970-3b02-4b53-a3cc-beca1a626dda",
   "metadata": {},
   "outputs": [
    {
     "data": {
      "text/plain": [
       "{1: 0.0007579326629638672,\n",
       " 10: 0.003962993621826172,\n",
       " 100: 0.01786661148071289,\n",
       " 1000: 0.19870233535766602,\n",
       " 10000: 1.0762073993682861,\n",
       " 100000: 10.718116760253906,\n",
       " 1000000: 91.69111728668213}"
      ]
     },
     "execution_count": 34,
     "metadata": {},
     "output_type": "execute_result"
    }
   ],
   "source": [
    "time_jaxley_gpu"
   ]
  },
  {
   "cell_type": "code",
   "execution_count": 35,
   "id": "8d28a176-fcd2-4788-88dc-643250b2c671",
   "metadata": {},
   "outputs": [],
   "source": [
    "with open(f\"../results/03_timing/gradient_parameters_jaxley_{device}_{computer}_nseg{nseg_per_branch}_pointneuron.pkl\", \"wb\") as handle:\n",
    "    pickle.dump(time_jaxley_gpu, handle)"
   ]
  },
  {
   "cell_type": "code",
   "execution_count": null,
   "id": "21c448e7-3446-4260-9a27-8dd69f7246d9",
   "metadata": {},
   "outputs": [],
   "source": []
  }
 ],
 "metadata": {
  "kernelspec": {
   "display_name": "Python 3 (ipykernel)",
   "language": "python",
   "name": "python3"
  },
  "language_info": {
   "codemirror_mode": {
    "name": "ipython",
    "version": 3
   },
   "file_extension": ".py",
   "mimetype": "text/x-python",
   "name": "python",
   "nbconvert_exporter": "python",
   "pygments_lexer": "ipython3",
   "version": "3.9.18"
  }
 },
 "nbformat": 4,
 "nbformat_minor": 5
}
