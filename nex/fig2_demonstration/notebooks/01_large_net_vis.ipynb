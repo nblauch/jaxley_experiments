{
 "cells": [
  {
   "cell_type": "code",
   "execution_count": 1,
   "id": "87a2d778-0d4f-4e2c-a861-9af3b7bff027",
   "metadata": {},
   "outputs": [],
   "source": [
    "import os\n",
    "os.environ[\"XLA_PYTHON_CLIENT_MEM_FRACTION\"]=\".8\""
   ]
  },
  {
   "cell_type": "code",
   "execution_count": 2,
   "id": "7703111d",
   "metadata": {},
   "outputs": [],
   "source": [
    "from jax import config\n",
    "config.update(\"jax_enable_x64\", True)\n",
    "config.update(\"jax_platform_name\", \"cpu\")"
   ]
  },
  {
   "cell_type": "code",
   "execution_count": 3,
   "id": "aec4f0b0",
   "metadata": {},
   "outputs": [],
   "source": [
    "%load_ext autoreload\n",
    "%autoreload 2"
   ]
  },
  {
   "cell_type": "code",
   "execution_count": 4,
   "id": "93054394",
   "metadata": {},
   "outputs": [],
   "source": [
    "import time\n",
    "import matplotlib.pyplot as plt\n",
    "import matplotlib as mpl\n",
    "import numpy as np\n",
    "from copy import deepcopy\n",
    "import pickle\n",
    "\n",
    "import jax\n",
    "import jax.numpy as jnp\n",
    "from jax import jit, lax, grad, value_and_grad, vmap\n",
    "import optax\n",
    "import tensorflow as tf\n",
    "import tensorflow_datasets as tfds\n",
    "\n",
    "import jaxley as jx\n",
    "from jaxley.channels import HH\n",
    "from jaxley.synapses import IonotropicSynapse\n",
    "from jaxley.utils.colors import network_cols"
   ]
  },
  {
   "cell_type": "code",
   "execution_count": 5,
   "id": "5c6520eb",
   "metadata": {},
   "outputs": [],
   "source": [
    "nseg_per_branch = 2"
   ]
  },
  {
   "cell_type": "markdown",
   "id": "608967cd-fbbb-4403-8b1a-1ddb9d86513e",
   "metadata": {},
   "source": [
    "### Visualize trace"
   ]
  },
  {
   "cell_type": "code",
   "execution_count": 6,
   "id": "814844ff",
   "metadata": {},
   "outputs": [],
   "source": [
    "names = []\n",
    "for x in os.walk(\"../../../nex/ca1net/morphologies\"):\n",
    "    if len(x[0]) < 40 and len(x[0]) > 32:\n",
    "        names.append(x[0])\n",
    "        fnames = [f\"{n}/{n[-4:]}.CNG.swc\" for n in names]"
   ]
  },
  {
   "cell_type": "code",
   "execution_count": 7,
   "id": "67f6e390",
   "metadata": {},
   "outputs": [
    {
     "name": "stdout",
     "output_type": "stream",
     "text": [
      "Number of cells:  51\n"
     ]
    }
   ],
   "source": [
    "cells = []\n",
    "for fname in fnames:\n",
    "    cell = jx.read_swc(fname, nseg_per_branch, max_branch_len=500.0)\n",
    "    if cell.total_nbranches < 280:\n",
    "        cells.append(cell)\n",
    "\n",
    "size_factor = 40  # 40\n",
    "sf = size_factor  # abbreviate\n",
    "all_cells = []\n",
    "for _ in range(size_factor):\n",
    "    all_cells = all_cells + cells\n",
    "\n",
    "all_cells = all_cells + [cells[1]]\n",
    "cells = all_cells\n",
    "print(\"Number of cells: \", len(cells))"
   ]
  },
  {
   "cell_type": "code",
   "execution_count": 8,
   "id": "91fc88a3",
   "metadata": {},
   "outputs": [],
   "source": [
    "# cols = []\n",
    "# for a in [10, 10, 10, 10, 10, 1]:\n",
    "#     cols += network_cols([a*sf])\n",
    "\n",
    "_ = np.random.seed(0)\n",
    "cols = np.asarray(network_cols([20*sf, 10*sf, 10*sf, 10*sf+1])) # , 10*sf, 1]))\n",
    "permutation = np.random.permutation(np.arange(len(cols)))\n",
    "cols = cols[permutation]\n",
    "cols[-1] = [0.0, 0.0, 0.0, 1.0]"
   ]
  },
  {
   "cell_type": "code",
   "execution_count": 9,
   "id": "b965e6da-e69d-4610-9bb3-14f447bdfb55",
   "metadata": {},
   "outputs": [],
   "source": [
    "from jaxley.connect import sparse_connect, fully_connect"
   ]
  },
  {
   "cell_type": "code",
   "execution_count": 11,
   "id": "0bc0124d",
   "metadata": {},
   "outputs": [
    {
     "name": "stdout",
     "output_type": "stream",
     "text": [
      "Initialized network\n",
      "First layer done\n",
      "Second layer done\n",
      "Third layer done\n",
      "Forth layer done\n",
      "time 15.367199897766113\n"
     ]
    }
   ],
   "source": [
    "network = jx.Network(cells)\n",
    "print(\"Initialized network\")\n",
    "\n",
    "_ = np.random.seed(2)  # location of post synapse is random.\n",
    "\n",
    "prob = 0.0005\n",
    "pre = network.cell(np.arange(0*sf, 10*sf).tolist())\n",
    "post = network.cell(np.arange(10*sf, 20*sf).tolist())\n",
    "sparse_connect(pre, post, IonotropicSynapse(), prob)\n",
    "print(\"First layer done\")\n",
    "\n",
    "pre = network.cell(np.arange(10*sf, 20*sf).tolist())\n",
    "post = network.cell(np.arange(20*sf, 30*sf).tolist())\n",
    "sparse_connect(pre, post, IonotropicSynapse(), prob)\n",
    "print(\"Second layer done\")\n",
    "\n",
    "pre = network.cell(np.arange(20*sf, 30*sf).tolist())\n",
    "post = network.cell(np.arange(30*sf, 40*sf).tolist())\n",
    "sparse_connect(pre, post, IonotropicSynapse(), prob)\n",
    "print(\"Third layer done\")\n",
    "\n",
    "pre = network.cell(np.arange(30*sf, 40*sf).tolist())\n",
    "post = network.cell(np.arange(40*sf, 50*sf).tolist())\n",
    "sparse_connect(pre, post, IonotropicSynapse(), prob)\n",
    "print(\"Forth layer done\")\n",
    "\n",
    "pre = network.cell(np.arange(40*sf, 50*sf).tolist())\n",
    "post = network.cell(50*sf)\n",
    "sparse_connect(pre, post, IonotropicSynapse(), 0.1)\n",
    "\n",
    "\n",
    "start_time = time.time()\n",
    "x_spacing = 5.7\n",
    "y_spacing = 1300\n",
    "y_jitter = 150.0\n",
    "counter = 0\n",
    "x_rands = np.random.randint(-500, 500, (10*sf,))\n",
    "y_rands = np.random.randn(10*sf) * y_jitter\n",
    "for i in range(10 * sf):\n",
    "    network.cell(i).move(x_rands[counter] * x_spacing, 5*y_spacing + y_rands[counter], 0, update_nodes=True)\n",
    "    counter += 1\n",
    "\n",
    "counter = 0\n",
    "x_spacing += 0.3\n",
    "x_rands = np.random.randint(-500, 500, (10*sf,))\n",
    "y_rands = np.random.randn(10*sf) * y_jitter\n",
    "for i in range(10 * sf, 20 * sf):\n",
    "    network.cell(i).move(x_rands[counter] * x_spacing, 4*y_spacing + y_rands[counter], 0, update_nodes=True)\n",
    "    counter += 1\n",
    "\n",
    "counter = 0\n",
    "x_spacing -= 0.1\n",
    "x_rands = np.random.randint(-500, 500, (10*sf,))\n",
    "y_rands = np.random.randn(10*sf) * y_jitter\n",
    "for i in range(20 * sf, 30 * sf):\n",
    "    network.cell(i).move(x_rands[counter] * x_spacing, 3*y_spacing + y_rands[counter], 0, update_nodes=True)\n",
    "    counter += 1\n",
    "\n",
    "counter = 0\n",
    "x_spacing += 0.1\n",
    "x_rands = np.random.randint(-500, 500, (10*sf,))\n",
    "y_rands = np.random.randn(10*sf) * y_jitter\n",
    "for i in range(30 * sf, 40 * sf):\n",
    "    network.cell(i).move(x_rands[counter] * x_spacing, 2*y_spacing + y_rands[counter], 0, update_nodes=True)\n",
    "    counter += 1\n",
    "\n",
    "counter = 0\n",
    "x_spacing -= 0.2\n",
    "x_rands = np.random.randint(-500, 500, (10*sf,))\n",
    "y_rands = np.random.randn(10*sf) * y_jitter\n",
    "for i in range(40 * sf, 50 * sf):\n",
    "    network.cell(i).move(x_rands[counter] * x_spacing, 1*y_spacing + y_rands[counter], 0, update_nodes=True)\n",
    "    counter += 1\n",
    "\n",
    "\n",
    "network.cell(50 * sf).move(0, 0*y_spacing, 0, update_nodes=False)\n",
    "print(\"time\", time.time() - start_time)"
   ]
  },
  {
   "cell_type": "code",
   "execution_count": 28,
   "id": "eb600aed-efb1-4523-8310-2d66d9a6fe5d",
   "metadata": {},
   "outputs": [
    {
     "name": "stdout",
     "output_type": "stream",
     "text": [
      "Number of synapses: 373\n"
     ]
    }
   ],
   "source": [
    "num_synapses = len(network.edges)\n",
    "print(f\"Number of synapses: {num_synapses}\")"
   ]
  },
  {
   "cell_type": "markdown",
   "id": "7ffb87c6-90c2-47a7-ab25-2afda07782c4",
   "metadata": {},
   "source": [
    "### Visualize"
   ]
  },
  {
   "cell_type": "code",
   "execution_count": null,
   "id": "25606b08-c85d-4296-820d-044042890eb8",
   "metadata": {},
   "outputs": [],
   "source": [
    "with mpl.rc_context(fname=\"../../../.matplotlibrc\"):\n",
    "    fig, ax = plt.subplots(1, 1, figsize=(7, 8))\n",
    "\n",
    "    # Plot only synapses, because morph has alpha=0.0\n",
    "    ax = network.vis(\n",
    "        ax=ax,\n",
    "        col=\"k\",\n",
    "        synapse_col=\"gray\",\n",
    "        morph_plot_kwargs={\"alpha\": 0.0},\n",
    "        synapse_plot_kwargs={\"zorder\": -1000},\n",
    "        synapse_scatter_kwargs={\"s\": 10.0, \"zorder\": -1000},\n",
    "    )\n",
    "\n",
    "    # Plot only cells, because we are plotting CellView\n",
    "    for i in np.arange(0, len(cells)):\n",
    "        ax = network.cell(i).vis(\n",
    "            ax=ax,\n",
    "            col=cols[i],\n",
    "            morph_plot_kwargs={\"linewidth\": 0.3},\n",
    "        )\n",
    "    _ = ax.set_ylim([-300, 7700])\n",
    "    _ = ax.set_xlim([-3500, 3500])\n",
    "    _ = ax.spines[\"left\"].set_visible(False)\n",
    "    _ = ax.spines[\"bottom\"].set_visible(False)\n",
    "    _ = ax.set_xticks([])\n",
    "    _ = ax.set_yticks([])\n",
    "    plt.savefig(\"../svg/large_net.png\", dpi=400, transparent=True)\n",
    "    plt.show()"
   ]
  },
  {
   "cell_type": "code",
   "execution_count": null,
   "id": "0b0cea3b-a60e-4b35-b01d-7cf922e76365",
   "metadata": {},
   "outputs": [],
   "source": []
  }
 ],
 "metadata": {
  "kernelspec": {
   "display_name": "Python 3 (ipykernel)",
   "language": "python",
   "name": "python3"
  },
  "language_info": {
   "codemirror_mode": {
    "name": "ipython",
    "version": 3
   },
   "file_extension": ".py",
   "mimetype": "text/x-python",
   "name": "python",
   "nbconvert_exporter": "python",
   "pygments_lexer": "ipython3",
   "version": "3.11.8"
  }
 },
 "nbformat": 4,
 "nbformat_minor": 5
}
