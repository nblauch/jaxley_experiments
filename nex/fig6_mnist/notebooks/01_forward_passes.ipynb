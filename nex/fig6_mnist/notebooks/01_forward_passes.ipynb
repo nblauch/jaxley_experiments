{
 "cells": [
  {
   "cell_type": "markdown",
   "id": "d22aab36-d491-4b14-a82e-703efaac9e03",
   "metadata": {},
   "source": [
    "# A biophysical spiking network model: MINST all digits"
   ]
  },
  {
   "cell_type": "code",
   "execution_count": 1,
   "id": "b454b18b-6675-4445-8d76-50a3fbfdd9ed",
   "metadata": {},
   "outputs": [],
   "source": [
    "%load_ext autoreload\n",
    "%autoreload 2"
   ]
  },
  {
   "cell_type": "code",
   "execution_count": 2,
   "id": "181132c5-af87-4834-a042-ad7fdbe65352",
   "metadata": {},
   "outputs": [],
   "source": [
    "from jax import config\n",
    "\n",
    "# config.update(\"jax_debug_nans\", True)\n",
    "config.update(\"jax_enable_x64\", True)\n",
    "config.update(\"jax_platform_name\", \"gpu\")\n",
    "\n",
    "import os\n",
    "os.environ[\"XLA_PYTHON_CLIENT_MEM_FRACTION\"] = \".8\"\n",
    "\n",
    "import sys\n",
    "os.chdir('/teamspace/studios/this_studio/nblauch/jaxley_experiments/nex/fig6_mnist/notebooks')\n"
   ]
  },
  {
   "cell_type": "code",
   "execution_count": 3,
   "id": "1186e4e9",
   "metadata": {},
   "outputs": [
    {
     "name": "stdout",
     "output_type": "stream",
     "text": [
      "\u001b[0m\u001b[01;32m01_forward_passes.ipynb\u001b[0m*   \u001b[01;32m03_assemble_figure_2.ipynb\u001b[0m*\n",
      "\u001b[01;32m03_assemble_figure.ipynb\u001b[0m*  \u001b[01;32m04_supp_figure_tuning.ipynb\u001b[0m*\n"
     ]
    }
   ],
   "source": [
    "ls"
   ]
  },
  {
   "cell_type": "code",
   "execution_count": 4,
   "id": "eaad4225-3195-440d-a4ef-371a542fc01f",
   "metadata": {},
   "outputs": [],
   "source": [
    "import jax.numpy as jnp"
   ]
  },
  {
   "cell_type": "code",
   "execution_count": 5,
   "id": "2916fa7d-47b6-4369-a98f-8dc1844b327d",
   "metadata": {},
   "outputs": [],
   "source": [
    "from itertools import chain\n",
    "import pickle\n",
    "import time"
   ]
  },
  {
   "cell_type": "code",
   "execution_count": 6,
   "id": "f7e3c12f-47b0-4b55-933f-d89d768bb922",
   "metadata": {},
   "outputs": [],
   "source": [
    "import matplotlib as mpl\n",
    "import matplotlib.pyplot as plt\n",
    "import numpy as np\n",
    "import jax.numpy as jnp\n",
    "from jax import jit, vmap, value_and_grad\n",
    "from jax.scipy.special import logsumexp\n",
    "\n",
    "import optax\n",
    "# import tensorflow as tf\n",
    "# import tensorflow_datasets as tfds\n",
    "from jax.nn import sigmoid\n",
    "\n",
    "import jaxley as jx\n",
    "from jaxley.channels import HH\n",
    "from jaxley.channels import CaL, CaT, K, Km, Leak, Na\n",
    "from jaxley.synapses import IonotropicSynapse, TanhRateSynapse\n",
    "# from jaxley_mech.synapses import AMPA, NMDA, GABAa, GABAb\n",
    "from jaxley.optimize.utils import l2_norm\n",
    "from jaxley.connect import fully_connect, connect, sparse_connect"
   ]
  },
  {
   "cell_type": "code",
   "execution_count": 7,
   "id": "1534c7c2-175c-4741-8c6f-7813073a5c4e",
   "metadata": {},
   "outputs": [],
   "source": [
    "dales_law = False\n",
    "comp_length = 40\n",
    "\n",
    "i_amp_factor = comp_length / 10 \n",
    "\n",
    "scale_readout_receptive_strength = 10\n",
    "\n",
    "soma_radius = 10\n",
    "soma_length = 2 * soma_radius"
   ]
  },
  {
   "cell_type": "code",
   "execution_count": 8,
   "id": "0c9bc295-a287-454e-8739-9af818fc81f1",
   "metadata": {},
   "outputs": [],
   "source": [
    "dt = 0.025\n",
    "t_max = 10.01\n",
    "time_vec = np.arange(0, t_max+2*dt, dt)\n",
    "levels = 3\n",
    "checkpoints = [int(np.ceil(len(time_vec)**(1/levels))) for _ in range(levels)]\n",
    "\n",
    "i_delay = 0.1\n",
    "i_dur = 1.0\n",
    "# voltages.shape[1] - 10\n",
    "cols = [\n",
    "    \"#f0f0f0\",\n",
    "    \"#d9d9d9\",\n",
    "    \"#bdbdbd\",\n",
    "    \"#969696\",\n",
    "    \"#737373\",\n",
    "    \"#525252\",\n",
    "    \"#252525\",\n",
    "    \"#000000\",\n",
    "]"
   ]
  },
  {
   "cell_type": "markdown",
   "id": "9665c0e2-2d56-46b5-a698-a1cccc5d22d9",
   "metadata": {},
   "source": [
    "### Load training data"
   ]
  },
  {
   "cell_type": "code",
   "execution_count": 9,
   "id": "e884f039",
   "metadata": {},
   "outputs": [],
   "source": [
    "from torchvision.datasets import MNIST\n",
    "\n",
    "train = MNIST(root='~/data', train=True, download=True)\n",
    "test = MNIST(root='~/data', train=False, download=True)\n"
   ]
  },
  {
   "cell_type": "code",
   "execution_count": 10,
   "id": "c57020a6-b17b-4a9d-8baa-39274ee03611",
   "metadata": {},
   "outputs": [
    {
     "name": "stderr",
     "output_type": "stream",
     "text": [
      "2024-10-22 19:36:22.681351: W external/xla/xla/service/gpu/nvptx_compiler.cc:893] The NVIDIA driver's CUDA version is 12.2 which is older than the PTX compiler version 12.6.68. Because the driver is older than the PTX compiler version, XLA is disabling parallel compilation, which may slow down compilation. You should update your NVIDIA driver or use the NVIDIA-provided CUDA forward compatibility packages.\n"
     ]
    }
   ],
   "source": [
    "# Jaxley specific\n",
    "pos_voltage = -90.0\n",
    "neg_voltage = -50.0\n",
    "\n",
    "def image_voltage_label(dataset):\n",
    "    \n",
    "    train_images = np.reshape(np.squeeze(dataset.data), (-1, 28**2)) / 255.0\n",
    "    train_labels = dataset.targets\n",
    "    \n",
    "    # Cast to JAX\n",
    "    train_images = jnp.asarray(train_images)\n",
    "    train_labels = jnp.asarray(train_labels)\n",
    "\n",
    "    return train_images, train_labels\n",
    "\n",
    "train_images, train_labels = image_voltage_label(train)\n",
    "test_images, test_labels = image_voltage_label(test)"
   ]
  },
  {
   "cell_type": "markdown",
   "id": "cd0127f8-0fa3-4f1a-84d9-27120ce7aad2",
   "metadata": {},
   "source": [
    "### Build network"
   ]
  },
  {
   "cell_type": "code",
   "execution_count": 11,
   "id": "aeff8d22-5fbf-4230-bf21-b23494b426bb",
   "metadata": {},
   "outputs": [],
   "source": [
    "# fnames = os.listdir(\"../morphologies/\")\n",
    "# fnames = [f for f in fnames if f.startswith(\"n\")]\n",
    "# fnames = [f\"../morphologies/{f}/{f}.CNG.swc\" for f in fnames]"
   ]
  },
  {
   "cell_type": "code",
   "execution_count": 12,
   "id": "6f72df04-928b-4bdf-93f1-de446c13a186",
   "metadata": {},
   "outputs": [],
   "source": [
    "nseg = 4  # original: 4\n",
    "\n",
    "comp = jx.Compartment()\n",
    "branch = jx.Branch(comp, nseg)\n",
    "input_cell = jx.Cell(branch, [-1])\n",
    "\n",
    "# Dendrites.\n",
    "input_cell[0, 1:nseg].set(\"length\", comp_length)\n",
    "input_cell[0, 1:nseg].set(\"radius\", 1.0)\n",
    "\n",
    "input_cell[0, 0].set(\"length\", soma_length)\n",
    "input_cell[0, 0].set(\"radius\", soma_radius)\n",
    "\n",
    "input_neurons = [input_cell for _ in range(28**2)]\n",
    "\n",
    "# morph_cells = [jx.read_swc(fname, nseg=4, assign_groups=True) for fname in fnames]\n",
    "# morph_cells = [jx.read_swc(fname, nseg=2) for fname in fnames]\n",
    "morph_cells = [jx.Cell(branch, parents=[-1, 0, 0, 1, 1, 2, 2, 3, 3, 4, 4, 5, 5, 6, 6]) for _ in range(64)]\n",
    "\n",
    "# hidden_cell = jx.Cell(branch, [-1, 0, 0])\n",
    "hidden_neurons = [morph_cells[i % len(morph_cells)] for i in range(64)]\n",
    "\n",
    "output_cell = jx.Cell(branch, [-1])\n",
    "\n",
    "output_cell[0, 1:nseg].set(\"length\", comp_length)\n",
    "output_cell[0, 1:nseg].set(\"radius\", 1.0)\n",
    "\n",
    "output_cell[0, 0].set(\"length\", soma_length)\n",
    "output_cell[0, 0].set(\"radius\", soma_radius)\n",
    "\n",
    "output_neurons = [output_cell for _ in range(10)]\n",
    "\n",
    "all_neurons = input_neurons + hidden_neurons + output_neurons\n",
    "net = jx.Network(all_neurons)\n"
   ]
  },
  {
   "cell_type": "code",
   "execution_count": 13,
   "id": "b48502e4-7f44-4888-a866-e71d5d43003d",
   "metadata": {},
   "outputs": [],
   "source": [
    "os.makedirs(\"../results\", exist_ok=True)\n",
    "with open(\"../results/01_network.pkl\", \"wb\") as handle:\n",
    "    pickle.dump(net, handle)"
   ]
  },
  {
   "cell_type": "markdown",
   "id": "fc3e4740-c114-4577-9fd2-90fd122969e4",
   "metadata": {},
   "source": [
    "### Define layers of cells and split into exc and inh"
   ]
  },
  {
   "cell_type": "code",
   "execution_count": 14,
   "id": "d90c761c-abe4-4c9a-8b4e-d450c3c984c1",
   "metadata": {},
   "outputs": [],
   "source": [
    "def get_non_selected_indices(a, b, selected_indices):\n",
    "    all_indices = np.arange(a, b)\n",
    "    non_selected_indices = np.setdiff1d(all_indices, selected_indices)\n",
    "    return non_selected_indices"
   ]
  },
  {
   "cell_type": "code",
   "execution_count": 15,
   "id": "0ee4d191-467b-4337-8f84-bf7197c3f857",
   "metadata": {},
   "outputs": [],
   "source": [
    "_ = np.random.seed(4)\n",
    "\n",
    "layer_inds = [0, 28**2, 28**2 + 64]  # , 28**2 + 64 + 2]\n",
    "\n",
    "exc_frac = 0.75\n",
    "\n",
    "for layer in range(len(layer_inds) - 1):\n",
    "    num = layer_inds[layer + 1] - layer_inds[layer]\n",
    "    a = layer_inds[layer]\n",
    "    b = layer_inds[layer+1]\n",
    "    exc_neuron_inds = np.random.choice(np.arange(a, b), (int(num * exc_frac)), replace=False)\n",
    "    inh_neuron_inds = get_non_selected_indices(a, b, exc_neuron_inds)\n",
    "\n",
    "    net.cell(exc_neuron_inds.tolist()).add_to_group(f\"layer{layer}_exc\")\n",
    "    net.cell(inh_neuron_inds.tolist()).add_to_group(f\"layer{layer}_inh\")\n",
    "\n",
    "net.cell(np.arange(28**2).tolist()).add_to_group(\"layer0\")\n",
    "net.cell(np.arange(28**2, 28**2+64).tolist()).add_to_group(\"layer1\")\n",
    "net.cell(np.arange(28**2+64, 28**2+64+10).tolist()).add_to_group(\"layer2\")"
   ]
  },
  {
   "cell_type": "markdown",
   "id": "c68d68c4-38cc-466b-9d13-7032449bbb95",
   "metadata": {},
   "source": [
    "### Insert cellular mechanisms"
   ]
  },
  {
   "cell_type": "code",
   "execution_count": 16,
   "id": "fd482a0e-b47b-49bb-8544-2c8a93b42749",
   "metadata": {},
   "outputs": [],
   "source": [
    "net.layer0.insert(HH())\n",
    "net.layer1.insert(HH())\n",
    "net.layer2.insert(Leak())\n",
    "net.set(\"axial_resistivity\", 100.0)"
   ]
  },
  {
   "cell_type": "markdown",
   "id": "4d536343-aaa9-4a29-8c7f-e03fb7204fe2",
   "metadata": {},
   "source": [
    "### Insert synapses"
   ]
  },
  {
   "cell_type": "code",
   "execution_count": 17,
   "id": "e3410348-dda3-4c62-9b1d-4f100f5303b5",
   "metadata": {},
   "outputs": [],
   "source": [
    "_ = np.random.seed(5)\n",
    "\n",
    "pre = net.layer0_exc.cell(\"all\")\n",
    "post = net.layer1.cell(\"all\")\n",
    "fully_connect(pre, post, IonotropicSynapse().change_name(\"Conns1_exc\"))\n",
    "\n",
    "pre = net.layer0_inh.cell(\"all\")\n",
    "post = net.layer1.cell(\"all\")\n",
    "fully_connect(pre, post, IonotropicSynapse().change_name(\"Conns1_inh\"))\n",
    "\n",
    "pre = net.layer1_exc.cell(\"all\")\n",
    "post = net.layer2.cell(\"all\")\n",
    "fully_connect(pre, post, IonotropicSynapse().change_name(\"Conns2_exc\"))\n",
    "\n",
    "pre = net.layer1_inh.cell(\"all\")\n",
    "post = net.layer2.cell(\"all\")\n",
    "fully_connect(pre, post, IonotropicSynapse().change_name(\"Conns2_inh\"))"
   ]
  },
  {
   "cell_type": "code",
   "execution_count": 18,
   "id": "d4338e88-6d66-432b-9d50-8673e9b7c71d",
   "metadata": {},
   "outputs": [],
   "source": [
    "_ = np.random.seed(0) #2)  # 2, 8\n",
    "\n",
    "if dales_law:\n",
    "    w1_exc = np.abs(np.random.randn(len(net.Conns1_exc.view)) / 28**2)\n",
    "    w1_inh = np.abs(np.random.randn(len(net.Conns1_inh.view)) / 28**2)\n",
    "    w2_exc = np.abs(np.random.randn(len(net.Conns2_exc.view)) / 64)\n",
    "    w2_inh = np.abs(np.random.randn(len(net.Conns2_inh.view)) / 64)\n",
    "    \n",
    "    # Weaker synapses in the second layer (because we project on non-spiking neurons)\n",
    "    w1_exc /= 25.0\n",
    "    w1_inh /= 25.0\n",
    "    w2_exc /= 2_500.0\n",
    "    w2_inh /= 2_500.0\n",
    "    \n",
    "    # Inhibitory synapses should be stronger.\n",
    "    w1_exc *= 1.0\n",
    "    w1_inh *= 5.0\n",
    "    w2_exc *= 1.0 * i_amp_factor\n",
    "    w2_inh *= 5.0 * i_amp_factor\n",
    "    \n",
    "    net.Conns1_exc(\"all\").set(\"Conns1_exc_gS\", w1_exc)\n",
    "    net.Conns1_inh(\"all\").set(\"Conns1_inh_gS\", w1_inh)\n",
    "    net.Conns2_exc(\"all\").set(\"Conns2_exc_gS\", w2_exc)\n",
    "    net.Conns2_inh(\"all\").set(\"Conns2_inh_gS\", w2_inh)\n",
    "    \n",
    "    e_syn_exc = 0.0\n",
    "    e_syn_inh = -100.0\n",
    "    net.Conns1_exc(\"all\").set(\"Conns1_exc_e_syn\", e_syn_exc)\n",
    "    net.Conns1_inh(\"all\").set(\"Conns1_inh_e_syn\", e_syn_inh)\n",
    "    net.Conns2_exc(\"all\").set(\"Conns2_exc_e_syn\", e_syn_exc)\n",
    "    net.Conns2_inh(\"all\").set(\"Conns2_inh_e_syn\", e_syn_inh)\n",
    "else:\n",
    "    w1_exc = np.random.randn(len(net.Conns1_exc.view)) / 28**2\n",
    "    w1_inh = np.random.randn(len(net.Conns1_inh.view)) / 28**2\n",
    "    w2_exc = np.random.randn(len(net.Conns2_exc.view)) / 64\n",
    "    w2_inh = np.random.randn(len(net.Conns2_inh.view)) / 64\n",
    "    \n",
    "    # Weaker synapses in the second layer (because we project on non-spiking neurons)\n",
    "    w1_exc /= 25.0\n",
    "    w1_inh /= 25.0\n",
    "    w2_exc /= 25.0\n",
    "    w2_inh /= 25.0\n",
    "    \n",
    "    # Inhibitory synapses should be stronger.\n",
    "    w1_exc *= 1.0\n",
    "    w1_inh *= 1.0\n",
    "    w2_exc *= 1.0 * i_amp_factor / scale_readout_receptive_strength\n",
    "    w2_inh *= 1.0 * i_amp_factor / scale_readout_receptive_strength\n",
    "    \n",
    "    net.Conns1_exc(\"all\").set(\"Conns1_exc_gS\", w1_exc)\n",
    "    net.Conns1_inh(\"all\").set(\"Conns1_inh_gS\", w1_inh)\n",
    "    net.Conns2_exc(\"all\").set(\"Conns2_exc_gS\", w2_exc)\n",
    "    net.Conns2_inh(\"all\").set(\"Conns2_inh_gS\", w2_inh)\n",
    "\n",
    "    \n",
    "net.Conns1_exc(\"all\").set(\"Conns1_exc_k_minus\", 0.25)\n",
    "net.Conns1_inh(\"all\").set(\"Conns1_inh_k_minus\", 0.25)\n",
    "net.Conns2_exc(\"all\").set(\"Conns2_exc_k_minus\", 0.25)\n",
    "net.Conns2_inh(\"all\").set(\"Conns2_inh_k_minus\", 0.25)"
   ]
  },
  {
   "cell_type": "markdown",
   "id": "d04cbadb-d330-4d2d-b857-9dd82bb433ef",
   "metadata": {},
   "source": [
    "### Define simulation and loss"
   ]
  },
  {
   "cell_type": "code",
   "execution_count": 47,
   "id": "5b89d3c6-5a95-43c0-8a58-dd477ad8b1d6",
   "metadata": {},
   "outputs": [],
   "source": [
    "tau = 500.0\n",
    "i_amp = i_amp_factor * 50.0 / tau\n",
    "\n",
    "def simulate(params, image):\n",
    "    currents = jx.datapoint_to_step_currents(i_delay, i_dur, i_amp*image, dt, t_max)\n",
    "    data_stimuli = net[range(784), 0, nseg-1].data_stimulate(currents, None)\n",
    "    return jx.integrate(net, params=params, data_stimuli=data_stimuli, checkpoint_lengths=checkpoints)\n",
    "\n",
    "def simulate_currents(params, image):\n",
    "    currents = jx.datapoint_to_step_currents(i_delay, i_dur, i_amp*image, dt, t_max)\n",
    "    return currents\n",
    "\n",
    "jitted_simulate = jit(simulate)\n",
    "vmapped_simulate = jit(vmap(simulate, in_axes=(None, 0)))\n",
    "\n",
    "jitted_simulate_currents = jit(simulate_currents)\n",
    "vmapped_simulate_currents = jit(vmap(simulate_currents, in_axes=(None, 0)))\n"
   ]
  },
  {
   "cell_type": "code",
   "execution_count": 20,
   "id": "88514f56-c6b4-4f3f-ab7c-8233727140be",
   "metadata": {},
   "outputs": [],
   "source": [
    "def predict(params, image):\n",
    "    vs = simulate(params, image)\n",
    "    return vs[:, -1]\n",
    "\n",
    "vmapped_predict = jit(vmap(predict, in_axes=(None, 0)))"
   ]
  },
  {
   "cell_type": "code",
   "execution_count": 21,
   "id": "51b43346-3747-488c-bd7e-45bf7e030c62",
   "metadata": {},
   "outputs": [],
   "source": [
    "def cross_entropy_loss(opt_params, image, label):\n",
    "    params = transform.forward(opt_params)\n",
    "    prediction = predict(params, image)\n",
    "    prediction += 65.0\n",
    "    prediction /= 3.0\n",
    "    log_prob = prediction[label] - logsumexp(prediction)\n",
    "    return -log_prob\n",
    "\n",
    "vmapped_cross_entropy_loss = jit(vmap(cross_entropy_loss, in_axes=(None, 0, 0)))"
   ]
  },
  {
   "cell_type": "code",
   "execution_count": 22,
   "id": "54d36970-21f3-44c2-a422-84821dd029d0",
   "metadata": {},
   "outputs": [],
   "source": [
    "def batch_loss(opt_params, image_batch, label_batch):\n",
    "    losses = vmap(cross_entropy_loss, in_axes=(None, 0, 0))(opt_params, image_batch, label_batch)\n",
    "    return jnp.mean(losses)\n",
    "\n",
    "jitted_batch_loss = jit(batch_loss)\n",
    "loss_grad = jit(value_and_grad(batch_loss, argnums=0))"
   ]
  },
  {
   "cell_type": "code",
   "execution_count": 23,
   "id": "d440a768-0a17-48be-9d12-0223a12c7be9",
   "metadata": {},
   "outputs": [],
   "source": [
    "def eval_cross_entropy_accuracy(opt_params, num_eval: int, train_or_test: str, start_ind: int = 0):\n",
    "    if train_or_test == \"train\":\n",
    "        images = train_images[start_ind:start_ind+num_eval]\n",
    "        labels = train_labels[start_ind:start_ind+num_eval]\n",
    "    elif train_or_test == \"test\":\n",
    "        images = test_images[start_ind:start_ind+num_eval]\n",
    "        labels = test_labels[start_ind:start_ind+num_eval]\n",
    "    else:\n",
    "        raise ValueError\n",
    "    \n",
    "    prediction = vmapped_predict(\n",
    "        transform.forward(opt_params),\n",
    "        images,\n",
    "    )[:, -10:]\n",
    "    prediction = jnp.argmax(prediction, axis=1).astype(int)\n",
    "    return np.mean(prediction == labels)"
   ]
  },
  {
   "cell_type": "code",
   "execution_count": 24,
   "id": "2ce4be85-8c35-448e-a8de-12b09a8b2212",
   "metadata": {},
   "outputs": [],
   "source": [
    "safety_magin = 5.0\n",
    "\n",
    "if dales_law:\n",
    "    transform = jx.ParamTransform(\n",
    "        lowers={\n",
    "            \"Conns1_exc_gS\": 0.0, \n",
    "            \"Conns1_inh_gS\": 0.0, \n",
    "            \"Conns2_exc_gS\": 0.0, \n",
    "            \"Conns2_inh_gS\": 0.0, \n",
    "            \"HH_gNa\": 0.05, \n",
    "            \"HH_gK\": 0.01, \n",
    "            \"HH_gLeak\": 0.0001,\n",
    "            \"axial_resistivity\": 30.0,\n",
    "        },\n",
    "        uppers={\n",
    "            \"Conns1_exc_gS\": safety_magin / 28**2 / 25.0,\n",
    "            \"Conns1_inh_gS\": safety_magin / 28**2 / 25.0 * 5.0,\n",
    "            \"Conns2_exc_gS\": safety_magin / 64.0 / 2_500.0 * i_amp_factor,\n",
    "            \"Conns2_inh_gS\": safety_magin / 64.0 / 2_500.0 * 5.0 * i_amp_factor,\n",
    "            \"HH_gNa\": 0.5,\n",
    "            \"HH_gK\": 0.1,\n",
    "            \"HH_gLeak\": 0.001,\n",
    "            \"axial_resistivity\": 1_000,\n",
    "        },\n",
    "    )\n",
    "else:\n",
    "    transform = jx.ParamTransform(\n",
    "        lowers={\n",
    "            \"Conns1_exc_gS\": -safety_magin / 28**2 / 25.0,\n",
    "            \"Conns1_inh_gS\": -safety_magin / 28**2 / 25.0 ,\n",
    "            \"Conns2_exc_gS\": -safety_magin / 64.0 / 25.0 * i_amp_factor / scale_readout_receptive_strength,\n",
    "            \"Conns2_inh_gS\": -safety_magin / 64.0 / 25.0 * i_amp_factor / scale_readout_receptive_strength,\n",
    "            \"HH_gNa\": 0.05, \n",
    "            \"HH_gK\": 0.01, \n",
    "            \"HH_gLeak\": 0.0001,\n",
    "            \"axial_resistivity\": 30.0,\n",
    "        },\n",
    "        uppers={\n",
    "            \"Conns1_exc_gS\": safety_magin / 28**2 / 25.0,\n",
    "            \"Conns1_inh_gS\": safety_magin / 28**2 / 25.0 ,\n",
    "            \"Conns2_exc_gS\": safety_magin / 64.0 / 25.0 * i_amp_factor / scale_readout_receptive_strength,\n",
    "            \"Conns2_inh_gS\": safety_magin / 64.0 / 25.0 * i_amp_factor / scale_readout_receptive_strength,\n",
    "            \"HH_gNa\": 0.5,\n",
    "            \"HH_gK\": 0.1,\n",
    "            \"HH_gLeak\": 0.001,\n",
    "            \"axial_resistivity\": 1_000,\n",
    "        },\n",
    "    )"
   ]
  },
  {
   "cell_type": "markdown",
   "id": "ec1a50fd-45ac-4580-ae9f-ec9be80c2166",
   "metadata": {},
   "source": [
    "### Train"
   ]
  },
  {
   "cell_type": "code",
   "execution_count": 25,
   "id": "090d15cc-86a8-4680-8981-1dbb30408034",
   "metadata": {},
   "outputs": [],
   "source": [
    "net.set(\"v\", -65)\n",
    "net.init_states()"
   ]
  },
  {
   "cell_type": "code",
   "execution_count": 26,
   "id": "d288d8cd-a195-49b8-8f66-4d8a378a2ace",
   "metadata": {},
   "outputs": [
    {
     "name": "stdout",
     "output_type": "stream",
     "text": [
      "Number of newly added trainable parameters: 37632. Total number of trainable parameters: 37632\n",
      "Number of newly added trainable parameters: 12544. Total number of trainable parameters: 50176\n",
      "Number of newly added trainable parameters: 480. Total number of trainable parameters: 50656\n",
      "Number of newly added trainable parameters: 160. Total number of trainable parameters: 50816\n",
      "Number of newly added trainable parameters: 1744. Total number of trainable parameters: 52560\n",
      "Number of newly added trainable parameters: 1744. Total number of trainable parameters: 54304\n",
      "Number of newly added trainable parameters: 1744. Total number of trainable parameters: 56048\n",
      "Number of newly added trainable parameters: 1754. Total number of trainable parameters: 57802\n"
     ]
    }
   ],
   "source": [
    "net.delete_trainables()\n",
    "net.Conns1_exc(\"all\").make_trainable(\"Conns1_exc_gS\")\n",
    "net.Conns1_inh(\"all\").make_trainable(\"Conns1_inh_gS\")\n",
    "net.Conns2_exc(\"all\").make_trainable(\"Conns2_exc_gS\")\n",
    "net.Conns2_inh(\"all\").make_trainable(\"Conns2_inh_gS\")\n",
    "net.cell(\"all\").branch(\"all\").make_trainable(\"HH_gNa\")\n",
    "net.cell(\"all\").branch(\"all\").make_trainable(\"HH_gK\")\n",
    "net.cell(\"all\").branch(\"all\").make_trainable(\"HH_gLeak\")\n",
    "net.cell(\"all\").branch(\"all\").make_trainable(\"axial_resistivity\")\n",
    "initial_parameters = net.get_parameters()"
   ]
  },
  {
   "cell_type": "code",
   "execution_count": 27,
   "id": "e2bd6e74-5c1b-4d56-8789-14a8771bdc97",
   "metadata": {},
   "outputs": [],
   "source": [
    "initial_opt_params = transform.inverse(initial_parameters)\n",
    "with open(\"../results/initial_parameters\", \"wb\") as handle:\n",
    "    pickle.dump(initial_parameters, handle)"
   ]
  },
  {
   "cell_type": "code",
   "execution_count": 28,
   "id": "54eec6ff-ab27-49f1-880e-e2329757a64d",
   "metadata": {},
   "outputs": [],
   "source": [
    "# with open(\"../../../nex/ca1net/results/parameters/MichaelRun/opt_params_1770\", \"rb\") as handle:\n",
    "#     opt_params = pickle.load(handle)\n",
    "\n",
    "opt_params = initial_opt_params\n",
    "\n",
    "parameters = transform.forward(opt_params)\n",
    "# with open(\"../../../nex/ca1net/results/parameters/MichaelRun/parameters_1770\", \"wb\") as handle:\n",
    "#     pickle.dump(parameters, handle)"
   ]
  },
  {
   "cell_type": "code",
   "execution_count": 29,
   "id": "bb1611ae-8f8e-434f-b7a5-cc9040682f86",
   "metadata": {},
   "outputs": [],
   "source": [
    "# with open(\"results/parameters/TrainingRun_0010/chkpts/005/parameters_0900\", \"wb\") as handle:\n",
    "#     pickle.dump(parameters, handle)"
   ]
  },
  {
   "cell_type": "code",
   "execution_count": 30,
   "id": "8844d544-e457-4aa9-800d-4aee89bf52db",
   "metadata": {},
   "outputs": [],
   "source": [
    "# net.delete_recordings()\n",
    "# net.delete_stimuli()\n",
    "# net[:, :, :].record()\n",
    "\n",
    "# images = test_images[6:7]\n",
    "# labels = test_labels[6:7]\n",
    "# voltages = vmapped_simulate(parameters, images)\n",
    "# print(\"Time: \", time.time() - start_time)\n",
    "# with open(\"../../paper/fig6_mnist/results/traces/v_all_compartments.pkl\", \"wb\") as handle:\n",
    "#     pickle.dump(voltages, handle)\n"
   ]
  },
  {
   "cell_type": "code",
   "execution_count": 31,
   "id": "f165d168-dc95-4cf4-9231-e5efd7480718",
   "metadata": {},
   "outputs": [
    {
     "name": "stdout",
     "output_type": "stream",
     "text": [
      "Added 858 recordings. See `.recordings` for details.\n"
     ]
    }
   ],
   "source": [
    "net.delete_recordings()\n",
    "net.delete_stimuli()\n",
    "net[:, 0, 0].record()"
   ]
  },
  {
   "cell_type": "code",
   "execution_count": 48,
   "id": "15a25d92-504c-4e4f-93d7-82498c33ce6b",
   "metadata": {},
   "outputs": [
    {
     "name": "stdout",
     "output_type": "stream",
     "text": [
      "Time:  0.08439111709594727\n"
     ]
    }
   ],
   "source": [
    "# all_voltages = []\n",
    "# all_labels = []\n",
    "# all_images = []\n",
    "# batchsize = 128\n",
    "# for k in range(1):\n",
    "#     images = test_images[k*batchsize:(k+1)*batchsize]\n",
    "#     labels = test_labels[k*batchsize:(k+1)*batchsize]\n",
    "#     start_time = time.time()\n",
    "#     voltages = vmapped_simulate(parameters, images)\n",
    "#     print(\"Time: \", time.time() - start_time)\n",
    "#     all_voltages.append(voltages)\n",
    "#     all_labels.append(labels)\n",
    "#     all_images.append(images)\n",
    "\n",
    "all_voltages = []\n",
    "all_labels = []\n",
    "all_images = []\n",
    "batchsize = 128\n",
    "for k in range(1):\n",
    "    images = test_images[k*batchsize:(k+1)*batchsize]\n",
    "    labels = test_labels[k*batchsize:(k+1)*batchsize]\n",
    "    start_time = time.time()\n",
    "    voltages = vmapped_simulate_currents(parameters, images)\n",
    "    print(\"Time: \", time.time() - start_time)\n",
    "    # all_voltages.append(voltages)\n",
    "    # all_labels.append(labels)\n",
    "    # all_images.append(images\n",
    "\n",
    "\n",
    "\n",
    "    "
   ]
  },
  {
   "cell_type": "code",
   "execution_count": null,
   "id": "52bcd559",
   "metadata": {},
   "outputs": [],
   "source": []
  },
  {
   "cell_type": "code",
   "execution_count": 56,
   "id": "682ca1f2",
   "metadata": {},
   "outputs": [
    {
     "data": {
      "text/plain": [
       "Array([  0,   0,   0,   0, 355, 355, 355, 355, 355, 355, 355, 355, 355,\n",
       "       355, 355, 355, 355, 355, 355, 355, 355, 355, 355, 355, 355, 355,\n",
       "       355, 355, 355, 355, 355, 355, 355, 355, 355, 355, 355, 355, 355,\n",
       "       355, 355, 355, 355, 355,   0,   0,   0,   0,   0,   0,   0,   0,\n",
       "         0,   0,   0,   0,   0,   0,   0,   0,   0,   0,   0,   0,   0,\n",
       "         0,   0,   0,   0,   0,   0,   0,   0,   0,   0,   0,   0,   0,\n",
       "         0,   0,   0,   0,   0,   0,   0,   0,   0,   0,   0,   0,   0,\n",
       "         0,   0,   0,   0,   0,   0,   0,   0,   0,   0,   0,   0,   0,\n",
       "         0,   0,   0,   0,   0,   0,   0,   0,   0,   0,   0,   0,   0,\n",
       "         0,   0,   0,   0,   0,   0,   0,   0,   0,   0,   0,   0,   0,\n",
       "         0,   0,   0,   0,   0,   0,   0,   0,   0,   0,   0,   0,   0,\n",
       "         0,   0,   0,   0,   0,   0,   0,   0,   0,   0,   0,   0,   0,\n",
       "         0,   0,   0,   0,   0,   0,   0,   0,   0,   0,   0,   0,   0,\n",
       "         0,   0,   0,   0,   0,   0,   0,   0,   0,   0,   0,   0,   0,\n",
       "         0,   0,   0,   0,   0,   0,   0,   0,   0,   0,   0,   0,   0,\n",
       "         0,   0,   0,   0,   0,   0,   0,   0,   0,   0,   0,   0,   0,\n",
       "         0,   0,   0,   0,   0,   0,   0,   0,   0,   0,   0,   0,   0,\n",
       "         0,   0,   0,   0,   0,   0,   0,   0,   0,   0,   0,   0,   0,\n",
       "         0,   0,   0,   0,   0,   0,   0,   0,   0,   0,   0,   0,   0,\n",
       "         0,   0,   0,   0,   0,   0,   0,   0,   0,   0,   0,   0,   0,\n",
       "         0,   0,   0,   0,   0,   0,   0,   0,   0,   0,   0,   0,   0,\n",
       "         0,   0,   0,   0,   0,   0,   0,   0,   0,   0,   0,   0,   0,\n",
       "         0,   0,   0,   0,   0,   0,   0,   0,   0,   0,   0,   0,   0,\n",
       "         0,   0,   0,   0,   0,   0,   0,   0,   0,   0,   0,   0,   0,\n",
       "         0,   0,   0,   0,   0,   0,   0,   0,   0,   0,   0,   0,   0,\n",
       "         0,   0,   0,   0,   0,   0,   0,   0,   0,   0,   0,   0,   0,\n",
       "         0,   0,   0,   0,   0,   0,   0,   0,   0,   0,   0,   0,   0,\n",
       "         0,   0,   0,   0,   0,   0,   0,   0,   0,   0,   0,   0,   0,\n",
       "         0,   0,   0,   0,   0,   0,   0,   0,   0,   0,   0,   0,   0,\n",
       "         0,   0,   0,   0,   0,   0,   0,   0,   0,   0,   0,   0,   0,\n",
       "         0,   0,   0,   0,   0,   0,   0,   0,   0,   0,   0,   0],      dtype=int64)"
      ]
     },
     "execution_count": 56,
     "metadata": {},
     "output_type": "execute_result"
    }
   ],
   "source": [
    "voltages[0].argmax(0)"
   ]
  },
  {
   "cell_type": "code",
   "execution_count": 57,
   "id": "99284642",
   "metadata": {},
   "outputs": [
    {
     "data": {
      "text/plain": [
       "[<matplotlib.lines.Line2D at 0x7fb4a7b9aa80>]"
      ]
     },
     "execution_count": 57,
     "metadata": {},
     "output_type": "execute_result"
    },
    {
     "data": {
      "image/png": "[encoded data removed]",
      "text/plain": [
       "<Figure size 640x480 with 1 Axes>"
      ]
     },
     "metadata": {},
     "output_type": "display_data"
    }
   ],
   "source": [
    "plt.plot(voltages[0, 355,:])"
   ]
  },
  {
   "cell_type": "code",
   "execution_count": 59,
   "id": "2558ee82",
   "metadata": {},
   "outputs": [
    {
     "name": "stderr",
     "output_type": "stream",
     "text": [
      "/home/zeus/miniconda3/envs/cloudspace/lib/python3.12/site-packages/torchvision/models/_utils.py:208: UserWarning: The parameter 'pretrained' is deprecated since 0.13 and may be removed in the future, please use 'weights' instead.\n",
      "  warnings.warn(\n",
      "/home/zeus/miniconda3/envs/cloudspace/lib/python3.12/site-packages/torchvision/models/_utils.py:223: UserWarning: Arguments other than a weight enum or `None` for 'weights' are deprecated since 0.13 and may be removed in the future. The current behavior is equivalent to passing `weights=AlexNet_Weights.IMAGENET1K_V1`. You can also use `weights=AlexNet_Weights.DEFAULT` to get the most up-to-date weights.\n",
      "  warnings.warn(msg)\n",
      "Downloading: \"https://download.pytorch.org/models/alexnet-owt-7be5be79.pth\" to /home/zeus/.cache/torch/hub/checkpoints/alexnet-owt-7be5be79.pth\n",
      "100.0%\n"
     ]
    },
    {
     "data": {
      "text/plain": [
       "AlexNet(\n",
       "  (features): Sequential(\n",
       "    (0): Conv2d(3, 64, kernel_size=(11, 11), stride=(4, 4), padding=(2, 2))\n",
       "    (1): ReLU(inplace=True)\n",
       "    (2): MaxPool2d(kernel_size=3, stride=2, padding=0, dilation=1, ceil_mode=False)\n",
       "    (3): Conv2d(64, 192, kernel_size=(5, 5), stride=(1, 1), padding=(2, 2))\n",
       "    (4): ReLU(inplace=True)\n",
       "    (5): MaxPool2d(kernel_size=3, stride=2, padding=0, dilation=1, ceil_mode=False)\n",
       "    (6): Conv2d(192, 384, kernel_size=(3, 3), stride=(1, 1), padding=(1, 1))\n",
       "    (7): ReLU(inplace=True)\n",
       "    (8): Conv2d(384, 256, kernel_size=(3, 3), stride=(1, 1), padding=(1, 1))\n",
       "    (9): ReLU(inplace=True)\n",
       "    (10): Conv2d(256, 256, kernel_size=(3, 3), stride=(1, 1), padding=(1, 1))\n",
       "    (11): ReLU(inplace=True)\n",
       "    (12): MaxPool2d(kernel_size=3, stride=2, padding=0, dilation=1, ceil_mode=False)\n",
       "  )\n",
       "  (avgpool): AdaptiveAvgPool2d(output_size=(6, 6))\n",
       "  (classifier): Sequential(\n",
       "    (0): Dropout(p=0.5, inplace=False)\n",
       "    (1): Linear(in_features=9216, out_features=4096, bias=True)\n",
       "    (2): ReLU(inplace=True)\n",
       "    (3): Dropout(p=0.5, inplace=False)\n",
       "    (4): Linear(in_features=4096, out_features=4096, bias=True)\n",
       "    (5): ReLU(inplace=True)\n",
       "    (6): Linear(in_features=4096, out_features=1000, bias=True)\n",
       "  )\n",
       ")"
      ]
     },
     "execution_count": 59,
     "metadata": {},
     "output_type": "execute_result"
    }
   ],
   "source": [
    "import torchvision.models as models\n",
    "alexnet = models.alexnet(pretrained=True)\n"
   ]
  },
  {
   "cell_type": "code",
   "execution_count": 95,
   "id": "511444be",
   "metadata": {},
   "outputs": [],
   "source": [
    "from torch.utils.data import DataLoader\n",
    "import torch\n",
    "from torch import nn\n",
    "\n",
    "class HeadLessAlexNet(torch.nn.Module):\n",
    "    def __init__(self, alexnet):\n",
    "        super().__init__()\n",
    "        self.features = alexnet.features\n",
    "        self.classifier = alexnet.classifier\n",
    "        self.projector = nn.Linear(9216, 784)\n",
    "\n",
    "    def forward(self, x):\n",
    "        x = self.features(x)\n",
    "        x = torch.flatten(x, 1)\n",
    "        x = self.projector(x)\n",
    "        return x\n"
   ]
  },
  {
   "cell_type": "code",
   "execution_count": 105,
   "id": "16aa8a99",
   "metadata": {},
   "outputs": [
    {
     "name": "stderr",
     "output_type": "stream",
     "text": [
      "/tmp/ipykernel_30872/896766498.py:4: UserWarning: To copy construct from a tensor, it is recommended to use sourceTensor.clone().detach() or sourceTensor.clone().detach().requires_grad_(True), rather than torch.tensor(sourceTensor).\n",
      "  alexnet_outputs = alexnet_headless(torch.tensor(images))\n"
     ]
    }
   ],
   "source": [
    "alexnet_headless = HeadLessAlexNet(alexnet)\n",
    "alexnet_headless.eval()\n",
    "\n",
    "alexnet_outputs = alexnet_headless(torch.tensor(images))\n",
    "alexnet_outputs = alexnet_outputs.detach().numpy()\n"
   ]
  },
  {
   "cell_type": "code",
   "execution_count": 34,
   "id": "d3d33381-f047-4c60-a256-4fbe28a7fc2a",
   "metadata": {},
   "outputs": [],
   "source": [
    "all_voltages = np.concatenate(all_voltages, axis=0)\n",
    "all_labels = np.concatenate(all_labels, axis=0)\n",
    "all_images = np.concatenate(all_images, axis=0)"
   ]
  },
  {
   "cell_type": "code",
   "execution_count": 104,
   "id": "b1081541",
   "metadata": {},
   "outputs": [],
   "source": [
    "from torch.utils.data import DataLoader\n",
    "import torchvision\n",
    "\n",
    "transform = torchvision.transforms.Compose([\n",
    "    torchvision.transforms.Resize((224, 224)),\n",
    "    torchvision.transforms.ToTensor(),\n",
    "    ])\n",
    "train_dataset = torchvision.datasets.MNIST(root='../data', train=True, download=True, transform=transform)\n",
    "\n",
    "\n",
    "loader = DataLoader(train_dataset, batch_size=batchsize)\n",
    "\n",
    "batch = next(iter(loader))\n",
    "images, labels = batch\n",
    "\n",
    "# make images have 3 channel\n",
    "images = images.repeat(1,3, 1, 1)\n",
    "\n",
    "alexnet_outputs = alexnet_headless(images)\n",
    "alexnet_outputs = alexnet_outputs.detach().numpy()\n"
   ]
  },
  {
   "cell_type": "code",
   "execution_count": null,
   "id": "d51ff8f1",
   "metadata": {},
   "outputs": [],
   "source": []
  },
  {
   "cell_type": "code",
   "execution_count": 94,
   "id": "27c00831",
   "metadata": {},
   "outputs": [
    {
     "data": {
      "text/plain": [
       "(60000, 784)"
      ]
     },
     "execution_count": 94,
     "metadata": {},
     "output_type": "execute_result"
    }
   ],
   "source": [
    "train_images.shape"
   ]
  },
  {
   "cell_type": "code",
   "execution_count": 106,
   "id": "60d16bbe",
   "metadata": {},
   "outputs": [],
   "source": [
    "test_dataset = torchvision.datasets.MNIST(root='../data', train=False, download=True, transform=transform)\n",
    "test_loader = DataLoader(test_dataset, batch_size=batchsize)\n",
    "\n",
    "all_voltages = []\n",
    "all_labels = []\n",
    "all_images = []\n",
    "batchsize = 128\n",
    "max_batches = 1\n",
    "for ii, batch in enumerate(test_loader):\n",
    "    images, labels = batch\n",
    "    # make images have 3 channel\n",
    "    images = images.repeat(1,3, 1, 1)\n",
    "    start_time = time.time()\n",
    "    alexnet_outputs = alexnet_headless(images)\n",
    "    alexnet_outputs = alexnet_outputs.detach().numpy()\n",
    "    voltages = vmapped_simulate(parameters, alexnet_outputs)\n",
    "    if ii >= max_batches-1:\n",
    "        break\n"
   ]
  },
  {
   "cell_type": "code",
   "execution_count": 111,
   "id": "84090f9f",
   "metadata": {},
   "outputs": [
    {
     "data": {
      "image/png": "[encoded data removed]",
      "text/plain": [
       "<Figure size 640x480 with 1 Axes>"
      ]
     },
     "metadata": {},
     "output_type": "display_data"
    }
   ],
   "source": [
    "plt.plot(voltages[:,0].transpose())\n",
    "plt.show()"
   ]
  },
  {
   "cell_type": "markdown",
   "id": "a302fbdc-0f0b-4ad3-940f-c5f5adee2fd6",
   "metadata": {},
   "source": [
    "### Save outputs of a subset of neurons but all images (for correlation plots)"
   ]
  },
  {
   "cell_type": "code",
   "execution_count": 35,
   "id": "6b96af71-8acc-4b8a-adeb-1a02df47b152",
   "metadata": {},
   "outputs": [],
   "source": [
    "os.makedirs(\"../results/traces\", exist_ok=True)\n",
    "\n",
    "with open(\"../results/traces/output_trained.pkl\", \"wb\") as handle:\n",
    "    pickle.dump(all_voltages[:, 28**2:], handle)\n",
    "\n",
    "with open(\"../results/traces/labels_trained.pkl\", \"wb\") as handle:\n",
    "    pickle.dump(all_labels, handle)\n"
   ]
  },
  {
   "cell_type": "markdown",
   "id": "f7f26da3-de20-4159-b488-3badc6b76a5e",
   "metadata": {
    "jp-MarkdownHeadingCollapsed": true
   },
   "source": [
    "### Save all neuron outputs of a few images (for trace visualization)"
   ]
  },
  {
   "cell_type": "code",
   "execution_count": 36,
   "id": "6ff0d374-96ad-4748-8f89-b6dfd1b7db17",
   "metadata": {},
   "outputs": [],
   "source": [
    "os.makedirs(\"../results/traces\", exist_ok=True)\n",
    "with open(\"../results/traces/output_trained_all_neurons_few_images.pkl\", \"wb\") as handle:\n",
    "    pickle.dump(all_voltages[:50], handle)"
   ]
  },
  {
   "cell_type": "code",
   "execution_count": 37,
   "id": "5eec5d6d-e43f-49c5-b158-ea047f0432be",
   "metadata": {},
   "outputs": [],
   "source": [
    "with open(\"../results/traces/images_trained.pkl\", \"wb\") as handle:\n",
    "    pickle.dump(all_images, handle)"
   ]
  },
  {
   "cell_type": "markdown",
   "id": "35932d6b-005d-4aa8-9dec-72ac608a365d",
   "metadata": {},
   "source": [
    "# Adversarial example"
   ]
  },
  {
   "cell_type": "code",
   "execution_count": 38,
   "id": "3c3ebeed-ad75-4f16-9b02-b2622878f492",
   "metadata": {},
   "outputs": [
    {
     "name": "stdout",
     "output_type": "stream",
     "text": [
      "Added 10 recordings. See `.recordings` for details.\n"
     ]
    }
   ],
   "source": [
    "net.delete_recordings()\n",
    "net.delete_stimuli()\n",
    "net[range(28**2+64, 28**2+64+10), 0, 0].record()"
   ]
  },
  {
   "cell_type": "code",
   "execution_count": 39,
   "id": "cea2926a-b763-43fa-acb2-67d537b86839",
   "metadata": {},
   "outputs": [],
   "source": [
    "from copy import deepcopy\n",
    "\n",
    "\n",
    "vmapped_simulate = jit(vmap(simulate, in_axes=(None, 0)))\n",
    "\n",
    "def tf_image(image):\n",
    "    image = sigmoid(image)\n",
    "    return image\n",
    "\n",
    "def predict(params, image):\n",
    "    image = tf_image(image)\n",
    "    v = simulate(params, image)\n",
    "    return v[:, -1]\n",
    "\n",
    "vmapped_predict = jit(vmap(predict, in_axes=(None, 0)))\n",
    "\n",
    "\n",
    "def target_neg_logprob(prediction, target_class):\n",
    "    prediction += 65.0\n",
    "    prediction /= 3.0\n",
    "    log_prob = prediction[target_class] - logsumexp(prediction)\n",
    "    return -log_prob\n",
    "\n",
    "\n",
    "def adv_example_loss(params, image, regularization_lambda, target_class, baseline):\n",
    "    class_loss = target_neg_logprob(predict(params, image), target_class)\n",
    "    reg_loss = jnp.abs(jnp.sum(image) - baseline)\n",
    "    return class_loss + regularization_lambda * reg_loss\n",
    "\n",
    "image_loss_grad = jit(value_and_grad(adv_example_loss, argnums=(1,)))\n",
    "images_loss_grads = jit(vmap(value_and_grad(adv_example_loss, argnums=(1,)), in_axes=(None, 0, None, 0, None)))"
   ]
  },
  {
   "cell_type": "code",
   "execution_count": 40,
   "id": "a1a6933b-b20e-413e-aa3c-0298b9a4f307",
   "metadata": {},
   "outputs": [],
   "source": [
    "def optimize_attack(\n",
    "    init: jnp.ndarray,\n",
    "    target_class: int,\n",
    "    epochs: int = 10,\n",
    "    lr: float = 2.0,\n",
    "    momentum: float = 0.0,\n",
    "    regularization_lambda: float = 0.0,\n",
    "):\n",
    "    mei = init\n",
    "    optimizer = optax.sgd(learning_rate=lr, momentum=momentum)\n",
    "    opt_state = optimizer.init(mei)\n",
    "    losses = []\n",
    "    travelled_distance = np.asarray([0.0 for _ in range(len(init))])\n",
    "    travelled_distances = [deepcopy(travelled_distance)]\n",
    "    predictions_at_every_step = []\n",
    "    previous_image = mei\n",
    "    all_accuracies = []\n",
    "    all_images = []\n",
    "    all_traces = []\n",
    "\n",
    "    for epoch in range(epochs):\n",
    "        loss_val, gradient_val = images_loss_grads(\n",
    "            parameters,\n",
    "            mei,\n",
    "            regularization_lambda,\n",
    "            target_class,\n",
    "            jnp.asarray(200.0),\n",
    "        )\n",
    "        losses.append(loss_val)\n",
    "        act = vmapped_predict(parameters, mei)\n",
    "        predictions_at_every_step.append(deepcopy(act))\n",
    "        trace = vmapped_simulate(parameters, mei)\n",
    "        all_traces.append(deepcopy(trace[:, -10:, :]))\n",
    "        # print(f\"Epoch {epoch}, loss_val {loss_val}, predicted_voltages {act} argmax {np.argmax(act, axis=1)}\")\n",
    "        label_predictions = np.argmax(act, axis=1)\n",
    "        # print(f\"Epoch {epoch}, loss_val {loss_val} argmax {label_predictions}\")\n",
    "        current_accuracy = np.mean(label_predictions == initial_labels)\n",
    "        print(f\"Accuracy {current_accuracy}\")\n",
    "        all_accuracies.append(deepcopy(current_accuracy))\n",
    "    \n",
    "        gradient_corr = (gradient_val[0].T / jnp.sqrt(jnp.sum(gradient_val[0]**2, axis=1))).T\n",
    "        updates, opt_state = optimizer.update(gradient_corr, opt_state)\n",
    "        mei = optax.apply_updates(mei, updates)\n",
    "\n",
    "        travelled_distance += np.sqrt(np.sum((mei - previous_image)**2, axis=1))\n",
    "        travelled_distances.append(deepcopy(travelled_distance))\n",
    "        previous_image = mei\n",
    "        all_images.append(deepcopy(mei))\n",
    "        # print(f\"travelled_distances {travelled_distances}\")\n",
    "\n",
    "    act = vmapped_predict(parameters, mei)\n",
    "    predictions_at_every_step.append(deepcopy(act))\n",
    "\n",
    "    vs = vmapped_simulate(parameters, tf_image(mei))\n",
    "    return mei, losses, vs, travelled_distances, predictions_at_every_step, all_accuracies, all_images, all_traces\n"
   ]
  },
  {
   "cell_type": "code",
   "execution_count": 41,
   "id": "31c0c3cb-5916-4ec8-a070-ab164df0c897",
   "metadata": {},
   "outputs": [
    {
     "name": "stdout",
     "output_type": "stream",
     "text": [
      "Initial labels [0 4 1 9 2 3 1 4 3 5 3 6 1 7 2 8]\n",
      "Target labels  [8 9 5 0 0 7 6 9 2 4 5 2 4 2 4 7]\n"
     ]
    },
    {
     "ename": "KeyboardInterrupt",
     "evalue": "",
     "output_type": "error",
     "traceback": [
      "\u001b[0;31m---------------------------------------------------------------------------\u001b[0m",
      "\u001b[0;31mKeyboardInterrupt\u001b[0m                         Traceback (most recent call last)",
      "Cell \u001b[0;32mIn[41], line 34\u001b[0m\n\u001b[1;32m     31\u001b[0m \u001b[38;5;28;01mwith\u001b[39;00m \u001b[38;5;28mopen\u001b[39m(\u001b[38;5;124mf\u001b[39m\u001b[38;5;124m\"\u001b[39m\u001b[38;5;124m../results/attacks/attack_trace_before_seed\u001b[39m\u001b[38;5;132;01m{\u001b[39;00mseed\u001b[38;5;132;01m}\u001b[39;00m\u001b[38;5;124m.pkl\u001b[39m\u001b[38;5;124m\"\u001b[39m, \u001b[38;5;124m\"\u001b[39m\u001b[38;5;124mwb\u001b[39m\u001b[38;5;124m\"\u001b[39m) \u001b[38;5;28;01mas\u001b[39;00m handle:\n\u001b[1;32m     32\u001b[0m     pickle\u001b[38;5;241m.\u001b[39mdump(vs_init, handle)\n\u001b[0;32m---> 34\u001b[0m mei_opt, losses, vs, travelled, predictions, all_accuracies, all_images, all_traces \u001b[38;5;241m=\u001b[39m \u001b[43moptimize_attack\u001b[49m\u001b[43m(\u001b[49m\n\u001b[1;32m     35\u001b[0m \u001b[43m    \u001b[49m\u001b[43mmeis\u001b[49m\u001b[43m,\u001b[49m\n\u001b[1;32m     36\u001b[0m \u001b[43m    \u001b[49m\u001b[43mtarget_class\u001b[49m\u001b[38;5;241;43m=\u001b[39;49m\u001b[43mtargets\u001b[49m\u001b[43m,\u001b[49m\n\u001b[1;32m     37\u001b[0m \u001b[43m    \u001b[49m\u001b[43mepochs\u001b[49m\u001b[38;5;241;43m=\u001b[39;49m\u001b[38;5;241;43m30\u001b[39;49m\u001b[43m,\u001b[49m\n\u001b[1;32m     38\u001b[0m \u001b[43m    \u001b[49m\u001b[43mlr\u001b[49m\u001b[38;5;241;43m=\u001b[39;49m\u001b[43mlr\u001b[49m\u001b[43m,\u001b[49m\n\u001b[1;32m     39\u001b[0m \u001b[43m    \u001b[49m\u001b[43mmomentum\u001b[49m\u001b[38;5;241;43m=\u001b[39;49m\u001b[38;5;241;43m0.0\u001b[39;49m\u001b[43m,\u001b[49m\n\u001b[1;32m     40\u001b[0m \u001b[43m    \u001b[49m\u001b[43mregularization_lambda\u001b[49m\u001b[38;5;241;43m=\u001b[39;49m\u001b[38;5;241;43m0.0\u001b[39;49m\u001b[43m,\u001b[49m\n\u001b[1;32m     41\u001b[0m \u001b[43m\u001b[49m\u001b[43m)\u001b[49m\n\u001b[1;32m     42\u001b[0m \u001b[38;5;28;01mwith\u001b[39;00m \u001b[38;5;28mopen\u001b[39m(\u001b[38;5;124mf\u001b[39m\u001b[38;5;124m\"\u001b[39m\u001b[38;5;124m../results/attacks/attack_image_after_seed\u001b[39m\u001b[38;5;132;01m{\u001b[39;00mseed\u001b[38;5;132;01m}\u001b[39;00m\u001b[38;5;124m.pkl\u001b[39m\u001b[38;5;124m\"\u001b[39m, \u001b[38;5;124m\"\u001b[39m\u001b[38;5;124mwb\u001b[39m\u001b[38;5;124m\"\u001b[39m) \u001b[38;5;28;01mas\u001b[39;00m handle:\n\u001b[1;32m     43\u001b[0m     pickle\u001b[38;5;241m.\u001b[39mdump(mei_opt, handle)\n",
      "Cell \u001b[0;32mIn[40], line 22\u001b[0m, in \u001b[0;36moptimize_attack\u001b[0;34m(init, target_class, epochs, lr, momentum, regularization_lambda)\u001b[0m\n\u001b[1;32m     19\u001b[0m all_traces \u001b[38;5;241m=\u001b[39m []\n\u001b[1;32m     21\u001b[0m \u001b[38;5;28;01mfor\u001b[39;00m epoch \u001b[38;5;129;01min\u001b[39;00m \u001b[38;5;28mrange\u001b[39m(epochs):\n\u001b[0;32m---> 22\u001b[0m     loss_val, gradient_val \u001b[38;5;241m=\u001b[39m \u001b[43mimages_loss_grads\u001b[49m\u001b[43m(\u001b[49m\n\u001b[1;32m     23\u001b[0m \u001b[43m        \u001b[49m\u001b[43mparameters\u001b[49m\u001b[43m,\u001b[49m\n\u001b[1;32m     24\u001b[0m \u001b[43m        \u001b[49m\u001b[43mmei\u001b[49m\u001b[43m,\u001b[49m\n\u001b[1;32m     25\u001b[0m \u001b[43m        \u001b[49m\u001b[43mregularization_lambda\u001b[49m\u001b[43m,\u001b[49m\n\u001b[1;32m     26\u001b[0m \u001b[43m        \u001b[49m\u001b[43mtarget_class\u001b[49m\u001b[43m,\u001b[49m\n\u001b[1;32m     27\u001b[0m \u001b[43m        \u001b[49m\u001b[43mjnp\u001b[49m\u001b[38;5;241;43m.\u001b[39;49m\u001b[43masarray\u001b[49m\u001b[43m(\u001b[49m\u001b[38;5;241;43m200.0\u001b[39;49m\u001b[43m)\u001b[49m\u001b[43m,\u001b[49m\n\u001b[1;32m     28\u001b[0m \u001b[43m    \u001b[49m\u001b[43m)\u001b[49m\n\u001b[1;32m     29\u001b[0m     losses\u001b[38;5;241m.\u001b[39mappend(loss_val)\n\u001b[1;32m     30\u001b[0m     act \u001b[38;5;241m=\u001b[39m vmapped_predict(parameters, mei)\n",
      "    \u001b[0;31m[... skipping hidden 1 frame]\u001b[0m\n",
      "File \u001b[0;32m/home/zeus/miniconda3/envs/cloudspace/lib/python3.12/site-packages/jax/_src/pjit.py:332\u001b[0m, in \u001b[0;36m_cpp_pjit.<locals>.cache_miss\u001b[0;34m(*args, **kwargs)\u001b[0m\n\u001b[1;32m    329\u001b[0m \u001b[38;5;28;01mif\u001b[39;00m config\u001b[38;5;241m.\u001b[39mno_tracing\u001b[38;5;241m.\u001b[39mvalue:\n\u001b[1;32m    330\u001b[0m   \u001b[38;5;28;01mraise\u001b[39;00m \u001b[38;5;167;01mRuntimeError\u001b[39;00m(\u001b[38;5;124mf\u001b[39m\u001b[38;5;124m\"\u001b[39m\u001b[38;5;124mre-tracing function \u001b[39m\u001b[38;5;132;01m{\u001b[39;00mjit_info\u001b[38;5;241m.\u001b[39mfun_sourceinfo\u001b[38;5;132;01m}\u001b[39;00m\u001b[38;5;124m for \u001b[39m\u001b[38;5;124m\"\u001b[39m\n\u001b[1;32m    331\u001b[0m                      \u001b[38;5;124m\"\u001b[39m\u001b[38;5;124m`jit`, but \u001b[39m\u001b[38;5;124m'\u001b[39m\u001b[38;5;124mno_tracing\u001b[39m\u001b[38;5;124m'\u001b[39m\u001b[38;5;124m is set\u001b[39m\u001b[38;5;124m\"\u001b[39m)\n\u001b[0;32m--> 332\u001b[0m outs, out_flat, out_tree, args_flat, jaxpr, attrs_tracked \u001b[38;5;241m=\u001b[39m \u001b[43m_python_pjit_helper\u001b[49m\u001b[43m(\u001b[49m\n\u001b[1;32m    333\u001b[0m \u001b[43m    \u001b[49m\u001b[43mfun\u001b[49m\u001b[43m,\u001b[49m\u001b[43m \u001b[49m\u001b[43mjit_info\u001b[49m\u001b[43m,\u001b[49m\u001b[43m \u001b[49m\u001b[38;5;241;43m*\u001b[39;49m\u001b[43margs\u001b[49m\u001b[43m,\u001b[49m\u001b[43m \u001b[49m\u001b[38;5;241;43m*\u001b[39;49m\u001b[38;5;241;43m*\u001b[39;49m\u001b[43mkwargs\u001b[49m\u001b[43m)\u001b[49m\n\u001b[1;32m    334\u001b[0m executable \u001b[38;5;241m=\u001b[39m _read_most_recent_pjit_call_executable(jaxpr)\n\u001b[1;32m    335\u001b[0m pgle_profiler \u001b[38;5;241m=\u001b[39m _read_pgle_profiler(jaxpr)\n",
      "File \u001b[0;32m/home/zeus/miniconda3/envs/cloudspace/lib/python3.12/site-packages/jax/_src/pjit.py:190\u001b[0m, in \u001b[0;36m_python_pjit_helper\u001b[0;34m(fun, jit_info, *args, **kwargs)\u001b[0m\n\u001b[1;32m    187\u001b[0m   args_flat \u001b[38;5;241m=\u001b[39m [\u001b[38;5;241m*\u001b[39minit_states, \u001b[38;5;241m*\u001b[39margs_flat]\n\u001b[1;32m    189\u001b[0m \u001b[38;5;28;01mtry\u001b[39;00m:\n\u001b[0;32m--> 190\u001b[0m   out_flat \u001b[38;5;241m=\u001b[39m \u001b[43mpjit_p\u001b[49m\u001b[38;5;241;43m.\u001b[39;49m\u001b[43mbind\u001b[49m\u001b[43m(\u001b[49m\u001b[38;5;241;43m*\u001b[39;49m\u001b[43margs_flat\u001b[49m\u001b[43m,\u001b[49m\u001b[43m \u001b[49m\u001b[38;5;241;43m*\u001b[39;49m\u001b[38;5;241;43m*\u001b[39;49m\u001b[43mp\u001b[49m\u001b[38;5;241;43m.\u001b[39;49m\u001b[43mparams\u001b[49m\u001b[43m)\u001b[49m\n\u001b[1;32m    191\u001b[0m \u001b[38;5;28;01mexcept\u001b[39;00m pxla\u001b[38;5;241m.\u001b[39mDeviceAssignmentMismatchError \u001b[38;5;28;01mas\u001b[39;00m e:\n\u001b[1;32m    192\u001b[0m   fails, \u001b[38;5;241m=\u001b[39m e\u001b[38;5;241m.\u001b[39margs\n",
      "File \u001b[0;32m/home/zeus/miniconda3/envs/cloudspace/lib/python3.12/site-packages/jax/_src/core.py:2782\u001b[0m, in \u001b[0;36mAxisPrimitive.bind\u001b[0;34m(self, *args, **params)\u001b[0m\n\u001b[1;32m   2778\u001b[0m axis_main \u001b[38;5;241m=\u001b[39m \u001b[38;5;28mmax\u001b[39m((axis_frame(a)\u001b[38;5;241m.\u001b[39mmain_trace \u001b[38;5;28;01mfor\u001b[39;00m a \u001b[38;5;129;01min\u001b[39;00m used_axis_names(\u001b[38;5;28mself\u001b[39m, params)),\n\u001b[1;32m   2779\u001b[0m                 default\u001b[38;5;241m=\u001b[39m\u001b[38;5;28;01mNone\u001b[39;00m, key\u001b[38;5;241m=\u001b[39m\u001b[38;5;28;01mlambda\u001b[39;00m t: \u001b[38;5;28mgetattr\u001b[39m(t, \u001b[38;5;124m'\u001b[39m\u001b[38;5;124mlevel\u001b[39m\u001b[38;5;124m'\u001b[39m, \u001b[38;5;241m-\u001b[39m\u001b[38;5;241m1\u001b[39m))\n\u001b[1;32m   2780\u001b[0m top_trace \u001b[38;5;241m=\u001b[39m (top_trace \u001b[38;5;28;01mif\u001b[39;00m \u001b[38;5;129;01mnot\u001b[39;00m axis_main \u001b[38;5;129;01mor\u001b[39;00m axis_main\u001b[38;5;241m.\u001b[39mlevel \u001b[38;5;241m<\u001b[39m top_trace\u001b[38;5;241m.\u001b[39mlevel\n\u001b[1;32m   2781\u001b[0m              \u001b[38;5;28;01melse\u001b[39;00m axis_main\u001b[38;5;241m.\u001b[39mwith_cur_sublevel())\n\u001b[0;32m-> 2782\u001b[0m \u001b[38;5;28;01mreturn\u001b[39;00m \u001b[38;5;28;43mself\u001b[39;49m\u001b[38;5;241;43m.\u001b[39;49m\u001b[43mbind_with_trace\u001b[49m\u001b[43m(\u001b[49m\u001b[43mtop_trace\u001b[49m\u001b[43m,\u001b[49m\u001b[43m \u001b[49m\u001b[43margs\u001b[49m\u001b[43m,\u001b[49m\u001b[43m \u001b[49m\u001b[43mparams\u001b[49m\u001b[43m)\u001b[49m\n",
      "File \u001b[0;32m/home/zeus/miniconda3/envs/cloudspace/lib/python3.12/site-packages/jax/_src/core.py:443\u001b[0m, in \u001b[0;36mPrimitive.bind_with_trace\u001b[0;34m(self, trace, args, params)\u001b[0m\n\u001b[1;32m    441\u001b[0m \u001b[38;5;28;01mdef\u001b[39;00m \u001b[38;5;21mbind_with_trace\u001b[39m(\u001b[38;5;28mself\u001b[39m, trace, args, params):\n\u001b[1;32m    442\u001b[0m   \u001b[38;5;28;01mwith\u001b[39;00m pop_level(trace\u001b[38;5;241m.\u001b[39mlevel):\n\u001b[0;32m--> 443\u001b[0m     out \u001b[38;5;241m=\u001b[39m \u001b[43mtrace\u001b[49m\u001b[38;5;241;43m.\u001b[39;49m\u001b[43mprocess_primitive\u001b[49m\u001b[43m(\u001b[49m\u001b[38;5;28;43mself\u001b[39;49m\u001b[43m,\u001b[49m\u001b[43m \u001b[49m\u001b[38;5;28;43mmap\u001b[39;49m\u001b[43m(\u001b[49m\u001b[43mtrace\u001b[49m\u001b[38;5;241;43m.\u001b[39;49m\u001b[43mfull_raise\u001b[49m\u001b[43m,\u001b[49m\u001b[43m \u001b[49m\u001b[43margs\u001b[49m\u001b[43m)\u001b[49m\u001b[43m,\u001b[49m\u001b[43m \u001b[49m\u001b[43mparams\u001b[49m\u001b[43m)\u001b[49m\n\u001b[1;32m    444\u001b[0m   \u001b[38;5;28;01mreturn\u001b[39;00m \u001b[38;5;28mmap\u001b[39m(full_lower, out) \u001b[38;5;28;01mif\u001b[39;00m \u001b[38;5;28mself\u001b[39m\u001b[38;5;241m.\u001b[39mmultiple_results \u001b[38;5;28;01melse\u001b[39;00m full_lower(out)\n",
      "File \u001b[0;32m/home/zeus/miniconda3/envs/cloudspace/lib/python3.12/site-packages/jax/_src/core.py:949\u001b[0m, in \u001b[0;36mEvalTrace.process_primitive\u001b[0;34m(self, primitive, tracers, params)\u001b[0m\n\u001b[1;32m    947\u001b[0m   \u001b[38;5;28;01mreturn\u001b[39;00m call_impl_with_key_reuse_checks(primitive, primitive\u001b[38;5;241m.\u001b[39mimpl, \u001b[38;5;241m*\u001b[39mtracers, \u001b[38;5;241m*\u001b[39m\u001b[38;5;241m*\u001b[39mparams)\n\u001b[1;32m    948\u001b[0m \u001b[38;5;28;01melse\u001b[39;00m:\n\u001b[0;32m--> 949\u001b[0m   \u001b[38;5;28;01mreturn\u001b[39;00m \u001b[43mprimitive\u001b[49m\u001b[38;5;241;43m.\u001b[39;49m\u001b[43mimpl\u001b[49m\u001b[43m(\u001b[49m\u001b[38;5;241;43m*\u001b[39;49m\u001b[43mtracers\u001b[49m\u001b[43m,\u001b[49m\u001b[43m \u001b[49m\u001b[38;5;241;43m*\u001b[39;49m\u001b[38;5;241;43m*\u001b[39;49m\u001b[43mparams\u001b[49m\u001b[43m)\u001b[49m\n",
      "File \u001b[0;32m/home/zeus/miniconda3/envs/cloudspace/lib/python3.12/site-packages/jax/_src/pjit.py:1739\u001b[0m, in \u001b[0;36m_pjit_call_impl\u001b[0;34m(jaxpr, in_shardings, out_shardings, in_layouts, out_layouts, resource_env, donated_invars, name, keep_unused, inline, *args)\u001b[0m\n\u001b[1;32m   1736\u001b[0m donated_argnums \u001b[38;5;241m=\u001b[39m [i \u001b[38;5;28;01mfor\u001b[39;00m i, d \u001b[38;5;129;01min\u001b[39;00m \u001b[38;5;28menumerate\u001b[39m(donated_invars) \u001b[38;5;28;01mif\u001b[39;00m d]\n\u001b[1;32m   1737\u001b[0m has_explicit_sharding \u001b[38;5;241m=\u001b[39m _pjit_explicit_sharding_and_layout(\n\u001b[1;32m   1738\u001b[0m     in_shardings, out_shardings, in_layouts, out_layouts, \u001b[38;5;28;01mNone\u001b[39;00m, \u001b[38;5;28;01mNone\u001b[39;00m)\n\u001b[0;32m-> 1739\u001b[0m \u001b[38;5;28;01mreturn\u001b[39;00m \u001b[43mxc\u001b[49m\u001b[38;5;241;43m.\u001b[39;49m\u001b[43m_xla\u001b[49m\u001b[38;5;241;43m.\u001b[39;49m\u001b[43mpjit\u001b[49m\u001b[43m(\u001b[49m\n\u001b[1;32m   1740\u001b[0m \u001b[43m    \u001b[49m\u001b[43mname\u001b[49m\u001b[43m,\u001b[49m\u001b[43m \u001b[49m\u001b[43mf\u001b[49m\u001b[43m,\u001b[49m\u001b[43m \u001b[49m\u001b[43mcall_impl_cache_miss\u001b[49m\u001b[43m,\u001b[49m\u001b[43m \u001b[49m\u001b[43m[\u001b[49m\u001b[43m]\u001b[49m\u001b[43m,\u001b[49m\u001b[43m \u001b[49m\u001b[43m[\u001b[49m\u001b[43m]\u001b[49m\u001b[43m,\u001b[49m\u001b[43m \u001b[49m\u001b[43mdonated_argnums\u001b[49m\u001b[43m,\u001b[49m\n\u001b[1;32m   1741\u001b[0m \u001b[43m    \u001b[49m\u001b[43mtree_util\u001b[49m\u001b[38;5;241;43m.\u001b[39;49m\u001b[43mdispatch_registry\u001b[49m\u001b[43m,\u001b[49m\u001b[43m \u001b[49m\u001b[43mpxla\u001b[49m\u001b[38;5;241;43m.\u001b[39;49m\u001b[43mcc_shard_arg\u001b[49m\u001b[43m,\u001b[49m\n\u001b[1;32m   1742\u001b[0m \u001b[43m    \u001b[49m\u001b[43m_get_cpp_global_cache\u001b[49m\u001b[43m(\u001b[49m\u001b[43mhas_explicit_sharding\u001b[49m\u001b[43m)\u001b[49m\u001b[43m)\u001b[49m\u001b[43m(\u001b[49m\u001b[38;5;241;43m*\u001b[39;49m\u001b[43margs\u001b[49m\u001b[43m)\u001b[49m\n",
      "File \u001b[0;32m/home/zeus/miniconda3/envs/cloudspace/lib/python3.12/site-packages/jax/_src/pjit.py:1721\u001b[0m, in \u001b[0;36m_pjit_call_impl.<locals>.call_impl_cache_miss\u001b[0;34m(*args_, **kwargs_)\u001b[0m\n\u001b[1;32m   1720\u001b[0m \u001b[38;5;28;01mdef\u001b[39;00m \u001b[38;5;21mcall_impl_cache_miss\u001b[39m(\u001b[38;5;241m*\u001b[39margs_, \u001b[38;5;241m*\u001b[39m\u001b[38;5;241m*\u001b[39mkwargs_):\n\u001b[0;32m-> 1721\u001b[0m   out_flat, compiled \u001b[38;5;241m=\u001b[39m \u001b[43m_pjit_call_impl_python\u001b[49m\u001b[43m(\u001b[49m\n\u001b[1;32m   1722\u001b[0m \u001b[43m      \u001b[49m\u001b[38;5;241;43m*\u001b[39;49m\u001b[43margs\u001b[49m\u001b[43m,\u001b[49m\u001b[43m \u001b[49m\u001b[43mjaxpr\u001b[49m\u001b[38;5;241;43m=\u001b[39;49m\u001b[43mjaxpr\u001b[49m\u001b[43m,\u001b[49m\u001b[43m \u001b[49m\u001b[43min_shardings\u001b[49m\u001b[38;5;241;43m=\u001b[39;49m\u001b[43min_shardings\u001b[49m\u001b[43m,\u001b[49m\n\u001b[1;32m   1723\u001b[0m \u001b[43m      \u001b[49m\u001b[43mout_shardings\u001b[49m\u001b[38;5;241;43m=\u001b[39;49m\u001b[43mout_shardings\u001b[49m\u001b[43m,\u001b[49m\u001b[43m \u001b[49m\u001b[43min_layouts\u001b[49m\u001b[38;5;241;43m=\u001b[39;49m\u001b[43min_layouts\u001b[49m\u001b[43m,\u001b[49m\n\u001b[1;32m   1724\u001b[0m \u001b[43m      \u001b[49m\u001b[43mout_layouts\u001b[49m\u001b[38;5;241;43m=\u001b[39;49m\u001b[43mout_layouts\u001b[49m\u001b[43m,\u001b[49m\u001b[43m \u001b[49m\u001b[43mresource_env\u001b[49m\u001b[38;5;241;43m=\u001b[39;49m\u001b[43mresource_env\u001b[49m\u001b[43m,\u001b[49m\n\u001b[1;32m   1725\u001b[0m \u001b[43m      \u001b[49m\u001b[43mdonated_invars\u001b[49m\u001b[38;5;241;43m=\u001b[39;49m\u001b[43mdonated_invars\u001b[49m\u001b[43m,\u001b[49m\u001b[43m \u001b[49m\u001b[43mname\u001b[49m\u001b[38;5;241;43m=\u001b[39;49m\u001b[43mname\u001b[49m\u001b[43m,\u001b[49m\u001b[43m \u001b[49m\u001b[43mkeep_unused\u001b[49m\u001b[38;5;241;43m=\u001b[39;49m\u001b[43mkeep_unused\u001b[49m\u001b[43m,\u001b[49m\n\u001b[1;32m   1726\u001b[0m \u001b[43m      \u001b[49m\u001b[43minline\u001b[49m\u001b[38;5;241;43m=\u001b[39;49m\u001b[43minline\u001b[49m\u001b[43m)\u001b[49m\n\u001b[1;32m   1727\u001b[0m   pgle_profiler \u001b[38;5;241m=\u001b[39m _read_pgle_profiler(jaxpr)\n\u001b[1;32m   1728\u001b[0m   fastpath_data \u001b[38;5;241m=\u001b[39m _get_fastpath_data(\n\u001b[1;32m   1729\u001b[0m       compiled, tree_structure(out_flat), args, out_flat, [], jaxpr\u001b[38;5;241m.\u001b[39meffects,\n\u001b[1;32m   1730\u001b[0m       jaxpr\u001b[38;5;241m.\u001b[39mconsts, \u001b[38;5;28;01mNone\u001b[39;00m, pgle_profiler)\n",
      "File \u001b[0;32m/home/zeus/miniconda3/envs/cloudspace/lib/python3.12/site-packages/jax/_src/pjit.py:1675\u001b[0m, in \u001b[0;36m_pjit_call_impl_python\u001b[0;34m(jaxpr, in_shardings, out_shardings, in_layouts, out_layouts, resource_env, donated_invars, name, keep_unused, inline, *args)\u001b[0m\n\u001b[1;32m   1667\u001b[0m   distributed_debug_log((\u001b[38;5;124m\"\u001b[39m\u001b[38;5;124mRunning pjit\u001b[39m\u001b[38;5;124m'\u001b[39m\u001b[38;5;124md function\u001b[39m\u001b[38;5;124m\"\u001b[39m, name),\n\u001b[1;32m   1668\u001b[0m                         (\u001b[38;5;124m\"\u001b[39m\u001b[38;5;124min_shardings\u001b[39m\u001b[38;5;124m\"\u001b[39m, in_shardings),\n\u001b[1;32m   1669\u001b[0m                         (\u001b[38;5;124m\"\u001b[39m\u001b[38;5;124mout_shardings\u001b[39m\u001b[38;5;124m\"\u001b[39m, out_shardings),\n\u001b[0;32m   (...)\u001b[0m\n\u001b[1;32m   1672\u001b[0m                         (\u001b[38;5;124m\"\u001b[39m\u001b[38;5;124mabstract args\u001b[39m\u001b[38;5;124m\"\u001b[39m, \u001b[38;5;28mmap\u001b[39m(xla\u001b[38;5;241m.\u001b[39mabstractify, args)),\n\u001b[1;32m   1673\u001b[0m                         (\u001b[38;5;124m\"\u001b[39m\u001b[38;5;124mfingerprint\u001b[39m\u001b[38;5;124m\"\u001b[39m, fingerprint))\n\u001b[1;32m   1674\u001b[0m \u001b[38;5;28;01mtry\u001b[39;00m:\n\u001b[0;32m-> 1675\u001b[0m   \u001b[38;5;28;01mreturn\u001b[39;00m \u001b[43mcompiled\u001b[49m\u001b[38;5;241;43m.\u001b[39;49m\u001b[43munsafe_call\u001b[49m\u001b[43m(\u001b[49m\u001b[38;5;241;43m*\u001b[39;49m\u001b[43margs\u001b[49m\u001b[43m)\u001b[49m, compiled\n\u001b[1;32m   1676\u001b[0m \u001b[38;5;28;01mexcept\u001b[39;00m \u001b[38;5;167;01mFloatingPointError\u001b[39;00m \u001b[38;5;28;01mas\u001b[39;00m e:\n\u001b[1;32m   1677\u001b[0m   \u001b[38;5;28;01massert\u001b[39;00m config\u001b[38;5;241m.\u001b[39mdebug_nans\u001b[38;5;241m.\u001b[39mvalue \u001b[38;5;129;01mor\u001b[39;00m config\u001b[38;5;241m.\u001b[39mdebug_infs\u001b[38;5;241m.\u001b[39mvalue  \u001b[38;5;66;03m# compiled_fun can only raise in this case\u001b[39;00m\n",
      "File \u001b[0;32m/home/zeus/miniconda3/envs/cloudspace/lib/python3.12/site-packages/jax/_src/profiler.py:333\u001b[0m, in \u001b[0;36mannotate_function.<locals>.wrapper\u001b[0;34m(*args, **kwargs)\u001b[0m\n\u001b[1;32m    330\u001b[0m \u001b[38;5;129m@wraps\u001b[39m(func)\n\u001b[1;32m    331\u001b[0m \u001b[38;5;28;01mdef\u001b[39;00m \u001b[38;5;21mwrapper\u001b[39m(\u001b[38;5;241m*\u001b[39margs, \u001b[38;5;241m*\u001b[39m\u001b[38;5;241m*\u001b[39mkwargs):\n\u001b[1;32m    332\u001b[0m   \u001b[38;5;28;01mwith\u001b[39;00m TraceAnnotation(name, \u001b[38;5;241m*\u001b[39m\u001b[38;5;241m*\u001b[39mdecorator_kwargs):\n\u001b[0;32m--> 333\u001b[0m     \u001b[38;5;28;01mreturn\u001b[39;00m \u001b[43mfunc\u001b[49m\u001b[43m(\u001b[49m\u001b[38;5;241;43m*\u001b[39;49m\u001b[43margs\u001b[49m\u001b[43m,\u001b[49m\u001b[43m \u001b[49m\u001b[38;5;241;43m*\u001b[39;49m\u001b[38;5;241;43m*\u001b[39;49m\u001b[43mkwargs\u001b[49m\u001b[43m)\u001b[49m\n\u001b[1;32m    334\u001b[0m   \u001b[38;5;28;01mreturn\u001b[39;00m wrapper\n",
      "File \u001b[0;32m/home/zeus/miniconda3/envs/cloudspace/lib/python3.12/site-packages/jax/_src/interpreters/pxla.py:1286\u001b[0m, in \u001b[0;36mExecuteReplicated.__call__\u001b[0;34m(self, *args)\u001b[0m\n\u001b[1;32m   1284\u001b[0m   \u001b[38;5;28mself\u001b[39m\u001b[38;5;241m.\u001b[39m_handle_token_bufs(result_token_bufs, sharded_runtime_token)\n\u001b[1;32m   1285\u001b[0m \u001b[38;5;28;01melse\u001b[39;00m:\n\u001b[0;32m-> 1286\u001b[0m   results \u001b[38;5;241m=\u001b[39m \u001b[38;5;28;43mself\u001b[39;49m\u001b[38;5;241;43m.\u001b[39;49m\u001b[43mxla_executable\u001b[49m\u001b[38;5;241;43m.\u001b[39;49m\u001b[43mexecute_sharded\u001b[49m\u001b[43m(\u001b[49m\u001b[43minput_bufs\u001b[49m\u001b[43m)\u001b[49m\n\u001b[1;32m   1288\u001b[0m \u001b[38;5;28;01mif\u001b[39;00m dispatch\u001b[38;5;241m.\u001b[39mneeds_check_special():\n\u001b[1;32m   1289\u001b[0m   out_arrays \u001b[38;5;241m=\u001b[39m results\u001b[38;5;241m.\u001b[39mdisassemble_into_single_device_arrays()\n",
      "\u001b[0;31mKeyboardInterrupt\u001b[0m: "
     ]
    }
   ],
   "source": [
    "lr = 5.0\n",
    "\n",
    "os.makedirs(\"../results/attacks\", exist_ok=True)\n",
    "\n",
    "for seed in range(1, 9):\n",
    "    _ = np.random.seed(seed)\n",
    "    \n",
    "    n = 16\n",
    "    n_candidates = int(n * 1.5)\n",
    "    indices = np.arange((seed-1) * n_candidates, seed * n_candidates)\n",
    "    initial_labels = train_labels[indices]\n",
    "    \n",
    "    target_labels = np.random.randint(0, 10, n_candidates)\n",
    "    condition = target_labels != initial_labels\n",
    "    \n",
    "    initial_indices = indices[condition][:n]\n",
    "    initial_labels = initial_labels[condition][:n]\n",
    "    targets = target_labels[condition][:n]\n",
    "    meis = train_images[initial_indices]\n",
    "    \n",
    "    meis = meis.at[meis == 0.0].add(0.01)\n",
    "    meis = meis.at[meis == 1.0].add(-0.01)\n",
    "    meis = jnp.log(meis / (1 - meis))  # logit to make mei unconstrained.\n",
    "    print(f\"Initial labels {initial_labels}\")\n",
    "    print(f\"Target labels  {targets}\")\n",
    "    \n",
    "    vs_init = vmapped_simulate(parameters, tf_image(meis))\n",
    "    \n",
    "    with open(f\"../results/attacks/attack_image_before_seed{seed}.pkl\", \"wb\") as handle:\n",
    "        pickle.dump(meis, handle)\n",
    "    with open(f\"../results/attacks/attack_trace_before_seed{seed}.pkl\", \"wb\") as handle:\n",
    "        pickle.dump(vs_init, handle)\n",
    "    \n",
    "    mei_opt, losses, vs, travelled, predictions, all_accuracies, all_images, all_traces = optimize_attack(\n",
    "        meis,\n",
    "        target_class=targets,\n",
    "        epochs=30,\n",
    "        lr=lr,\n",
    "        momentum=0.0,\n",
    "        regularization_lambda=0.0,\n",
    "    )\n",
    "    with open(f\"../results/attacks/attack_image_after_seed{seed}.pkl\", \"wb\") as handle:\n",
    "        pickle.dump(mei_opt, handle)\n",
    "    with open(f\"../results/attacks/attack_trace_after_seed{seed}.pkl\", \"wb\") as handle:\n",
    "        pickle.dump(vs, handle)\n",
    "    with open(f\"../results/attacks/attack_losses_seed{seed}.pkl\", \"wb\") as handle:\n",
    "        pickle.dump(losses, handle)\n",
    "    with open(f\"../results/attacks/travelled_seed{seed}.pkl\", \"wb\") as handle:\n",
    "        pickle.dump(travelled, handle)\n",
    "    with open(f\"../results/attacks/predictions_seed{seed}.pkl\", \"wb\") as handle:\n",
    "        pickle.dump(predictions, handle)\n",
    "    with open(f\"../results/attacks/all_accuracies_seed{seed}.pkl\", \"wb\") as handle:\n",
    "        pickle.dump(all_accuracies, handle)\n",
    "    with open(f\"../results/attacks/all_images_seed{seed}.pkl\", \"wb\") as handle:\n",
    "        pickle.dump(all_images, handle)\n",
    "    with open(f\"../results/attacks/all_traces_seed{seed}.pkl\", \"wb\") as handle:\n",
    "        pickle.dump(all_traces, handle)\n",
    "    with open(f\"../results/attacks/initial_labels_seed{seed}.pkl\", \"wb\") as handle:\n",
    "        pickle.dump(initial_labels, handle)\n",
    "    with open(f\"../results/attacks/target_labels_seed{seed}.pkl\", \"wb\") as handle:\n",
    "        pickle.dump(targets, handle)"
   ]
  },
  {
   "cell_type": "markdown",
   "id": "ba6d6058-fddb-4969-b0b3-3c44f4361f71",
   "metadata": {},
   "source": [
    "# Performance evaluation"
   ]
  },
  {
   "cell_type": "markdown",
   "id": "99a5a414-b473-43e7-b9b8-ed09939ddee6",
   "metadata": {},
   "source": [
    "### With all parameters trained"
   ]
  },
  {
   "cell_type": "code",
   "execution_count": 42,
   "id": "fcc86372-b2af-4b76-97b4-4ed10e238fb2",
   "metadata": {},
   "outputs": [
    {
     "name": "stdout",
     "output_type": "stream",
     "text": [
      "Added 10 recordings. See `.recordings` for details.\n"
     ]
    }
   ],
   "source": [
    "net.delete_recordings()\n",
    "net.delete_stimuli()\n",
    "net[range(28**2+64, 28**2+64+10), 0, 0].record()"
   ]
  },
  {
   "cell_type": "code",
   "execution_count": 43,
   "id": "471921f2-0d52-41c5-a158-4acd58cb5ce5",
   "metadata": {},
   "outputs": [],
   "source": [
    "accuracies = {}"
   ]
  },
  {
   "cell_type": "code",
   "execution_count": 44,
   "id": "8d6ec472-905f-4739-af95-cc6bcb65815b",
   "metadata": {},
   "outputs": [
    {
     "name": "stdout",
     "output_type": "stream",
     "text": [
      "0 Test accuracy full 0.11600000411272049\n",
      "1 Test accuracy full 0.10300000756978989\n",
      "2 Test accuracy full 0.09400000423192978\n",
      "3 Test accuracy full 0.10500000417232513\n"
     ]
    },
    {
     "ename": "KeyboardInterrupt",
     "evalue": "",
     "output_type": "error",
     "traceback": [
      "\u001b[0;31m---------------------------------------------------------------------------\u001b[0m",
      "\u001b[0;31mKeyboardInterrupt\u001b[0m                         Traceback (most recent call last)",
      "Cell \u001b[0;32mIn[44], line 3\u001b[0m\n\u001b[1;32m      1\u001b[0m all_accs \u001b[38;5;241m=\u001b[39m []\n\u001b[1;32m      2\u001b[0m \u001b[38;5;28;01mfor\u001b[39;00m i \u001b[38;5;129;01min\u001b[39;00m \u001b[38;5;28mrange\u001b[39m(\u001b[38;5;241m10\u001b[39m):\n\u001b[0;32m----> 3\u001b[0m     test_acc \u001b[38;5;241m=\u001b[39m \u001b[43meval_cross_entropy_accuracy\u001b[49m\u001b[43m(\u001b[49m\u001b[43mopt_params\u001b[49m\u001b[43m,\u001b[49m\u001b[43m \u001b[49m\u001b[38;5;241;43m1000\u001b[39;49m\u001b[43m,\u001b[49m\u001b[43m \u001b[49m\u001b[38;5;124;43m\"\u001b[39;49m\u001b[38;5;124;43mtest\u001b[39;49m\u001b[38;5;124;43m\"\u001b[39;49m\u001b[43m,\u001b[49m\u001b[43m \u001b[49m\u001b[38;5;241;43m1000\u001b[39;49m\u001b[38;5;241;43m*\u001b[39;49m\u001b[43mi\u001b[49m\u001b[43m)\u001b[49m\n\u001b[1;32m      4\u001b[0m     all_accs\u001b[38;5;241m.\u001b[39mappend(test_acc)\n\u001b[1;32m      5\u001b[0m     \u001b[38;5;28mprint\u001b[39m(\u001b[38;5;124mf\u001b[39m\u001b[38;5;124m\"\u001b[39m\u001b[38;5;132;01m{\u001b[39;00mi\u001b[38;5;132;01m}\u001b[39;00m\u001b[38;5;124m Test accuracy full \u001b[39m\u001b[38;5;132;01m{\u001b[39;00mtest_acc\u001b[38;5;132;01m}\u001b[39;00m\u001b[38;5;124m\"\u001b[39m)\n",
      "Cell \u001b[0;32mIn[23], line 11\u001b[0m, in \u001b[0;36meval_cross_entropy_accuracy\u001b[0;34m(opt_params, num_eval, train_or_test, start_ind)\u001b[0m\n\u001b[1;32m      8\u001b[0m \u001b[38;5;28;01melse\u001b[39;00m:\n\u001b[1;32m      9\u001b[0m     \u001b[38;5;28;01mraise\u001b[39;00m \u001b[38;5;167;01mValueError\u001b[39;00m\n\u001b[0;32m---> 11\u001b[0m prediction \u001b[38;5;241m=\u001b[39m \u001b[43mvmapped_predict\u001b[49m\u001b[43m(\u001b[49m\n\u001b[1;32m     12\u001b[0m \u001b[43m    \u001b[49m\u001b[43mtransform\u001b[49m\u001b[38;5;241;43m.\u001b[39;49m\u001b[43mforward\u001b[49m\u001b[43m(\u001b[49m\u001b[43mopt_params\u001b[49m\u001b[43m)\u001b[49m\u001b[43m,\u001b[49m\n\u001b[1;32m     13\u001b[0m \u001b[43m    \u001b[49m\u001b[43mimages\u001b[49m\u001b[43m,\u001b[49m\n\u001b[1;32m     14\u001b[0m \u001b[43m\u001b[49m\u001b[43m)\u001b[49m[:, \u001b[38;5;241m-\u001b[39m\u001b[38;5;241m10\u001b[39m:]\n\u001b[1;32m     15\u001b[0m prediction \u001b[38;5;241m=\u001b[39m jnp\u001b[38;5;241m.\u001b[39margmax(prediction, axis\u001b[38;5;241m=\u001b[39m\u001b[38;5;241m1\u001b[39m)\u001b[38;5;241m.\u001b[39mastype(\u001b[38;5;28mint\u001b[39m)\n\u001b[1;32m     16\u001b[0m \u001b[38;5;28;01mreturn\u001b[39;00m np\u001b[38;5;241m.\u001b[39mmean(prediction \u001b[38;5;241m==\u001b[39m labels)\n",
      "\u001b[0;31mKeyboardInterrupt\u001b[0m: "
     ]
    }
   ],
   "source": [
    "all_accs = []\n",
    "for i in range(10):\n",
    "    test_acc = eval_cross_entropy_accuracy(opt_params, 1000, \"test\", 1000*i)\n",
    "    all_accs.append(test_acc)\n",
    "    print(f\"{i} Test accuracy full {test_acc}\")\n",
    "all_accs = np.asarray(all_accs)\n",
    "print(\"all_accs\", all_accs, \"mean\", np.mean(all_accs))"
   ]
  },
  {
   "cell_type": "code",
   "execution_count": 42,
   "id": "a47087c9-3176-4c24-ad98-8c36e95e0af9",
   "metadata": {},
   "outputs": [
    {
     "name": "stdout",
     "output_type": "stream",
     "text": [
      "0 Test accuracy full 0.958984375\n",
      "1 Test accuracy full 0.9287109375\n",
      "2 Test accuracy full 0.9326171875\n",
      "3 Test accuracy full 0.94140625\n",
      "4 Test accuracy full 0.9423828125\n",
      "5 Test accuracy full 0.9453125\n",
      "6 Test accuracy full 0.9541015625\n",
      "7 Test accuracy full 0.9560546875\n",
      "8 Test accuracy full 0.943359375\n",
      "all_accs [0.9589844  0.92871094 0.9326172  0.94140625 0.9423828  0.9453125\n",
      " 0.95410156 0.9560547  0.9433594 ] mean 0.94477\n"
     ]
    }
   ],
   "source": [
    "all_accs = []\n",
    "for i in range(9):\n",
    "    test_acc = eval_cross_entropy_accuracy(opt_params, 1024, \"test\", 1024*i)\n",
    "    all_accs.append(test_acc)\n",
    "    print(f\"{i} Test accuracy full {test_acc}\")\n",
    "all_accs = np.asarray(all_accs)\n",
    "print(\"all_accs\", all_accs, \"mean\", np.mean(all_accs))"
   ]
  },
  {
   "cell_type": "code",
   "execution_count": 43,
   "id": "e5343349-f938-4cef-98b7-7657fcaad0df",
   "metadata": {},
   "outputs": [
    {
     "ename": "AttributeError",
     "evalue": "'numpy.ndarray' object has no attribute 'append'",
     "output_type": "error",
     "traceback": [
      "\u001b[0;31m---------------------------------------------------------------------------\u001b[0m",
      "\u001b[0;31mAttributeError\u001b[0m                            Traceback (most recent call last)",
      "Cell \u001b[0;32mIn[43], line 3\u001b[0m\n\u001b[1;32m      1\u001b[0m \u001b[38;5;28;01mfor\u001b[39;00m i \u001b[38;5;129;01min\u001b[39;00m \u001b[38;5;28mrange\u001b[39m(\u001b[38;5;241m9\u001b[39m):\n\u001b[1;32m      2\u001b[0m     test_acc \u001b[38;5;241m=\u001b[39m eval_cross_entropy_accuracy(opt_params, \u001b[38;5;241m700\u001b[39m, \u001b[38;5;124m\"\u001b[39m\u001b[38;5;124mtest\u001b[39m\u001b[38;5;124m\"\u001b[39m, \u001b[38;5;241m1024\u001b[39m\u001b[38;5;241m*\u001b[39m\u001b[38;5;241m9\u001b[39m)\n\u001b[0;32m----> 3\u001b[0m     \u001b[43mall_accs\u001b[49m\u001b[38;5;241;43m.\u001b[39;49m\u001b[43mappend\u001b[49m(test_acc)\n\u001b[1;32m      4\u001b[0m     \u001b[38;5;28mprint\u001b[39m(\u001b[38;5;124mf\u001b[39m\u001b[38;5;124m\"\u001b[39m\u001b[38;5;132;01m{\u001b[39;00mi\u001b[38;5;132;01m}\u001b[39;00m\u001b[38;5;124m Test accuracy full \u001b[39m\u001b[38;5;132;01m{\u001b[39;00mtest_acc\u001b[38;5;132;01m}\u001b[39;00m\u001b[38;5;124m\"\u001b[39m)\n",
      "\u001b[0;31mAttributeError\u001b[0m: 'numpy.ndarray' object has no attribute 'append'"
     ]
    }
   ],
   "source": [
    "for i in range(9):\n",
    "    test_acc = eval_cross_entropy_accuracy(opt_params, 700, \"test\", 1024*9)\n",
    "    print(f\"{i} Test accuracy full {test_acc}\")"
   ]
  },
  {
   "cell_type": "markdown",
   "id": "933d2b83-be7f-412e-b520-9cb7082f44f9",
   "metadata": {},
   "source": [
    "### Return to old"
   ]
  },
  {
   "cell_type": "code",
   "execution_count": 43,
   "id": "908f75c7-d85f-48dc-9071-c383d906214b",
   "metadata": {},
   "outputs": [
    {
     "name": "stdout",
     "output_type": "stream",
     "text": [
      "Test accuracy full 0.9521484375\n"
     ]
    }
   ],
   "source": [
    "with open(\"../../../nex/ca1net/results/parameters/MichaelRun/opt_params_1770\", \"rb\") as handle:\n",
    "    opt_params = pickle.load(handle)\n",
    "\n",
    "test_acc = eval_cross_entropy_accuracy(opt_params, 1024, \"test\", 0)\n",
    "print(f\"Test accuracy full {test_acc}\")\n",
    "accuracies[\"all\"] = test_acc"
   ]
  },
  {
   "cell_type": "code",
   "execution_count": 44,
   "id": "fc9e923a-4cd2-4b42-af2b-e9fcbea8a80e",
   "metadata": {},
   "outputs": [
    {
     "name": "stdout",
     "output_type": "stream",
     "text": [
      "Number of newly added trainable parameters: 37632. Total number of trainable parameters: 37632\n",
      "Number of newly added trainable parameters: 12544. Total number of trainable parameters: 50176\n",
      "Number of newly added trainable parameters: 480. Total number of trainable parameters: 50656\n",
      "Number of newly added trainable parameters: 160. Total number of trainable parameters: 50816\n",
      "Number of newly added trainable parameters: 13938. Total number of trainable parameters: 64754\n",
      "Number of newly added trainable parameters: 13938. Total number of trainable parameters: 78692\n",
      "Number of newly added trainable parameters: 13938. Total number of trainable parameters: 92630\n",
      "Number of newly added trainable parameters: 13948. Total number of trainable parameters: 106578\n"
     ]
    }
   ],
   "source": [
    "net.delete_trainables()\n",
    "net.Conns1_exc(\"all\").make_trainable(\"Conns1_exc_gS\")\n",
    "net.Conns1_inh(\"all\").make_trainable(\"Conns1_inh_gS\")\n",
    "net.Conns2_exc(\"all\").make_trainable(\"Conns2_exc_gS\")\n",
    "net.Conns2_inh(\"all\").make_trainable(\"Conns2_inh_gS\")\n",
    "net.cell(\"all\").branch(\"all\").make_trainable(\"HH_gNa\")\n",
    "net.cell(\"all\").branch(\"all\").make_trainable(\"HH_gK\")\n",
    "net.cell(\"all\").branch(\"all\").make_trainable(\"HH_gLeak\")\n",
    "net.cell(\"all\").branch(\"all\").make_trainable(\"axial_resistivity\")\n",
    "initial_parameters = net.get_parameters()\n",
    "initial_parameters = transform.inverse(initial_parameters)"
   ]
  },
  {
   "cell_type": "markdown",
   "id": "14dacffb-889e-4923-8567-7f4a06c61b80",
   "metadata": {},
   "source": [
    "### With all first layer synapses reset to baseline"
   ]
  },
  {
   "cell_type": "code",
   "execution_count": 47,
   "id": "68821f14-ffe4-44cc-87ee-e2e439314a7e",
   "metadata": {},
   "outputs": [],
   "source": [
    "with open(\"../../../nex/ca1net/results/parameters/MichaelRun/opt_params_1770\", \"rb\") as handle:\n",
    "    opt_params = pickle.load(handle)\n",
    "\n",
    "for i in range(2):\n",
    "    opt_params[i] = initial_parameters[i]"
   ]
  },
  {
   "cell_type": "code",
   "execution_count": 48,
   "id": "5bc2f82f-4811-47ca-a115-961df15f60b0",
   "metadata": {},
   "outputs": [
    {
     "name": "stdout",
     "output_type": "stream",
     "text": [
      "Test accuracy full 0.14453125\n"
     ]
    }
   ],
   "source": [
    "test_acc = eval_cross_entropy_accuracy(opt_params, 1024, \"test\")\n",
    "print(f\"Test accuracy full {test_acc}\")\n",
    "accuracies[\"no_first_layer\"] = test_acc"
   ]
  },
  {
   "cell_type": "markdown",
   "id": "c9bf9fb6-7499-42d2-a88b-da52d698479e",
   "metadata": {},
   "source": [
    "### With all second layer synapses reset to baseline"
   ]
  },
  {
   "cell_type": "code",
   "execution_count": 49,
   "id": "ec7b777e-a437-4b84-84a8-665de7a714c4",
   "metadata": {},
   "outputs": [],
   "source": [
    "with open(\"../../../nex/ca1net/results/parameters/MichaelRun/opt_params_1770\", \"rb\") as handle:\n",
    "    opt_params = pickle.load(handle)\n",
    "\n",
    "for i in range(2, 4):\n",
    "    opt_params[i] = initial_parameters[i]"
   ]
  },
  {
   "cell_type": "code",
   "execution_count": 50,
   "id": "ea13c873-01c2-4a2e-a718-93cd932bf018",
   "metadata": {},
   "outputs": [
    {
     "name": "stdout",
     "output_type": "stream",
     "text": [
      "Test accuracy full 0.3349609375\n"
     ]
    }
   ],
   "source": [
    "test_acc = eval_cross_entropy_accuracy(opt_params, 1024, \"test\")\n",
    "print(f\"Test accuracy full {test_acc}\")\n",
    "accuracies[\"no_second_layer\"] = test_acc"
   ]
  },
  {
   "cell_type": "markdown",
   "id": "59638b9a-94b7-4762-a6a5-c41ed3b8b5ed",
   "metadata": {},
   "source": [
    "### With sodium reset to baseline"
   ]
  },
  {
   "cell_type": "code",
   "execution_count": 51,
   "id": "1d0aeb3e-7a97-4b1e-891f-1291559a8270",
   "metadata": {},
   "outputs": [],
   "source": [
    "with open(\"../../../nex/ca1net/results/parameters/MichaelRun/opt_params_1770\", \"rb\") as handle:\n",
    "    opt_params = pickle.load(handle)\n",
    "\n",
    "for i in range(4, 5):\n",
    "    opt_params[i] = initial_parameters[i]"
   ]
  },
  {
   "cell_type": "code",
   "execution_count": 52,
   "id": "76b5c2f4-be93-4ad5-bdc6-024df65648a7",
   "metadata": {},
   "outputs": [
    {
     "name": "stdout",
     "output_type": "stream",
     "text": [
      "Test accuracy full 0.64453125\n"
     ]
    }
   ],
   "source": [
    "test_acc = eval_cross_entropy_accuracy(opt_params, 1024, \"test\")\n",
    "print(f\"Test accuracy full {test_acc}\")\n",
    "accuracies[\"no_sodium\"] = test_acc"
   ]
  },
  {
   "cell_type": "markdown",
   "id": "6cca9f8e-841b-457a-8ef9-f1ec4bf63b25",
   "metadata": {},
   "source": [
    "### With potassium reset to baseline"
   ]
  },
  {
   "cell_type": "code",
   "execution_count": 53,
   "id": "3402e9fb-d1e5-47ab-848f-32961af87561",
   "metadata": {},
   "outputs": [],
   "source": [
    "with open(\"../../../nex/ca1net/results/parameters/MichaelRun/opt_params_1770\", \"rb\") as handle:\n",
    "    opt_params = pickle.load(handle)\n",
    "\n",
    "for i in range(5, 6):\n",
    "    opt_params[i] = initial_parameters[i]"
   ]
  },
  {
   "cell_type": "code",
   "execution_count": 54,
   "id": "ce635637-ae69-4c94-b69f-c3fff3ccd8e0",
   "metadata": {},
   "outputs": [
    {
     "name": "stdout",
     "output_type": "stream",
     "text": [
      "Test accuracy full 0.5859375\n"
     ]
    }
   ],
   "source": [
    "test_acc = eval_cross_entropy_accuracy(opt_params, 1024, \"test\")\n",
    "print(f\"Test accuracy full {test_acc}\")\n",
    "accuracies[\"no_potassium\"] = test_acc"
   ]
  },
  {
   "cell_type": "markdown",
   "id": "36083ac2-52ae-4fc6-85d3-db67199d15ff",
   "metadata": {},
   "source": [
    "### With leak reset to baseline"
   ]
  },
  {
   "cell_type": "code",
   "execution_count": 55,
   "id": "56ab3c61-8e52-489f-bee9-07aeeff46ac9",
   "metadata": {},
   "outputs": [],
   "source": [
    "with open(\"../../../nex/ca1net/results/parameters/MichaelRun/opt_params_1770\", \"rb\") as handle:\n",
    "    opt_params = pickle.load(handle)\n",
    "\n",
    "for i in range(6, 7):\n",
    "    opt_params[i] = initial_parameters[i]"
   ]
  },
  {
   "cell_type": "code",
   "execution_count": 56,
   "id": "3035274f-9d46-48f5-90e6-ce3e66e9c9e2",
   "metadata": {},
   "outputs": [
    {
     "name": "stdout",
     "output_type": "stream",
     "text": [
      "Test accuracy full 0.9150390625\n"
     ]
    }
   ],
   "source": [
    "test_acc = eval_cross_entropy_accuracy(opt_params, 1024, \"test\")\n",
    "print(f\"Test accuracy full {test_acc}\")\n",
    "accuracies[\"no_leak\"] = test_acc"
   ]
  },
  {
   "cell_type": "markdown",
   "id": "be09d4bb-d31b-441d-af41-89fef4e68d30",
   "metadata": {},
   "source": [
    "### With all channels reset to baseline"
   ]
  },
  {
   "cell_type": "code",
   "execution_count": 57,
   "id": "45f297cb-8fe5-4e61-ac6c-e58b53884832",
   "metadata": {},
   "outputs": [],
   "source": [
    "with open(\"../../../nex/ca1net/results/parameters/MichaelRun/opt_params_1770\", \"rb\") as handle:\n",
    "    opt_params = pickle.load(handle)\n",
    "\n",
    "for i in range(4, 7):\n",
    "    opt_params[i] = initial_parameters[i]"
   ]
  },
  {
   "cell_type": "code",
   "execution_count": 58,
   "id": "842b8462-083e-46af-8005-095073f7c53c",
   "metadata": {},
   "outputs": [
    {
     "name": "stdout",
     "output_type": "stream",
     "text": [
      "Test accuracy full 0.4794921875\n"
     ]
    }
   ],
   "source": [
    "test_acc = eval_cross_entropy_accuracy(opt_params, 1024, \"test\")\n",
    "print(f\"Test accuracy full {test_acc}\")\n",
    "accuracies[\"no_channels\"] = test_acc"
   ]
  },
  {
   "cell_type": "markdown",
   "id": "a458c41f-f8d8-4d0f-87fa-cb9ad7464593",
   "metadata": {},
   "source": [
    "### With all axial resistivities reset to baseline"
   ]
  },
  {
   "cell_type": "code",
   "execution_count": 59,
   "id": "36b62f1e-643a-4cb9-b939-75c9ca0c3324",
   "metadata": {},
   "outputs": [],
   "source": [
    "with open(\"../../../nex/ca1net/results/parameters/MichaelRun/opt_params_1770\", \"rb\") as handle:\n",
    "    opt_params = pickle.load(handle)\n",
    "\n",
    "for i in range(7, 8):\n",
    "    opt_params[i] = initial_parameters[i]"
   ]
  },
  {
   "cell_type": "code",
   "execution_count": 60,
   "id": "093b036d-58e5-495f-934f-a2414ff66014",
   "metadata": {},
   "outputs": [
    {
     "name": "stdout",
     "output_type": "stream",
     "text": [
      "Test accuracy full 0.91796875\n"
     ]
    }
   ],
   "source": [
    "test_acc = eval_cross_entropy_accuracy(opt_params, 1024, \"test\")\n",
    "print(f\"Test accuracy full {test_acc}\")\n",
    "accuracies[\"no_axial_resistivities\"] = test_acc"
   ]
  },
  {
   "cell_type": "code",
   "execution_count": 61,
   "id": "37c08ca3-bc10-4446-8897-adc80a9fa047",
   "metadata": {},
   "outputs": [
    {
     "data": {
      "text/plain": [
       "{'all': Array(0.95214844, dtype=float32),\n",
       " 'no_first_layer': Array(0.14453125, dtype=float32),\n",
       " 'no_second_layer': Array(0.33496094, dtype=float32),\n",
       " 'no_sodium': Array(0.64453125, dtype=float32),\n",
       " 'no_potassium': Array(0.5859375, dtype=float32),\n",
       " 'no_leak': Array(0.91503906, dtype=float32),\n",
       " 'no_channels': Array(0.4794922, dtype=float32),\n",
       " 'no_axial_resistivities': Array(0.91796875, dtype=float32)}"
      ]
     },
     "execution_count": 61,
     "metadata": {},
     "output_type": "execute_result"
    }
   ],
   "source": [
    "accuracies"
   ]
  },
  {
   "cell_type": "code",
   "execution_count": 63,
   "id": "86988782-9946-4de6-ace9-babbf9305b80",
   "metadata": {},
   "outputs": [],
   "source": [
    "with open(\"../results/accuracies/dropout_accuracies.pkl\", \"wb\") as handle:\n",
    "    pickle.dump(accuracies, handle)"
   ]
  },
  {
   "cell_type": "code",
   "execution_count": null,
   "id": "bbcb3924-733d-4038-8e7e-56d1bffc3e17",
   "metadata": {},
   "outputs": [],
   "source": []
  }
 ],
 "metadata": {
  "kernelspec": {
   "display_name": "Python 3 (ipykernel)",
   "language": "python",
   "name": "python3"
  },
  "language_info": {
   "codemirror_mode": {
    "name": "ipython",
    "version": 3
   },
   "file_extension": ".py",
   "mimetype": "text/x-python",
   "name": "python",
   "nbconvert_exporter": "python",
   "pygments_lexer": "ipython3",
   "version": "3.12.5"
  }
 },
 "nbformat": 4,
 "nbformat_minor": 5
}
