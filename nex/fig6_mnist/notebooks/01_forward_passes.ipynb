{
 "cells": [
  {
   "cell_type": "markdown",
   "id": "d22aab36-d491-4b14-a82e-703efaac9e03",
   "metadata": {},
   "source": [
    "# A biophysical spiking network model: MINST all digits"
   ]
  },
  {
   "cell_type": "code",
   "execution_count": 1,
   "id": "b454b18b-6675-4445-8d76-50a3fbfdd9ed",
   "metadata": {},
   "outputs": [],
   "source": [
    "%load_ext autoreload\n",
    "%autoreload 2"
   ]
  },
  {
   "cell_type": "code",
   "execution_count": 2,
   "id": "181132c5-af87-4834-a042-ad7fdbe65352",
   "metadata": {},
   "outputs": [],
   "source": [
    "from jax import config\n",
    "\n",
    "# config.update(\"jax_debug_nans\", True)\n",
    "config.update(\"jax_enable_x64\", True)\n",
    "config.update(\"jax_platform_name\", \"gpu\")\n",
    "\n",
    "import os\n",
    "os.environ[\"XLA_PYTHON_CLIENT_MEM_FRACTION\"] = \".8\""
   ]
  },
  {
   "cell_type": "code",
   "execution_count": 3,
   "id": "eaad4225-3195-440d-a4ef-371a542fc01f",
   "metadata": {},
   "outputs": [],
   "source": [
    "import jax.numpy as jnp"
   ]
  },
  {
   "cell_type": "code",
   "execution_count": 4,
   "id": "2916fa7d-47b6-4369-a98f-8dc1844b327d",
   "metadata": {},
   "outputs": [],
   "source": [
    "from itertools import chain\n",
    "import pickle\n",
    "import time"
   ]
  },
  {
   "cell_type": "code",
   "execution_count": 6,
   "id": "f7e3c12f-47b0-4b55-933f-d89d768bb922",
   "metadata": {},
   "outputs": [],
   "source": [
    "import matplotlib as mpl\n",
    "import matplotlib.pyplot as plt\n",
    "import numpy as np\n",
    "import jax.numpy as jnp\n",
    "from jax import jit, vmap, value_and_grad\n",
    "from jax.scipy.special import logsumexp\n",
    "\n",
    "import optax\n",
    "# import tensorflow as tf\n",
    "# import tensorflow_datasets as tfds\n",
    "from jax.nn import sigmoid\n",
    "\n",
    "import jaxley as jx\n",
    "from jaxley.channels import HH\n",
    "from jaxley.channels import CaL, CaT, K, Km, Leak, Na\n",
    "from jaxley.synapses import IonotropicSynapse, TanhRateSynapse\n",
    "# from jaxley_mech.synapses import AMPA, NMDA, GABAa, GABAb\n",
    "from jaxley.optimize.utils import l2_norm\n",
    "from jaxley.connect import fully_connect, connect, sparse_connect"
   ]
  },
  {
   "cell_type": "code",
   "execution_count": 7,
   "id": "1534c7c2-175c-4741-8c6f-7813073a5c4e",
   "metadata": {},
   "outputs": [],
   "source": [
    "dales_law = False\n",
    "comp_length = 40\n",
    "\n",
    "i_amp_factor = comp_length / 10 \n",
    "\n",
    "scale_readout_receptive_strength = 10\n",
    "\n",
    "soma_radius = 10\n",
    "soma_length = 2 * soma_radius"
   ]
  },
  {
   "cell_type": "code",
   "execution_count": 8,
   "id": "0c9bc295-a287-454e-8739-9af818fc81f1",
   "metadata": {},
   "outputs": [],
   "source": [
    "dt = 0.025\n",
    "t_max = 10.01\n",
    "time_vec = np.arange(0, t_max+2*dt, dt)\n",
    "levels = 3\n",
    "checkpoints = [int(np.ceil(len(time_vec)**(1/levels))) for _ in range(levels)]\n",
    "\n",
    "i_delay = 0.1\n",
    "i_dur = 1.0\n",
    "# voltages.shape[1] - 10\n",
    "cols = [\n",
    "    \"#f0f0f0\",\n",
    "    \"#d9d9d9\",\n",
    "    \"#bdbdbd\",\n",
    "    \"#969696\",\n",
    "    \"#737373\",\n",
    "    \"#525252\",\n",
    "    \"#252525\",\n",
    "    \"#000000\",\n",
    "]"
   ]
  },
  {
   "cell_type": "markdown",
   "id": "9665c0e2-2d56-46b5-a698-a1cccc5d22d9",
   "metadata": {},
   "source": [
    "### Load training data"
   ]
  },
  {
   "cell_type": "code",
   "execution_count": 9,
   "id": "c2640169-107d-4f3c-a8fd-e1835c95c7e7",
   "metadata": {},
   "outputs": [
    {
     "ename": "FileNotFoundError",
     "evalue": "[Errno 2] No such file or directory: '../../../nex/mnist/results/mnist_data.pickle'",
     "output_type": "error",
     "traceback": [
      "\u001b[0;31m---------------------------------------------------------------------------\u001b[0m",
      "\u001b[0;31mFileNotFoundError\u001b[0m                         Traceback (most recent call last)",
      "Cell \u001b[0;32mIn[9], line 1\u001b[0m\n\u001b[0;32m----> 1\u001b[0m \u001b[38;5;28;01mwith\u001b[39;00m \u001b[38;5;28;43mopen\u001b[39;49m\u001b[43m(\u001b[49m\u001b[38;5;124;43m\"\u001b[39;49m\u001b[38;5;124;43m../../../nex/mnist/results/mnist_data.pickle\u001b[39;49m\u001b[38;5;124;43m\"\u001b[39;49m\u001b[43m,\u001b[49m\u001b[43m \u001b[49m\u001b[38;5;124;43m\"\u001b[39;49m\u001b[38;5;124;43mrb\u001b[39;49m\u001b[38;5;124;43m\"\u001b[39;49m\u001b[43m)\u001b[49m \u001b[38;5;28;01mas\u001b[39;00m handle:\n\u001b[1;32m      2\u001b[0m     mnist \u001b[38;5;241m=\u001b[39m pickle\u001b[38;5;241m.\u001b[39mload(handle)\n\u001b[1;32m      4\u001b[0m train \u001b[38;5;241m=\u001b[39m mnist[\u001b[38;5;124m\"\u001b[39m\u001b[38;5;124mtrain\u001b[39m\u001b[38;5;124m\"\u001b[39m]\n",
      "File \u001b[0;32m~/.conda/envs/jaxley/lib/python3.12/site-packages/IPython/core/interactiveshell.py:324\u001b[0m, in \u001b[0;36m_modified_open\u001b[0;34m(file, *args, **kwargs)\u001b[0m\n\u001b[1;32m    317\u001b[0m \u001b[38;5;28;01mif\u001b[39;00m file \u001b[38;5;129;01min\u001b[39;00m {\u001b[38;5;241m0\u001b[39m, \u001b[38;5;241m1\u001b[39m, \u001b[38;5;241m2\u001b[39m}:\n\u001b[1;32m    318\u001b[0m     \u001b[38;5;28;01mraise\u001b[39;00m \u001b[38;5;167;01mValueError\u001b[39;00m(\n\u001b[1;32m    319\u001b[0m         \u001b[38;5;124mf\u001b[39m\u001b[38;5;124m\"\u001b[39m\u001b[38;5;124mIPython won\u001b[39m\u001b[38;5;124m'\u001b[39m\u001b[38;5;124mt let you open fd=\u001b[39m\u001b[38;5;132;01m{\u001b[39;00mfile\u001b[38;5;132;01m}\u001b[39;00m\u001b[38;5;124m by default \u001b[39m\u001b[38;5;124m\"\u001b[39m\n\u001b[1;32m    320\u001b[0m         \u001b[38;5;124m\"\u001b[39m\u001b[38;5;124mas it is likely to crash IPython. If you know what you are doing, \u001b[39m\u001b[38;5;124m\"\u001b[39m\n\u001b[1;32m    321\u001b[0m         \u001b[38;5;124m\"\u001b[39m\u001b[38;5;124myou can use builtins\u001b[39m\u001b[38;5;124m'\u001b[39m\u001b[38;5;124m open.\u001b[39m\u001b[38;5;124m\"\u001b[39m\n\u001b[1;32m    322\u001b[0m     )\n\u001b[0;32m--> 324\u001b[0m \u001b[38;5;28;01mreturn\u001b[39;00m \u001b[43mio_open\u001b[49m\u001b[43m(\u001b[49m\u001b[43mfile\u001b[49m\u001b[43m,\u001b[49m\u001b[43m \u001b[49m\u001b[38;5;241;43m*\u001b[39;49m\u001b[43margs\u001b[49m\u001b[43m,\u001b[49m\u001b[43m \u001b[49m\u001b[38;5;241;43m*\u001b[39;49m\u001b[38;5;241;43m*\u001b[39;49m\u001b[43mkwargs\u001b[49m\u001b[43m)\u001b[49m\n",
      "\u001b[0;31mFileNotFoundError\u001b[0m: [Errno 2] No such file or directory: '../../../nex/mnist/results/mnist_data.pickle'"
     ]
    }
   ],
   "source": [
    "with open(\"../../../nex/mnist/results/mnist_data.pickle\", \"rb\") as handle:\n",
    "    mnist = pickle.load(handle)\n",
    "\n",
    "train = mnist[\"train\"]\n",
    "test = mnist[\"test\"]"
   ]
  },
  {
   "cell_type": "code",
   "execution_count": 9,
   "id": "c57020a6-b17b-4a9d-8baa-39274ee03611",
   "metadata": {},
   "outputs": [],
   "source": [
    "# Jaxley specific\n",
    "pos_voltage = -90.0\n",
    "neg_voltage = -50.0\n",
    "\n",
    "def image_voltage_label(dataset):\n",
    "    \n",
    "    train_images = np.reshape(np.squeeze(dataset[\"image\"]), (-1, 28**2)) / 255.0\n",
    "    train_labels = dataset[\"label\"]\n",
    "    \n",
    "    # Cast to JAX\n",
    "    train_images = jnp.asarray(train_images)\n",
    "    train_labels = jnp.asarray(train_labels)\n",
    "\n",
    "    return train_images, train_labels\n",
    "\n",
    "train_images, train_labels = image_voltage_label(train)\n",
    "test_images, test_labels = image_voltage_label(test)"
   ]
  },
  {
   "cell_type": "markdown",
   "id": "cd0127f8-0fa3-4f1a-84d9-27120ce7aad2",
   "metadata": {},
   "source": [
    "### Build network"
   ]
  },
  {
   "cell_type": "code",
   "execution_count": 10,
   "id": "aeff8d22-5fbf-4230-bf21-b23494b426bb",
   "metadata": {},
   "outputs": [],
   "source": [
    "fnames = os.listdir(\"../morphologies/\")\n",
    "fnames = [f for f in fnames if f.startswith(\"n\")]\n",
    "fnames = [f\"../morphologies/{f}/{f}.CNG.swc\" for f in fnames]"
   ]
  },
  {
   "cell_type": "code",
   "execution_count": 11,
   "id": "649a1be1-145f-4bdc-8362-b261a4052490",
   "metadata": {},
   "outputs": [],
   "source": [
    "fnames = ['../morphologies/n171/n171.CNG.swc',\n",
    "         '../morphologies/n174/n174.CNG.swc',\n",
    "         '../morphologies/n130/n130.CNG.swc',\n",
    "         '../morphologies/n400/n400.CNG.swc',\n",
    "         '../morphologies/n404/n404.CNG.swc',\n",
    "         '../morphologies/n140/n140.CNG.swc',\n",
    "         '../morphologies/n127/n127.CNG.swc',\n",
    "         '../morphologies/n122/n122.CNG.swc',\n",
    "         '../morphologies/n412/n412.CNG.swc',\n",
    "         '../morphologies/n125/n125.CNG.swc',\n",
    "         '../morphologies/n403/n403.CNG.swc',\n",
    "         '../morphologies/n420/n420.CNG.swc',\n",
    "         '../morphologies/n407/n407.CNG.swc',\n",
    "         '../morphologies/n417/n417.CNG.swc',\n",
    "         '../morphologies/n144/n144.CNG.swc',\n",
    "         '../morphologies/n141/n141.CNG.swc',\n",
    "         '../morphologies/n145/n145.CNG.swc',\n",
    "         '../morphologies/n410/n410.CNG.swc',\n",
    "         '../morphologies/n129/n129.CNG.swc',\n",
    "         '../morphologies/n416/n416.CNG.swc',\n",
    "         '../morphologies/n414/n414.CNG.swc',\n",
    "         '../morphologies/n408/n408.CNG.swc',\n",
    "         '../morphologies/n142/n142.CNG.swc',\n",
    "         '../morphologies/n406/n406.CNG.swc',\n",
    "         '../morphologies/n179/n179.CNG.swc',\n",
    "         '../morphologies/n177/n177.CNG.swc',\n",
    "         '../morphologies/n411/n411.CNG.swc',\n",
    "         '../morphologies/n181/n181.CNG.swc',\n",
    "         '../morphologies/n184/n184.CNG.swc',\n",
    "         '../morphologies/n402/n402.CNG.swc',\n",
    "         '../morphologies/n176/n176.CNG.swc',\n",
    "         '../morphologies/n409/n409.CNG.swc',\n",
    "         '../morphologies/n415/n415.CNG.swc',\n",
    "         '../morphologies/n422/n422.CNG.swc',\n",
    "         '../morphologies/n123/n123.CNG.swc',\n",
    "         '../morphologies/n121/n121.CNG.swc',\n",
    "         '../morphologies/n401/n401.CNG.swc',\n",
    "         '../morphologies/n128/n128.CNG.swc',\n",
    "         '../morphologies/n421/n421.CNG.swc',\n",
    "         '../morphologies/n418/n418.CNG.swc',\n",
    "         '../morphologies/n126/n126.CNG.swc',\n",
    "         '../morphologies/n172/n172.CNG.swc',\n",
    "         '../morphologies/n413/n413.CNG.swc',\n",
    "         '../morphologies/n170/n170.CNG.swc',\n",
    "         '../morphologies/n175/n175.CNG.swc',\n",
    "         '../morphologies/n178/n178.CNG.swc',\n",
    "         '../morphologies/n173/n173.CNG.swc',\n",
    "         '../morphologies/n405/n405.CNG.swc',\n",
    "         '../morphologies/n183/n183.CNG.swc',\n",
    "         '../morphologies/n143/n143.CNG.swc',\n",
    "         '../morphologies/n180/n180.CNG.swc',\n",
    "         '../morphologies/n419/n419.CNG.swc',\n",
    "         '../morphologies/n120/n120.CNG.swc',\n",
    "         '../morphologies/n423/n423.CNG.swc',\n",
    "         '../morphologies/n182/n182.CNG.swc']"
   ]
  },
  {
   "cell_type": "code",
   "execution_count": 12,
   "id": "6f72df04-928b-4bdf-93f1-de446c13a186",
   "metadata": {},
   "outputs": [
    {
     "name": "stderr",
     "output_type": "stream",
     "text": [
      "2024-08-13 06:24:15.484602: W external/xla/xla/service/gpu/nvptx_compiler.cc:765] The NVIDIA driver's CUDA version is 12.2 which is older than the ptxas CUDA version (12.3.107). Because the driver is older than the ptxas version, XLA is disabling parallel compilation, which may slow down compilation. You should update your NVIDIA driver or use the NVIDIA-provided CUDA forward compatibility packages.\n",
      "/home/rocky/Documents/jaxley/jaxley/utils/swc.py:140: UserWarning: `num_subbranches > 10`, stopping to split. Most likely your\n",
      "                     SWC reconstruction is not dense and some neighbouring traced\n",
      "                     points are farther than `max_branch_len` apart.\n",
      "  warn(\n"
     ]
    }
   ],
   "source": [
    "nseg = 4  # original: 4\n",
    "\n",
    "comp = jx.Compartment()\n",
    "branch = jx.Branch(comp, nseg)\n",
    "input_cell = jx.Cell(branch, [-1])\n",
    "\n",
    "# Dendrites.\n",
    "input_cell[0, 1:nseg].set(\"length\", comp_length)\n",
    "input_cell[0, 1:nseg].set(\"radius\", 1.0)\n",
    "\n",
    "input_cell[0, 0].set(\"length\", soma_length)\n",
    "input_cell[0, 0].set(\"radius\", soma_radius)\n",
    "\n",
    "input_neurons = [input_cell for _ in range(28**2)]\n",
    "\n",
    "morph_cells = [jx.read_swc(fname, nseg=4, assign_groups=True) for fname in fnames]\n",
    "# morph_cells = [jx.read_swc(fname, nseg=2) for fname in fnames]\n",
    "\n",
    "# hidden_cell = jx.Cell(branch, [-1, 0, 0])\n",
    "hidden_neurons = [morph_cells[i % len(morph_cells)] for i in range(64)]\n",
    "\n",
    "output_cell = jx.Cell(branch, [-1])\n",
    "\n",
    "output_cell[0, 1:nseg].set(\"length\", comp_length)\n",
    "output_cell[0, 1:nseg].set(\"radius\", 1.0)\n",
    "\n",
    "output_cell[0, 0].set(\"length\", soma_length)\n",
    "output_cell[0, 0].set(\"radius\", soma_radius)\n",
    "\n",
    "output_neurons = [output_cell for _ in range(10)]\n",
    "\n",
    "all_neurons = input_neurons + hidden_neurons + output_neurons\n",
    "net = jx.Network(all_neurons)\n"
   ]
  },
  {
   "cell_type": "code",
   "execution_count": 13,
   "id": "b48502e4-7f44-4888-a866-e71d5d43003d",
   "metadata": {},
   "outputs": [],
   "source": [
    "with open(\"../results/01_network.pkl\", \"wb\") as handle:\n",
    "    pickle.dump(net, handle)"
   ]
  },
  {
   "cell_type": "markdown",
   "id": "fc3e4740-c114-4577-9fd2-90fd122969e4",
   "metadata": {},
   "source": [
    "### Define layers of cells and split into exc and inh"
   ]
  },
  {
   "cell_type": "code",
   "execution_count": 14,
   "id": "d90c761c-abe4-4c9a-8b4e-d450c3c984c1",
   "metadata": {},
   "outputs": [],
   "source": [
    "def get_non_selected_indices(a, b, selected_indices):\n",
    "    all_indices = np.arange(a, b)\n",
    "    non_selected_indices = np.setdiff1d(all_indices, selected_indices)\n",
    "    return non_selected_indices"
   ]
  },
  {
   "cell_type": "code",
   "execution_count": 15,
   "id": "0ee4d191-467b-4337-8f84-bf7197c3f857",
   "metadata": {},
   "outputs": [],
   "source": [
    "_ = np.random.seed(4)\n",
    "\n",
    "layer_inds = [0, 28**2, 28**2 + 64]  # , 28**2 + 64 + 2]\n",
    "\n",
    "exc_frac = 0.75\n",
    "\n",
    "for layer in range(len(layer_inds) - 1):\n",
    "    num = layer_inds[layer + 1] - layer_inds[layer]\n",
    "    a = layer_inds[layer]\n",
    "    b = layer_inds[layer+1]\n",
    "    exc_neuron_inds = np.random.choice(np.arange(a, b), (int(num * exc_frac)), replace=False)\n",
    "    inh_neuron_inds = get_non_selected_indices(a, b, exc_neuron_inds)\n",
    "\n",
    "    net.cell(exc_neuron_inds.tolist()).add_to_group(f\"layer{layer}_exc\")\n",
    "    net.cell(inh_neuron_inds.tolist()).add_to_group(f\"layer{layer}_inh\")\n",
    "\n",
    "net.cell(np.arange(28**2).tolist()).add_to_group(\"layer0\")\n",
    "net.cell(np.arange(28**2, 28**2+64).tolist()).add_to_group(\"layer1\")\n",
    "net.cell(np.arange(28**2+64, 28**2+64+10).tolist()).add_to_group(\"layer2\")"
   ]
  },
  {
   "cell_type": "markdown",
   "id": "c68d68c4-38cc-466b-9d13-7032449bbb95",
   "metadata": {},
   "source": [
    "### Insert cellular mechanisms"
   ]
  },
  {
   "cell_type": "code",
   "execution_count": 16,
   "id": "fd482a0e-b47b-49bb-8544-2c8a93b42749",
   "metadata": {},
   "outputs": [],
   "source": [
    "net.layer0.insert(HH())\n",
    "net.layer1.insert(HH())\n",
    "net.layer2.insert(Leak())\n",
    "net.set(\"axial_resistivity\", 100.0)"
   ]
  },
  {
   "cell_type": "markdown",
   "id": "4d536343-aaa9-4a29-8c7f-e03fb7204fe2",
   "metadata": {},
   "source": [
    "### Insert synapses"
   ]
  },
  {
   "cell_type": "code",
   "execution_count": 17,
   "id": "e3410348-dda3-4c62-9b1d-4f100f5303b5",
   "metadata": {},
   "outputs": [],
   "source": [
    "_ = np.random.seed(5)\n",
    "\n",
    "pre = net.layer0_exc.cell(\"all\")\n",
    "post = net.layer1.cell(\"all\")\n",
    "fully_connect(pre, post, IonotropicSynapse().change_name(\"Conns1_exc\"))\n",
    "\n",
    "pre = net.layer0_inh.cell(\"all\")\n",
    "post = net.layer1.cell(\"all\")\n",
    "fully_connect(pre, post, IonotropicSynapse().change_name(\"Conns1_inh\"))\n",
    "\n",
    "pre = net.layer1_exc.cell(\"all\")\n",
    "post = net.layer2.cell(\"all\")\n",
    "fully_connect(pre, post, IonotropicSynapse().change_name(\"Conns2_exc\"))\n",
    "\n",
    "pre = net.layer1_inh.cell(\"all\")\n",
    "post = net.layer2.cell(\"all\")\n",
    "fully_connect(pre, post, IonotropicSynapse().change_name(\"Conns2_inh\"))"
   ]
  },
  {
   "cell_type": "code",
   "execution_count": 18,
   "id": "d4338e88-6d66-432b-9d50-8673e9b7c71d",
   "metadata": {},
   "outputs": [],
   "source": [
    "_ = np.random.seed(0) #2)  # 2, 8\n",
    "\n",
    "if dales_law:\n",
    "    w1_exc = np.abs(np.random.randn(len(net.Conns1_exc.view)) / 28**2)\n",
    "    w1_inh = np.abs(np.random.randn(len(net.Conns1_inh.view)) / 28**2)\n",
    "    w2_exc = np.abs(np.random.randn(len(net.Conns2_exc.view)) / 64)\n",
    "    w2_inh = np.abs(np.random.randn(len(net.Conns2_inh.view)) / 64)\n",
    "    \n",
    "    # Weaker synapses in the second layer (because we project on non-spiking neurons)\n",
    "    w1_exc /= 25.0\n",
    "    w1_inh /= 25.0\n",
    "    w2_exc /= 2_500.0\n",
    "    w2_inh /= 2_500.0\n",
    "    \n",
    "    # Inhibitory synapses should be stronger.\n",
    "    w1_exc *= 1.0\n",
    "    w1_inh *= 5.0\n",
    "    w2_exc *= 1.0 * i_amp_factor\n",
    "    w2_inh *= 5.0 * i_amp_factor\n",
    "    \n",
    "    net.Conns1_exc(\"all\").set(\"Conns1_exc_gS\", w1_exc)\n",
    "    net.Conns1_inh(\"all\").set(\"Conns1_inh_gS\", w1_inh)\n",
    "    net.Conns2_exc(\"all\").set(\"Conns2_exc_gS\", w2_exc)\n",
    "    net.Conns2_inh(\"all\").set(\"Conns2_inh_gS\", w2_inh)\n",
    "    \n",
    "    e_syn_exc = 0.0\n",
    "    e_syn_inh = -100.0\n",
    "    net.Conns1_exc(\"all\").set(\"Conns1_exc_e_syn\", e_syn_exc)\n",
    "    net.Conns1_inh(\"all\").set(\"Conns1_inh_e_syn\", e_syn_inh)\n",
    "    net.Conns2_exc(\"all\").set(\"Conns2_exc_e_syn\", e_syn_exc)\n",
    "    net.Conns2_inh(\"all\").set(\"Conns2_inh_e_syn\", e_syn_inh)\n",
    "else:\n",
    "    w1_exc = np.random.randn(len(net.Conns1_exc.view)) / 28**2\n",
    "    w1_inh = np.random.randn(len(net.Conns1_inh.view)) / 28**2\n",
    "    w2_exc = np.random.randn(len(net.Conns2_exc.view)) / 64\n",
    "    w2_inh = np.random.randn(len(net.Conns2_inh.view)) / 64\n",
    "    \n",
    "    # Weaker synapses in the second layer (because we project on non-spiking neurons)\n",
    "    w1_exc /= 25.0\n",
    "    w1_inh /= 25.0\n",
    "    w2_exc /= 25.0\n",
    "    w2_inh /= 25.0\n",
    "    \n",
    "    # Inhibitory synapses should be stronger.\n",
    "    w1_exc *= 1.0\n",
    "    w1_inh *= 1.0\n",
    "    w2_exc *= 1.0 * i_amp_factor / scale_readout_receptive_strength\n",
    "    w2_inh *= 1.0 * i_amp_factor / scale_readout_receptive_strength\n",
    "    \n",
    "    net.Conns1_exc(\"all\").set(\"Conns1_exc_gS\", w1_exc)\n",
    "    net.Conns1_inh(\"all\").set(\"Conns1_inh_gS\", w1_inh)\n",
    "    net.Conns2_exc(\"all\").set(\"Conns2_exc_gS\", w2_exc)\n",
    "    net.Conns2_inh(\"all\").set(\"Conns2_inh_gS\", w2_inh)\n",
    "\n",
    "    \n",
    "net.Conns1_exc(\"all\").set(\"Conns1_exc_k_minus\", 0.25)\n",
    "net.Conns1_inh(\"all\").set(\"Conns1_inh_k_minus\", 0.25)\n",
    "net.Conns2_exc(\"all\").set(\"Conns2_exc_k_minus\", 0.25)\n",
    "net.Conns2_inh(\"all\").set(\"Conns2_inh_k_minus\", 0.25)"
   ]
  },
  {
   "cell_type": "markdown",
   "id": "d04cbadb-d330-4d2d-b857-9dd82bb433ef",
   "metadata": {},
   "source": [
    "### Define simulation and loss"
   ]
  },
  {
   "cell_type": "code",
   "execution_count": 90,
   "id": "5b89d3c6-5a95-43c0-8a58-dd477ad8b1d6",
   "metadata": {},
   "outputs": [],
   "source": [
    "tau = 500.0\n",
    "i_amp = i_amp_factor * 50.0 / tau\n",
    "\n",
    "def simulate(params, image):\n",
    "    currents = jx.datapoint_to_step_currents(i_delay, i_dur, i_amp*image, dt, t_max)\n",
    "    data_stimuli = net[range(784), 0, nseg-1].data_stimulate(currents, None)\n",
    "    return jx.integrate(net, params=params, data_stimuli=data_stimuli, checkpoint_lengths=checkpoints)\n",
    "\n",
    "jitted_simulate = jit(simulate)\n",
    "vmapped_simulate = jit(vmap(simulate, in_axes=(None, 0)))"
   ]
  },
  {
   "cell_type": "code",
   "execution_count": 91,
   "id": "88514f56-c6b4-4f3f-ab7c-8233727140be",
   "metadata": {},
   "outputs": [],
   "source": [
    "def predict(params, image):\n",
    "    vs = simulate(params, image)\n",
    "    return vs[:, -1]\n",
    "\n",
    "vmapped_predict = jit(vmap(predict, in_axes=(None, 0)))"
   ]
  },
  {
   "cell_type": "code",
   "execution_count": 92,
   "id": "51b43346-3747-488c-bd7e-45bf7e030c62",
   "metadata": {},
   "outputs": [],
   "source": [
    "def cross_entropy_loss(opt_params, image, label):\n",
    "    params = transform.forward(opt_params)\n",
    "    prediction = predict(params, image)\n",
    "    prediction += 65.0\n",
    "    prediction /= 3.0\n",
    "    log_prob = prediction[label] - logsumexp(prediction)\n",
    "    return -log_prob\n",
    "\n",
    "vmapped_cross_entropy_loss = jit(vmap(cross_entropy_loss, in_axes=(None, 0, 0)))"
   ]
  },
  {
   "cell_type": "code",
   "execution_count": 93,
   "id": "54d36970-21f3-44c2-a422-84821dd029d0",
   "metadata": {},
   "outputs": [],
   "source": [
    "def batch_loss(opt_params, image_batch, label_batch):\n",
    "    losses = vmap(cross_entropy_loss, in_axes=(None, 0, 0))(opt_params, image_batch, label_batch)\n",
    "    return jnp.mean(losses)\n",
    "\n",
    "jitted_batch_loss = jit(batch_loss)\n",
    "loss_grad = jit(value_and_grad(batch_loss, argnums=0))"
   ]
  },
  {
   "cell_type": "code",
   "execution_count": 94,
   "id": "d440a768-0a17-48be-9d12-0223a12c7be9",
   "metadata": {},
   "outputs": [],
   "source": [
    "def eval_cross_entropy_accuracy(opt_params, num_eval: int, train_or_test: str, start_ind: int = 0):\n",
    "    if train_or_test == \"train\":\n",
    "        images = train_images[start_ind:start_ind+num_eval]\n",
    "        labels = train_labels[start_ind:start_ind+num_eval]\n",
    "    elif train_or_test == \"test\":\n",
    "        images = test_images[start_ind:start_ind+num_eval]\n",
    "        labels = test_labels[start_ind:start_ind+num_eval]\n",
    "    else:\n",
    "        raise ValueError\n",
    "    \n",
    "    prediction = vmapped_predict(\n",
    "        transform.forward(opt_params),\n",
    "        images,\n",
    "    )[:, -10:]\n",
    "    prediction = jnp.argmax(prediction, axis=1).astype(int)\n",
    "    return np.mean(prediction == labels)"
   ]
  },
  {
   "cell_type": "code",
   "execution_count": 95,
   "id": "2ce4be85-8c35-448e-a8de-12b09a8b2212",
   "metadata": {},
   "outputs": [],
   "source": [
    "safety_magin = 5.0\n",
    "\n",
    "if dales_law:\n",
    "    transform = jx.ParamTransform(\n",
    "        lowers={\n",
    "            \"Conns1_exc_gS\": 0.0, \n",
    "            \"Conns1_inh_gS\": 0.0, \n",
    "            \"Conns2_exc_gS\": 0.0, \n",
    "            \"Conns2_inh_gS\": 0.0, \n",
    "            \"HH_gNa\": 0.05, \n",
    "            \"HH_gK\": 0.01, \n",
    "            \"HH_gLeak\": 0.0001,\n",
    "            \"axial_resistivity\": 30.0,\n",
    "        },\n",
    "        uppers={\n",
    "            \"Conns1_exc_gS\": safety_magin / 28**2 / 25.0,\n",
    "            \"Conns1_inh_gS\": safety_magin / 28**2 / 25.0 * 5.0,\n",
    "            \"Conns2_exc_gS\": safety_magin / 64.0 / 2_500.0 * i_amp_factor,\n",
    "            \"Conns2_inh_gS\": safety_magin / 64.0 / 2_500.0 * 5.0 * i_amp_factor,\n",
    "            \"HH_gNa\": 0.5,\n",
    "            \"HH_gK\": 0.1,\n",
    "            \"HH_gLeak\": 0.001,\n",
    "            \"axial_resistivity\": 1_000,\n",
    "        },\n",
    "    )\n",
    "else:\n",
    "    transform = jx.ParamTransform(\n",
    "        lowers={\n",
    "            \"Conns1_exc_gS\": -safety_magin / 28**2 / 25.0,\n",
    "            \"Conns1_inh_gS\": -safety_magin / 28**2 / 25.0 ,\n",
    "            \"Conns2_exc_gS\": -safety_magin / 64.0 / 25.0 * i_amp_factor / scale_readout_receptive_strength,\n",
    "            \"Conns2_inh_gS\": -safety_magin / 64.0 / 25.0 * i_amp_factor / scale_readout_receptive_strength,\n",
    "            \"HH_gNa\": 0.05, \n",
    "            \"HH_gK\": 0.01, \n",
    "            \"HH_gLeak\": 0.0001,\n",
    "            \"axial_resistivity\": 30.0,\n",
    "        },\n",
    "        uppers={\n",
    "            \"Conns1_exc_gS\": safety_magin / 28**2 / 25.0,\n",
    "            \"Conns1_inh_gS\": safety_magin / 28**2 / 25.0 ,\n",
    "            \"Conns2_exc_gS\": safety_magin / 64.0 / 25.0 * i_amp_factor / scale_readout_receptive_strength,\n",
    "            \"Conns2_inh_gS\": safety_magin / 64.0 / 25.0 * i_amp_factor / scale_readout_receptive_strength,\n",
    "            \"HH_gNa\": 0.5,\n",
    "            \"HH_gK\": 0.1,\n",
    "            \"HH_gLeak\": 0.001,\n",
    "            \"axial_resistivity\": 1_000,\n",
    "        },\n",
    "    )"
   ]
  },
  {
   "cell_type": "markdown",
   "id": "ec1a50fd-45ac-4580-ae9f-ec9be80c2166",
   "metadata": {},
   "source": [
    "### Train"
   ]
  },
  {
   "cell_type": "code",
   "execution_count": 64,
   "id": "090d15cc-86a8-4680-8981-1dbb30408034",
   "metadata": {},
   "outputs": [],
   "source": [
    "net.set(\"v\", -65)\n",
    "net.init_states()"
   ]
  },
  {
   "cell_type": "code",
   "execution_count": 83,
   "id": "d288d8cd-a195-49b8-8f66-4d8a378a2ace",
   "metadata": {},
   "outputs": [
    {
     "name": "stdout",
     "output_type": "stream",
     "text": [
      "Number of newly added trainable parameters: 37632. Total number of trainable parameters: 37632\n",
      "Number of newly added trainable parameters: 12544. Total number of trainable parameters: 50176\n",
      "Number of newly added trainable parameters: 480. Total number of trainable parameters: 50656\n",
      "Number of newly added trainable parameters: 160. Total number of trainable parameters: 50816\n",
      "Number of newly added trainable parameters: 13938. Total number of trainable parameters: 64754\n",
      "Number of newly added trainable parameters: 13938. Total number of trainable parameters: 78692\n",
      "Number of newly added trainable parameters: 13938. Total number of trainable parameters: 92630\n",
      "Number of newly added trainable parameters: 13948. Total number of trainable parameters: 106578\n"
     ]
    }
   ],
   "source": [
    "net.delete_trainables()\n",
    "net.Conns1_exc(\"all\").make_trainable(\"Conns1_exc_gS\")\n",
    "net.Conns1_inh(\"all\").make_trainable(\"Conns1_inh_gS\")\n",
    "net.Conns2_exc(\"all\").make_trainable(\"Conns2_exc_gS\")\n",
    "net.Conns2_inh(\"all\").make_trainable(\"Conns2_inh_gS\")\n",
    "net.cell(\"all\").branch(\"all\").make_trainable(\"HH_gNa\")\n",
    "net.cell(\"all\").branch(\"all\").make_trainable(\"HH_gK\")\n",
    "net.cell(\"all\").branch(\"all\").make_trainable(\"HH_gLeak\")\n",
    "net.cell(\"all\").branch(\"all\").make_trainable(\"axial_resistivity\")\n",
    "initial_parameters = net.get_parameters()"
   ]
  },
  {
   "cell_type": "code",
   "execution_count": 108,
   "id": "e2bd6e74-5c1b-4d56-8789-14a8771bdc97",
   "metadata": {},
   "outputs": [],
   "source": [
    "initial_opt_params = transform.inverse(initial_parameters)\n",
    "with open(\"../results/initial_parameters\", \"wb\") as handle:\n",
    "    pickle.dump(initial_parameters, handle)"
   ]
  },
  {
   "cell_type": "code",
   "execution_count": 109,
   "id": "54eec6ff-ab27-49f1-880e-e2329757a64d",
   "metadata": {},
   "outputs": [],
   "source": [
    "with open(\"../../../nex/ca1net/results/parameters/MichaelRun/opt_params_1770\", \"rb\") as handle:\n",
    "    opt_params = pickle.load(handle)\n",
    "\n",
    "parameters = transform.forward(opt_params)\n",
    "with open(\"../../../nex/ca1net/results/parameters/MichaelRun/parameters_1770\", \"wb\") as handle:\n",
    "    pickle.dump(parameters, handle)"
   ]
  },
  {
   "cell_type": "code",
   "execution_count": 101,
   "id": "bb1611ae-8f8e-434f-b7a5-cc9040682f86",
   "metadata": {},
   "outputs": [],
   "source": [
    "# with open(\"results/parameters/TrainingRun_0010/chkpts/005/parameters_0900\", \"wb\") as handle:\n",
    "#     pickle.dump(parameters, handle)"
   ]
  },
  {
   "cell_type": "code",
   "execution_count": 102,
   "id": "8844d544-e457-4aa9-800d-4aee89bf52db",
   "metadata": {},
   "outputs": [],
   "source": [
    "# net.delete_recordings()\n",
    "# net.delete_stimuli()\n",
    "# net[:, :, :].record()\n",
    "\n",
    "# images = test_images[6:7]\n",
    "# labels = test_labels[6:7]\n",
    "# voltages = vmapped_simulate(parameters, images)\n",
    "# print(\"Time: \", time.time() - start_time)\n",
    "# with open(\"../../paper/fig6_mnist/results/traces/v_all_compartments.pkl\", \"wb\") as handle:\n",
    "#     pickle.dump(voltages, handle)\n"
   ]
  },
  {
   "cell_type": "code",
   "execution_count": 96,
   "id": "f165d168-dc95-4cf4-9231-e5efd7480718",
   "metadata": {},
   "outputs": [
    {
     "name": "stdout",
     "output_type": "stream",
     "text": [
      "Added 858 recordings. See `.recordings` for details.\n"
     ]
    }
   ],
   "source": [
    "net.delete_recordings()\n",
    "net.delete_stimuli()\n",
    "net[:, 0, 0].record()"
   ]
  },
  {
   "cell_type": "code",
   "execution_count": 97,
   "id": "15a25d92-504c-4e4f-93d7-82498c33ce6b",
   "metadata": {},
   "outputs": [
    {
     "name": "stdout",
     "output_type": "stream",
     "text": [
      "Time:  81.226735830307\n"
     ]
    }
   ],
   "source": [
    "all_voltages = []\n",
    "all_labels = []\n",
    "all_images = []\n",
    "batchsize = 256\n",
    "for k in range(1):\n",
    "    images = test_images[k*batchsize:(k+1)*batchsize]\n",
    "    labels = test_labels[k*batchsize:(k+1)*batchsize]\n",
    "    start_time = time.time()\n",
    "    voltages = vmapped_simulate(parameters, images)\n",
    "    print(\"Time: \", time.time() - start_time)\n",
    "    all_voltages.append(voltages)\n",
    "    all_labels.append(labels)\n",
    "    all_images.append(images)"
   ]
  },
  {
   "cell_type": "code",
   "execution_count": 98,
   "id": "d3d33381-f047-4c60-a256-4fbe28a7fc2a",
   "metadata": {},
   "outputs": [],
   "source": [
    "all_voltages = np.concatenate(all_voltages, axis=0)\n",
    "all_labels = np.concatenate(all_labels, axis=0)\n",
    "all_images = np.concatenate(all_images, axis=0)"
   ]
  },
  {
   "cell_type": "markdown",
   "id": "a302fbdc-0f0b-4ad3-940f-c5f5adee2fd6",
   "metadata": {},
   "source": [
    "### Save outputs of a subset of neurons but all images (for correlation plots)"
   ]
  },
  {
   "cell_type": "code",
   "execution_count": 99,
   "id": "6b96af71-8acc-4b8a-adeb-1a02df47b152",
   "metadata": {},
   "outputs": [],
   "source": [
    "with open(\"../results/traces/output_trained.pkl\", \"wb\") as handle:\n",
    "    pickle.dump(all_voltages[:, 28**2:], handle)\n",
    "\n",
    "with open(\"../results/traces/labels_trained.pkl\", \"wb\") as handle:\n",
    "    pickle.dump(all_labels, handle)\n"
   ]
  },
  {
   "cell_type": "markdown",
   "id": "f7f26da3-de20-4159-b488-3badc6b76a5e",
   "metadata": {
    "jp-MarkdownHeadingCollapsed": true
   },
   "source": [
    "### Save all neuron outputs of a few images (for trace visualization)"
   ]
  },
  {
   "cell_type": "code",
   "execution_count": 178,
   "id": "6ff0d374-96ad-4748-8f89-b6dfd1b7db17",
   "metadata": {},
   "outputs": [],
   "source": [
    "with open(\"../../paper/fig6_mnist/results/traces/output_trained_all_neurons_few_images.pkl\", \"wb\") as handle:\n",
    "    pickle.dump(all_voltages[:50], handle)"
   ]
  },
  {
   "cell_type": "code",
   "execution_count": 176,
   "id": "5eec5d6d-e43f-49c5-b158-ea047f0432be",
   "metadata": {},
   "outputs": [],
   "source": [
    "with open(\"../../paper/fig6_mnist/results/traces/images_trained.pkl\", \"wb\") as handle:\n",
    "    pickle.dump(all_images, handle)"
   ]
  },
  {
   "cell_type": "code",
   "execution_count": 33,
   "id": "8c8cc5db-39a3-4749-9bac-7508d2c8fa92",
   "metadata": {},
   "outputs": [],
   "source": [
    "with open(\"results/traces_no_dales_law.pkl\", \"rb\") as handle:\n",
    "    voltages = pickle.load(handle)\n",
    "\n",
    "labels = train_labels[:100]"
   ]
  },
  {
   "cell_type": "markdown",
   "id": "35932d6b-005d-4aa8-9dec-72ac608a365d",
   "metadata": {},
   "source": [
    "# Adversarial example"
   ]
  },
  {
   "cell_type": "code",
   "execution_count": 103,
   "id": "3c3ebeed-ad75-4f16-9b02-b2622878f492",
   "metadata": {},
   "outputs": [
    {
     "name": "stdout",
     "output_type": "stream",
     "text": [
      "Added 10 recordings. See `.recordings` for details.\n"
     ]
    }
   ],
   "source": [
    "net.delete_recordings()\n",
    "net.delete_stimuli()\n",
    "net[range(28**2+64, 28**2+64+10), 0, 0].record()"
   ]
  },
  {
   "cell_type": "code",
   "execution_count": 104,
   "id": "cea2926a-b763-43fa-acb2-67d537b86839",
   "metadata": {},
   "outputs": [],
   "source": [
    "from copy import deepcopy\n",
    "\n",
    "\n",
    "vmapped_simulate = jit(vmap(simulate, in_axes=(None, 0)))\n",
    "\n",
    "def tf_image(image):\n",
    "    image = sigmoid(image)\n",
    "    return image\n",
    "\n",
    "def predict(params, image):\n",
    "    image = tf_image(image)\n",
    "    v = simulate(params, image)\n",
    "    return v[:, -1]\n",
    "\n",
    "vmapped_predict = jit(vmap(predict, in_axes=(None, 0)))\n",
    "\n",
    "\n",
    "def target_neg_logprob(prediction, target_class):\n",
    "    prediction += 65.0\n",
    "    prediction /= 3.0\n",
    "    log_prob = prediction[target_class] - logsumexp(prediction)\n",
    "    return -log_prob\n",
    "\n",
    "\n",
    "def adv_example_loss(params, image, regularization_lambda, target_class, baseline):\n",
    "    class_loss = target_neg_logprob(predict(params, image), target_class)\n",
    "    reg_loss = jnp.abs(jnp.sum(image) - baseline)\n",
    "    return class_loss + regularization_lambda * reg_loss\n",
    "\n",
    "image_loss_grad = jit(value_and_grad(adv_example_loss, argnums=(1,)))\n",
    "images_loss_grads = jit(vmap(value_and_grad(adv_example_loss, argnums=(1,)), in_axes=(None, 0, None, 0, None)))"
   ]
  },
  {
   "cell_type": "code",
   "execution_count": 105,
   "id": "a1a6933b-b20e-413e-aa3c-0298b9a4f307",
   "metadata": {},
   "outputs": [],
   "source": [
    "def optimize_attack(\n",
    "    init: jnp.ndarray,\n",
    "    target_class: int,\n",
    "    epochs: int = 10,\n",
    "    lr: float = 2.0,\n",
    "    momentum: float = 0.0,\n",
    "    regularization_lambda: float = 0.0,\n",
    "):\n",
    "    mei = init\n",
    "    optimizer = optax.sgd(learning_rate=lr, momentum=momentum)\n",
    "    opt_state = optimizer.init(mei)\n",
    "    losses = []\n",
    "    travelled_distance = np.asarray([0.0 for _ in range(len(init))])\n",
    "    travelled_distances = [deepcopy(travelled_distance)]\n",
    "    predictions_at_every_step = []\n",
    "    previous_image = mei\n",
    "    all_accuracies = []\n",
    "    all_images = []\n",
    "    all_traces = []\n",
    "\n",
    "    for epoch in range(epochs):\n",
    "        loss_val, gradient_val = images_loss_grads(\n",
    "            parameters,\n",
    "            mei,\n",
    "            regularization_lambda,\n",
    "            target_class,\n",
    "            jnp.asarray(200.0),\n",
    "        )\n",
    "        losses.append(loss_val)\n",
    "        act = vmapped_predict(parameters, mei)\n",
    "        predictions_at_every_step.append(deepcopy(act))\n",
    "        trace = vmapped_simulate(parameters, mei)\n",
    "        all_traces.append(deepcopy(trace[:, -10:, :]))\n",
    "        # print(f\"Epoch {epoch}, loss_val {loss_val}, predicted_voltages {act} argmax {np.argmax(act, axis=1)}\")\n",
    "        label_predictions = np.argmax(act, axis=1)\n",
    "        # print(f\"Epoch {epoch}, loss_val {loss_val} argmax {label_predictions}\")\n",
    "        current_accuracy = np.mean(label_predictions == initial_labels)\n",
    "        print(f\"Accuracy {current_accuracy}\")\n",
    "        all_accuracies.append(deepcopy(current_accuracy))\n",
    "    \n",
    "        gradient_corr = (gradient_val[0].T / jnp.sqrt(jnp.sum(gradient_val[0]**2, axis=1))).T\n",
    "        updates, opt_state = optimizer.update(gradient_corr, opt_state)\n",
    "        mei = optax.apply_updates(mei, updates)\n",
    "\n",
    "        travelled_distance += np.sqrt(np.sum((mei - previous_image)**2, axis=1))\n",
    "        travelled_distances.append(deepcopy(travelled_distance))\n",
    "        previous_image = mei\n",
    "        all_images.append(deepcopy(mei))\n",
    "        # print(f\"travelled_distances {travelled_distances}\")\n",
    "\n",
    "    act = vmapped_predict(parameters, mei)\n",
    "    predictions_at_every_step.append(deepcopy(act))\n",
    "\n",
    "    vs = vmapped_simulate(parameters, tf_image(mei))\n",
    "    return mei, losses, vs, travelled_distances, predictions_at_every_step, all_accuracies, all_images, all_traces\n"
   ]
  },
  {
   "cell_type": "code",
   "execution_count": 107,
   "id": "31c0c3cb-5916-4ec8-a070-ab164df0c897",
   "metadata": {},
   "outputs": [
    {
     "name": "stdout",
     "output_type": "stream",
     "text": [
      "Initial labels [4 1 0 7 8 1 2 1 6 6 7 7 3 3 7 9]\n",
      "Target labels  [5 8 9 5 0 0 1 6 9 2 5 2 4 2 4 7]\n",
      "Accuracy 1.0\n",
      "Accuracy 1.0\n",
      "Accuracy 0.9375\n",
      "Accuracy 0.875\n",
      "Accuracy 0.875\n",
      "Accuracy 0.6875\n",
      "Accuracy 0.5\n",
      "Accuracy 0.375\n",
      "Accuracy 0.375\n",
      "Accuracy 0.375\n",
      "Accuracy 0.375\n",
      "Accuracy 0.125\n",
      "Accuracy 0.0625\n",
      "Accuracy 0.0625\n",
      "Accuracy 0.0625\n",
      "Accuracy 0.0\n",
      "Accuracy 0.0625\n",
      "Accuracy 0.0\n",
      "Accuracy 0.0\n",
      "Accuracy 0.0\n",
      "Accuracy 0.0\n",
      "Accuracy 0.0\n",
      "Accuracy 0.0\n",
      "Accuracy 0.0\n",
      "Accuracy 0.0\n",
      "Accuracy 0.0\n",
      "Accuracy 0.0\n",
      "Accuracy 0.0\n",
      "Accuracy 0.0\n",
      "Accuracy 0.0\n",
      "Initial labels [9 4 8 9 4 3 3 0 9 9 0 6 8 7 2 0]\n",
      "Target labels  [8 8 6 2 8 2 1 5 4 5 7 3 6 3 7 1]\n",
      "Accuracy 0.875\n",
      "Accuracy 1.0\n",
      "Accuracy 0.75\n",
      "Accuracy 0.6875\n",
      "Accuracy 0.625\n",
      "Accuracy 0.3125\n",
      "Accuracy 0.25\n",
      "Accuracy 0.25\n",
      "Accuracy 0.1875\n",
      "Accuracy 0.1875\n",
      "Accuracy 0.1875\n",
      "Accuracy 0.1875\n",
      "Accuracy 0.1875\n",
      "Accuracy 0.0\n",
      "Accuracy 0.0\n",
      "Accuracy 0.0\n",
      "Accuracy 0.0\n",
      "Accuracy 0.0\n",
      "Accuracy 0.0\n",
      "Accuracy 0.0\n",
      "Accuracy 0.0\n",
      "Accuracy 0.0\n",
      "Accuracy 0.0\n",
      "Accuracy 0.0\n",
      "Accuracy 0.0\n",
      "Accuracy 0.0\n",
      "Accuracy 0.0\n",
      "Accuracy 0.0\n",
      "Accuracy 0.0\n",
      "Accuracy 0.0\n",
      "Initial labels [2 4 4 6 5 1 9 2 4 3 4 4 7 5 8 1]\n",
      "Target labels  [8 9 3 8 8 0 5 9 9 5 7 6 0 4 7 8]\n",
      "Accuracy 0.9375\n",
      "Accuracy 1.0\n",
      "Accuracy 0.9375\n",
      "Accuracy 0.75\n",
      "Accuracy 0.5\n",
      "Accuracy 0.4375\n",
      "Accuracy 0.3125\n",
      "Accuracy 0.25\n",
      "Accuracy 0.0625\n",
      "Accuracy 0.0\n",
      "Accuracy 0.0\n",
      "Accuracy 0.0\n",
      "Accuracy 0.0\n",
      "Accuracy 0.0\n",
      "Accuracy 0.0\n",
      "Accuracy 0.0\n",
      "Accuracy 0.0\n",
      "Accuracy 0.0\n",
      "Accuracy 0.0\n",
      "Accuracy 0.0\n",
      "Accuracy 0.0\n",
      "Accuracy 0.0\n",
      "Accuracy 0.0\n",
      "Accuracy 0.0\n",
      "Accuracy 0.0\n",
      "Accuracy 0.0\n",
      "Accuracy 0.0\n",
      "Accuracy 0.0\n",
      "Accuracy 0.0\n",
      "Accuracy 0.0\n",
      "Initial labels [4 1 4 5 3 4 1 4 8 1 2 1 9 0 7 6]\n",
      "Target labels  [7 5 8 7 8 9 7 7 7 9 8 4 2 6 4 3]\n",
      "Accuracy 0.9375\n",
      "Accuracy 0.875\n",
      "Accuracy 0.8125\n",
      "Accuracy 0.75\n",
      "Accuracy 0.6875\n",
      "Accuracy 0.5\n",
      "Accuracy 0.4375\n",
      "Accuracy 0.3125\n",
      "Accuracy 0.25\n",
      "Accuracy 0.125\n",
      "Accuracy 0.1875\n",
      "Accuracy 0.125\n",
      "Accuracy 0.0625\n",
      "Accuracy 0.0625\n",
      "Accuracy 0.0625\n",
      "Accuracy 0.0625\n",
      "Accuracy 0.0625\n",
      "Accuracy 0.0625\n",
      "Accuracy 0.0625\n",
      "Accuracy 0.0625\n",
      "Accuracy 0.0625\n",
      "Accuracy 0.0625\n",
      "Accuracy 0.0625\n",
      "Accuracy 0.0\n",
      "Accuracy 0.0\n",
      "Accuracy 0.0\n",
      "Accuracy 0.0\n",
      "Accuracy 0.0\n",
      "Accuracy 0.0\n",
      "Accuracy 0.0\n",
      "Initial labels [6 8 4 6 2 9 4 4 9 5 4 7 8 3 7 8]\n",
      "Target labels  [3 6 6 0 8 4 7 0 0 7 1 0 4 6 2 9]\n",
      "Accuracy 0.9375\n",
      "Accuracy 0.9375\n",
      "Accuracy 0.9375\n",
      "Accuracy 0.9375\n",
      "Accuracy 0.75\n",
      "Accuracy 0.5\n",
      "Accuracy 0.375\n",
      "Accuracy 0.3125\n",
      "Accuracy 0.3125\n",
      "Accuracy 0.3125\n",
      "Accuracy 0.1875\n",
      "Accuracy 0.125\n",
      "Accuracy 0.0625\n",
      "Accuracy 0.0625\n",
      "Accuracy 0.0625\n",
      "Accuracy 0.0625\n",
      "Accuracy 0.0625\n",
      "Accuracy 0.0\n",
      "Accuracy 0.0\n",
      "Accuracy 0.0\n",
      "Accuracy 0.0\n",
      "Accuracy 0.0\n",
      "Accuracy 0.0\n",
      "Accuracy 0.0\n",
      "Accuracy 0.0\n",
      "Accuracy 0.0\n",
      "Accuracy 0.0\n",
      "Accuracy 0.0\n",
      "Accuracy 0.0\n",
      "Accuracy 0.0\n",
      "Initial labels [8 0 3 9 4 7 6 6 1 4 0 9 1 7 7 4]\n",
      "Target labels  [9 3 4 0 9 1 9 1 4 1 8 4 2 5 9 6]\n",
      "Accuracy 1.0\n",
      "Accuracy 1.0\n",
      "Accuracy 0.9375\n",
      "Accuracy 0.8125\n",
      "Accuracy 0.5625\n",
      "Accuracy 0.625\n",
      "Accuracy 0.375\n",
      "Accuracy 0.25\n",
      "Accuracy 0.125\n",
      "Accuracy 0.0625\n",
      "Accuracy 0.0625\n",
      "Accuracy 0.0\n",
      "Accuracy 0.0\n",
      "Accuracy 0.0\n",
      "Accuracy 0.0\n",
      "Accuracy 0.0\n",
      "Accuracy 0.0\n",
      "Accuracy 0.0\n",
      "Accuracy 0.0\n",
      "Accuracy 0.0\n",
      "Accuracy 0.0\n",
      "Accuracy 0.0\n",
      "Accuracy 0.0\n",
      "Accuracy 0.0\n",
      "Accuracy 0.0\n",
      "Accuracy 0.0\n",
      "Accuracy 0.0\n",
      "Accuracy 0.0\n",
      "Accuracy 0.0\n",
      "Accuracy 0.0\n",
      "Initial labels [6 3 8 9 9 3 1 2 2 7 6 4 0 6 2 4]\n",
      "Target labels  [4 9 6 3 3 7 9 7 8 9 7 6 4 0 7 0]\n",
      "Accuracy 1.0\n",
      "Accuracy 0.9375\n",
      "Accuracy 0.9375\n",
      "Accuracy 0.875\n",
      "Accuracy 0.75\n",
      "Accuracy 0.6875\n",
      "Accuracy 0.5625\n",
      "Accuracy 0.5625\n",
      "Accuracy 0.25\n",
      "Accuracy 0.1875\n",
      "Accuracy 0.125\n",
      "Accuracy 0.125\n",
      "Accuracy 0.125\n",
      "Accuracy 0.125\n",
      "Accuracy 0.125\n",
      "Accuracy 0.125\n",
      "Accuracy 0.125\n",
      "Accuracy 0.0625\n",
      "Accuracy 0.0625\n",
      "Accuracy 0.0625\n",
      "Accuracy 0.0625\n",
      "Accuracy 0.0625\n",
      "Accuracy 0.0625\n",
      "Accuracy 0.0\n",
      "Accuracy 0.0\n",
      "Accuracy 0.0\n",
      "Accuracy 0.0\n",
      "Accuracy 0.0\n",
      "Accuracy 0.0\n",
      "Accuracy 0.0\n",
      "Initial labels [9 8 4 7 6 9 9 9 8 9 4 1 1 8 5 9]\n",
      "Target labels  [3 4 1 9 5 8 8 0 5 1 3 9 2 2 6 8]\n",
      "Accuracy 0.9375\n",
      "Accuracy 0.875\n",
      "Accuracy 0.8125\n",
      "Accuracy 0.75\n",
      "Accuracy 0.625\n",
      "Accuracy 0.4375\n",
      "Accuracy 0.375\n",
      "Accuracy 0.375\n",
      "Accuracy 0.3125\n",
      "Accuracy 0.25\n",
      "Accuracy 0.1875\n",
      "Accuracy 0.0625\n",
      "Accuracy 0.0625\n",
      "Accuracy 0.0625\n",
      "Accuracy 0.0625\n",
      "Accuracy 0.0625\n",
      "Accuracy 0.0625\n",
      "Accuracy 0.0625\n",
      "Accuracy 0.0\n",
      "Accuracy 0.0\n",
      "Accuracy 0.0\n",
      "Accuracy 0.0\n",
      "Accuracy 0.0\n",
      "Accuracy 0.0\n",
      "Accuracy 0.0\n",
      "Accuracy 0.0\n",
      "Accuracy 0.0\n",
      "Accuracy 0.0\n",
      "Accuracy 0.0\n",
      "Accuracy 0.0\n"
     ]
    }
   ],
   "source": [
    "lr = 5.0\n",
    "\n",
    "for seed in range(1, 9):\n",
    "    _ = np.random.seed(seed)\n",
    "    \n",
    "    n = 16\n",
    "    n_candidates = int(n * 1.5)\n",
    "    indices = np.arange((seed-1) * n_candidates, seed * n_candidates)\n",
    "    initial_labels = train_labels[indices]\n",
    "    \n",
    "    target_labels = np.random.randint(0, 10, n_candidates)\n",
    "    condition = target_labels != initial_labels\n",
    "    \n",
    "    initial_indices = indices[condition][:n]\n",
    "    initial_labels = initial_labels[condition][:n]\n",
    "    targets = target_labels[condition][:n]\n",
    "    meis = train_images[initial_indices]\n",
    "    \n",
    "    meis = meis.at[meis == 0.0].add(0.01)\n",
    "    meis = meis.at[meis == 1.0].add(-0.01)\n",
    "    meis = jnp.log(meis / (1 - meis))  # logit to make mei unconstrained.\n",
    "    print(f\"Initial labels {initial_labels}\")\n",
    "    print(f\"Target labels  {targets}\")\n",
    "    \n",
    "    vs_init = vmapped_simulate(parameters, tf_image(meis))\n",
    "    \n",
    "    with open(f\"../results/attacks/attack_image_before_seed{seed}.pkl\", \"wb\") as handle:\n",
    "        pickle.dump(meis, handle)\n",
    "    with open(f\"../results/attacks/attack_trace_before_seed{seed}.pkl\", \"wb\") as handle:\n",
    "        pickle.dump(vs_init, handle)\n",
    "    \n",
    "    mei_opt, losses, vs, travelled, predictions, all_accuracies, all_images, all_traces = optimize_attack(\n",
    "        meis,\n",
    "        target_class=targets,\n",
    "        epochs=30,\n",
    "        lr=lr,\n",
    "        momentum=0.0,\n",
    "        regularization_lambda=0.0,\n",
    "    )\n",
    "    with open(f\"../results/attacks/attack_image_after_seed{seed}.pkl\", \"wb\") as handle:\n",
    "        pickle.dump(mei_opt, handle)\n",
    "    with open(f\"../results/attacks/attack_trace_after_seed{seed}.pkl\", \"wb\") as handle:\n",
    "        pickle.dump(vs, handle)\n",
    "    with open(f\"../results/attacks/attack_losses_seed{seed}.pkl\", \"wb\") as handle:\n",
    "        pickle.dump(losses, handle)\n",
    "    with open(f\"../results/attacks/travelled_seed{seed}.pkl\", \"wb\") as handle:\n",
    "        pickle.dump(travelled, handle)\n",
    "    with open(f\"../results/attacks/predictions_seed{seed}.pkl\", \"wb\") as handle:\n",
    "        pickle.dump(predictions, handle)\n",
    "    with open(f\"../results/attacks/all_accuracies_seed{seed}.pkl\", \"wb\") as handle:\n",
    "        pickle.dump(all_accuracies, handle)\n",
    "    with open(f\"../results/attacks/all_images_seed{seed}.pkl\", \"wb\") as handle:\n",
    "        pickle.dump(all_images, handle)\n",
    "    with open(f\"../results/attacks/all_traces_seed{seed}.pkl\", \"wb\") as handle:\n",
    "        pickle.dump(all_traces, handle)\n",
    "    with open(f\"../results/attacks/initial_labels_seed{seed}.pkl\", \"wb\") as handle:\n",
    "        pickle.dump(initial_labels, handle)\n",
    "    with open(f\"../results/attacks/target_labels_seed{seed}.pkl\", \"wb\") as handle:\n",
    "        pickle.dump(targets, handle)"
   ]
  },
  {
   "cell_type": "markdown",
   "id": "ba6d6058-fddb-4969-b0b3-3c44f4361f71",
   "metadata": {},
   "source": [
    "# Performance evaluation"
   ]
  },
  {
   "cell_type": "markdown",
   "id": "99a5a414-b473-43e7-b9b8-ed09939ddee6",
   "metadata": {},
   "source": [
    "### With all parameters trained"
   ]
  },
  {
   "cell_type": "code",
   "execution_count": 39,
   "id": "fcc86372-b2af-4b76-97b4-4ed10e238fb2",
   "metadata": {},
   "outputs": [
    {
     "name": "stdout",
     "output_type": "stream",
     "text": [
      "Added 10 recordings. See `.recordings` for details.\n"
     ]
    }
   ],
   "source": [
    "net.delete_recordings()\n",
    "net.delete_stimuli()\n",
    "net[range(28**2+64, 28**2+64+10), 0, 0].record()"
   ]
  },
  {
   "cell_type": "code",
   "execution_count": 40,
   "id": "471921f2-0d52-41c5-a158-4acd58cb5ce5",
   "metadata": {},
   "outputs": [],
   "source": [
    "accuracies = {}"
   ]
  },
  {
   "cell_type": "code",
   "execution_count": 41,
   "id": "8d6ec472-905f-4739-af95-cc6bcb65815b",
   "metadata": {},
   "outputs": [
    {
     "name": "stdout",
     "output_type": "stream",
     "text": [
      "0 Test accuracy full 0.9510000348091125\n",
      "1 Test accuracy full 0.9320000410079956\n",
      "2 Test accuracy full 0.940000057220459\n",
      "3 Test accuracy full 0.9380000233650208\n",
      "4 Test accuracy full 0.9380000233650208\n",
      "5 Test accuracy full 0.9340000152587891\n",
      "6 Test accuracy full 0.9530000686645508\n",
      "7 Test accuracy full 0.9530000686645508\n",
      "8 Test accuracy full 0.9470000267028809\n",
      "9 Test accuracy full 0.937000036239624\n",
      "all_accs [0.95100003 0.93200004 0.94000006 0.938      0.938      0.934\n",
      " 0.95300007 0.95300007 0.947      0.93700004] mean 0.9423\n"
     ]
    }
   ],
   "source": [
    "all_accs = []\n",
    "for i in range(10):\n",
    "    test_acc = eval_cross_entropy_accuracy(opt_params, 1000, \"test\", 1000*i)\n",
    "    all_accs.append(test_acc)\n",
    "    print(f\"{i} Test accuracy full {test_acc}\")\n",
    "all_accs = np.asarray(all_accs)\n",
    "print(\"all_accs\", all_accs, \"mean\", np.mean(all_accs))"
   ]
  },
  {
   "cell_type": "code",
   "execution_count": 42,
   "id": "a47087c9-3176-4c24-ad98-8c36e95e0af9",
   "metadata": {},
   "outputs": [
    {
     "name": "stdout",
     "output_type": "stream",
     "text": [
      "0 Test accuracy full 0.958984375\n",
      "1 Test accuracy full 0.9287109375\n",
      "2 Test accuracy full 0.9326171875\n",
      "3 Test accuracy full 0.94140625\n",
      "4 Test accuracy full 0.9423828125\n",
      "5 Test accuracy full 0.9453125\n",
      "6 Test accuracy full 0.9541015625\n",
      "7 Test accuracy full 0.9560546875\n",
      "8 Test accuracy full 0.943359375\n",
      "all_accs [0.9589844  0.92871094 0.9326172  0.94140625 0.9423828  0.9453125\n",
      " 0.95410156 0.9560547  0.9433594 ] mean 0.94477\n"
     ]
    }
   ],
   "source": [
    "all_accs = []\n",
    "for i in range(9):\n",
    "    test_acc = eval_cross_entropy_accuracy(opt_params, 1024, \"test\", 1024*i)\n",
    "    all_accs.append(test_acc)\n",
    "    print(f\"{i} Test accuracy full {test_acc}\")\n",
    "all_accs = np.asarray(all_accs)\n",
    "print(\"all_accs\", all_accs, \"mean\", np.mean(all_accs))"
   ]
  },
  {
   "cell_type": "code",
   "execution_count": 43,
   "id": "e5343349-f938-4cef-98b7-7657fcaad0df",
   "metadata": {},
   "outputs": [
    {
     "ename": "AttributeError",
     "evalue": "'numpy.ndarray' object has no attribute 'append'",
     "output_type": "error",
     "traceback": [
      "\u001b[0;31m---------------------------------------------------------------------------\u001b[0m",
      "\u001b[0;31mAttributeError\u001b[0m                            Traceback (most recent call last)",
      "Cell \u001b[0;32mIn[43], line 3\u001b[0m\n\u001b[1;32m      1\u001b[0m \u001b[38;5;28;01mfor\u001b[39;00m i \u001b[38;5;129;01min\u001b[39;00m \u001b[38;5;28mrange\u001b[39m(\u001b[38;5;241m9\u001b[39m):\n\u001b[1;32m      2\u001b[0m     test_acc \u001b[38;5;241m=\u001b[39m eval_cross_entropy_accuracy(opt_params, \u001b[38;5;241m700\u001b[39m, \u001b[38;5;124m\"\u001b[39m\u001b[38;5;124mtest\u001b[39m\u001b[38;5;124m\"\u001b[39m, \u001b[38;5;241m1024\u001b[39m\u001b[38;5;241m*\u001b[39m\u001b[38;5;241m9\u001b[39m)\n\u001b[0;32m----> 3\u001b[0m     \u001b[43mall_accs\u001b[49m\u001b[38;5;241;43m.\u001b[39;49m\u001b[43mappend\u001b[49m(test_acc)\n\u001b[1;32m      4\u001b[0m     \u001b[38;5;28mprint\u001b[39m(\u001b[38;5;124mf\u001b[39m\u001b[38;5;124m\"\u001b[39m\u001b[38;5;132;01m{\u001b[39;00mi\u001b[38;5;132;01m}\u001b[39;00m\u001b[38;5;124m Test accuracy full \u001b[39m\u001b[38;5;132;01m{\u001b[39;00mtest_acc\u001b[38;5;132;01m}\u001b[39;00m\u001b[38;5;124m\"\u001b[39m)\n",
      "\u001b[0;31mAttributeError\u001b[0m: 'numpy.ndarray' object has no attribute 'append'"
     ]
    }
   ],
   "source": [
    "for i in range(9):\n",
    "    test_acc = eval_cross_entropy_accuracy(opt_params, 700, \"test\", 1024*9)\n",
    "    print(f\"{i} Test accuracy full {test_acc}\")"
   ]
  },
  {
   "cell_type": "markdown",
   "id": "933d2b83-be7f-412e-b520-9cb7082f44f9",
   "metadata": {},
   "source": [
    "### Return to old"
   ]
  },
  {
   "cell_type": "code",
   "execution_count": 43,
   "id": "908f75c7-d85f-48dc-9071-c383d906214b",
   "metadata": {},
   "outputs": [
    {
     "name": "stdout",
     "output_type": "stream",
     "text": [
      "Test accuracy full 0.9521484375\n"
     ]
    }
   ],
   "source": [
    "with open(\"../../../nex/ca1net/results/parameters/MichaelRun/opt_params_1770\", \"rb\") as handle:\n",
    "    opt_params = pickle.load(handle)\n",
    "\n",
    "test_acc = eval_cross_entropy_accuracy(opt_params, 1024, \"test\", 0)\n",
    "print(f\"Test accuracy full {test_acc}\")\n",
    "accuracies[\"all\"] = test_acc"
   ]
  },
  {
   "cell_type": "code",
   "execution_count": 44,
   "id": "fc9e923a-4cd2-4b42-af2b-e9fcbea8a80e",
   "metadata": {},
   "outputs": [
    {
     "name": "stdout",
     "output_type": "stream",
     "text": [
      "Number of newly added trainable parameters: 37632. Total number of trainable parameters: 37632\n",
      "Number of newly added trainable parameters: 12544. Total number of trainable parameters: 50176\n",
      "Number of newly added trainable parameters: 480. Total number of trainable parameters: 50656\n",
      "Number of newly added trainable parameters: 160. Total number of trainable parameters: 50816\n",
      "Number of newly added trainable parameters: 13938. Total number of trainable parameters: 64754\n",
      "Number of newly added trainable parameters: 13938. Total number of trainable parameters: 78692\n",
      "Number of newly added trainable parameters: 13938. Total number of trainable parameters: 92630\n",
      "Number of newly added trainable parameters: 13948. Total number of trainable parameters: 106578\n"
     ]
    }
   ],
   "source": [
    "net.delete_trainables()\n",
    "net.Conns1_exc(\"all\").make_trainable(\"Conns1_exc_gS\")\n",
    "net.Conns1_inh(\"all\").make_trainable(\"Conns1_inh_gS\")\n",
    "net.Conns2_exc(\"all\").make_trainable(\"Conns2_exc_gS\")\n",
    "net.Conns2_inh(\"all\").make_trainable(\"Conns2_inh_gS\")\n",
    "net.cell(\"all\").branch(\"all\").make_trainable(\"HH_gNa\")\n",
    "net.cell(\"all\").branch(\"all\").make_trainable(\"HH_gK\")\n",
    "net.cell(\"all\").branch(\"all\").make_trainable(\"HH_gLeak\")\n",
    "net.cell(\"all\").branch(\"all\").make_trainable(\"axial_resistivity\")\n",
    "initial_parameters = net.get_parameters()\n",
    "initial_parameters = transform.inverse(initial_parameters)"
   ]
  },
  {
   "cell_type": "markdown",
   "id": "14dacffb-889e-4923-8567-7f4a06c61b80",
   "metadata": {},
   "source": [
    "### With all first layer synapses reset to baseline"
   ]
  },
  {
   "cell_type": "code",
   "execution_count": 47,
   "id": "68821f14-ffe4-44cc-87ee-e2e439314a7e",
   "metadata": {},
   "outputs": [],
   "source": [
    "with open(\"../../../nex/ca1net/results/parameters/MichaelRun/opt_params_1770\", \"rb\") as handle:\n",
    "    opt_params = pickle.load(handle)\n",
    "\n",
    "for i in range(2):\n",
    "    opt_params[i] = initial_parameters[i]"
   ]
  },
  {
   "cell_type": "code",
   "execution_count": 48,
   "id": "5bc2f82f-4811-47ca-a115-961df15f60b0",
   "metadata": {},
   "outputs": [
    {
     "name": "stdout",
     "output_type": "stream",
     "text": [
      "Test accuracy full 0.14453125\n"
     ]
    }
   ],
   "source": [
    "test_acc = eval_cross_entropy_accuracy(opt_params, 1024, \"test\")\n",
    "print(f\"Test accuracy full {test_acc}\")\n",
    "accuracies[\"no_first_layer\"] = test_acc"
   ]
  },
  {
   "cell_type": "markdown",
   "id": "c9bf9fb6-7499-42d2-a88b-da52d698479e",
   "metadata": {},
   "source": [
    "### With all second layer synapses reset to baseline"
   ]
  },
  {
   "cell_type": "code",
   "execution_count": 49,
   "id": "ec7b777e-a437-4b84-84a8-665de7a714c4",
   "metadata": {},
   "outputs": [],
   "source": [
    "with open(\"../../../nex/ca1net/results/parameters/MichaelRun/opt_params_1770\", \"rb\") as handle:\n",
    "    opt_params = pickle.load(handle)\n",
    "\n",
    "for i in range(2, 4):\n",
    "    opt_params[i] = initial_parameters[i]"
   ]
  },
  {
   "cell_type": "code",
   "execution_count": 50,
   "id": "ea13c873-01c2-4a2e-a718-93cd932bf018",
   "metadata": {},
   "outputs": [
    {
     "name": "stdout",
     "output_type": "stream",
     "text": [
      "Test accuracy full 0.3349609375\n"
     ]
    }
   ],
   "source": [
    "test_acc = eval_cross_entropy_accuracy(opt_params, 1024, \"test\")\n",
    "print(f\"Test accuracy full {test_acc}\")\n",
    "accuracies[\"no_second_layer\"] = test_acc"
   ]
  },
  {
   "cell_type": "markdown",
   "id": "59638b9a-94b7-4762-a6a5-c41ed3b8b5ed",
   "metadata": {},
   "source": [
    "### With sodium reset to baseline"
   ]
  },
  {
   "cell_type": "code",
   "execution_count": 51,
   "id": "1d0aeb3e-7a97-4b1e-891f-1291559a8270",
   "metadata": {},
   "outputs": [],
   "source": [
    "with open(\"../../../nex/ca1net/results/parameters/MichaelRun/opt_params_1770\", \"rb\") as handle:\n",
    "    opt_params = pickle.load(handle)\n",
    "\n",
    "for i in range(4, 5):\n",
    "    opt_params[i] = initial_parameters[i]"
   ]
  },
  {
   "cell_type": "code",
   "execution_count": 52,
   "id": "76b5c2f4-be93-4ad5-bdc6-024df65648a7",
   "metadata": {},
   "outputs": [
    {
     "name": "stdout",
     "output_type": "stream",
     "text": [
      "Test accuracy full 0.64453125\n"
     ]
    }
   ],
   "source": [
    "test_acc = eval_cross_entropy_accuracy(opt_params, 1024, \"test\")\n",
    "print(f\"Test accuracy full {test_acc}\")\n",
    "accuracies[\"no_sodium\"] = test_acc"
   ]
  },
  {
   "cell_type": "markdown",
   "id": "6cca9f8e-841b-457a-8ef9-f1ec4bf63b25",
   "metadata": {},
   "source": [
    "### With potassium reset to baseline"
   ]
  },
  {
   "cell_type": "code",
   "execution_count": 53,
   "id": "3402e9fb-d1e5-47ab-848f-32961af87561",
   "metadata": {},
   "outputs": [],
   "source": [
    "with open(\"../../../nex/ca1net/results/parameters/MichaelRun/opt_params_1770\", \"rb\") as handle:\n",
    "    opt_params = pickle.load(handle)\n",
    "\n",
    "for i in range(5, 6):\n",
    "    opt_params[i] = initial_parameters[i]"
   ]
  },
  {
   "cell_type": "code",
   "execution_count": 54,
   "id": "ce635637-ae69-4c94-b69f-c3fff3ccd8e0",
   "metadata": {},
   "outputs": [
    {
     "name": "stdout",
     "output_type": "stream",
     "text": [
      "Test accuracy full 0.5859375\n"
     ]
    }
   ],
   "source": [
    "test_acc = eval_cross_entropy_accuracy(opt_params, 1024, \"test\")\n",
    "print(f\"Test accuracy full {test_acc}\")\n",
    "accuracies[\"no_potassium\"] = test_acc"
   ]
  },
  {
   "cell_type": "markdown",
   "id": "36083ac2-52ae-4fc6-85d3-db67199d15ff",
   "metadata": {},
   "source": [
    "### With leak reset to baseline"
   ]
  },
  {
   "cell_type": "code",
   "execution_count": 55,
   "id": "56ab3c61-8e52-489f-bee9-07aeeff46ac9",
   "metadata": {},
   "outputs": [],
   "source": [
    "with open(\"../../../nex/ca1net/results/parameters/MichaelRun/opt_params_1770\", \"rb\") as handle:\n",
    "    opt_params = pickle.load(handle)\n",
    "\n",
    "for i in range(6, 7):\n",
    "    opt_params[i] = initial_parameters[i]"
   ]
  },
  {
   "cell_type": "code",
   "execution_count": 56,
   "id": "3035274f-9d46-48f5-90e6-ce3e66e9c9e2",
   "metadata": {},
   "outputs": [
    {
     "name": "stdout",
     "output_type": "stream",
     "text": [
      "Test accuracy full 0.9150390625\n"
     ]
    }
   ],
   "source": [
    "test_acc = eval_cross_entropy_accuracy(opt_params, 1024, \"test\")\n",
    "print(f\"Test accuracy full {test_acc}\")\n",
    "accuracies[\"no_leak\"] = test_acc"
   ]
  },
  {
   "cell_type": "markdown",
   "id": "be09d4bb-d31b-441d-af41-89fef4e68d30",
   "metadata": {},
   "source": [
    "### With all channels reset to baseline"
   ]
  },
  {
   "cell_type": "code",
   "execution_count": 57,
   "id": "45f297cb-8fe5-4e61-ac6c-e58b53884832",
   "metadata": {},
   "outputs": [],
   "source": [
    "with open(\"../../../nex/ca1net/results/parameters/MichaelRun/opt_params_1770\", \"rb\") as handle:\n",
    "    opt_params = pickle.load(handle)\n",
    "\n",
    "for i in range(4, 7):\n",
    "    opt_params[i] = initial_parameters[i]"
   ]
  },
  {
   "cell_type": "code",
   "execution_count": 58,
   "id": "842b8462-083e-46af-8005-095073f7c53c",
   "metadata": {},
   "outputs": [
    {
     "name": "stdout",
     "output_type": "stream",
     "text": [
      "Test accuracy full 0.4794921875\n"
     ]
    }
   ],
   "source": [
    "test_acc = eval_cross_entropy_accuracy(opt_params, 1024, \"test\")\n",
    "print(f\"Test accuracy full {test_acc}\")\n",
    "accuracies[\"no_channels\"] = test_acc"
   ]
  },
  {
   "cell_type": "markdown",
   "id": "a458c41f-f8d8-4d0f-87fa-cb9ad7464593",
   "metadata": {},
   "source": [
    "### With all axial resistivities reset to baseline"
   ]
  },
  {
   "cell_type": "code",
   "execution_count": 59,
   "id": "36b62f1e-643a-4cb9-b939-75c9ca0c3324",
   "metadata": {},
   "outputs": [],
   "source": [
    "with open(\"../../../nex/ca1net/results/parameters/MichaelRun/opt_params_1770\", \"rb\") as handle:\n",
    "    opt_params = pickle.load(handle)\n",
    "\n",
    "for i in range(7, 8):\n",
    "    opt_params[i] = initial_parameters[i]"
   ]
  },
  {
   "cell_type": "code",
   "execution_count": 60,
   "id": "093b036d-58e5-495f-934f-a2414ff66014",
   "metadata": {},
   "outputs": [
    {
     "name": "stdout",
     "output_type": "stream",
     "text": [
      "Test accuracy full 0.91796875\n"
     ]
    }
   ],
   "source": [
    "test_acc = eval_cross_entropy_accuracy(opt_params, 1024, \"test\")\n",
    "print(f\"Test accuracy full {test_acc}\")\n",
    "accuracies[\"no_axial_resistivities\"] = test_acc"
   ]
  },
  {
   "cell_type": "code",
   "execution_count": 61,
   "id": "37c08ca3-bc10-4446-8897-adc80a9fa047",
   "metadata": {},
   "outputs": [
    {
     "data": {
      "text/plain": [
       "{'all': Array(0.95214844, dtype=float32),\n",
       " 'no_first_layer': Array(0.14453125, dtype=float32),\n",
       " 'no_second_layer': Array(0.33496094, dtype=float32),\n",
       " 'no_sodium': Array(0.64453125, dtype=float32),\n",
       " 'no_potassium': Array(0.5859375, dtype=float32),\n",
       " 'no_leak': Array(0.91503906, dtype=float32),\n",
       " 'no_channels': Array(0.4794922, dtype=float32),\n",
       " 'no_axial_resistivities': Array(0.91796875, dtype=float32)}"
      ]
     },
     "execution_count": 61,
     "metadata": {},
     "output_type": "execute_result"
    }
   ],
   "source": [
    "accuracies"
   ]
  },
  {
   "cell_type": "code",
   "execution_count": 63,
   "id": "86988782-9946-4de6-ace9-babbf9305b80",
   "metadata": {},
   "outputs": [],
   "source": [
    "with open(\"../results/accuracies/dropout_accuracies.pkl\", \"wb\") as handle:\n",
    "    pickle.dump(accuracies, handle)"
   ]
  },
  {
   "cell_type": "code",
   "execution_count": null,
   "id": "bbcb3924-733d-4038-8e7e-56d1bffc3e17",
   "metadata": {},
   "outputs": [],
   "source": []
  }
 ],
 "metadata": {
  "kernelspec": {
   "display_name": "Python 3 (ipykernel)",
   "language": "python",
   "name": "python3"
  },
  "language_info": {
   "codemirror_mode": {
    "name": "ipython",
    "version": 3
   },
   "file_extension": ".py",
   "mimetype": "text/x-python",
   "name": "python",
   "nbconvert_exporter": "python",
   "pygments_lexer": "ipython3",
   "version": "3.12.5"
  }
 },
 "nbformat": 4,
 "nbformat_minor": 5
}
