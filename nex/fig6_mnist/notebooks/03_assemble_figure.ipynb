{
 "cells": [
  {
   "cell_type": "code",
   "execution_count": 1,
   "id": "c8e7a9e6-1166-4725-9606-6bed13817b12",
   "metadata": {},
   "outputs": [],
   "source": [
    "%load_ext autoreload\n",
    "%autoreload 2"
   ]
  },
  {
   "cell_type": "code",
   "execution_count": 2,
   "id": "b5dd2b61-46c6-42b7-a368-9abd2a4b0230",
   "metadata": {},
   "outputs": [],
   "source": [
    "import matplotlib.pyplot as plt\n",
    "import matplotlib as mpl\n",
    "import numpy as np\n",
    "import pickle\n",
    "import jax.numpy as jnp\n",
    "\n",
    "import jaxley as jx\n",
    "from nex.colors import cols as papercols"
   ]
  },
  {
   "cell_type": "code",
   "execution_count": 3,
   "id": "9961f79d-4d08-4d12-88cd-8caf2d31d1e7",
   "metadata": {},
   "outputs": [],
   "source": [
    "import time\n",
    "import IPython.display as IPd\n",
    "from svgutils.compose import *"
   ]
  },
  {
   "cell_type": "code",
   "execution_count": 4,
   "id": "068c3e05-b799-4550-bc5f-e5965b5e69d5",
   "metadata": {},
   "outputs": [],
   "source": [
    "with open(\"../results/traces/output_trained_all_neurons_few_images.pkl\", \"rb\") as handle:\n",
    "    traces_trained = pickle.load(handle)\n",
    "\n",
    "with open(\"../results/traces/images_trained.pkl\", \"rb\") as handle:\n",
    "    images_trained = pickle.load(handle)\n",
    "\n",
    "with open(\"../results/traces/labels_trained.pkl\", \"rb\") as handle:\n",
    "    labels_trained = pickle.load(handle)\n",
    "\n",
    "i_delay = 0.1\n",
    "i_dur = 1.0\n",
    "dt = 0.025\n",
    "t_max = 10.01\n",
    "i_amp = 4 / 50 / 500\n",
    "stim1 = jx.step_current(i_delay, i_dur, i_amp, dt, t_max)\n",
    "time_vec = np.arange(0, t_max+2*dt, dt)"
   ]
  },
  {
   "cell_type": "code",
   "execution_count": 5,
   "id": "33b5c2e7-3f14-4183-bbef-05df1bbb2f9f",
   "metadata": {},
   "outputs": [],
   "source": [
    "ind = 6"
   ]
  },
  {
   "cell_type": "markdown",
   "id": "438bf8cf-1624-498d-a3ad-ecf80298c0fe",
   "metadata": {
    "jp-MarkdownHeadingCollapsed": true
   },
   "source": [
    "### Panel a"
   ]
  },
  {
   "cell_type": "code",
   "execution_count": 6,
   "id": "8b9084d8-1d91-4804-be20-1ffd4018b7c2",
   "metadata": {},
   "outputs": [
    {
     "data": {
      "image/png": "[encoded data removed]",
      "text/plain": [
       "<Figure size 60x60 with 1 Axes>"
      ]
     },
     "metadata": {},
     "output_type": "display_data"
    }
   ],
   "source": [
    "with mpl.rc_context(fname=\"../../../.matplotlibrc\"): \n",
    "    fig, ax = plt.subplots(1, 1, figsize=(0.6, 0.6))\n",
    "    _ = ax.imshow(1-np.reshape(images_trained[ind], (28, 28)), cmap=\"Greys\")\n",
    "    _ = ax.spines[\"top\"].set_visible(False)\n",
    "    _ = ax.spines[\"right\"].set_visible(False)\n",
    "    _ = ax.spines[\"left\"].set_visible(False)\n",
    "    _ = ax.spines[\"bottom\"].set_visible(False)\n",
    "    _ = ax.set_yticks([])\n",
    "    _ = ax.set_xticks([])\n",
    "    plt.savefig(\"../svg/panel_a0.svg\", bbox_inches=\"tight\", transparent=True)\n",
    "    plt.show()"
   ]
  },
  {
   "cell_type": "code",
   "execution_count": 8,
   "id": "f9fec54b-8501-4b4c-b46b-9922baf09530",
   "metadata": {},
   "outputs": [
    {
     "data": {
      "image/png": "[encoded data removed]",
      "text/plain": [
       "<Figure size 40x30 with 1 Axes>"
      ]
     },
     "metadata": {},
     "output_type": "display_data"
    }
   ],
   "source": [
    "with mpl.rc_context(fname=\"../../../.matplotlibrc\"): \n",
    "    fig, ax = plt.subplots(1, 1, figsize=(0.4, 0.3))\n",
    "    _ = ax.plot(time_vec[:-1], stim1, color=\"k\")\n",
    "    _ = ax.set_yticks([])\n",
    "    _ = ax.set_xticks([])\n",
    "    _ = ax.spines[\"top\"].set_visible(False)\n",
    "    _ = ax.spines[\"right\"].set_visible(False)\n",
    "    _ = ax.spines[\"left\"].set_visible(False)\n",
    "    _ = ax.spines[\"bottom\"].set_visible(False)\n",
    "    plt.savefig(\"../svg/panel_a01.svg\", bbox_inches=\"tight\", transparent=True)\n",
    "    plt.show()"
   ]
  },
  {
   "cell_type": "code",
   "execution_count": 9,
   "id": "64dff1e6-d633-453c-a60b-cf89aacc0aff",
   "metadata": {},
   "outputs": [
    {
     "data": {
      "image/png": "[encoded data removed]",
      "text/plain": [
       "<Figure size 40x20 with 1 Axes>"
      ]
     },
     "metadata": {},
     "output_type": "display_data"
    }
   ],
   "source": [
    "with mpl.rc_context(fname=\"../../../.matplotlibrc\"): \n",
    "    fig, ax = plt.subplots(1, 1, figsize=(0.4, 0.2))\n",
    "    _ = ax.plot(time_vec[:-1], stim1, color=\"k\")\n",
    "    _ = ax.set_yticks([])\n",
    "    _ = ax.set_xticks([])\n",
    "    _ = ax.spines[\"top\"].set_visible(False)\n",
    "    _ = ax.spines[\"right\"].set_visible(False)\n",
    "    _ = ax.spines[\"left\"].set_visible(False)\n",
    "    _ = ax.spines[\"bottom\"].set_visible(False)\n",
    "    plt.savefig(\"../svg/panel_a02.svg\", bbox_inches=\"tight\", transparent=True)\n",
    "    plt.show()"
   ]
  },
  {
   "cell_type": "code",
   "execution_count": 143,
   "id": "00eb4bef-9103-42a7-8be3-97ed811da637",
   "metadata": {},
   "outputs": [],
   "source": [
    "# max_value_every_cell = jnp.max(traces_trained[ind], axis=1)\n",
    "# with open(\"../../paper/fig6_mnist/results/traces/v_all_compartments.pkl\", \"rb\") as handle:\n",
    "#     every_comp_voltage = pickle.load(handle)[0]\n",
    "\n",
    "every_comp_voltage = traces_trained[ind]"
   ]
  },
  {
   "cell_type": "code",
   "execution_count": 149,
   "id": "6c6c2dcc-db56-4c3b-a179-f1cfaa71d09b",
   "metadata": {},
   "outputs": [],
   "source": [
    "every_comp_voltage = traces_trained[ind]\n",
    "\n",
    "min_val = 40\n",
    "max_val = 450\n",
    "\n",
    "spike_time = jnp.argmax(every_comp_voltage, axis=1)\n",
    "is_no_spike = jnp.max(every_comp_voltage, axis=1) < 20.0\n",
    "spike_time = spike_time.at[is_no_spike].set(max_val)\n",
    "\n",
    "diff = max_val - min_val\n",
    "spike_time_zscored = (spike_time - min_val) / diff\n",
    "spike_time_zscored = 1 - spike_time_zscored\n",
    "cmap = plt.get_cmap(\"inferno\")\n",
    "\n",
    "spike_time_zscored = spike_time_zscored.at[-10:].set(every_comp_voltage[-10:, -1])\n",
    "spike_time_zscored = spike_time_zscored.at[-10:].add(150.0)\n",
    "spike_time_zscored = spike_time_zscored.at[-10:].divide(10.0)"
   ]
  },
  {
   "cell_type": "code",
   "execution_count": 99,
   "id": "9b5fc8d7-2d73-4425-ad97-07ab7a650b0b",
   "metadata": {},
   "outputs": [],
   "source": [
    "with open(\"../results/01_network.pkl\", \"rb\") as handle:\n",
    "    net = pickle.load(handle)\n",
    "\n",
    "net.compute_xyz()\n",
    "for i in range(28**2):\n",
    "    net.cell(i).move((i % 28) * 10, 15.5 * i - (i // 28) * 300, 0)\n",
    "for counter, i in enumerate(range(28**2, 28**2 + 64)):\n",
    "    net.cell(i).rotate(270)\n",
    "    net.cell(i).move(1150, 5 * 784 / 64 * counter, 0)\n",
    "net.cell(28**2).move(-300, 0, 0)\n",
    "net.cell(28**2+18).move(-600, 0, 0)\n",
    "net.cell(28**2+44).move(-600, 0, 0)\n",
    "net.cell(28**2+52).move(-400, 0, 0)\n",
    "net.cell(28**2+55).move(-400, 0, 0)\n",
    "for counter, i in enumerate(range(28**2 + 64, 28**2 + 64 + 10)):\n",
    "    net.cell(i).move(1600, 5 * 784 / 10 * counter + 150, 0)"
   ]
  },
  {
   "cell_type": "code",
   "execution_count": 105,
   "id": "8d61a049-44a5-4d4a-a145-3af8b62c94e7",
   "metadata": {},
   "outputs": [
    {
     "data": {
      "image/png": "[encoded data removed]",
      "text/plain": [
       "<Figure size 160x360 with 1 Axes>"
      ]
     },
     "metadata": {},
     "output_type": "display_data"
    }
   ],
   "source": [
    "_ = np.random.seed(0)\n",
    "with mpl.rc_context(fname=\"../../../.matplotlibrc\"):\n",
    "    fig, ax = plt.subplots(1, 1, figsize=(1.6, 3.6))\n",
    "    for i in range(28**2):\n",
    "        ax = net.cell(i).vis(ax=ax, col=cmap(normalized_max[i]), morph_plot_kwargs={\"linewidth\": 0.3})\n",
    "    for counter, i in enumerate(range(28**2, 28**2+64)):\n",
    "        ax = net.cell(i).vis(ax=ax, col=cmap(normalized_max[i]), morph_plot_kwargs={\"linewidth\": 0.3, \"zorder\": 1-normalized_max[i] + np.random.rand() * 3.0})\n",
    "\n",
    "    for i in range(28**2+64, 28**2+64+10):\n",
    "        ax = net.cell(i).vis(ax=ax, col=cmap(normalized_max[i]), morph_plot_kwargs={\"linewidth\": 0.3})\n",
    "    for i in range(28**2+64, 28**2+64+10):\n",
    "        ax = net[i, 0, 3].vis(ax=ax, col=cmap(normalized_max[i]), morph_plot_kwargs={\"s\": 3.})\n",
    "\n",
    "    _ = ax.set_xlim([0, 2200])\n",
    "    _ = ax.set_ylim([-200, 4200])\n",
    "    _ = ax.spines[\"top\"].set_visible(False)\n",
    "    _ = ax.spines[\"right\"].set_visible(False)\n",
    "    _ = ax.spines[\"left\"].set_visible(False)\n",
    "    _ = ax.spines[\"bottom\"].set_visible(False)\n",
    "    _ = ax.set_yticks([])\n",
    "    _ = ax.set_xticks([])\n",
    "    plt.savefig(\"../svg/panel_a1.svg\", bbox_inches=\"tight\", transparent=True)\n",
    "    plt.show()"
   ]
  },
  {
   "cell_type": "markdown",
   "id": "8e5c1521-1aa0-4997-82d6-3acf27898418",
   "metadata": {
    "jp-MarkdownHeadingCollapsed": true
   },
   "source": [
    "### Panel b"
   ]
  },
  {
   "cell_type": "code",
   "execution_count": 63,
   "id": "858e545b-cbee-460f-8d9b-10705f5133e3",
   "metadata": {},
   "outputs": [
    {
     "data": {
      "image/png": "[encoded data removed]",
      "text/plain": [
       "<Figure size 60x120 with 1 Axes>"
      ]
     },
     "metadata": {},
     "output_type": "display_data"
    }
   ],
   "source": [
    "with mpl.rc_context(fname=\"../../../.matplotlibrc\"):\n",
    "    fig, ax = plt.subplots(1, 1, figsize=(0.6, 1.2))\n",
    "    for i in range(20):\n",
    "        _ = ax.plot(time_vec, i * 90 + traces_trained[ind, 150+i, :].T, c=\"k\")\n",
    "        _ = ax.spines[\"top\"].set_visible(False)\n",
    "        _ = ax.spines[\"left\"].set_visible(False)\n",
    "\n",
    "    _ = ax.set_xticks([])\n",
    "    _ = ax.set_yticks([])\n",
    "    _ = ax.spines[\"right\"].set_visible(False)\n",
    "    _ = ax.spines[\"bottom\"].set_visible(False)\n",
    "    _ = ax.set_xlim([0, 11])\n",
    "    _ = ax.set_ylim([-130, 1800])\n",
    "\n",
    "    plt.savefig(\"../svg/panel_a2.svg\", bbox_inches=\"tight\", transparent=True)\n",
    "    plt.show()"
   ]
  },
  {
   "cell_type": "code",
   "execution_count": 66,
   "id": "24f40252-6b3f-4eaf-8866-bccc4087e1d8",
   "metadata": {},
   "outputs": [
    {
     "data": {
      "image/png": "[encoded data removed]",
      "text/plain": [
       "<Figure size 60x120 with 1 Axes>"
      ]
     },
     "metadata": {},
     "output_type": "display_data"
    }
   ],
   "source": [
    "with mpl.rc_context(fname=\"../../../.matplotlibrc\"):\n",
    "    fig, ax = plt.subplots(1, 1, figsize=(0.6, 1.2))\n",
    "    for i in range(20):\n",
    "        _ = ax.plot(time_vec, i * 90 + traces_trained[ind, 28**2 + 10 + i, :].T, c=\"k\")\n",
    "        _ = ax.spines[\"top\"].set_visible(False)\n",
    "        _ = ax.spines[\"left\"].set_visible(False)\n",
    "\n",
    "    _ = ax.set_xticks([])\n",
    "    _ = ax.set_yticks([])\n",
    "    _ = ax.spines[\"right\"].set_visible(False)\n",
    "    _ = ax.spines[\"bottom\"].set_visible(False)\n",
    "    _ = ax.plot([11, 11], [-150, -70], c=\"k\", clip_on=False)\n",
    "    _ = ax.plot([9, 11], [-150, -150], c=\"k\", clip_on=False)\n",
    "    _ = ax.set_xlim([0, 11])\n",
    "    _ = ax.set_ylim([-150, 1800])\n",
    "\n",
    "    _ = ax.set_xticks([])\n",
    "\n",
    "    plt.savefig(\"../svg/panel_a3.svg\", bbox_inches=\"tight\", transparent=True)\n",
    "    plt.show()"
   ]
  },
  {
   "cell_type": "code",
   "execution_count": 65,
   "id": "0f77f587-06a4-4c8d-9589-898f827c44c2",
   "metadata": {},
   "outputs": [
    {
     "data": {
      "image/png": "[encoded data removed]",
      "text/plain": [
       "<Figure size 60x120 with 1 Axes>"
      ]
     },
     "metadata": {},
     "output_type": "display_data"
    }
   ],
   "source": [
    "with mpl.rc_context(fname=\"../../../.matplotlibrc\"):\n",
    "    fig, ax = plt.subplots(1, 1, figsize=(0.6, 1.2))\n",
    "    for i in range(10):\n",
    "        c = \"#d7301f\" if 9 - i == labels_trained[ind] else \"k\"\n",
    "        _ = ax.plot(time_vec, i * 90 + traces_trained[ind, -i-1, :].T, c=c)\n",
    "        _ = ax.spines[\"top\"].set_visible(False)\n",
    "        _ = ax.spines[\"left\"].set_visible(False)\n",
    "\n",
    "    _ = ax.set_xticks([])\n",
    "    _ = ax.set_yticks([])\n",
    "    _ = ax.spines[\"right\"].set_visible(False)\n",
    "    _ = ax.spines[\"bottom\"].set_visible(False)\n",
    "    _ = ax.plot([11, 11], [-130, -50], c=\"k\", clip_on=False)\n",
    "    _ = ax.plot([9, 11], [-130, -130], c=\"k\", clip_on=False)\n",
    "    _ = ax.set_xlim([0, 11])\n",
    "    _ = ax.set_ylim([-130, 770])\n",
    "\n",
    "    _ = ax.set_xticks([])\n",
    "\n",
    "    plt.savefig(\"../svg/panel_a4.svg\", bbox_inches=\"tight\", transparent=True)\n",
    "    plt.show()"
   ]
  },
  {
   "cell_type": "markdown",
   "id": "aaa1ad90-e473-42a6-8ac6-6a653d7a7489",
   "metadata": {
    "jp-MarkdownHeadingCollapsed": true
   },
   "source": [
    "### Panel c"
   ]
  },
  {
   "cell_type": "code",
   "execution_count": 197,
   "id": "8a471548-6fda-4950-b1de-ad33af7b4e81",
   "metadata": {},
   "outputs": [
    {
     "name": "stdout",
     "output_type": "stream",
     "text": [
      "label 0\n"
     ]
    },
    {
     "data": {
      "image/png": "[encoded data removed]",
      "text/plain": [
       "<Figure size 60x120 with 10 Axes>"
      ]
     },
     "metadata": {},
     "output_type": "display_data"
    }
   ],
   "source": [
    "from jax.scipy.special import logsumexp\n",
    "\n",
    "print(\"label\", labels_trained[ind])\n",
    "with mpl.rc_context(fname=\"../../../.matplotlibrc\"):\n",
    "    fig, ax = plt.subplots(10, 1, figsize=(0.6, 1.2))\n",
    "    for i in range(10):\n",
    "        c = \"#d7301f\" if 9 - i == labels_trained[ind] else \"k\"\n",
    "        prediction = (traces_trained[ind, -i-1] + 65) / 3.0\n",
    "        all_traces = (traces_trained[ind, -10:] + 65) / 3.0\n",
    "        softmaxed_trace = prediction - logsumexp(all_traces, axis=0)\n",
    "        softmaxed_trace = jnp.exp(softmaxed_trace)\n",
    "        _ = ax[9-i].plot(time_vec, softmaxed_trace, c=c)\n",
    "        _ = ax[i].set_yticks([-0.1, 1.2])\n",
    "        _ = ax[i].set_yticks([])\n",
    "        _ = ax[i].set_ylim([-0.1, 1.2])\n",
    "        _ = ax[i].spines[\"top\"].set_visible(False)\n",
    "        _ = ax[i].spines[\"left\"].set_visible(False)\n",
    "\n",
    "    for i in range(10):\n",
    "        _ = ax[i].text(11, -0.2, i)\n",
    "        _ = ax[i].set_xticks([])\n",
    "        _ = ax[i].set_yticks([])\n",
    "        _ = ax[i].spines[\"right\"].set_visible(False)\n",
    "        _ = ax[i].spines[\"bottom\"].set_visible(False)\n",
    "\n",
    "    plt.subplots_adjust(hspace=0.0)\n",
    "    plt.savefig(\"../svg/panel_a5.svg\", bbox_inches=\"tight\", transparent=True)\n",
    "    plt.show()"
   ]
  },
  {
   "cell_type": "markdown",
   "id": "ee68a1d0-af61-432d-9c04-ca764f583417",
   "metadata": {},
   "source": [
    "### Panel d"
   ]
  },
  {
   "cell_type": "code",
   "execution_count": 6,
   "id": "858327a6-a5de-4cd9-b0eb-273723c6fa37",
   "metadata": {},
   "outputs": [],
   "source": [
    "import scipy"
   ]
  },
  {
   "cell_type": "code",
   "execution_count": 36,
   "id": "1e54bf05-029c-4664-8702-82519b09f790",
   "metadata": {},
   "outputs": [],
   "source": [
    "_ = np.random.seed(0)\n",
    "lin_acc = np.asarray([0.927     , 0.9263    , 0.9271    , 0.9271    , 0.9274    ,\n",
    "        0.9267    , 0.9255    , 0.92539996, 0.9271    , 0.9264    ,\n",
    "        0.9273    , 0.92719996, 0.9259    , 0.9267    , 0.9267    ,\n",
    "        0.9273    , 0.92579997, 0.92759997, 0.9274    , 0.9263    ,\n",
    "        0.9259    , 0.9259    , 0.92679995, 0.92689997, 0.9255    ,\n",
    "        0.92679995, 0.92719996, 0.9267    , 0.928     , 0.926     ,\n",
    "        0.9267    , 0.9264    , 0.92539996, 0.9287    , 0.92609996,\n",
    "        0.92789996, 0.92649996, 0.92719996, 0.9273    , 0.9262    ,\n",
    "        0.927     , 0.9264    , 0.926     , 0.9259    , 0.92609996,\n",
    "        0.92749995, 0.9252    , 0.9274    , 0.9255    , 0.9253    ])\n",
    "mlp_acc = np.asarray([0.97779995, 0.97859997, 0.979     , 0.9783    , 0.97819996,\n",
    "        0.9787    , 0.9784    , 0.9808    , 0.97919995, 0.97859997,\n",
    "        0.97919995, 0.9788    , 0.97819996, 0.97919995, 0.9806    ,\n",
    "        0.97849995, 0.97919995, 0.9805    , 0.97889996, 0.97709996,\n",
    "        0.9777    , 0.9784    , 0.9766    , 0.97779995, 0.9809    ,\n",
    "        0.9791    , 0.9791    , 0.98099995, 0.9777    , 0.97919995,\n",
    "        0.97959995, 0.97819996, 0.978     , 0.97919995, 0.97919995,\n",
    "        0.9794    , 0.9799    , 0.9788    , 0.97889996, 0.97849995,\n",
    "        0.97789997, 0.978     , 0.97929996, 0.97749996, 0.97709996,\n",
    "        0.9788    , 0.97849995, 0.97779995, 0.97779995, 0.9769    ])\n",
    "biophys_acc = 0.943  # np.mean(np.asarray([\n",
    "#     0.9589844, 0.92871094, 0.9326172, 0.94140625, 0.9423828,\n",
    "#     0.9453125, 0.95410156, 0.9560547, 0.9433594,  0.9442857,\n",
    "# ]))  # average is over batches of 1024 images each.\n",
    "\n",
    "eval_x = np.linspace(0.9, 1.0, 100)\n",
    "kde_sigma = 0.0003\n",
    "lin_val = np.mean(np.asarray([scipy.stats.norm(val, kde_sigma).pdf(eval_x) for val in lin_acc]), axis=0)\n",
    "mlp_val = np.mean(np.asarray([scipy.stats.norm(val, kde_sigma).pdf(eval_x) for val in mlp_acc]), axis=0)"
   ]
  },
  {
   "cell_type": "code",
   "execution_count": 37,
   "id": "40f2005e-c1b2-4363-a9e4-819ff53033ed",
   "metadata": {},
   "outputs": [
    {
     "data": {
      "text/plain": [
       "0.943"
      ]
     },
     "execution_count": 37,
     "metadata": {},
     "output_type": "execute_result"
    }
   ],
   "source": [
    "biophys_acc"
   ]
  },
  {
   "cell_type": "code",
   "execution_count": 38,
   "id": "10fab332-33c5-4f1d-a047-c028439b7093",
   "metadata": {},
   "outputs": [
    {
     "data": {
      "image/png": "[encoded data removed]",
      "text/plain": [
       "<Figure size 70x60 with 1 Axes>"
      ]
     },
     "metadata": {},
     "output_type": "display_data"
    }
   ],
   "source": [
    "with mpl.rc_context(fname=\"../../../.matplotlibrc\"):\n",
    "    fig, ax = plt.subplots(1, 1, figsize=(0.7, 0.6))\n",
    "    _ = ax.plot(eval_x, lin_val, color=\"gray\")\n",
    "    _ = ax.axvline(biophys_acc, color=papercols[\"jaxley\"])\n",
    "    _ = ax.plot(eval_x, mlp_val, color=\"k\")\n",
    "    # for linear in lin_acc[::5]:\n",
    "    #     _ = ax.axvline(linear, ymax=0.1, color=\"gray\", linewidth=0.1)\n",
    "    # for mlp in mlp_acc[::5]:\n",
    "    #     _ = ax.axvline(mlp, ymax=0.1, color=\"k\", linewidth=0.1)\n",
    "    _ = ax.set_xlim([0.9, 1.0])\n",
    "    _ = ax.set_xticks([0.9, 1.0])\n",
    "    _ = ax.legend(\n",
    "        [\"linear\", \"biophysical\", \"MLP\"],\n",
    "        loc=\"upper right\",\n",
    "        bbox_to_anchor=[1.1, 1.9, 0.0, 0.0],\n",
    "        handlelength=0.4,\n",
    "        handletextpad=0.3,\n",
    "        ncol=1,\n",
    "        columnspacing=0.5,\n",
    "        labelspacing=0.3,\n",
    "    )\n",
    "    _ = ax.set_ylim([0, 500])\n",
    "    _ = ax.spines[\"left\"].set_visible(False)\n",
    "    _ = ax.set_xlabel(\"Accuracy\", labelpad=-4)\n",
    "    _ = ax.set_yticks([])\n",
    "    plt.savefig(\"../svg/panel_d.svg\", bbox_inches=\"tight\", transparent=True)\n",
    "    plt.show()"
   ]
  },
  {
   "cell_type": "markdown",
   "id": "94273359-fd66-4ab7-b325-0c4f79a49997",
   "metadata": {},
   "source": [
    "### Panel e"
   ]
  },
  {
   "cell_type": "code",
   "execution_count": 87,
   "id": "6f812dd1-fdb9-44bc-b8b2-bf43ac455362",
   "metadata": {},
   "outputs": [],
   "source": [
    "with open(\"../results/parameters_1770\", \"rb\") as handle:\n",
    "    parameters = pickle.load(handle)\n",
    "\n",
    "with open(\"../results/initial_parameters\", \"rb\") as handle:\n",
    "    initial_parameters = pickle.load(handle)"
   ]
  },
  {
   "cell_type": "code",
   "execution_count": 88,
   "id": "e61b06d0-ca0e-4419-8104-5a57403d53e6",
   "metadata": {},
   "outputs": [],
   "source": [
    "param_values = {\"untrained\": {}, \"trained\": {}}\n",
    "for trained, params in zip([\"untrained\", \"trained\"], [initial_parameters, parameters]):\n",
    "    param_values[trained][\"conns1\"] = np.concatenate([params[0][\"Conns1_exc_gS\"], params[1][\"Conns1_inh_gS\"]]) * 1000\n",
    "    param_values[trained][\"conns2\"] = np.concatenate([params[2][\"Conns2_exc_gS\"], params[3][\"Conns2_inh_gS\"]]) * 1000\n",
    "    param_values[trained][\"na\"] = params[4][\"HH_gNa\"]\n",
    "    param_values[trained][\"k\"] = params[5][\"HH_gK\"]\n",
    "    param_values[trained][\"leak\"] = params[6][\"HH_gLeak\"]\n",
    "    param_values[trained][\"ra\"] = params[7][\"axial_resistivity\"]"
   ]
  },
  {
   "cell_type": "code",
   "execution_count": 89,
   "id": "218e0588-46f1-4817-ba52-b1ecd71900b1",
   "metadata": {},
   "outputs": [
    {
     "name": "stdout",
     "output_type": "stream",
     "text": [
      "key untrained\n",
      "key trained\n"
     ]
    },
    {
     "data": {
      "image/png": "[encoded data removed]",
      "text/plain": [
       "<Figure size 180x110 with 6 Axes>"
      ]
     },
     "metadata": {},
     "output_type": "display_data"
    }
   ],
   "source": [
    "bounds = {\n",
    "    \"conns1\": [-0.001 * 1000, 0.001 * 1000],\n",
    "    \"conns2\": [-0.001 * 1000, 0.001 * 1000],\n",
    "    \"ra\": [0, 1000],\n",
    "    \"na\": [0, 0.3],\n",
    "    \"k\": [0, 0.1],\n",
    "    \"leak\": [0, 0.001],\n",
    "}\n",
    "\n",
    "labelpad=-5\n",
    "with mpl.rc_context(fname=\"../../../.matplotlibrc\"):\n",
    "    fig, ax = plt.subplots(2, 3, figsize=(1.8, 1.1))\n",
    "    for key, p in param_values.items():\n",
    "        print(\"key\", key)\n",
    "        col = \"k\" if key == \"untrained\" else papercols[\"jaxley\"]\n",
    "        _ = ax[0, 0].hist(param_values[key][\"conns1\"], color=col, histtype=\"step\", range=bounds[\"conns1\"], bins=30)\n",
    "        _ = ax[0, 0].set_xlim(bounds[\"conns1\"])\n",
    "        _ = ax[0, 0].set_xticks(bounds[\"conns1\"])\n",
    "        _ = ax[0, 0].set_xlabel(r\"$g_{\\mathrm{syn1}}$\", labelpad=labelpad)\n",
    "        _ = ax[0, 1].hist(param_values[key][\"conns2\"], color=col, histtype=\"step\", range=bounds[\"conns2\"], bins=30)\n",
    "        _ = ax[0, 1].set_xlim(bounds[\"conns2\"])\n",
    "        _ = ax[0, 1].set_xticks(bounds[\"conns2\"])\n",
    "        _ = ax[0, 1].set_xlabel(r\"$g_{\\mathrm{syn2}}$\", labelpad=labelpad)\n",
    "        if key == \"trained\":\n",
    "            _ = ax[0, 2].hist(param_values[key][\"ra\"], color=col, histtype=\"step\", range=bounds[\"ra\"], bins=30)\n",
    "            _ = ax[0, 2].set_xlim(bounds[\"ra\"])\n",
    "            _ = ax[0, 2].set_xticks(bounds[\"ra\"])\n",
    "            _ = ax[0, 2].set_xlabel(r\"$r_a$\", labelpad=labelpad)\n",
    "            _ = ax[1, 0].hist(param_values[key][\"na\"], color=col, histtype=\"step\", range=bounds[\"na\"], bins=30)\n",
    "            _ = ax[1, 0].set_xlim(bounds[\"na\"])\n",
    "            _ = ax[1, 0].set_xticks(bounds[\"na\"])\n",
    "            _ = ax[1, 0].set_xlabel(r\"$g_{\\mathrm{Na}}$\", labelpad=labelpad)\n",
    "            _ = ax[1, 1].hist(param_values[key][\"k\"], color=col, histtype=\"step\", range=bounds[\"k\"], bins=30)\n",
    "            _ = ax[1, 1].set_xlim(bounds[\"k\"])\n",
    "            _ = ax[1, 1].set_xticks(bounds[\"k\"])\n",
    "            _ = ax[1, 1].set_xlabel(r\"$g_{\\mathrm{K}}$\", labelpad=labelpad)\n",
    "            _ = ax[1, 2].hist(param_values[key][\"leak\"], color=col, histtype=\"step\", range=bounds[\"leak\"], bins=30)\n",
    "            _ = ax[1, 2].set_xlim(bounds[\"leak\"])\n",
    "            _ = ax[1, 2].set_xticks(bounds[\"leak\"])\n",
    "            _ = ax[1, 2].set_xlabel(r\"$g_{\\mathrm{Leak}}$\", labelpad=labelpad)\n",
    "        else:\n",
    "            _ = ax[0, 2].axvline(param_values[key][\"ra\"][0], color=col)\n",
    "            _ = ax[0, 2].axvline(param_values[key][\"ra\"][0] - 1000, color=papercols[\"jaxley\"])\n",
    "            _ = ax[1, 0].axvline(param_values[key][\"na\"][0], color=col)\n",
    "            _ = ax[1, 1].axvline(param_values[key][\"k\"][0], color=col)\n",
    "            _ = ax[1, 2].axvline(param_values[key][\"leak\"][0], color=col)\n",
    "    for i in range(2):\n",
    "        for j in range(3):\n",
    "            _ = ax[i, j].set_yticks([])\n",
    "    ax[1, 2].set_xticklabels([\"0\", \"0.001\"])\n",
    "    _ = ax[0, 2].legend(\n",
    "        [\"Initial\", \"Trained\"],\n",
    "        handlelength=0.3,\n",
    "        loc=\"upper right\",\n",
    "        bbox_to_anchor=[1.35, 1.1, 0.0, 0.0],\n",
    "        handletextpad=0.3,\n",
    "        labelspacing=0.1,\n",
    "    )\n",
    "    plt.subplots_adjust(wspace=0.4, hspace=0.5)\n",
    "    plt.savefig(\"../svg/panel_e.svg\", bbox_inches=\"tight\", transparent=True)\n",
    "    plt.show()"
   ]
  },
  {
   "cell_type": "markdown",
   "id": "efebd200-1380-4897-944b-66728464ec90",
   "metadata": {
    "jp-MarkdownHeadingCollapsed": true
   },
   "source": [
    "### Panel f"
   ]
  },
  {
   "cell_type": "code",
   "execution_count": 75,
   "id": "932c5898-c72c-41be-9ef7-a8951c95b36a",
   "metadata": {},
   "outputs": [],
   "source": [
    "with open(\"../results/accuracies/dropout_accuracies.pkl\", \"rb\") as handle:\n",
    "    accuracies = pickle.load(handle)"
   ]
  },
  {
   "cell_type": "code",
   "execution_count": 76,
   "id": "fd353d7c-04df-4ea1-a613-d42fbfd4ea15",
   "metadata": {},
   "outputs": [
    {
     "data": {
      "image/png": "[encoded data removed]",
      "text/plain": [
       "<Figure size 77x60 with 1 Axes>"
      ]
     },
     "metadata": {},
     "output_type": "display_data"
    }
   ],
   "source": [
    "num_ablations = len(accuracies.keys())\n",
    "with mpl.rc_context(fname=\"../../../.matplotlibrc\"):\n",
    "    fig, ax = plt.subplots(1, 1, figsize=(0.77, 0.6))\n",
    "    dropout_accuracies = np.asarray(list(accuracies.values())[1:])\n",
    "    names = np.asarray([\"1st layer syn.\" , \"2nd layer syn.\", \"Sodium\", \"Potassium\", \"Leak\", \"All channels\", r\"$r_a$\"])\n",
    "    sorting = np.argsort(dropout_accuracies)\n",
    "    dropout_accuracies = dropout_accuracies[sorting]\n",
    "    names = names[sorting]\n",
    "    _ = ax.axhline(accuracies[\"all\"], color=papercols[\"jaxley\"])\n",
    "    _ = ax.bar(\n",
    "        np.arange(1, num_ablations),\n",
    "        dropout_accuracies,\n",
    "        color=\"k\",\n",
    "        width=0.3,\n",
    "    )\n",
    "    _ = ax.set_xticks(np.arange(1, num_ablations))\n",
    "    _ = ax.set_xticklabels(names, rotation=90)\n",
    "    _ = ax.set_ylabel(\"Accuracy w/o\")\n",
    "    # _ = ax.set_title(\"Reset parameters to init\")\n",
    "    _ = ax.set_ylim([0, 1])\n",
    "    _ = ax.set_yticks([0, 1])\n",
    "    \n",
    "    plt.savefig(\"../svg/panel_f.svg\", bbox_inches=\"tight\", transparent=True)\n",
    "    plt.show()"
   ]
  },
  {
   "cell_type": "markdown",
   "id": "0b43ff8f-9f7e-48cc-8070-db7558f2e6ba",
   "metadata": {
    "jp-MarkdownHeadingCollapsed": true
   },
   "source": [
    "### Panel g"
   ]
  },
  {
   "cell_type": "code",
   "execution_count": 67,
   "id": "be2d11b9-f324-4f96-a426-db71146aeee0",
   "metadata": {},
   "outputs": [],
   "source": [
    "with open(\"../results/traces/output_trained.pkl\", \"rb\") as handle:\n",
    "    output_trained = pickle.load(handle)\n",
    "\n",
    "with open(\"../results/traces/images_trained.pkl\", \"rb\") as handle:\n",
    "    images_trained = pickle.load(handle)\n",
    "\n",
    "with open(\"../results/traces/labels_trained.pkl\", \"rb\") as handle:\n",
    "    labels_trained = pickle.load(handle)\n",
    "\n",
    "hidden_neuron_activities = output_trained[:, :64, :]"
   ]
  },
  {
   "cell_type": "code",
   "execution_count": 68,
   "id": "274088bf-8148-41dd-89b4-fc7870a226c1",
   "metadata": {},
   "outputs": [],
   "source": [
    "def compute_tuning(neuron_id):\n",
    "    tunings = []\n",
    "    for label in range(10):\n",
    "        image_is_digit = np.asarray(labels_trained == label)\n",
    "        avg_hidden_activities = np.mean(np.any(hidden_neuron_activities[image_is_digit, neuron_id] > 20.0, axis=1), axis=0)\n",
    "        tunings.append(avg_hidden_activities)\n",
    "    return np.asarray(tunings)\n",
    "\n",
    "neuron_id1 = 13\n",
    "neuron_id2 = 36\n",
    "tunings1 = compute_tuning(neuron_id1)\n",
    "tunings2 = compute_tuning(neuron_id2)"
   ]
  },
  {
   "cell_type": "code",
   "execution_count": 69,
   "id": "5e0b1358-a5f6-4b8e-9b50-562123b1e881",
   "metadata": {},
   "outputs": [
    {
     "data": {
      "image/png": "[encoded data removed]",
      "text/plain": [
       "<Figure size 65x115 with 2 Axes>"
      ]
     },
     "metadata": {},
     "output_type": "display_data"
    }
   ],
   "source": [
    "with mpl.rc_context(fname=\"../../../.matplotlibrc\"):\n",
    "    fig, ax = plt.subplots(2, 1, figsize=(0.65, 1.15))\n",
    "    ax[0].scatter(np.arange(10), tunings1, marker=\"o\", c=\"k\", clip_on=False, s=2.0)\n",
    "    ax[1].scatter(np.arange(10), tunings2, marker=\"o\", c=\"k\", clip_on=False, s=2.0)\n",
    "    for i in range(2):\n",
    "        ax[i].set_xticks(np.arange(10))\n",
    "        ax[i].set_yticks([0, 1])\n",
    "        ax[i].set_ylim([0, 1])\n",
    "        ax[i].set_xlim([0, 9])\n",
    "        for line in [\"left\",\"bottom\"]:\n",
    "            ax[i].spines[line].set_position((\"outward\", 2.0))\n",
    "    ax[0].set_xticklabels([])\n",
    "    ax[1].set_ylabel(r\"$\\;\\;\\;\\;\\;\\;\\;\\;\\;\\;\\;\\;\\;\\;\\;\\;\\;\\;\\;\\;$\"+\"Spike probability\", labelpad=2)\n",
    "    ax[1].set_xlabel(\"Image class\", labelpad=2)\n",
    "    plt.subplots_adjust(hspace=0.6)\n",
    "    plt.savefig(\"../svg/panel_g.svg\", bbox_inches=\"tight\", transparent=True)\n",
    "    plt.show()"
   ]
  },
  {
   "cell_type": "code",
   "execution_count": 70,
   "id": "546b1042-9493-443a-a0f6-dbc30e9ec728",
   "metadata": {},
   "outputs": [],
   "source": [
    "fnames = ['morphologies/n171/n171.CNG.swc','morphologies/n174/n174.CNG.swc','morphologies/n130/n130.CNG.swc','morphologies/n400/n400.CNG.swc','morphologies/n404/n404.CNG.swc','morphologies/n140/n140.CNG.swc','morphologies/n127/n127.CNG.swc','morphologies/n122/n122.CNG.swc',\n",
    "         'morphologies/n412/n412.CNG.swc','morphologies/n125/n125.CNG.swc','morphologies/n403/n403.CNG.swc','morphologies/n420/n420.CNG.swc','morphologies/n407/n407.CNG.swc','morphologies/n417/n417.CNG.swc','morphologies/n144/n144.CNG.swc','morphologies/n141/n141.CNG.swc',\n",
    "         'morphologies/n145/n145.CNG.swc','morphologies/n410/n410.CNG.swc','morphologies/n129/n129.CNG.swc','morphologies/n416/n416.CNG.swc','morphologies/n414/n414.CNG.swc','morphologies/n408/n408.CNG.swc','morphologies/n142/n142.CNG.swc','morphologies/n406/n406.CNG.swc','morphologies/n179/n179.CNG.swc',\n",
    "         'morphologies/n177/n177.CNG.swc','morphologies/n411/n411.CNG.swc','morphologies/n181/n181.CNG.swc','morphologies/n184/n184.CNG.swc','morphologies/n402/n402.CNG.swc','morphologies/n176/n176.CNG.swc','morphologies/n409/n409.CNG.swc','morphologies/n415/n415.CNG.swc','morphologies/n422/n422.CNG.swc',\n",
    "         'morphologies/n123/n123.CNG.swc','morphologies/n121/n121.CNG.swc','morphologies/n401/n401.CNG.swc','morphologies/n128/n128.CNG.swc','morphologies/n421/n421.CNG.swc','morphologies/n418/n418.CNG.swc','morphologies/n126/n126.CNG.swc','morphologies/n172/n172.CNG.swc','morphologies/n413/n413.CNG.swc','morphologies/n170/n170.CNG.swc',\n",
    "         'morphologies/n175/n175.CNG.swc','morphologies/n178/n178.CNG.swc','morphologies/n173/n173.CNG.swc','morphologies/n405/n405.CNG.swc','morphologies/n183/n183.CNG.swc','morphologies/n143/n143.CNG.swc','morphologies/n180/n180.CNG.swc','morphologies/n419/n419.CNG.swc','morphologies/n120/n120.CNG.swc','morphologies/n423/n423.CNG.swc',\n",
    "         'morphologies/n182/n182.CNG.swc']"
   ]
  },
  {
   "cell_type": "code",
   "execution_count": 71,
   "id": "6bdb4441-cde0-4c5e-8fe0-23757ea81bc3",
   "metadata": {},
   "outputs": [],
   "source": [
    "cell1 = jx.read_swc(\"../../../nex/ca1net/\"+fnames[neuron_id1], nseg=4, assign_groups=True)\n",
    "cell2 = jx.read_swc(\"../../../nex/ca1net/\"+fnames[neuron_id2], nseg=4, assign_groups=True)"
   ]
  },
  {
   "cell_type": "code",
   "execution_count": 72,
   "id": "e86e32e9-e5ff-4f57-bf50-32f028556bcb",
   "metadata": {},
   "outputs": [
    {
     "data": {
      "image/png": "[encoded data removed]",
      "text/plain": [
       "<Figure size 25x50 with 1 Axes>"
      ]
     },
     "metadata": {},
     "output_type": "display_data"
    }
   ],
   "source": [
    "with mpl.rc_context(fname=\"../../../.matplotlibrc\"):\n",
    "    fig, ax = plt.subplots(1, 1, figsize=(0.25, 0.5))\n",
    "    _ = ax.spines[\"left\"].set_visible(False)\n",
    "    _ = ax.spines[\"bottom\"].set_visible(False)\n",
    "    ax = cell1.vis(ax=ax, morph_plot_kwargs={\"linewidth\": 0.1})\n",
    "    _ = ax.set_xlim([-200, 200])\n",
    "    _ = ax.set_ylim([-300, 500])\n",
    "    _ = ax.set_xticks([])\n",
    "    _ = ax.set_yticks([])\n",
    "    plt.savefig(\"../svg/panel_g2.svg\", bbox_inches=\"tight\", transparent=True)\n",
    "    plt.show()"
   ]
  },
  {
   "cell_type": "code",
   "execution_count": 73,
   "id": "17e7965c-b748-4a64-a0b7-e4ab1e6cd03d",
   "metadata": {},
   "outputs": [
    {
     "data": {
      "image/png": "[encoded data removed]",
      "text/plain": [
       "<Figure size 25x50 with 1 Axes>"
      ]
     },
     "metadata": {},
     "output_type": "display_data"
    }
   ],
   "source": [
    "with mpl.rc_context(fname=\"../../../.matplotlibrc\"):\n",
    "    fig, ax = plt.subplots(1, 1, figsize=(0.25, 0.5))\n",
    "    _ = ax.spines[\"left\"].set_visible(False)\n",
    "    _ = ax.spines[\"bottom\"].set_visible(False)\n",
    "    ax = cell2.vis(ax=ax, morph_plot_kwargs={\"linewidth\": 0.1})\n",
    "    _ = ax.set_xlim([-200, 200])\n",
    "    _ = ax.set_ylim([-300, 500])\n",
    "    _ = ax.set_xticks([])\n",
    "    _ = ax.set_yticks([])\n",
    "    plt.savefig(\"../svg/panel_g3.svg\", bbox_inches=\"tight\", transparent=True)\n",
    "    plt.show()"
   ]
  },
  {
   "cell_type": "markdown",
   "id": "a874b911-f48e-4f8e-b876-341091c117d6",
   "metadata": {
    "jp-MarkdownHeadingCollapsed": true
   },
   "source": [
    "### Panel h"
   ]
  },
  {
   "cell_type": "code",
   "execution_count": 235,
   "id": "cc582439-d099-4a2f-823b-5cac36965d0c",
   "metadata": {},
   "outputs": [],
   "source": [
    "from jax.nn import sigmoid\n",
    "\n",
    "def tf_image(image):\n",
    "    image = sigmoid(image)\n",
    "    return image"
   ]
  },
  {
   "cell_type": "code",
   "execution_count": 236,
   "id": "ba974b2f-44e6-4723-9d61-9f40618af274",
   "metadata": {},
   "outputs": [],
   "source": [
    "time_vec = np.arange(0, 10.05+0.025, 0.025)\n",
    "\n",
    "epsilon = 5\n",
    "image_ind = 8  # 8 is good\n",
    "\n",
    "with open(f\"../results/attacks/attack_image_before_seed2.pkl\", \"rb\") as handle:\n",
    "    image_before = pickle.load(handle)[image_ind]\n",
    "with open(f\"../results/attacks/attack_trace_before_seed2.pkl\", \"rb\") as handle:\n",
    "    traces_before = pickle.load(handle)[image_ind]\n",
    "\n",
    "with open(f\"../results/attacks/all_images_seed2.pkl\", \"rb\") as handle:\n",
    "    all_adv_images = np.asarray(pickle.load(handle))\n",
    "with open(f\"../results/attacks/all_traces_seed2.pkl\", \"rb\") as handle:\n",
    "    all_adv_traces = np.asarray(pickle.load(handle))\n",
    "\n",
    "with open(f\"../results/attacks/initial_labels_seed2.pkl\", \"rb\") as handle:\n",
    "    initial_labels = pickle.load(handle)\n",
    "with open(f\"../results/attacks/target_labels_seed2.pkl\", \"rb\") as handle:\n",
    "    target_labels = pickle.load(handle)\n",
    "\n",
    "image_after = all_adv_images[epsilon, image_ind]\n",
    "traces_after = all_adv_traces[epsilon, image_ind]"
   ]
  },
  {
   "cell_type": "code",
   "execution_count": 237,
   "id": "36606d0f-7733-4f57-a3ad-a8f4b5ee741c",
   "metadata": {},
   "outputs": [
    {
     "name": "stdout",
     "output_type": "stream",
     "text": [
      "initial_label 6 target 4\n"
     ]
    }
   ],
   "source": [
    "initial_label = initial_labels[image_ind]\n",
    "target_label = target_labels[image_ind]\n",
    "print(\"initial_label\", initial_label, \"target\", target_label)"
   ]
  },
  {
   "cell_type": "code",
   "execution_count": 325,
   "id": "03938d38-47d5-4ec8-ba21-8ccf7edb18f5",
   "metadata": {},
   "outputs": [],
   "source": [
    "from jax.scipy.special import logsumexp\n",
    "from copy import deepcopy\n",
    "\n",
    "\n",
    "def softmax(traces, label):\n",
    "    traces += 65.0\n",
    "    traces /= 3.0\n",
    "    true = traces[label][-1]\n",
    "    return np.exp(true - logsumexp(traces[-10:, -1:]))\n",
    "    \n",
    "prob_true_before = softmax(deepcopy(traces_before), initial_label)\n",
    "prob_false_before = softmax(deepcopy(traces_before), target_label)\n",
    "\n",
    "prob_true_after = softmax(deepcopy(traces_after), initial_label)\n",
    "prob_false_after = softmax(deepcopy(traces_after), target_label)"
   ]
  },
  {
   "cell_type": "code",
   "execution_count": 326,
   "id": "00915ac0-8924-4522-a579-cfd4ecdc4d7e",
   "metadata": {},
   "outputs": [
    {
     "data": {
      "image/png": "[encoded data removed]",
      "text/plain": [
       "<Figure size 200x50 with 2 Axes>"
      ]
     },
     "metadata": {},
     "output_type": "display_data"
    }
   ],
   "source": [
    "with mpl.rc_context(fname=\"../../../.matplotlibrc\"):\n",
    "    fig, ax = plt.subplots(1, 2, figsize=(2.0, 0.5))\n",
    "    _ = ax[0].imshow(1-np.reshape(tf_image(image_before), (28, 28)), cmap=\"Greys\")\n",
    "    _ = ax[1].imshow(1-np.reshape(tf_image(image_after), (28, 28)), cmap=\"Greys\")\n",
    "    _ = ax[0].text(28, 3, f\"p(6)={prob_true_before:.2f}\")\n",
    "    _ = ax[0].text(28, 9, f\"p(4)={prob_false_before:.2f}\")\n",
    "    _ = ax[0].text(32, 19, \"Maximize\")\n",
    "    _ = ax[0].text(40, 24, \"p(4)\")\n",
    "    _ = ax[1].text(29, 3, f\"p(6)={prob_true_after:.2f}\")\n",
    "    _ = ax[1].text(29, 9, f\"p(4)={prob_false_after:.2f}\")\n",
    "    for i in range(2):\n",
    "        _ = ax[i].set_xticks([])\n",
    "        _ = ax[i].set_yticks([])\n",
    "        _ = ax[i].spines[\"left\"].set_visible(False)\n",
    "        _ = ax[i].spines[\"bottom\"].set_visible(False)\n",
    "    plt.subplots_adjust(wspace=0.3)\n",
    "    plt.savefig(\"../svg/panel_h1.svg\", bbox_inches=\"tight\", transparent=True)\n",
    "    plt.show()"
   ]
  },
  {
   "cell_type": "code",
   "execution_count": 324,
   "id": "da8ffee7-e62a-4e51-b2cd-de89cc5d2909",
   "metadata": {},
   "outputs": [
    {
     "data": {
      "image/png": "[encoded data removed]",
      "text/plain": [
       "<Figure size 170x50 with 2 Axes>"
      ]
     },
     "metadata": {},
     "output_type": "display_data"
    }
   ],
   "source": [
    "with mpl.rc_context(fname=\"../../../.matplotlibrc\"):\n",
    "    fig, ax = plt.subplots(1, 2, figsize=(1.7, 0.50))\n",
    "    all_ = np.arange(10)\n",
    "    all_ = np.delete(all_, initial_label)\n",
    "    all_ = np.delete(all_, target_label)\n",
    "    inds = np.concatenate([np.asarray([initial_label]), np.asarray([target_label]), all_])\n",
    "    for rec in inds:\n",
    "        if rec == initial_label:\n",
    "            col = \"#d7301f\"\n",
    "            alpha = 1.0\n",
    "            zorder = 1000\n",
    "        elif rec == target_label:\n",
    "            col = \"k\"\n",
    "            alpha = 1.0\n",
    "            zorder = 1000\n",
    "        else:\n",
    "            col = \"k\"\n",
    "            alpha = 0.1\n",
    "            zorder = 100\n",
    "\n",
    "        _ = ax[0].plot(time_vec, traces_before[rec], color=col, alpha=alpha, zorder=zorder)\n",
    "        _ = ax[1].plot(time_vec, traces_after[rec], color=col, alpha=alpha, zorder=zorder)\n",
    "\n",
    "    for i in range(2):\n",
    "        _ = ax[i].set_ylim([-90, -45])\n",
    "        _ = ax[i].set_yticks([-90, -45])\n",
    "        _ = ax[i].set_xlim([0, 10])\n",
    "        _ = ax[i].set_xticks([0, 10])\n",
    "\n",
    "    _ = ax[0].legend(\n",
    "        [initial_label, target_label],\n",
    "        loc=\"upper right\",\n",
    "        bbox_to_anchor=[0.83, 1.2, 0.0, 0.0],\n",
    "        ncol=2,\n",
    "        handlelength=0.6,\n",
    "        handletextpad=0.3,\n",
    "        columnspacing=0.5,\n",
    "    )\n",
    "\n",
    "    _ = ax[1].set_yticklabels([])\n",
    "    _ = ax[1].set_xticklabels([])\n",
    "    _ = ax[0].set_xlabel(\"Time (ms)\", labelpad=-3)\n",
    "    _ = ax[0].set_ylabel(\"Voltage\\n(mV)\", labelpad=-10)\n",
    "    plt.subplots_adjust(wspace=0.6)\n",
    "    plt.savefig(\"../svg/panel_h2.svg\", bbox_inches=\"tight\", transparent=True)\n",
    "    plt.show()"
   ]
  },
  {
   "cell_type": "markdown",
   "id": "35d929aa-9284-43c9-ac4e-22b9184fc758",
   "metadata": {
    "jp-MarkdownHeadingCollapsed": true
   },
   "source": [
    "### Panel i"
   ]
  },
  {
   "cell_type": "code",
   "execution_count": 78,
   "id": "51c2f3fb-1c5e-4361-b633-9256834c3ac5",
   "metadata": {},
   "outputs": [],
   "source": [
    "from nex.colors import cols as papercols\n",
    "\n",
    "with open(\"../results/adv_attacks/ann_accuracies.pkl\", \"rb\") as handle:\n",
    "    ann_adv_accuracies = pickle.load(handle)\n",
    "\n",
    "biophys_accuracies = []\n",
    "for seed in range(1, 9):\n",
    "    with open(f\"../results/attacks/all_accuracies_seed{seed}.pkl\", \"rb\") as handle:\n",
    "        biophys_accuracies.append(pickle.load(handle))\n",
    "biophys_accuracies = np.mean(np.asarray(biophys_accuracies), axis=0)\n",
    "lr = 5.0\n",
    "epsilon = np.arange(0, len(ann_adv_accuracies) * lr, lr)"
   ]
  },
  {
   "cell_type": "code",
   "execution_count": 79,
   "id": "755fc8b0-4ba8-4c3c-ad23-8becf2bff494",
   "metadata": {},
   "outputs": [
    {
     "data": {
      "image/png": "[encoded data removed]",
      "text/plain": [
       "<Figure size 80x56.3 with 1 Axes>"
      ]
     },
     "metadata": {},
     "output_type": "display_data"
    }
   ],
   "source": [
    "with mpl.rc_context(fname=\"../../../.matplotlibrc\"):\n",
    "    fig, ax = plt.subplots(1, 1, figsize=(0.8, 0.563))\n",
    "    _ = ax.plot(epsilon[:20], biophys_accuracies[:20], marker=\"o\", color=papercols[\"jaxley\"], markersize=1.0, clip_on=False, zorder=2)\n",
    "    _ = ax.plot(epsilon[:20], ann_adv_accuracies[:20], marker=\"o\", color=\"k\", markersize=1.0, clip_on=False, zorder=1)\n",
    "    _ = ax.set_xlabel(\"Norm of\\nperturbation\", labelpad=-5)\n",
    "    _ = ax.set_ylabel(\"Accuracy\", labelpad=0)\n",
    "    _ = ax.set_ylim([0, 1])\n",
    "    _ = ax.set_yticks([0, 1])\n",
    "    _ = ax.set_xlim([0, 100])\n",
    "    _ = ax.set_xticks([0, 100])\n",
    "    _ = ax.spines[\"bottom\"].set_position((\"outward\", 2.0))\n",
    "    _ = ax.spines[\"left\"].set_position((\"outward\", 2.0))\n",
    "    _ = ax.legend(\n",
    "        [\"Biophys.\", \"MLP\"],\n",
    "        loc=\"upper right\",\n",
    "        bbox_to_anchor=[1.18, 1.1, 0.0, 0.0],\n",
    "        handlelength=0.8,\n",
    "        handletextpad=0.3,\n",
    "        labelspacing=0.1,\n",
    "    )\n",
    "    plt.savefig(\"../svg/panel_i.svg\", bbox_inches=\"tight\", transparent=True)\n",
    "    plt.show()"
   ]
  },
  {
   "cell_type": "markdown",
   "id": "b3eb7204-0d07-46e4-b9da-4787fce9a5c7",
   "metadata": {},
   "source": [
    "# Assemble figure"
   ]
  },
  {
   "cell_type": "code",
   "execution_count": 91,
   "id": "7cab7ea9-b358-4579-9da5-5cca55c6f927",
   "metadata": {},
   "outputs": [
    {
     "data": {
      "text/html": [
       "<img src=\"../fig/fig6.svg\" / >"
      ],
      "text/plain": [
       "<IPython.core.display.HTML object>"
      ]
     },
     "metadata": {},
     "output_type": "display_data"
    }
   ],
   "source": [
    "def svg(img):\n",
    "    IPd.display(IPd.HTML('<img src=\"{}\" / >'.format(img, time.time())))\n",
    "\n",
    "svg_scale = 1.334  # set this to 1.334 for Inkscape, 1.0 otherwise\n",
    "\n",
    "# Panel letters in Helvetica Neue, 12pt, Medium\n",
    "kwargs_text = {'size': '8pt', 'font': 'Arial', 'weight': '800'}\n",
    "kwargs_text_normal = {'size': '6pt', 'font': 'Arial'}\n",
    "\n",
    "f = Figure(\n",
    "    \"18.0cm\",\n",
    "    \"7.3cm\",\n",
    "\n",
    "    Panel(SVG(\"../svg/panel_a1_annotated_png.svg\").scale(svg_scale).move(0, -3)),\n",
    "    Panel(\n",
    "        Text(\"a\", 11, 0.0, **kwargs_text),\n",
    "        Text(\"Biophysical network to classify MNIST\", 22, 0.0, **kwargs_text_normal),\n",
    "    ).move(-10, 8),\n",
    "\n",
    "    Panel(\n",
    "        Text(\"b\", 11, 0.0, **kwargs_text),\n",
    "        Text(\"Single neuron activity\", 55, 0.0, **kwargs_text_normal),\n",
    "    ).move(160, 8),\n",
    "    Panel(\n",
    "        Text(\"Input layer\", 0, 0.0, **kwargs_text_normal),\n",
    "        Text(\"Hidden layer\", 50, 0.0, **kwargs_text_normal),\n",
    "        Text(\"Output layer\", 104, 0.0, **kwargs_text_normal),\n",
    "        Text(\"Softmax\", 182, -12.0, **kwargs_text_normal),\n",
    "        Text(\"probabilities\", 177, -4.0, **kwargs_text_normal),\n",
    "    ).move(184, 20),\n",
    "    Panel(SVG(\"../svg/panel_a2.svg\").scale(svg_scale).move(172, 15)),\n",
    "    Panel(SVG(\"../svg/panel_a3.svg\").scale(svg_scale).move(227, 15)),\n",
    "    Panel(SVG(\"../svg/panel_a4.svg\").scale(svg_scale).move(282, 15)),\n",
    "\n",
    "    Text(\"c\", 350, 8.0, **kwargs_text),\n",
    "    Panel(SVG(\"../svg/panel_a5.svg\").scale(svg_scale).move(350, 10)),\n",
    "\n",
    "    Panel(\n",
    "        Text(\"d\", 11, 0.0, **kwargs_text),\n",
    "        Text(\"Performance\", 25, 0.0, **kwargs_text_normal),\n",
    "    ).move(423, 8),\n",
    "    Panel(SVG(\"../svg/panel_d.svg\").scale(svg_scale).move(430, 12)),\n",
    "\n",
    "    Panel(\n",
    "        Text(\"e\", 0, 0.0, **kwargs_text),\n",
    "        Text(\"Parameters before and after training\", 18, 0.0, **kwargs_text_normal),\n",
    "    ).move(520, 8),\n",
    "    Panel(SVG(\"../svg/panel_e_annotated.svg\").scale(svg_scale).move(520, 10)),\n",
    "\n",
    "    Panel(\n",
    "        Text(\"f\", 0, 0.0, **kwargs_text),\n",
    "        Text(\"Parameter importance\", 11, 0.0, **kwargs_text_normal),\n",
    "    ).move(171, 148),\n",
    "    Panel(SVG(\"../svg/panel_f.svg\").scale(svg_scale).move(165, 150)),\n",
    "    # Panel(SVG(\"../svg/panel_d2.svg\").scale(svg_scale).move(305, 216)),\n",
    "    # Panel(SVG(\"../svg/panel_d3.svg\").scale(svg_scale).move(10, 0))\n",
    "\n",
    "    Panel(\n",
    "        Text(\"g\", 0, 0.0, **kwargs_text),\n",
    "        Text(\"Hidden layer tuning\", 18, 0.0, **kwargs_text_normal),\n",
    "    ).move(285, 148),\n",
    "    Panel(SVG(\"../svg/panel_g.svg\").scale(svg_scale).move(278, 150)),\n",
    "    Text(\"ID: 13\", 365, 165, **kwargs_text_normal),\n",
    "    Panel(SVG(\"../svg/panel_g2.svg\").scale(svg_scale).move(354, 156)),\n",
    "    Text(\"ID: 36\", 365, 216, **kwargs_text_normal),\n",
    "    Panel(SVG(\"../svg/panel_g3.svg\").scale(svg_scale).move(357, 211)),\n",
    "\n",
    "    Panel(\n",
    "        Text(\"h\", 0, 0.0, **kwargs_text),\n",
    "        Text(\"Adversarial attack on biophysical net\", 13, 0.0, **kwargs_text_normal),\n",
    "    ).move(416, 148),\n",
    "    Panel(SVG(\"../svg/panel_h1_annotated.svg\").scale(svg_scale).move(433, 156)),\n",
    "    Panel(SVG(\"../svg/panel_h2.svg\").scale(svg_scale).move(403, 200)),\n",
    "\n",
    "    Panel(\n",
    "        Text(\"i\", 0, 0.0, **kwargs_text),\n",
    "        Text(\"Adversarial robustness\", 8, 0.0, **kwargs_text_normal),\n",
    "    ).move(590, 148),\n",
    "    Panel(SVG(\"../svg/panel_i.svg\").scale(svg_scale).move(580, 150)),\n",
    ")\n",
    "\n",
    "!mkdir -p fig\n",
    "f.save(\"../fig/fig6.svg\")\n",
    "svg(\"../fig/fig6.svg\")"
   ]
  },
  {
   "cell_type": "code",
   "execution_count": null,
   "id": "ad65f85b-cf57-4d59-81d2-dc43d7140b48",
   "metadata": {},
   "outputs": [],
   "source": []
  },
  {
   "cell_type": "code",
   "execution_count": null,
   "id": "1520d0fa-d85d-4e3a-a1ab-0b99006f4918",
   "metadata": {},
   "outputs": [],
   "source": []
  }
 ],
 "metadata": {
  "kernelspec": {
   "display_name": "Python 3 (ipykernel)",
   "language": "python",
   "name": "python3"
  },
  "language_info": {
   "codemirror_mode": {
    "name": "ipython",
    "version": 3
   },
   "file_extension": ".py",
   "mimetype": "text/x-python",
   "name": "python",
   "nbconvert_exporter": "python",
   "pygments_lexer": "ipython3",
   "version": "3.11.8"
  }
 },
 "nbformat": 4,
 "nbformat_minor": 5
}
