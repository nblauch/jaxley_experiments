{
 "cells": [
  {
   "cell_type": "code",
   "execution_count": 1,
   "id": "c8e7a9e6-1166-4725-9606-6bed13817b12",
   "metadata": {},
   "outputs": [],
   "source": [
    "%load_ext autoreload\n",
    "%autoreload 2"
   ]
  },
  {
   "cell_type": "code",
   "execution_count": 2,
   "id": "b5dd2b61-46c6-42b7-a368-9abd2a4b0230",
   "metadata": {},
   "outputs": [],
   "source": [
    "import matplotlib.pyplot as plt\n",
    "import matplotlib as mpl\n",
    "import numpy as np\n",
    "import pickle\n",
    "import jax.numpy as jnp\n",
    "\n",
    "import jaxley as jx\n",
    "from nex.colors import cols as papercols"
   ]
  },
  {
   "cell_type": "code",
   "execution_count": 3,
   "id": "9961f79d-4d08-4d12-88cd-8caf2d31d1e7",
   "metadata": {},
   "outputs": [],
   "source": [
    "import time\n",
    "import IPython.display as IPd\n",
    "from svgutils.compose import *"
   ]
  },
  {
   "cell_type": "markdown",
   "id": "0b43ff8f-9f7e-48cc-8070-db7558f2e6ba",
   "metadata": {},
   "source": [
    "### Lack of tuning before training"
   ]
  },
  {
   "cell_type": "code",
   "execution_count": 4,
   "id": "be2d11b9-f324-4f96-a426-db71146aeee0",
   "metadata": {},
   "outputs": [],
   "source": [
    "with open(\"../results/traces/output_untrained.pkl\", \"rb\") as handle:\n",
    "    output_trained = pickle.load(handle)\n",
    "\n",
    "with open(\"../results/traces/labels_untrained.pkl\", \"rb\") as handle:\n",
    "    labels_trained = pickle.load(handle)\n",
    "\n",
    "hidden_neuron_activities = output_trained[:, :64, :]"
   ]
  },
  {
   "cell_type": "code",
   "execution_count": 5,
   "id": "274088bf-8148-41dd-89b4-fc7870a226c1",
   "metadata": {},
   "outputs": [],
   "source": [
    "def compute_tuning(neuron_id):\n",
    "    tunings = []\n",
    "    for label in range(10):\n",
    "        image_is_digit = np.asarray(labels_trained == label)\n",
    "        avg_hidden_activities = np.mean(np.any(hidden_neuron_activities[image_is_digit, neuron_id] > 20.0, axis=1), axis=0)\n",
    "        tunings.append(avg_hidden_activities)\n",
    "    return np.asarray(tunings)\n",
    "\n",
    "neuron_id1 = 13\n",
    "neuron_id2 = 36\n",
    "tunings1 = compute_tuning(neuron_id1)\n",
    "tunings2 = compute_tuning(neuron_id2)"
   ]
  },
  {
   "cell_type": "code",
   "execution_count": 9,
   "id": "5e0b1358-a5f6-4b8e-9b50-562123b1e881",
   "metadata": {},
   "outputs": [
    {
     "data": {
      "image/png": "[encoded data removed]",
      "text/plain": [
       "<Figure size 65x115 with 2 Axes>"
      ]
     },
     "metadata": {},
     "output_type": "display_data"
    }
   ],
   "source": [
    "with mpl.rc_context(fname=\"../../../.matplotlibrc\"):\n",
    "    fig, ax = plt.subplots(2, 1, figsize=(0.65, 1.15))\n",
    "    ax[0].scatter(np.arange(10), tunings1, marker=\"o\", c=\"k\", clip_on=False, s=2.0)\n",
    "    ax[1].scatter(np.arange(10), tunings2, marker=\"o\", c=\"k\", clip_on=False, s=2.0)\n",
    "    for i in range(2):\n",
    "        ax[i].set_xticks(np.arange(10))\n",
    "        ax[i].set_yticks([0, 1])\n",
    "        ax[i].set_ylim([0, 1])\n",
    "        ax[i].set_xlim([0, 9])\n",
    "        for line in [\"left\",\"bottom\"]:\n",
    "            ax[i].spines[line].set_position((\"outward\", 2.0))\n",
    "    ax[0].set_xticklabels([])\n",
    "    ax[1].set_ylabel(r\"$\\;\\;\\;\\;\\;\\;\\;\\;\\;\\;\\;\\;\\;\\;\\;\\;\\;\\;\\;\\;$\"+\"Spike probability\", labelpad=2)\n",
    "    ax[1].set_xlabel(\"Image class\", labelpad=2)\n",
    "    plt.subplots_adjust(hspace=0.6)\n",
    "    plt.savefig(\"../svg/panel_g_supp.svg\", bbox_inches=\"tight\", transparent=True)\n",
    "    plt.show()"
   ]
  },
  {
   "cell_type": "markdown",
   "id": "2b10f554-0315-4719-a64a-ec64d1e9164c",
   "metadata": {},
   "source": [
    "### Tuning of all neurons"
   ]
  },
  {
   "cell_type": "code",
   "execution_count": 45,
   "id": "4c0fe851-6cfd-4c0e-92e3-30cb9c097b82",
   "metadata": {},
   "outputs": [],
   "source": [
    "with open(\"../results/traces/output_trained.pkl\", \"rb\") as handle:\n",
    "    output_trained = pickle.load(handle)\n",
    "\n",
    "with open(\"../results/traces/labels_trained.pkl\", \"rb\") as handle:\n",
    "    labels_trained = pickle.load(handle)\n",
    "\n",
    "hidden_neuron_activities = output_trained[:, :64, :]"
   ]
  },
  {
   "cell_type": "code",
   "execution_count": 46,
   "id": "8363293e-d7e2-4837-92e4-485bade785ce",
   "metadata": {},
   "outputs": [],
   "source": [
    "def compute_tuning(neuron_id):\n",
    "    tunings = []\n",
    "    for label in range(10):\n",
    "        image_is_digit = np.asarray(labels_trained == label)\n",
    "        avg_hidden_activities = np.mean(np.any(hidden_neuron_activities[image_is_digit, neuron_id] > 20.0, axis=1), axis=0)\n",
    "        tunings.append(avg_hidden_activities)\n",
    "    return np.asarray(tunings)\n",
    "\n",
    "tunings = []\n",
    "for i in range(64):\n",
    "    tunings.append(compute_tuning(i))"
   ]
  },
  {
   "cell_type": "code",
   "execution_count": 82,
   "id": "9c591e52-9c75-4d67-9881-83b71731750d",
   "metadata": {},
   "outputs": [
    {
     "data": {
      "image/png": "[encoded data removed]",
      "text/plain": [
       "<Figure size 700x95 with 2 Axes>"
      ]
     },
     "metadata": {},
     "output_type": "display_data"
    }
   ],
   "source": [
    "with mpl.rc_context(fname=\"../../../.matplotlibrc\"):\n",
    "    fig, ax = plt.subplots(1, 1, figsize=(7.0, 0.95))\n",
    "    im = ax.imshow(np.asarray(tunings).T)\n",
    "    ax.set_yticks(np.arange(10))\n",
    "    ax.set_xticks(np.arange(0, 64, 5))\n",
    "    ax.set_ylabel(\"Digit\")\n",
    "    ax.set_xlabel(\"Neuron ID\")\n",
    "    cb = fig.colorbar(im)\n",
    "    cb.set_ticks([0, 1])\n",
    "    cb.set_label(\"Spike probability\")\n",
    "    plt.savefig(\"../svg/panel_g_supp2.svg\", bbox_inches=\"tight\", transparent=True)\n",
    "    plt.show()"
   ]
  },
  {
   "cell_type": "markdown",
   "id": "b3eb7204-0d07-46e4-b9da-4787fce9a5c7",
   "metadata": {},
   "source": [
    "# Assemble figure"
   ]
  },
  {
   "cell_type": "code",
   "execution_count": 35,
   "id": "7cab7ea9-b358-4579-9da5-5cca55c6f927",
   "metadata": {},
   "outputs": [
    {
     "data": {
      "text/html": [
       "<img src=\"../fig/fig6_supp_untrained_tuning.svg\" / >"
      ],
      "text/plain": [
       "<IPython.core.display.HTML object>"
      ]
     },
     "metadata": {},
     "output_type": "display_data"
    }
   ],
   "source": [
    "def svg(img):\n",
    "    IPd.display(IPd.HTML('<img src=\"{}\" / >'.format(img, time.time())))\n",
    "\n",
    "svg_scale = 1.334  # set this to 1.334 for Inkscape, 1.0 otherwise\n",
    "\n",
    "# Panel letters in Helvetica Neue, 12pt, Medium\n",
    "kwargs_text = {'size': '8pt', 'font': 'Arial', 'weight': '800'}\n",
    "kwargs_text_normal = {'size': '6pt', 'font': 'Arial'}\n",
    "\n",
    "f = Figure(\n",
    "    \"3.0cm\",\n",
    "    \"3.6cm\",\n",
    "\n",
    "    Panel(\n",
    "        Text(\"Untrained hidden layer tuning\", 0, 0.0, **kwargs_text_normal),\n",
    "    ).move(3, 8),\n",
    "    Panel(SVG(\"../svg/panel_g_supp.svg\").scale(svg_scale).move(-2, 10)),\n",
    "    Text(\"ID: 13\", 85, 25, **kwargs_text_normal),\n",
    "    Panel(SVG(\"../svg/panel_g2.svg\").scale(svg_scale).move(74, 16)),\n",
    "    Text(\"ID: 36\", 85, 76, **kwargs_text_normal),\n",
    "    Panel(SVG(\"../svg/panel_g3.svg\").scale(svg_scale).move(77, 71)),\n",
    "\n",
    ")\n",
    "\n",
    "!mkdir -p fig\n",
    "f.save(\"../fig/fig6_supp_untrained_tuning.svg\")\n",
    "svg(\"../fig/fig6_supp_untrained_tuning.svg\")"
   ]
  },
  {
   "cell_type": "code",
   "execution_count": 90,
   "id": "ad65f85b-cf57-4d59-81d2-dc43d7140b48",
   "metadata": {},
   "outputs": [
    {
     "data": {
      "text/html": [
       "<img src=\"../fig/fig6_supp_trained_tuning_all.svg\" / >"
      ],
      "text/plain": [
       "<IPython.core.display.HTML object>"
      ]
     },
     "metadata": {},
     "output_type": "display_data"
    }
   ],
   "source": [
    "def svg(img):\n",
    "    IPd.display(IPd.HTML('<img src=\"{}\" / >'.format(img, time.time())))\n",
    "\n",
    "svg_scale = 1.334  # set this to 1.334 for Inkscape, 1.0 otherwise\n",
    "\n",
    "# Panel letters in Helvetica Neue, 12pt, Medium\n",
    "kwargs_text = {'size': '8pt', 'font': 'Arial', 'weight': '800'}\n",
    "kwargs_text_normal = {'size': '6pt', 'font': 'Arial'}\n",
    "\n",
    "f = Figure(\n",
    "    \"13.5cm\",\n",
    "    \"2.9cm\",\n",
    "    Panel(\n",
    "        Text(\"Tuning of all hidden layer neurons\", 0, 0.0, **kwargs_text_normal),\n",
    "    ).move(183, 8),\n",
    "    Panel(SVG(\"../svg/panel_g_supp2.svg\").scale(svg_scale).move(-2, 3)),\n",
    ")\n",
    "\n",
    "!mkdir -p fig\n",
    "f.save(\"../fig/fig6_supp_trained_tuning_all.svg\")\n",
    "svg(\"../fig/fig6_supp_trained_tuning_all.svg\")"
   ]
  },
  {
   "cell_type": "code",
   "execution_count": null,
   "id": "1520d0fa-d85d-4e3a-a1ab-0b99006f4918",
   "metadata": {},
   "outputs": [],
   "source": []
  }
 ],
 "metadata": {
  "kernelspec": {
   "display_name": "Python 3 (ipykernel)",
   "language": "python",
   "name": "python3"
  },
  "language_info": {
   "codemirror_mode": {
    "name": "ipython",
    "version": 3
   },
   "file_extension": ".py",
   "mimetype": "text/x-python",
   "name": "python",
   "nbconvert_exporter": "python",
   "pygments_lexer": "ipython3",
   "version": "3.11.8"
  }
 },
 "nbformat": 4,
 "nbformat_minor": 5
}
