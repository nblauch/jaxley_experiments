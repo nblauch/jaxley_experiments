{
 "cells": [
  {
   "cell_type": "code",
   "execution_count": 34,
   "id": "85608d1f-3108-4cc1-ac4f-81d0c61ec73a",
   "metadata": {},
   "outputs": [],
   "source": [
    "import numpy as np\n",
    "import matplotlib.pyplot as plt\n",
    "import matplotlib as mpl\n",
    "import jaxley as jx"
   ]
  },
  {
   "cell_type": "markdown",
   "id": "91475b88-af1c-4a52-8a75-be029fca678b",
   "metadata": {},
   "source": [
    "### Panel a"
   ]
  },
  {
   "cell_type": "code",
   "execution_count": 24,
   "id": "541393cb-8757-4b94-9afa-f86af1c66a98",
   "metadata": {},
   "outputs": [],
   "source": [
    "n = 1_000\n",
    "_ = np.random.seed(0)\n",
    "samples1 = np.random.rand(n) * 900 + 100\n",
    "samples2 = np.random.rand(n) * 0.1\n"
   ]
  },
  {
   "cell_type": "code",
   "execution_count": 191,
   "id": "8eb50fa8-113c-4d48-aff9-9690693223e7",
   "metadata": {},
   "outputs": [
    {
     "data": {
      "image/png": "[encoded data removed]",
      "text/plain": [
       "<Figure size 50x140 with 2 Axes>"
      ]
     },
     "metadata": {},
     "output_type": "display_data"
    }
   ],
   "source": [
    "with mpl.rc_context(fname=\"../../../.matplotlibrc\"):\n",
    "    fig, ax = plt.subplots(2, 1, figsize=(0.5, 1.4))\n",
    "    ax[0].hist(samples1, bins=30, range=(100, 1000), histtype=\"step\", color=\"k\", density=False)\n",
    "    ax[0].set_xlim([100, 1000])\n",
    "    ax[0].set_xticks([100, 1000])\n",
    "    ax[1].hist(samples2, bins=30, range=(0, 0.1), histtype=\"step\", color=\"k\", density=False)\n",
    "    ax[1].set_xlim([0, 0.1])\n",
    "    ax[1].set_xticks([0, 0.1])\n",
    "    for i in range(2):\n",
    "        ax[i].set_yticks([])\n",
    "        ax[i].set_ylim([0, 60])\n",
    "        ax[i].spines[\"left\"].set_visible(False)\n",
    "\n",
    "    ax[0].set_xlabel(r\"$r_a$\", labelpad=-4)\n",
    "    ax[1].set_xlabel(r\"$\\overline{g}_{\\text{Na}}$\", labelpad=-4)\n",
    "    plt.subplots_adjust(hspace=0.6)\n",
    "    plt.savefig(\"../svg/tricks_panel_a1.svg\", bbox_inches=\"tight\", transparent=True)\n",
    "    plt.show()"
   ]
  },
  {
   "cell_type": "code",
   "execution_count": 192,
   "id": "a35392cb-0e60-4268-a5e8-5b83bcb26a95",
   "metadata": {},
   "outputs": [],
   "source": [
    "transform = jx.ParamTransform(\n",
    "    lowers={\"r_a\": 100, \"g\": 0.0},\n",
    "    uppers={\"r_a\": 1_000, \"g\": 0.1},\n",
    ")"
   ]
  },
  {
   "cell_type": "code",
   "execution_count": 193,
   "id": "bedaa5ac-ea5b-429b-b870-b0fe4bf692e6",
   "metadata": {},
   "outputs": [],
   "source": [
    "samples1_tf = transform.inverse([{\"r_a\": samples1}])[0][\"r_a\"]\n",
    "samples2_tf = transform.inverse([{\"g\": samples2}])[0][\"g\"]\n",
    "sampels_tf = [samples1_tf, samples2_tf]"
   ]
  },
  {
   "cell_type": "code",
   "execution_count": 194,
   "id": "9ebf1d38-7e13-44f5-83e0-61b8ca3a111c",
   "metadata": {},
   "outputs": [
    {
     "data": {
      "image/png": "[encoded data removed]",
      "text/plain": [
       "<Figure size 50x140 with 2 Axes>"
      ]
     },
     "metadata": {},
     "output_type": "display_data"
    }
   ],
   "source": [
    "with mpl.rc_context(fname=\"../../../.matplotlibrc\"):\n",
    "    fig, ax = plt.subplots(2, 1, figsize=(0.5, 1.4))\n",
    "    for i in range(2):\n",
    "        ax[i].hist(sampels_tf[i], bins=30, range=(-3, 3), histtype=\"step\", color=\"k\", density=False)\n",
    "        ax[i].set_xlim([-4, 4])\n",
    "        ax[i].set_xticks([-4, 4])\n",
    "        ax[i].set_yticks([])\n",
    "        ax[i].set_ylim([0, 60])\n",
    "        ax[i].spines[\"left\"].set_visible(False)\n",
    "\n",
    "    ax[0].set_xlabel(r\"$r_a$\", labelpad=-4)\n",
    "    ax[1].set_xlabel(r\"$\\overline{g}_{\\text{Na}}$\", labelpad=-4)\n",
    "    plt.subplots_adjust(hspace=0.6)\n",
    "    plt.savefig(\"../svg/tricks_panel_a2.svg\", bbox_inches=\"tight\", transparent=True)\n",
    "    plt.show()"
   ]
  },
  {
   "cell_type": "code",
   "execution_count": 195,
   "id": "119dc14d-586b-44ba-b586-19f255be18b3",
   "metadata": {},
   "outputs": [
    {
     "data": {
      "image/png": "[encoded data removed]",
      "text/plain": [
       "<Figure size 20x20 with 1 Axes>"
      ]
     },
     "metadata": {},
     "output_type": "display_data"
    }
   ],
   "source": [
    "with mpl.rc_context(fname=\"../../../.matplotlibrc\"):\n",
    "    fig, ax = plt.subplots(1, 1, figsize=(0.2, 0.2))\n",
    "    x = np.linspace(-6, 6, 100)\n",
    "    ax.plot(x, 1 / (1 + np.exp(-x)), c=\"k\")\n",
    "    ax.spines[\"left\"].set_visible(False)\n",
    "    ax.spines[\"bottom\"].set_visible(False)\n",
    "    ax.set_xticks([])\n",
    "    ax.set_yticks([])\n",
    "    plt.savefig(\"../svg/tricks_panel_a3.svg\", bbox_inches=\"tight\", transparent=True)\n",
    "    plt.show()"
   ]
  },
  {
   "cell_type": "markdown",
   "id": "e099bfe2-fa21-44e5-b51d-0298299baace",
   "metadata": {},
   "source": [
    "### Panel b"
   ]
  },
  {
   "cell_type": "code",
   "execution_count": 196,
   "id": "1a1b876b-bcf0-4f61-adc0-3447cfaa3df9",
   "metadata": {},
   "outputs": [],
   "source": [
    "x = np.linspace(-5, 5, 500)\n",
    "y = x ** 2 + 3 * np.sin(x*5) + 2 * np.sin(x*12) + 1 * np.sin(x*16)\n"
   ]
  },
  {
   "cell_type": "code",
   "execution_count": 197,
   "id": "27ba0a5d-a379-4258-a875-feb88e918c62",
   "metadata": {},
   "outputs": [
    {
     "data": {
      "image/png": "[encoded data removed]",
      "text/plain": [
       "<Figure size 100x120 with 1 Axes>"
      ]
     },
     "metadata": {},
     "output_type": "display_data"
    }
   ],
   "source": [
    "with mpl.rc_context(fname=\"../../../.matplotlibrc\"):\n",
    "    fig, ax = plt.subplots(1, 1, figsize=(1.0, 1.2))\n",
    "    ax.plot(x, y, c=\"k\")\n",
    "    _ = ax.spines[\"left\"].set_visible(False)\n",
    "    _ = ax.spines[\"bottom\"].set_visible(False)\n",
    "    ax.set_xticks([])\n",
    "    ax.set_yticks([])\n",
    "    ax.set_xlabel(\"Parameter\")\n",
    "    ax.set_ylabel(\"Loss\")\n",
    "    plt.savefig(\"../svg/tricks_panel_b.svg\", bbox_inches=\"tight\", transparent=True)\n",
    "    plt.show()"
   ]
  },
  {
   "cell_type": "markdown",
   "id": "f40a3465-0de6-4338-83dc-beff5d31da26",
   "metadata": {},
   "source": [
    "### Panel c"
   ]
  },
  {
   "cell_type": "markdown",
   "id": "e4b28a9a-eb27-4a90-83ee-91e634d30122",
   "metadata": {},
   "source": [
    "Drawn in inkscape"
   ]
  },
  {
   "cell_type": "markdown",
   "id": "36907aaf-4551-4261-b66a-0076d7dbafe6",
   "metadata": {},
   "source": [
    "### Panel d"
   ]
  },
  {
   "cell_type": "markdown",
   "id": "bbc30636-9e90-48bb-951b-74ee8587a284",
   "metadata": {},
   "source": [
    "Drawn in inkscape"
   ]
  },
  {
   "cell_type": "markdown",
   "id": "0eb54bc8-bc0e-4c3a-9ee0-d1adcd0bdfe4",
   "metadata": {},
   "source": [
    "### Panel e"
   ]
  },
  {
   "cell_type": "code",
   "execution_count": null,
   "id": "9606f4a3-6ac9-41cb-add7-2af4dfe8bb61",
   "metadata": {},
   "outputs": [],
   "source": []
  },
  {
   "cell_type": "markdown",
   "id": "5ef10540-a87e-4050-a6b7-1fc5e73143f8",
   "metadata": {},
   "source": [
    "# Assemble"
   ]
  },
  {
   "cell_type": "code",
   "execution_count": 231,
   "id": "50d1adde-1712-4e72-bfc0-04f198f731d2",
   "metadata": {},
   "outputs": [
    {
     "data": {
      "text/html": [
       "<img src=\"../fig/fig1_tricks.svg\" / >"
      ],
      "text/plain": [
       "<IPython.core.display.HTML object>"
      ]
     },
     "metadata": {},
     "output_type": "display_data"
    }
   ],
   "source": [
    "import time\n",
    "import IPython.display as IPd\n",
    "from svgutils.compose import *\n",
    "\n",
    "def svg(img):\n",
    "    IPd.display(IPd.HTML('<img src=\"{}\" / >'.format(img, time.time())))\n",
    "\n",
    "# > Inkscape pixel is 1/90 of an inch, other software usually uses 1/72.\n",
    "# > http://www.inkscapeforum.com/viewtopic.php?f=6&t=5964\n",
    "svg_scale = 1.25  # set this to 1.25 for Inkscape, 1.0 otherwise\n",
    "\n",
    "# Panel letters in Helvetica Neue, 12pt, Medium\n",
    "kwargs_text = {'size': '8pt', 'font': 'Arial', 'weight': '800'}\n",
    "kwargs_text_normal = {'size': '6pt', 'font': 'Arial'}\n",
    "\n",
    "f = Figure(\n",
    "    \"18.0cm\",\n",
    "    \"3.9cm\",\n",
    "\n",
    "    Panel(\n",
    "        SVG(\"../svg/tricks_panel_a1.svg\").scale(svg_scale),\n",
    "        SVG(\"../svg/tricks_panel_a2.svg\").scale(svg_scale).move(70, 0),\n",
    "        SVG(\"../svg/tricks_panel_a3.svg\").scale(svg_scale).move(55, 40),\n",
    "        Text(\"a\", 10, -2.0, **kwargs_text),\n",
    "        Text(\"Parameter transformation\", 30, -2.0, **kwargs_text_normal),\n",
    "    ).move(-10, 10),\n",
    "\n",
    "    Panel(\n",
    "        SVG(\"../svg/tricks_panel_b.svg\").scale(svg_scale).move(0, 15),\n",
    "        Text(\"b\", 10, -2.0, **kwargs_text),\n",
    "        Text(\"Learning rate scheduling\", 25, -2.0, **kwargs_text_normal),\n",
    "    ).move(140, 10),\n",
    "\n",
    "    Panel(\n",
    "        SVG(\"../svg/tricks_panel_c.svg\").scale(5.0).move(0, 40),\n",
    "        Text(\"c\", 10, -2.0, **kwargs_text),\n",
    "        Text(\"Polyak SGD\", 25, -2.0, **kwargs_text_normal),\n",
    "    ).move(280, 10),\n",
    "\n",
    "    Panel(\n",
    "        SVG(\"../svg/tricks_panel_d.svg\").scale(3.0).move(10, 40),\n",
    "        Text(\"d\", -5, 8.0, **kwargs_text),\n",
    "        Text(\"Type-specific optimizers\", 5, 8.0, **kwargs_text_normal),\n",
    "    ).move(390, 0),\n",
    "\n",
    "    Panel(\n",
    "        SVG(\"../svg/tricks_panel_e.svg\").scale(3.0).move(20, 20),\n",
    "        Text(\"e\", 10, -2.0, **kwargs_text),\n",
    "        Text(\"Checkpointing\", 25, -2.0, **kwargs_text_normal),\n",
    "    ).move(500, 10),\n",
    "\n",
    "    Panel(\n",
    "        SVG(\"../svg/tricks_panel_f.svg\").scale(3.0).move(20, 30),\n",
    "        Text(\"f\", 10, -2.0, **kwargs_text),\n",
    "        Text(\"Truncate gradient\", 25, -2.0, **kwargs_text_normal),\n",
    "    ).move(590, 10),\n",
    ")\n",
    "\n",
    "!mkdir -p fig\n",
    "f.save(\"../fig/fig1_tricks.svg\")\n",
    "svg(\"../fig/fig1_tricks.svg\")"
   ]
  },
  {
   "cell_type": "code",
   "execution_count": null,
   "id": "b0fde707-9841-490e-935b-1164adc229d9",
   "metadata": {},
   "outputs": [],
   "source": []
  },
  {
   "cell_type": "code",
   "execution_count": null,
   "id": "1c9ea876-64c7-4734-a230-3f97a5f4a109",
   "metadata": {},
   "outputs": [],
   "source": []
  }
 ],
 "metadata": {
  "kernelspec": {
   "display_name": "Python 3 (ipykernel)",
   "language": "python",
   "name": "python3"
  },
  "language_info": {
   "codemirror_mode": {
    "name": "ipython",
    "version": 3
   },
   "file_extension": ".py",
   "mimetype": "text/x-python",
   "name": "python",
   "nbconvert_exporter": "python",
   "pygments_lexer": "ipython3",
   "version": "3.11.8"
  }
 },
 "nbformat": 4,
 "nbformat_minor": 5
}
