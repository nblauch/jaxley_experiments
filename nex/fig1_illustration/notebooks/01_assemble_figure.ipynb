{
 "cells": [
  {
   "cell_type": "code",
   "execution_count": 1,
   "id": "361f65d9-a21c-4bef-85b9-fe16e565c055",
   "metadata": {},
   "outputs": [],
   "source": [
    "import numpy as np\n",
    "import matplotlib.pyplot as plt\n",
    "import matplotlib as mpl"
   ]
  },
  {
   "cell_type": "code",
   "execution_count": 25,
   "id": "d9ef66f7-d7e6-46f9-87df-1d76b9868d18",
   "metadata": {},
   "outputs": [
    {
     "data": {
      "text/html": [
       "<img src=\"../fig/fig1.svg\" / >"
      ],
      "text/plain": [
       "<IPython.core.display.HTML object>"
      ]
     },
     "metadata": {},
     "output_type": "display_data"
    }
   ],
   "source": [
    "import time\n",
    "import IPython.display as IPd\n",
    "from svgutils.compose import *\n",
    "\n",
    "def svg(img):\n",
    "    IPd.display(IPd.HTML('<img src=\"{}\" / >'.format(img, time.time())))\n",
    "\n",
    "# > Inkscape pixel is 1/90 of an inch, other software usually uses 1/72.\n",
    "# > http://www.inkscapeforum.com/viewtopic.php?f=6&t=5964\n",
    "svg_scale = 1.25  # set this to 1.25 for Inkscape, 1.0 otherwise\n",
    "\n",
    "# Panel letters in Helvetica Neue, 12pt, Medium\n",
    "kwargs_text = {'size': '8pt', 'font': 'Arial', 'weight': '800'}\n",
    "kwargs_text_normal = {'size': '6pt', 'font': 'Arial'}\n",
    "\n",
    "f = Figure(\n",
    "    \"18.0cm\",\n",
    "    \"7.0cm\",\n",
    "    Panel(SVG(\"../svg/fig1_illustrations.svg\").scale(1.0)),\n",
    "    Panel(SVG(\"../../fig2_demonstration/fig/fig2.svg\")).scale(1.0).move(0, 117),\n",
    ")\n",
    "\n",
    "!mkdir -p fig\n",
    "f.save(\"../fig/fig1.svg\")\n",
    "svg(\"../fig/fig1.svg\")"
   ]
  },
  {
   "cell_type": "code",
   "execution_count": null,
   "id": "e86f725d-bf0d-4de4-aafa-10e8eda30eec",
   "metadata": {},
   "outputs": [],
   "source": []
  }
 ],
 "metadata": {
  "kernelspec": {
   "display_name": "Python 3 (ipykernel)",
   "language": "python",
   "name": "python3"
  },
  "language_info": {
   "codemirror_mode": {
    "name": "ipython",
    "version": 3
   },
   "file_extension": ".py",
   "mimetype": "text/x-python",
   "name": "python",
   "nbconvert_exporter": "python",
   "pygments_lexer": "ipython3",
   "version": "3.11.8"
  }
 },
 "nbformat": 4,
 "nbformat_minor": 5
}
